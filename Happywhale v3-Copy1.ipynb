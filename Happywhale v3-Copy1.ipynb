{
 "cells": [
  {
   "cell_type": "markdown",
   "id": "1d13c276",
   "metadata": {},
   "source": [
    "## Data Preparation and EDA"
   ]
  },
  {
   "cell_type": "markdown",
   "id": "9f6c0874",
   "metadata": {},
   "source": [
    "### Download dataset and import libraries"
   ]
  },
  {
   "cell_type": "code",
   "execution_count": 24,
   "id": "db4d18d6",
   "metadata": {
    "ExecuteTime": {
     "end_time": "2022-02-27T12:10:12.986346Z",
     "start_time": "2022-02-27T12:10:12.982761Z"
    }
   },
   "outputs": [],
   "source": [
    "# !pip install opendatasets\n",
    "\n",
    "# import opendatasets as od\n",
    "# username = normanlapid\n",
    "# API_key = c153837540a86c2d226f5d2967a55f55\n",
    "# od.download(\"https://www.kaggle.com/rdizzl3/jpeg-happywhale-384x384\")"
   ]
  },
  {
   "cell_type": "code",
   "execution_count": 25,
   "id": "8fb4bd76",
   "metadata": {
    "ExecuteTime": {
     "end_time": "2022-02-27T12:10:13.002755Z",
     "start_time": "2022-02-27T12:10:12.993030Z"
    }
   },
   "outputs": [],
   "source": [
    "import os\n",
    "os.environ['TF_CPP_MIN_LOG_LEVEL'] = '2' \n",
    "\n",
    "from tqdm import tqdm\n",
    "import numpy as np \n",
    "import pandas as pd \n",
    "import seaborn as sns\n",
    "import matplotlib.pyplot as plt\n",
    "%matplotlib inline\n",
    "\n",
    "import pickle\n",
    "import random\n",
    "import gc\n",
    "\n",
    "import warnings\n",
    "warnings.filterwarnings('ignore')"
   ]
  },
  {
   "cell_type": "code",
   "execution_count": 26,
   "id": "b9df4cf6",
   "metadata": {
    "ExecuteTime": {
     "end_time": "2022-02-27T12:10:13.017320Z",
     "start_time": "2022-02-27T12:10:13.005817Z"
    }
   },
   "outputs": [],
   "source": [
    "from sklearn.model_selection import train_test_split\n",
    "from sklearn.metrics import accuracy_score\n",
    "from sklearn.preprocessing import LabelEncoder\n",
    "from sklearn.preprocessing import OneHotEncoder\n",
    "\n",
    "import tensorflow as tf\n",
    "tf.get_logger().setLevel('ERROR')\n",
    "tf.autograph.set_verbosity(2)\n",
    "from tensorflow.keras import models, layers, optimizers, applications\n",
    "from tensorflow.keras.preprocessing import image\n",
    "from tensorflow.keras.preprocessing.image import ImageDataGenerator\n",
    "from tensorflow.keras.callbacks import ModelCheckpoint, EarlyStopping, ReduceLROnPlateau\n",
    "from tensorflow.keras.optimizers import Adam"
   ]
  },
  {
   "cell_type": "code",
   "execution_count": 27,
   "id": "77a5bd4e",
   "metadata": {
    "ExecuteTime": {
     "end_time": "2022-02-27T12:10:13.136288Z",
     "start_time": "2022-02-27T12:10:13.019405Z"
    }
   },
   "outputs": [
    {
     "name": "stdout",
     "output_type": "stream",
     "text": [
      "TensorFlow: 2.6.0\n"
     ]
    }
   ],
   "source": [
    "print(\"TensorFlow:\", tf.__version__)"
   ]
  },
  {
   "cell_type": "code",
   "execution_count": 28,
   "id": "44ade6c0",
   "metadata": {
    "ExecuteTime": {
     "end_time": "2022-02-27T12:10:13.149444Z",
     "start_time": "2022-02-27T12:10:13.138903Z"
    }
   },
   "outputs": [],
   "source": [
    "def seed_everything(seed):\n",
    "    random.seed(seed)\n",
    "    np.random.seed(seed)\n",
    "    os.environ['PYTHONHASHSEED'] = str(seed)\n",
    "    tf.random.set_seed(seed)\n",
    "\n",
    "\n",
    "seed_everything(143) "
   ]
  },
  {
   "cell_type": "markdown",
   "id": "d3dc4f91",
   "metadata": {},
   "source": [
    "### Data cleaning and EDA"
   ]
  },
  {
   "cell_type": "code",
   "execution_count": 29,
   "id": "99c690c1",
   "metadata": {
    "ExecuteTime": {
     "end_time": "2022-02-27T12:10:13.231341Z",
     "start_time": "2022-02-27T12:10:13.153028Z"
    }
   },
   "outputs": [],
   "source": [
    "df_train = pd.read_csv('jpeg-happywhale-384x384/train.csv')"
   ]
  },
  {
   "cell_type": "code",
   "execution_count": 30,
   "id": "fb65f7b2",
   "metadata": {
    "ExecuteTime": {
     "end_time": "2022-02-27T12:10:13.245902Z",
     "start_time": "2022-02-27T12:10:13.233209Z"
    }
   },
   "outputs": [
    {
     "data": {
      "text/plain": [
       "beluga                       7443\n",
       "blue_whale                   4830\n",
       "bottlenose_dolphin           9664\n",
       "bottlenose_dolpin            1117\n",
       "brydes_whale                  154\n",
       "commersons_dolphin             90\n",
       "common_dolphin                347\n",
       "cuviers_beaked_whale          341\n",
       "dusky_dolphin                3139\n",
       "false_killer_whale           3326\n",
       "fin_whale                    1324\n",
       "frasiers_dolphin               14\n",
       "globis                        116\n",
       "gray_whale                   1123\n",
       "humpback_whale               7392\n",
       "kiler_whale                   962\n",
       "killer_whale                 1493\n",
       "long_finned_pilot_whale       238\n",
       "melon_headed_whale           1689\n",
       "minke_whale                  1608\n",
       "pantropic_spotted_dolphin     145\n",
       "pilot_whale                   262\n",
       "pygmy_killer_whale             76\n",
       "rough_toothed_dolphin          60\n",
       "sei_whale                     428\n",
       "short_finned_pilot_whale      367\n",
       "southern_right_whale          866\n",
       "spinner_dolphin              1700\n",
       "spotted_dolphin               490\n",
       "white_sided_dolphin           229\n",
       "Name: species, dtype: int64"
      ]
     },
     "execution_count": 30,
     "metadata": {},
     "output_type": "execute_result"
    }
   ],
   "source": [
    "df_train['species'].value_counts().sort_index()"
   ]
  },
  {
   "cell_type": "code",
   "execution_count": 31,
   "id": "61b3e8d8",
   "metadata": {
    "ExecuteTime": {
     "end_time": "2022-02-27T12:10:13.263396Z",
     "start_time": "2022-02-27T12:10:13.247695Z"
    }
   },
   "outputs": [],
   "source": [
    "df_train['species'].replace({\"globis\": \"short_finned_pilot_whale\",\n",
    "                             \"pilot_whale\": \"short_finned_pilot_whale\",\n",
    "                             \"kiler_whale\": \"killer_whale\",\n",
    "                             \"bottlenose_dolpin\": \"bottlenose_dolphin\"},\n",
    "                            inplace=True)"
   ]
  },
  {
   "cell_type": "code",
   "execution_count": 32,
   "id": "3dc5c28d",
   "metadata": {
    "ExecuteTime": {
     "end_time": "2022-02-27T12:10:13.278875Z",
     "start_time": "2022-02-27T12:10:13.265794Z"
    }
   },
   "outputs": [
    {
     "data": {
      "text/html": [
       "<div>\n",
       "<style scoped>\n",
       "    .dataframe tbody tr th:only-of-type {\n",
       "        vertical-align: middle;\n",
       "    }\n",
       "\n",
       "    .dataframe tbody tr th {\n",
       "        vertical-align: top;\n",
       "    }\n",
       "\n",
       "    .dataframe thead th {\n",
       "        text-align: right;\n",
       "    }\n",
       "</style>\n",
       "<table border=\"1\" class=\"dataframe\">\n",
       "  <thead>\n",
       "    <tr style=\"text-align: right;\">\n",
       "      <th></th>\n",
       "      <th>image</th>\n",
       "      <th>species</th>\n",
       "      <th>individual_id</th>\n",
       "    </tr>\n",
       "  </thead>\n",
       "  <tbody>\n",
       "    <tr>\n",
       "      <th>0</th>\n",
       "      <td>00021adfb725ed.jpg</td>\n",
       "      <td>melon_headed_whale</td>\n",
       "      <td>cadddb1636b9</td>\n",
       "    </tr>\n",
       "    <tr>\n",
       "      <th>1</th>\n",
       "      <td>000562241d384d.jpg</td>\n",
       "      <td>humpback_whale</td>\n",
       "      <td>1a71fbb72250</td>\n",
       "    </tr>\n",
       "    <tr>\n",
       "      <th>2</th>\n",
       "      <td>0007c33415ce37.jpg</td>\n",
       "      <td>false_killer_whale</td>\n",
       "      <td>60008f293a2b</td>\n",
       "    </tr>\n",
       "    <tr>\n",
       "      <th>3</th>\n",
       "      <td>0007d9bca26a99.jpg</td>\n",
       "      <td>bottlenose_dolphin</td>\n",
       "      <td>4b00fe572063</td>\n",
       "    </tr>\n",
       "    <tr>\n",
       "      <th>4</th>\n",
       "      <td>00087baf5cef7a.jpg</td>\n",
       "      <td>humpback_whale</td>\n",
       "      <td>8e5253662392</td>\n",
       "    </tr>\n",
       "  </tbody>\n",
       "</table>\n",
       "</div>"
      ],
      "text/plain": [
       "                image             species individual_id\n",
       "0  00021adfb725ed.jpg  melon_headed_whale  cadddb1636b9\n",
       "1  000562241d384d.jpg      humpback_whale  1a71fbb72250\n",
       "2  0007c33415ce37.jpg  false_killer_whale  60008f293a2b\n",
       "3  0007d9bca26a99.jpg  bottlenose_dolphin  4b00fe572063\n",
       "4  00087baf5cef7a.jpg      humpback_whale  8e5253662392"
      ]
     },
     "execution_count": 32,
     "metadata": {},
     "output_type": "execute_result"
    }
   ],
   "source": [
    "df_train.head()"
   ]
  },
  {
   "cell_type": "code",
   "execution_count": 33,
   "id": "8d8542dd",
   "metadata": {
    "ExecuteTime": {
     "end_time": "2022-02-27T12:10:13.835629Z",
     "start_time": "2022-02-27T12:10:13.280523Z"
    }
   },
   "outputs": [
    {
     "data": {
      "image/png": "[encoded data removed]",
      "text/plain": [
       "<Figure size 720x288 with 1 Axes>"
      ]
     },
     "metadata": {
      "needs_background": "light"
     },
     "output_type": "display_data"
    }
   ],
   "source": [
    "train_val_count = df_train['species'].value_counts().sort_index()\n",
    "\n",
    "fig, ax = plt.subplots(figsize=(10, 4))\n",
    "\n",
    "chart = sns.barplot(x=train_val_count.index, y=train_val_count.values, ax=ax)\n",
    "ax.set_title('Species count distribution')\n",
    "ax.set_xticklabels(ax.get_xticklabels(), rotation=90)\n",
    "plt.show()"
   ]
  },
  {
   "cell_type": "code",
   "execution_count": 34,
   "id": "70acb9ed",
   "metadata": {
    "ExecuteTime": {
     "end_time": "2022-02-27T12:10:13.860274Z",
     "start_time": "2022-02-27T12:10:13.838201Z"
    }
   },
   "outputs": [
    {
     "data": {
      "text/plain": [
       "species\n",
       "beluga                       1012\n",
       "blue_whale                   2348\n",
       "bottlenose_dolphin            904\n",
       "brydes_whale                   44\n",
       "commersons_dolphin             70\n",
       "common_dolphin                 38\n",
       "cuviers_beaked_whale          183\n",
       "dusky_dolphin                2731\n",
       "false_killer_whale            196\n",
       "fin_whale                     466\n",
       "frasiers_dolphin               13\n",
       "gray_whale                    185\n",
       "humpback_whale               2679\n",
       "killer_whale                  472\n",
       "long_finned_pilot_whale       131\n",
       "melon_headed_whale           1323\n",
       "minke_whale                   128\n",
       "pantropic_spotted_dolphin      44\n",
       "pygmy_killer_whale             24\n",
       "rough_toothed_dolphin          46\n",
       "sei_whale                     197\n",
       "short_finned_pilot_whale      458\n",
       "southern_right_whale          549\n",
       "spinner_dolphin               891\n",
       "spotted_dolphin               280\n",
       "white_sided_dolphin           175\n",
       "Name: individual_id, dtype: int64"
      ]
     },
     "execution_count": 34,
     "metadata": {},
     "output_type": "execute_result"
    }
   ],
   "source": [
    "train_ind_count = df_train.groupby('species')['individual_id'].nunique()\n",
    "train_ind_count"
   ]
  },
  {
   "cell_type": "code",
   "execution_count": 35,
   "id": "d4b157f1",
   "metadata": {
    "ExecuteTime": {
     "end_time": "2022-02-27T12:10:14.324659Z",
     "start_time": "2022-02-27T12:10:13.862275Z"
    }
   },
   "outputs": [
    {
     "data": {
      "image/png": "[encoded data removed]",
      "text/plain": [
       "<Figure size 720x288 with 1 Axes>"
      ]
     },
     "metadata": {
      "needs_background": "light"
     },
     "output_type": "display_data"
    }
   ],
   "source": [
    "fig, ax = plt.subplots(figsize=(10, 4))\n",
    "\n",
    "chart = sns.barplot(x=train_ind_count.index, y=train_ind_count.values, ax=ax)\n",
    "ax.set_xlabel(None)\n",
    "ax.set_title('Individual count distribution by species')\n",
    "ax.set_xticklabels(ax.get_xticklabels(), rotation=90)\n",
    "plt.show()"
   ]
  },
  {
   "cell_type": "markdown",
   "id": "d0bb37ee",
   "metadata": {},
   "source": [
    "### Parameters"
   ]
  },
  {
   "cell_type": "code",
   "execution_count": 36,
   "id": "df3a9b27",
   "metadata": {
    "ExecuteTime": {
     "end_time": "2022-02-27T12:10:14.337625Z",
     "start_time": "2022-02-27T12:10:14.326550Z"
    }
   },
   "outputs": [],
   "source": [
    "work_dir = \"./jpeg-happywhale-384x384\"\n",
    "save_dir = \"./savefiles\"\n",
    "train_folder = \"train_images\"\n",
    "test_folder = \"test_images\"\n",
    "img_col = \"image\"\n",
    "label_col = \"individual_id\"\n",
    "specie_col = \"species\"\n",
    "\n",
    "target_col = specie_col\n",
    "num_classes = len(df_train[target_col].value_counts())"
   ]
  },
  {
   "cell_type": "code",
   "execution_count": 37,
   "id": "f78b6039",
   "metadata": {
    "ExecuteTime": {
     "end_time": "2022-02-27T12:10:14.379809Z",
     "start_time": "2022-02-27T12:10:14.339813Z"
    }
   },
   "outputs": [
    {
     "name": "stdout",
     "output_type": "stream",
     "text": [
      "Train images: 51033\n",
      "Test images: 27956\n"
     ]
    }
   ],
   "source": [
    "# print(os.listdir(WORK_DIR))\n",
    "print('Train images: %d' %len(os.listdir(\n",
    "    os.path.join(work_dir, train_folder))))\n",
    "print('Test images: %d' %len(os.listdir(\n",
    "    os.path.join(work_dir, test_folder))))"
   ]
  },
  {
   "cell_type": "code",
   "execution_count": 38,
   "id": "7f6c741c",
   "metadata": {
    "ExecuteTime": {
     "end_time": "2022-02-27T12:10:14.391040Z",
     "start_time": "2022-02-27T12:10:14.382359Z"
    }
   },
   "outputs": [],
   "source": [
    "specie_names = df_train['species'].value_counts().index\n",
    "specie_idx_map = {specie: idx for idx, specie in enumerate(specie_names)}\n",
    "idx_specie_map = {idx: specie for specie, idx in specie_idx_map.items()}"
   ]
  },
  {
   "cell_type": "code",
   "execution_count": 39,
   "id": "ac69a832",
   "metadata": {
    "ExecuteTime": {
     "end_time": "2022-02-27T12:10:14.414512Z",
     "start_time": "2022-02-27T12:10:14.393035Z"
    }
   },
   "outputs": [],
   "source": [
    "label_names = df_train['individual_id'].value_counts().index\n",
    "label_idx_map = {label: idx for idx, label in enumerate(label_names)}\n",
    "idx_label_map = {idx: label for label, idx in label_idx_map.items()}"
   ]
  },
  {
   "cell_type": "code",
   "execution_count": 40,
   "id": "fd4cdd80",
   "metadata": {
    "ExecuteTime": {
     "end_time": "2022-02-27T12:10:14.437269Z",
     "start_time": "2022-02-27T12:10:14.416335Z"
    }
   },
   "outputs": [],
   "source": [
    "df_train[\"species_idx\"] = df_train['species'].map(specie_idx_map)\n",
    "df_train[\"individual_idx\"] = df_train['individual_id'].map(label_idx_map)"
   ]
  },
  {
   "cell_type": "code",
   "execution_count": 41,
   "id": "a286a062",
   "metadata": {
    "ExecuteTime": {
     "end_time": "2022-02-27T12:10:14.497240Z",
     "start_time": "2022-02-27T12:10:14.438933Z"
    }
   },
   "outputs": [
    {
     "data": {
      "text/html": [
       "<div>\n",
       "<style scoped>\n",
       "    .dataframe tbody tr th:only-of-type {\n",
       "        vertical-align: middle;\n",
       "    }\n",
       "\n",
       "    .dataframe tbody tr th {\n",
       "        vertical-align: top;\n",
       "    }\n",
       "\n",
       "    .dataframe thead th {\n",
       "        text-align: right;\n",
       "    }\n",
       "</style>\n",
       "<table border=\"1\" class=\"dataframe\">\n",
       "  <thead>\n",
       "    <tr style=\"text-align: right;\">\n",
       "      <th></th>\n",
       "      <th>image</th>\n",
       "      <th>species</th>\n",
       "      <th>individual_id</th>\n",
       "      <th>species_idx</th>\n",
       "      <th>individual_idx</th>\n",
       "    </tr>\n",
       "  </thead>\n",
       "  <tbody>\n",
       "    <tr>\n",
       "      <th>0</th>\n",
       "      <td>00021adfb725ed.jpg</td>\n",
       "      <td>melon_headed_whale</td>\n",
       "      <td>cadddb1636b9</td>\n",
       "      <td>8</td>\n",
       "      <td>9709</td>\n",
       "    </tr>\n",
       "    <tr>\n",
       "      <th>1</th>\n",
       "      <td>000562241d384d.jpg</td>\n",
       "      <td>humpback_whale</td>\n",
       "      <td>1a71fbb72250</td>\n",
       "      <td>2</td>\n",
       "      <td>3369</td>\n",
       "    </tr>\n",
       "    <tr>\n",
       "      <th>2</th>\n",
       "      <td>0007c33415ce37.jpg</td>\n",
       "      <td>false_killer_whale</td>\n",
       "      <td>60008f293a2b</td>\n",
       "      <td>4</td>\n",
       "      <td>71</td>\n",
       "    </tr>\n",
       "    <tr>\n",
       "      <th>3</th>\n",
       "      <td>0007d9bca26a99.jpg</td>\n",
       "      <td>bottlenose_dolphin</td>\n",
       "      <td>4b00fe572063</td>\n",
       "      <td>0</td>\n",
       "      <td>67</td>\n",
       "    </tr>\n",
       "    <tr>\n",
       "      <th>4</th>\n",
       "      <td>00087baf5cef7a.jpg</td>\n",
       "      <td>humpback_whale</td>\n",
       "      <td>8e5253662392</td>\n",
       "      <td>2</td>\n",
       "      <td>111</td>\n",
       "    </tr>\n",
       "  </tbody>\n",
       "</table>\n",
       "</div>"
      ],
      "text/plain": [
       "                image             species individual_id  species_idx  \\\n",
       "0  00021adfb725ed.jpg  melon_headed_whale  cadddb1636b9            8   \n",
       "1  000562241d384d.jpg      humpback_whale  1a71fbb72250            2   \n",
       "2  0007c33415ce37.jpg  false_killer_whale  60008f293a2b            4   \n",
       "3  0007d9bca26a99.jpg  bottlenose_dolphin  4b00fe572063            0   \n",
       "4  00087baf5cef7a.jpg      humpback_whale  8e5253662392            2   \n",
       "\n",
       "   individual_idx  \n",
       "0            9709  \n",
       "1            3369  \n",
       "2              71  \n",
       "3              67  \n",
       "4             111  "
      ]
     },
     "execution_count": 41,
     "metadata": {},
     "output_type": "execute_result"
    }
   ],
   "source": [
    "df_train.head()"
   ]
  },
  {
   "cell_type": "code",
   "execution_count": 42,
   "id": "c35d4cf6",
   "metadata": {
    "ExecuteTime": {
     "end_time": "2022-02-27T12:10:14.516683Z",
     "start_time": "2022-02-27T12:10:14.499051Z"
    }
   },
   "outputs": [],
   "source": [
    "batch_size = 64\n",
    "steps_per_epoch = len(df_train) * 0.8 / batch_size\n",
    "validation_steps = len(df_train) * 0.2 / batch_size\n",
    "epochs = 4\n",
    "target_size = 256"
   ]
  },
  {
   "cell_type": "markdown",
   "id": "e32eb3ff",
   "metadata": {},
   "source": [
    "## Model Architecture Comparison"
   ]
  },
  {
   "cell_type": "markdown",
   "id": "44aeb703",
   "metadata": {},
   "source": [
    "### Baseline CNN Model"
   ]
  },
  {
   "cell_type": "markdown",
   "id": "937749f4",
   "metadata": {},
   "source": [
    "#### Data augmentation and prepare data generators"
   ]
  },
  {
   "cell_type": "code",
   "execution_count": 18,
   "id": "cf7c64ea",
   "metadata": {
    "ExecuteTime": {
     "end_time": "2022-02-25T18:40:28.969406Z",
     "start_time": "2022-02-25T18:40:22.177902Z"
    }
   },
   "outputs": [
    {
     "name": "stdout",
     "output_type": "stream",
     "text": [
      "Found 40827 validated image filenames belonging to 26 classes.\n",
      "Found 10206 validated image filenames belonging to 26 classes.\n"
     ]
    }
   ],
   "source": [
    "# Training set\n",
    "train_datagen = ImageDataGenerator(rescale=1./255,\n",
    "                                   validation_split=0.2,\n",
    "                                   preprocessing_function=None,\n",
    "                                   rotation_range=45,\n",
    "                                   zoom_range=0.2,\n",
    "                                   brightness_range=[0.6, 1.4],\n",
    "                                   channel_shift_range=0.7,\n",
    "                                   horizontal_flip=True,\n",
    "                                   vertical_flip=True,\n",
    "                                   fill_mode='nearest',\n",
    "                                   shear_range=0.1,\n",
    "                                   height_shift_range=0.1,\n",
    "                                   width_shift_range=0.1)\n",
    "\n",
    "train_generator = (\n",
    "    train_datagen.\n",
    "    flow_from_dataframe(df_train,\n",
    "                        directory = os.path.join(work_dir, train_folder),\n",
    "                        subset=\"training\",\n",
    "                        x_col=img_col,\n",
    "                        y_col=target_col,\n",
    "                        color_mode='rgb',\n",
    "                        target_size=(target_size, target_size),\n",
    "                        batch_size=batch_size,\n",
    "                        class_mode=\"categorical\")\n",
    ")\n",
    "\n",
    "# Validation set\n",
    "val_datagen = ImageDataGenerator(rescale=1./255,\n",
    "                                 validation_split=0.2)\n",
    "\n",
    "val_generator = (\n",
    "    val_datagen.\n",
    "    flow_from_dataframe(df_train,\n",
    "                        directory=os.path.join(work_dir, train_folder),\n",
    "                        subset=\"validation\",\n",
    "                        color_mode='rgb',\n",
    "                        x_col=img_col,\n",
    "                        y_col=target_col,\n",
    "                        target_size=(target_size, target_size),\n",
    "                        batch_size=batch_size,\n",
    "                        class_mode=\"categorical\")\n",
    ")"
   ]
  },
  {
   "cell_type": "markdown",
   "id": "deb2b980",
   "metadata": {},
   "source": [
    "#### Training"
   ]
  },
  {
   "cell_type": "code",
   "execution_count": 19,
   "id": "07417976",
   "metadata": {
    "ExecuteTime": {
     "end_time": "2022-02-25T18:40:28.981389Z",
     "start_time": "2022-02-25T18:40:28.972253Z"
    }
   },
   "outputs": [],
   "source": [
    "tf.keras.backend.clear_session()"
   ]
  },
  {
   "cell_type": "code",
   "execution_count": 20,
   "id": "67c07b78",
   "metadata": {
    "ExecuteTime": {
     "end_time": "2022-02-25T18:40:30.676745Z",
     "start_time": "2022-02-25T18:40:28.985580Z"
    }
   },
   "outputs": [
    {
     "name": "stdout",
     "output_type": "stream",
     "text": [
      "Model: \"sequential\"\n",
      "_________________________________________________________________\n",
      "Layer (type)                 Output Shape              Param #   \n",
      "=================================================================\n",
      "conv2d (Conv2D)              (None, 256, 256, 32)      3488      \n",
      "_________________________________________________________________\n",
      "batch_normalization (BatchNo (None, 256, 256, 32)      128       \n",
      "_________________________________________________________________\n",
      "activation (Activation)      (None, 256, 256, 32)      0         \n",
      "_________________________________________________________________\n",
      "max_pooling2d (MaxPooling2D) (None, 128, 128, 32)      0         \n",
      "_________________________________________________________________\n",
      "conv2d_1 (Conv2D)            (None, 128, 128, 64)      18496     \n",
      "_________________________________________________________________\n",
      "max_pooling2d_1 (MaxPooling2 (None, 42, 42, 64)        0         \n",
      "_________________________________________________________________\n",
      "flatten (Flatten)            (None, 112896)            0         \n",
      "_________________________________________________________________\n",
      "dense (Dense)                (None, 256)               28901632  \n",
      "_________________________________________________________________\n",
      "dropout (Dropout)            (None, 256)               0         \n",
      "_________________________________________________________________\n",
      "dense_1 (Dense)              (None, 26)                6682      \n",
      "=================================================================\n",
      "Total params: 28,930,426\n",
      "Trainable params: 28,930,362\n",
      "Non-trainable params: 64\n",
      "_________________________________________________________________\n"
     ]
    }
   ],
   "source": [
    "base_cnn = models.Sequential()\n",
    "\n",
    "base_cnn.add(layers.Conv2D(filters=32, kernel_size=6, strides=1, padding='same',\n",
    "                 input_shape=(target_size, target_size, 3)))\n",
    "base_cnn.add(layers.BatchNormalization(axis=3))\n",
    "base_cnn.add(layers.Activation('relu'))\n",
    "base_cnn.add(layers.MaxPooling2D(pool_size=(2, 2)))\n",
    "\n",
    "base_cnn.add(layers.Conv2D(filters=64, kernel_size=3, strides=1,  padding='same',\n",
    "                        activation='relu'))\n",
    "base_cnn.add(layers.MaxPooling2D(pool_size=(3, 3)))\n",
    "\n",
    "base_cnn.add(layers.Flatten())\n",
    "base_cnn.add(layers.Dense(256, activation=\"relu\"))\n",
    "base_cnn.add(layers.Dropout(0.6))\n",
    "\n",
    "base_cnn.add(layers.Dense(num_classes, activation='softmax'))\n",
    "base_cnn.summary()\n",
    "\n",
    "base_cnn.compile(loss='categorical_crossentropy',\n",
    "                 optimizer=optimizers.Adam(learning_rate=1e-3),\n",
    "                 metrics=['accuracy'])"
   ]
  },
  {
   "cell_type": "code",
   "execution_count": 21,
   "id": "b5e66c59",
   "metadata": {
    "ExecuteTime": {
     "end_time": "2022-02-25T19:52:03.669784Z",
     "start_time": "2022-02-25T18:40:30.678485Z"
    }
   },
   "outputs": [
    {
     "name": "stdout",
     "output_type": "stream",
     "text": [
      "Epoch 1/4\n",
      "637/637 [==============================] - 1039s 2s/step - loss: 2.6146 - accuracy: 0.3360 - val_loss: 2.0659 - val_accuracy: 0.3733\n",
      "\n",
      "Epoch 00001: val_accuracy improved from -inf to 0.37331, saving model to ./savefiles/base_cnn_wts.hdf5\n",
      "Epoch 2/4\n",
      "637/637 [==============================] - 1174s 2s/step - loss: 1.9758 - accuracy: 0.4090 - val_loss: 1.6577 - val_accuracy: 0.4988\n",
      "\n",
      "Epoch 00002: val_accuracy improved from 0.37331 to 0.49882, saving model to ./savefiles/base_cnn_wts.hdf5\n",
      "Epoch 3/4\n",
      "637/637 [==============================] - 1042s 2s/step - loss: 1.8576 - accuracy: 0.4440 - val_loss: 1.7097 - val_accuracy: 0.4728\n",
      "\n",
      "Epoch 00003: val_accuracy did not improve from 0.49882\n",
      "Epoch 4/4\n",
      "637/637 [==============================] - 1033s 2s/step - loss: 1.7764 - accuracy: 0.4661 - val_loss: 1.7056 - val_accuracy: 0.4897\n",
      "\n",
      "Epoch 00004: val_accuracy did not improve from 0.49882\n",
      "CPU times: user 1h 5min 48s, sys: 4min 40s, total: 1h 10min 29s\n",
      "Wall time: 1h 11min 32s\n"
     ]
    }
   ],
   "source": [
    "%%time\n",
    "\n",
    "filepath_cnn = save_dir + \"/base_cnn_wts.hdf5\"\n",
    "checkpoint_cnn = ModelCheckpoint(filepath_cnn, monitor='val_accuracy',\n",
    "                             verbose=1, save_best_only=True, mode='max')\n",
    "\n",
    "base_cnn_history = base_cnn.fit(\n",
    "    train_generator,\n",
    "    steps_per_epoch=steps_per_epoch,\n",
    "    epochs=epochs,\n",
    "    validation_data=val_generator,\n",
    "    validation_steps=validation_steps,\n",
    "    callbacks=[checkpoint_cnn]\n",
    ")\n"
   ]
  },
  {
   "cell_type": "code",
   "execution_count": 22,
   "id": "52b91e01",
   "metadata": {
    "ExecuteTime": {
     "end_time": "2022-02-25T19:52:05.699658Z",
     "start_time": "2022-02-25T19:52:03.673583Z"
    }
   },
   "outputs": [],
   "source": [
    "base_cnn.load_weights(filepath_cnn)\n",
    "\n",
    "base_cnn.save(save_dir + '/baseline_cnn.h5')\n",
    "\n",
    "import pickle\n",
    "with open(save_dir + '/baseline_cnn_hist.pickle', 'wb') as handle:\n",
    "    pickle.dump(base_cnn_history.history, handle, protocol=pickle.HIGHEST_PROTOCOL)"
   ]
  },
  {
   "cell_type": "code",
   "execution_count": 23,
   "id": "6f38892f",
   "metadata": {
    "ExecuteTime": {
     "end_time": "2022-02-25T19:52:05.710378Z",
     "start_time": "2022-02-25T19:52:05.702471Z"
    }
   },
   "outputs": [],
   "source": [
    "def plot_results(history):\n",
    "    fig, (ax1, ax2) = plt.subplots(1, 2, figsize=(15,5))\n",
    "\n",
    "    # plot accuracy \n",
    "    acc = history.history['accuracy']\n",
    "    val_acc = history.history['val_accuracy']\n",
    "    epochs = range(1, len(acc) + 1)\n",
    "\n",
    "    ax1.plot(epochs, acc, 'ko', label='Training acc')\n",
    "    ax1.plot(epochs, val_acc, 'k', label='Validation acc')\n",
    "    ax1.set_title('Training and validation accuracy')\n",
    "    ax1.set_xlabel('Epochs')\n",
    "    ax1.legend()\n",
    "\n",
    "    # plot loss\n",
    "    loss = history.history['loss']\n",
    "    val_loss = history.history['val_loss']\n",
    "\n",
    "    ax2.plot(epochs, loss, 'ro', label='Training loss')\n",
    "    ax2.plot(epochs, val_loss, 'r', label='Validation loss')\n",
    "    ax2.set_title('Training and validation loss')\n",
    "    ax2.set_xlabel('Epochs')\n",
    "    ax2.legend()"
   ]
  },
  {
   "cell_type": "code",
   "execution_count": 24,
   "id": "c90c75fe",
   "metadata": {
    "ExecuteTime": {
     "end_time": "2022-02-25T19:52:06.137610Z",
     "start_time": "2022-02-25T19:52:05.712440Z"
    }
   },
   "outputs": [
    {
     "data": {
      "image/png": "[encoded data removed]",
      "text/plain": [
       "<Figure size 1080x360 with 2 Axes>"
      ]
     },
     "metadata": {
      "needs_background": "light"
     },
     "output_type": "display_data"
    }
   ],
   "source": [
    "plot_results(base_cnn_history)"
   ]
  },
  {
   "cell_type": "markdown",
   "id": "6fb79526",
   "metadata": {},
   "source": [
    "### Transfer Learning with Inception V3"
   ]
  },
  {
   "cell_type": "code",
   "execution_count": 25,
   "id": "6c5384eb",
   "metadata": {
    "ExecuteTime": {
     "end_time": "2022-02-25T19:52:06.151931Z",
     "start_time": "2022-02-25T19:52:06.139616Z"
    }
   },
   "outputs": [],
   "source": [
    "tf.keras.backend.clear_session()"
   ]
  },
  {
   "cell_type": "markdown",
   "id": "519a1f46",
   "metadata": {},
   "source": [
    "#### Data augmentation and prepare data generators"
   ]
  },
  {
   "cell_type": "code",
   "execution_count": 26,
   "id": "d5883f85",
   "metadata": {
    "ExecuteTime": {
     "end_time": "2022-02-25T19:52:11.581017Z",
     "start_time": "2022-02-25T19:52:06.155942Z"
    }
   },
   "outputs": [
    {
     "name": "stdout",
     "output_type": "stream",
     "text": [
      "Found 40827 validated image filenames belonging to 26 classes.\n",
      "Found 10206 validated image filenames belonging to 26 classes.\n"
     ]
    }
   ],
   "source": [
    "# Training set\n",
    "unscaled_train_datagen = ImageDataGenerator(validation_split=0.2,\n",
    "                                            preprocessing_function=None,\n",
    "                                            rotation_range=45,\n",
    "                                            zoom_range=0.2,\n",
    "                                            brightness_range=[0.6, 1.4],\n",
    "                                            channel_shift_range=0.7,\n",
    "                                            horizontal_flip=True,\n",
    "                                            vertical_flip=True,\n",
    "                                            fill_mode='nearest',\n",
    "                                            shear_range=0.1,\n",
    "                                            height_shift_range=0.1,\n",
    "                                            width_shift_range=0.1)\n",
    "\n",
    "unscaled_train_gen = (\n",
    "    unscaled_train_datagen.\n",
    "    flow_from_dataframe(df_train,\n",
    "                        directory = os.path.join(work_dir, train_folder),\n",
    "                        subset=\"training\",\n",
    "                        x_col=img_col,\n",
    "                        y_col=target_col,\n",
    "                        color_mode='rgb',\n",
    "                        target_size=(target_size, target_size),\n",
    "                        batch_size=batch_size,\n",
    "                        class_mode=\"categorical\")\n",
    ")\n",
    "\n",
    "# Validation set\n",
    "unscaled_val_datagen = ImageDataGenerator(validation_split=0.2)\n",
    "\n",
    "unscaled_val_gen = (\n",
    "    unscaled_val_datagen.\n",
    "    flow_from_dataframe(df_train,\n",
    "                        directory=os.path.join(work_dir, train_folder),\n",
    "                        subset=\"validation\",\n",
    "                        color_mode='rgb',\n",
    "                        x_col=img_col,\n",
    "                        y_col=target_col,\n",
    "                        target_size=(target_size, target_size),\n",
    "                        batch_size=batch_size,\n",
    "                        class_mode=\"categorical\")\n",
    ")"
   ]
  },
  {
   "cell_type": "markdown",
   "id": "62f297a0",
   "metadata": {},
   "source": [
    "#### Train only top layer"
   ]
  },
  {
   "cell_type": "code",
   "execution_count": 30,
   "id": "4ae9c7b1",
   "metadata": {
    "ExecuteTime": {
     "end_time": "2022-02-25T20:00:05.181544Z",
     "start_time": "2022-02-25T20:00:02.062060Z"
    }
   },
   "outputs": [
    {
     "name": "stdout",
     "output_type": "stream",
     "text": [
      "Model: \"sequential_2\"\n",
      "_________________________________________________________________\n",
      "Layer (type)                 Output Shape              Param #   \n",
      "=================================================================\n",
      "lambda_2 (Lambda)            (None, 256, 256, 3)       0         \n",
      "_________________________________________________________________\n",
      "inception_v3 (Functional)    (None, None, None, 2048)  21802784  \n",
      "_________________________________________________________________\n",
      "max_pooling2d_14 (MaxPooling (None, 3, 3, 2048)        0         \n",
      "_________________________________________________________________\n",
      "flatten_2 (Flatten)          (None, 18432)             0         \n",
      "_________________________________________________________________\n",
      "dense_4 (Dense)              (None, 256)               4718848   \n",
      "_________________________________________________________________\n",
      "dropout_2 (Dropout)          (None, 256)               0         \n",
      "_________________________________________________________________\n",
      "dense_5 (Dense)              (None, 26)                6682      \n",
      "=================================================================\n",
      "Total params: 26,528,314\n",
      "Trainable params: 4,725,530\n",
      "Non-trainable params: 21,802,784\n",
      "_________________________________________________________________\n"
     ]
    }
   ],
   "source": [
    "from tensorflow.keras.applications.inception_v3 import preprocess_input as preprocess_inception_v3\n",
    "\n",
    "inception_v3 = tf.keras.applications.InceptionV3(\n",
    "    include_top=False,\n",
    "    weights = \"imagenet\")\n",
    "\n",
    "inception_v3.trainable = False\n",
    "\n",
    "model_inv3 = models.Sequential()\n",
    "model_inv3.add(layers.Lambda(preprocess_inception_v3,\n",
    "                             input_shape=(target_size, target_size, 3)))\n",
    "model_inv3.add(inception_v3)\n",
    "model_inv3.add(layers.MaxPooling2D(pool_size=(2, 2)))\n",
    "model_inv3.add(layers.Flatten())\n",
    "model_inv3.add(layers.Dense(256, activation=\"relu\"))\n",
    "model_inv3.add(layers.Dropout(0.6))\n",
    "model_inv3.add(layers.Dense(num_classes, activation='softmax'))\n",
    "\n",
    "model_inv3.summary()\n",
    "\n",
    "model_inv3.compile(loss='categorical_crossentropy',\n",
    "                   optimizer=\"adam\",\n",
    "                   metrics=['accuracy'])"
   ]
  },
  {
   "cell_type": "code",
   "execution_count": 31,
   "id": "bbb5bb3a",
   "metadata": {
    "ExecuteTime": {
     "end_time": "2022-02-25T21:07:58.151236Z",
     "start_time": "2022-02-25T20:00:05.184668Z"
    }
   },
   "outputs": [
    {
     "name": "stdout",
     "output_type": "stream",
     "text": [
      "Epoch 1/4\n",
      "637/637 [==============================] - 1030s 2s/step - loss: 2.4698 - accuracy: 0.3551 - val_loss: 1.5864 - val_accuracy: 0.5924\n",
      "\n",
      "Epoch 00001: val_accuracy improved from -inf to 0.59240, saving model to ./savefiles/model_inv3_wts.hdf5\n",
      "Epoch 2/4\n",
      "637/637 [==============================] - 1095s 2s/step - loss: 2.0638 - accuracy: 0.4125 - val_loss: 1.4963 - val_accuracy: 0.6027\n",
      "\n",
      "Epoch 00002: val_accuracy improved from 0.59240 to 0.60268, saving model to ./savefiles/model_inv3_wts.hdf5\n",
      "Epoch 3/4\n",
      "637/637 [==============================] - 973s 2s/step - loss: 1.9837 - accuracy: 0.4208 - val_loss: 1.4773 - val_accuracy: 0.6069\n",
      "\n",
      "Epoch 00003: val_accuracy improved from 0.60268 to 0.60690, saving model to ./savefiles/model_inv3_wts.hdf5\n",
      "Epoch 4/4\n",
      "637/637 [==============================] - 954s 1s/step - loss: 1.9331 - accuracy: 0.4287 - val_loss: 1.5438 - val_accuracy: 0.5668\n",
      "\n",
      "Epoch 00004: val_accuracy did not improve from 0.60690\n",
      "CPU times: user 1h 2min 59s, sys: 4min 35s, total: 1h 7min 35s\n",
      "Wall time: 1h 7min 52s\n"
     ]
    }
   ],
   "source": [
    "%%time\n",
    "\n",
    "filepath_inv = save_dir + \"/model_inv3_wts.hdf5\"\n",
    "checkpoint_inv = ModelCheckpoint(filepath_inv, monitor='val_accuracy',\n",
    "                             verbose=1, save_best_only=True, mode='max')\n",
    "\n",
    "history_inv3 = model_inv3.fit(\n",
    "    unscaled_train_gen,\n",
    "    steps_per_epoch=steps_per_epoch,\n",
    "    epochs=epochs,\n",
    "    validation_data=unscaled_val_gen,\n",
    "    validation_steps=validation_steps,\n",
    "    callbacks=[checkpoint_inv]\n",
    ")"
   ]
  },
  {
   "cell_type": "code",
   "execution_count": 32,
   "id": "fb03b84c",
   "metadata": {
    "ExecuteTime": {
     "end_time": "2022-02-25T21:07:59.408442Z",
     "start_time": "2022-02-25T21:07:58.153776Z"
    }
   },
   "outputs": [],
   "source": [
    "model_inv3.load_weights(filepath_inv)\n",
    "\n",
    "model_inv3.save(save_dir + '/inception_v3.h5')\n",
    "\n",
    "with open(save_dir + '/inception_v3_hist.pickle', 'wb') as handle:\n",
    "    pickle.dump(history_inv3.history, handle, protocol=pickle.HIGHEST_PROTOCOL)"
   ]
  },
  {
   "cell_type": "markdown",
   "id": "9a4cc28c",
   "metadata": {},
   "source": [
    "#### Unfreeze part of base model and retrain"
   ]
  },
  {
   "cell_type": "code",
   "execution_count": 33,
   "id": "f9da8957",
   "metadata": {
    "ExecuteTime": {
     "end_time": "2022-02-25T21:07:59.464440Z",
     "start_time": "2022-02-25T21:07:59.411652Z"
    }
   },
   "outputs": [
    {
     "name": "stdout",
     "output_type": "stream",
     "text": [
      "Model: \"sequential_2\"\n",
      "_________________________________________________________________\n",
      "Layer (type)                 Output Shape              Param #   \n",
      "=================================================================\n",
      "lambda_2 (Lambda)            (None, 256, 256, 3)       0         \n",
      "_________________________________________________________________\n",
      "inception_v3 (Functional)    (None, None, None, 2048)  21802784  \n",
      "_________________________________________________________________\n",
      "max_pooling2d_14 (MaxPooling (None, 3, 3, 2048)        0         \n",
      "_________________________________________________________________\n",
      "flatten_2 (Flatten)          (None, 18432)             0         \n",
      "_________________________________________________________________\n",
      "dense_4 (Dense)              (None, 256)               4718848   \n",
      "_________________________________________________________________\n",
      "dropout_2 (Dropout)          (None, 256)               0         \n",
      "_________________________________________________________________\n",
      "dense_5 (Dense)              (None, 26)                6682      \n",
      "=================================================================\n",
      "Total params: 26,528,314\n",
      "Trainable params: 15,840,410\n",
      "Non-trainable params: 10,687,904\n",
      "_________________________________________________________________\n"
     ]
    }
   ],
   "source": [
    "inception_v3.trainable = True\n",
    "\n",
    "for layer in inception_v3.layers[:249]:\n",
    "    layer.trainable = False\n",
    "for layer in inception_v3.layers[249:]:\n",
    "    layer.trainable = True\n",
    "\n",
    "model_inv3.compile(loss='categorical_crossentropy',\n",
    "                   optimizer=optimizers.Adam(),\n",
    "                   metrics=['accuracy'])\n",
    "\n",
    "model_inv3.summary()"
   ]
  },
  {
   "cell_type": "code",
   "execution_count": 34,
   "id": "a3c99d36",
   "metadata": {
    "ExecuteTime": {
     "end_time": "2022-02-25T22:12:39.683711Z",
     "start_time": "2022-02-25T21:07:59.466258Z"
    }
   },
   "outputs": [
    {
     "name": "stdout",
     "output_type": "stream",
     "text": [
      "Epoch 1/4\n",
      "637/637 [==============================] - 976s 2s/step - loss: 1.7348 - accuracy: 0.5151 - val_loss: 1.2227 - val_accuracy: 0.6329\n",
      "\n",
      "Epoch 00001: val_accuracy improved from 0.60690 to 0.63286, saving model to ./savefiles/model_inv3_wts.hdf5\n",
      "Epoch 2/4\n",
      "637/637 [==============================] - 983s 2s/step - loss: 1.4975 - accuracy: 0.5684 - val_loss: 1.0872 - val_accuracy: 0.6672\n",
      "\n",
      "Epoch 00002: val_accuracy improved from 0.63286 to 0.66716, saving model to ./savefiles/model_inv3_wts.hdf5\n",
      "Epoch 3/4\n",
      "637/637 [==============================] - 959s 2s/step - loss: 1.3855 - accuracy: 0.5954 - val_loss: 0.9946 - val_accuracy: 0.6835\n",
      "\n",
      "Epoch 00003: val_accuracy improved from 0.66716 to 0.68352, saving model to ./savefiles/model_inv3_wts.hdf5\n",
      "Epoch 4/4\n",
      "637/637 [==============================] - 955s 1s/step - loss: 1.2462 - accuracy: 0.6311 - val_loss: 0.8025 - val_accuracy: 0.7600\n",
      "\n",
      "Epoch 00004: val_accuracy improved from 0.68352 to 0.76004, saving model to ./savefiles/model_inv3_wts.hdf5\n",
      "CPU times: user 1h 1min 47s, sys: 4min 30s, total: 1h 6min 18s\n",
      "Wall time: 1h 4min 40s\n"
     ]
    }
   ],
   "source": [
    "%%time\n",
    "\n",
    "\n",
    "history_inv3 = model_inv3.fit(\n",
    "    unscaled_train_gen,\n",
    "    steps_per_epoch=steps_per_epoch,\n",
    "    epochs=epochs,\n",
    "    validation_data=unscaled_val_gen,\n",
    "    validation_steps=validation_steps,\n",
    "    callbacks=[checkpoint_inv]\n",
    ")"
   ]
  },
  {
   "cell_type": "code",
   "execution_count": 35,
   "id": "8acb46f1",
   "metadata": {
    "ExecuteTime": {
     "end_time": "2022-02-25T22:12:41.578038Z",
     "start_time": "2022-02-25T22:12:39.687530Z"
    }
   },
   "outputs": [],
   "source": [
    "model_inv3.load_weights(filepath_inv)\n",
    "\n",
    "model_inv3.save(save_dir + '/inception_v3_ft.h5')\n",
    "\n",
    "with open(save_dir + '/inception_v3_hist_ft.pickle', 'wb') as handle:\n",
    "    pickle.dump(history_inv3.history, handle, protocol=pickle.HIGHEST_PROTOCOL)"
   ]
  },
  {
   "cell_type": "code",
   "execution_count": 36,
   "id": "974eb469",
   "metadata": {
    "ExecuteTime": {
     "end_time": "2022-02-25T22:12:41.980917Z",
     "start_time": "2022-02-25T22:12:41.580631Z"
    }
   },
   "outputs": [
    {
     "data": {
      "image/png": "[encoded data removed]",
      "text/plain": [
       "<Figure size 1080x360 with 2 Axes>"
      ]
     },
     "metadata": {
      "needs_background": "light"
     },
     "output_type": "display_data"
    }
   ],
   "source": [
    "plot_results(history_inv3)"
   ]
  },
  {
   "cell_type": "markdown",
   "id": "f9b32fb4",
   "metadata": {},
   "source": [
    "### Transfer Learning with VGG16 + Fine-Tuning"
   ]
  },
  {
   "cell_type": "code",
   "execution_count": 39,
   "id": "97f307df",
   "metadata": {
    "ExecuteTime": {
     "end_time": "2022-02-26T03:02:13.762219Z",
     "start_time": "2022-02-26T03:02:13.744970Z"
    }
   },
   "outputs": [],
   "source": [
    "tf.keras.backend.clear_session()"
   ]
  },
  {
   "cell_type": "markdown",
   "id": "d69cd8eb",
   "metadata": {},
   "source": [
    "#### Train only top layer"
   ]
  },
  {
   "cell_type": "code",
   "execution_count": 40,
   "id": "d52a2204",
   "metadata": {
    "ExecuteTime": {
     "end_time": "2022-02-26T03:02:27.165465Z",
     "start_time": "2022-02-26T03:02:13.791498Z"
    }
   },
   "outputs": [
    {
     "name": "stdout",
     "output_type": "stream",
     "text": [
      "Model: \"sequential\"\n",
      "_________________________________________________________________\n",
      "Layer (type)                 Output Shape              Param #   \n",
      "=================================================================\n",
      "lambda (Lambda)              (None, 256, 256, 3)       0         \n",
      "_________________________________________________________________\n",
      "vgg16 (Functional)           (None, None, None, 512)   14714688  \n",
      "_________________________________________________________________\n",
      "flatten (Flatten)            (None, 32768)             0         \n",
      "_________________________________________________________________\n",
      "dense (Dense)                (None, 256)               8388864   \n",
      "_________________________________________________________________\n",
      "dropout (Dropout)            (None, 256)               0         \n",
      "_________________________________________________________________\n",
      "dense_1 (Dense)              (None, 26)                6682      \n",
      "=================================================================\n",
      "Total params: 23,110,234\n",
      "Trainable params: 8,395,546\n",
      "Non-trainable params: 14,714,688\n",
      "_________________________________________________________________\n"
     ]
    }
   ],
   "source": [
    "from tensorflow.keras.applications.vgg16 import preprocess_input as preprocess_vgg16\n",
    "\n",
    "vgg16 = tf.keras.applications.VGG16(weights='imagenet',\n",
    "                  include_top=False)\n",
    "\n",
    "vgg16.trainable = False\n",
    "\n",
    "model_vgg16 = models.Sequential()\n",
    "model_vgg16.add(layers.Lambda(preprocess_vgg16,\n",
    "                             input_shape=(target_size, target_size, 3)))\n",
    "model_vgg16.add(vgg16)\n",
    "model_vgg16.add(layers.Flatten())\n",
    "model_vgg16.add(layers.Dense(256, activation=\"relu\"))\n",
    "model_vgg16.add(layers.Dropout(0.6))\n",
    "model_vgg16.add(layers.Dense(num_classes, activation='softmax'))\n",
    "\n",
    "model_vgg16.summary()\n",
    "\n",
    "model_vgg16.compile(loss='categorical_crossentropy',\n",
    "                   optimizer=\"adam\",\n",
    "                   metrics=['accuracy'])"
   ]
  },
  {
   "cell_type": "code",
   "execution_count": 41,
   "id": "23ae7f98",
   "metadata": {
    "ExecuteTime": {
     "end_time": "2022-02-26T04:18:25.840772Z",
     "start_time": "2022-02-26T03:02:27.169334Z"
    }
   },
   "outputs": [
    {
     "name": "stdout",
     "output_type": "stream",
     "text": [
      "Epoch 1/4\n",
      "637/637 [==============================] - 1196s 2s/step - loss: 2.9621 - accuracy: 0.3615 - val_loss: 1.7824 - val_accuracy: 0.4866\n",
      "\n",
      "Epoch 00001: val_accuracy improved from -inf to 0.48658, saving model to ./savefiles/model_vgg16_wts.hdf5\n",
      "Epoch 2/4\n",
      "637/637 [==============================] - 1053s 2s/step - loss: 2.1536 - accuracy: 0.4065 - val_loss: 1.5539 - val_accuracy: 0.5666\n",
      "\n",
      "Epoch 00002: val_accuracy improved from 0.48658 to 0.56663, saving model to ./savefiles/model_vgg16_wts.hdf5\n",
      "Epoch 3/4\n",
      "637/637 [==============================] - 1180s 2s/step - loss: 1.9993 - accuracy: 0.4341 - val_loss: 1.4792 - val_accuracy: 0.5995\n",
      "\n",
      "Epoch 00003: val_accuracy improved from 0.56663 to 0.59955, saving model to ./savefiles/model_vgg16_wts.hdf5\n",
      "Epoch 4/4\n",
      "637/637 [==============================] - 1097s 2s/step - loss: 1.8966 - accuracy: 0.4623 - val_loss: 1.4065 - val_accuracy: 0.6117\n",
      "\n",
      "Epoch 00004: val_accuracy improved from 0.59955 to 0.61170, saving model to ./savefiles/model_vgg16_wts.hdf5\n",
      "CPU times: user 1h 9min 36s, sys: 5min 2s, total: 1h 14min 38s\n",
      "Wall time: 1h 15min 58s\n"
     ]
    }
   ],
   "source": [
    "%%time\n",
    "\n",
    "filepath_vgg = save_dir + \"/model_vgg16_wts.hdf5\"\n",
    "checkpoint_vgg = ModelCheckpoint(filepath_vgg, monitor='val_accuracy',\n",
    "                             verbose=1, save_best_only=True, mode='max')\n",
    "\n",
    "history_vgg16 = model_vgg16.fit(\n",
    "    unscaled_train_gen,\n",
    "    steps_per_epoch=steps_per_epoch,\n",
    "    epochs=epochs,\n",
    "    validation_data=unscaled_val_gen,\n",
    "    validation_steps=validation_steps,\n",
    "    callbacks=[checkpoint_vgg]\n",
    ")"
   ]
  },
  {
   "cell_type": "code",
   "execution_count": 42,
   "id": "dc9d6cde",
   "metadata": {
    "ExecuteTime": {
     "end_time": "2022-02-26T04:18:28.189316Z",
     "start_time": "2022-02-26T04:18:25.843565Z"
    }
   },
   "outputs": [],
   "source": [
    "model_vgg16.load_weights(filepath_vgg)\n",
    "\n",
    "model_vgg16.save(save_dir + '/vgg16.h5')\n",
    "\n",
    "with open(save_dir + '/vgg16_hist.pickle', 'wb') as handle:\n",
    "    pickle.dump(history_vgg16.history, handle, protocol=pickle.HIGHEST_PROTOCOL)"
   ]
  },
  {
   "cell_type": "markdown",
   "id": "c2c6324c",
   "metadata": {},
   "source": [
    "#### Unfreeze part of base model and retrain"
   ]
  },
  {
   "cell_type": "code",
   "execution_count": 70,
   "id": "08e84bff",
   "metadata": {
    "ExecuteTime": {
     "end_time": "2022-02-26T13:13:40.408375Z",
     "start_time": "2022-02-26T13:13:40.395475Z"
    }
   },
   "outputs": [
    {
     "name": "stdout",
     "output_type": "stream",
     "text": [
      "Model: \"sequential\"\n",
      "_________________________________________________________________\n",
      "Layer (type)                 Output Shape              Param #   \n",
      "=================================================================\n",
      "lambda (Lambda)              (None, 256, 256, 3)       0         \n",
      "_________________________________________________________________\n",
      "vgg16 (Functional)           (None, None, None, 512)   14714688  \n",
      "_________________________________________________________________\n",
      "flatten (Flatten)            (None, 32768)             0         \n",
      "_________________________________________________________________\n",
      "dense (Dense)                (None, 256)               8388864   \n",
      "_________________________________________________________________\n",
      "dropout (Dropout)            (None, 256)               0         \n",
      "_________________________________________________________________\n",
      "dense_1 (Dense)              (None, 26)                6682      \n",
      "=================================================================\n",
      "Total params: 23,110,234\n",
      "Trainable params: 15,474,970\n",
      "Non-trainable params: 7,635,264\n",
      "_________________________________________________________________\n"
     ]
    }
   ],
   "source": [
    "vgg16.trainable = True\n",
    "\n",
    "for layer in vgg16.layers[:15]:\n",
    "    layer.trainable = False\n",
    "for layer in vgg16.layers[15:]:\n",
    "    layer.trainable = True\n",
    "    \n",
    "model_vgg16.compile(loss='categorical_crossentropy',\n",
    "                   optimizer=optimizers.Adam(learning_rate=1e-5),\n",
    "                   metrics=['accuracy'])\n",
    "\n",
    "model_vgg16.summary()"
   ]
  },
  {
   "cell_type": "code",
   "execution_count": 44,
   "id": "358748ca",
   "metadata": {
    "ExecuteTime": {
     "end_time": "2022-02-26T06:12:42.352003Z",
     "start_time": "2022-02-26T04:18:28.848185Z"
    }
   },
   "outputs": [
    {
     "name": "stdout",
     "output_type": "stream",
     "text": [
      "Epoch 1/4\n",
      "637/637 [==============================] - 1701s 3s/step - loss: 1.7645 - accuracy: 0.5030 - val_loss: 1.3234 - val_accuracy: 0.6373\n",
      "\n",
      "Epoch 00001: val_accuracy improved from 0.61170 to 0.63727, saving model to ./savefiles/model_vgg16_wts.hdf5\n",
      "Epoch 2/4\n",
      "637/637 [==============================] - 1805s 3s/step - loss: 1.6662 - accuracy: 0.5261 - val_loss: 1.2855 - val_accuracy: 0.6380\n",
      "\n",
      "Epoch 00002: val_accuracy improved from 0.63727 to 0.63796, saving model to ./savefiles/model_vgg16_wts.hdf5\n",
      "Epoch 3/4\n",
      "637/637 [==============================] - 1601s 3s/step - loss: 1.5975 - accuracy: 0.5477 - val_loss: 1.2556 - val_accuracy: 0.6423\n",
      "\n",
      "Epoch 00003: val_accuracy improved from 0.63796 to 0.64227, saving model to ./savefiles/model_vgg16_wts.hdf5\n",
      "Epoch 4/4\n",
      "637/637 [==============================] - 1694s 3s/step - loss: 1.5212 - accuracy: 0.5654 - val_loss: 1.2187 - val_accuracy: 0.6488\n",
      "\n",
      "Epoch 00004: val_accuracy improved from 0.64227 to 0.64883, saving model to ./savefiles/model_vgg16_wts.hdf5\n",
      "CPU times: user 1h 45min 55s, sys: 5min 58s, total: 1h 51min 54s\n",
      "Wall time: 1h 54min 13s\n"
     ]
    }
   ],
   "source": [
    "%%time\n",
    "\n",
    "history_vgg16 = model_vgg16.fit(\n",
    "    unscaled_train_gen,\n",
    "    steps_per_epoch=steps_per_epoch,\n",
    "    epochs=epochs,\n",
    "    validation_data=unscaled_val_gen,\n",
    "    validation_steps=validation_steps,\n",
    "    callbacks=[checkpoint_vgg]\n",
    ")"
   ]
  },
  {
   "cell_type": "code",
   "execution_count": 45,
   "id": "cd409440",
   "metadata": {
    "ExecuteTime": {
     "end_time": "2022-02-26T06:12:47.988371Z",
     "start_time": "2022-02-26T06:12:42.354486Z"
    }
   },
   "outputs": [],
   "source": [
    "model_vgg16.load_weights(filepath_vgg)\n",
    "\n",
    "model_vgg16.save(save_dir + '/vgg16_ft.h5')\n",
    "\n",
    "with open(save_dir + '/vgg16_hist_ft.pickle', 'wb') as handle:\n",
    "    pickle.dump(history_vgg16.history, handle, protocol=pickle.HIGHEST_PROTOCOL)"
   ]
  },
  {
   "cell_type": "code",
   "execution_count": 46,
   "id": "f9841105",
   "metadata": {
    "ExecuteTime": {
     "end_time": "2022-02-26T06:12:48.434801Z",
     "start_time": "2022-02-26T06:12:47.991027Z"
    }
   },
   "outputs": [
    {
     "data": {
      "image/png": "[encoded data removed]",
      "text/plain": [
       "<Figure size 1080x360 with 2 Axes>"
      ]
     },
     "metadata": {
      "needs_background": "light"
     },
     "output_type": "display_data"
    }
   ],
   "source": [
    "plot_results(history_vgg16)"
   ]
  },
  {
   "cell_type": "markdown",
   "id": "1c37f99e",
   "metadata": {},
   "source": [
    "### Transfer Learning with EfficientNet + Fine-Tuning"
   ]
  },
  {
   "cell_type": "code",
   "execution_count": 49,
   "id": "289b62eb",
   "metadata": {
    "ExecuteTime": {
     "end_time": "2022-02-26T06:15:14.877732Z",
     "start_time": "2022-02-26T06:15:14.862918Z"
    }
   },
   "outputs": [],
   "source": [
    "tf.keras.backend.clear_session()"
   ]
  },
  {
   "cell_type": "markdown",
   "id": "40a57da7",
   "metadata": {},
   "source": [
    "#### Train only top layer"
   ]
  },
  {
   "cell_type": "code",
   "execution_count": 93,
   "id": "497ac99a",
   "metadata": {
    "ExecuteTime": {
     "end_time": "2022-02-26T13:56:02.723380Z",
     "start_time": "2022-02-26T13:55:59.397246Z"
    }
   },
   "outputs": [
    {
     "name": "stdout",
     "output_type": "stream",
     "text": [
      "Model: \"sequential_5\"\n",
      "_________________________________________________________________\n",
      "Layer (type)                 Output Shape              Param #   \n",
      "=================================================================\n",
      "efficientnetb0 (Functional)  (None, 8, 8, 1280)        4049571   \n",
      "_________________________________________________________________\n",
      "flatten_3 (Flatten)          (None, 81920)             0         \n",
      "_________________________________________________________________\n",
      "dense_10 (Dense)             (None, 256)               20971776  \n",
      "_________________________________________________________________\n",
      "dropout_5 (Dropout)          (None, 256)               0         \n",
      "_________________________________________________________________\n",
      "dense_11 (Dense)             (None, 26)                6682      \n",
      "=================================================================\n",
      "Total params: 25,028,029\n",
      "Trainable params: 20,978,458\n",
      "Non-trainable params: 4,049,571\n",
      "_________________________________________________________________\n"
     ]
    }
   ],
   "source": [
    "effnetb0 = tf.keras.applications.EfficientNetB0(\n",
    "    include_top=False,\n",
    "    weights='imagenet',\n",
    "    input_shape=(target_size, target_size, 3))\n",
    "\n",
    "effnetb0.trainable = False\n",
    "\n",
    "model_effb0 = models.Sequential()\n",
    "\n",
    "model_effb0.add(effnetb0)\n",
    "model_effb0.add(layers.Flatten())\n",
    "model_effb0.add(layers.Dense(256, activation=\"relu\"))\n",
    "model_effb0.add(layers.Dropout(0.6))\n",
    "model_effb0.add(layers.Dense(num_classes, activation='softmax'))\n",
    "\n",
    "model_effb0.summary()\n",
    "\n",
    "model_effb0.compile(loss='categorical_crossentropy',\n",
    "                   optimizer=\"adam\",\n",
    "                   metrics=['accuracy'])"
   ]
  },
  {
   "cell_type": "code",
   "execution_count": 51,
   "id": "be68e665",
   "metadata": {
    "ExecuteTime": {
     "end_time": "2022-02-26T08:14:55.582833Z",
     "start_time": "2022-02-26T06:15:20.123818Z"
    }
   },
   "outputs": [
    {
     "name": "stdout",
     "output_type": "stream",
     "text": [
      "Epoch 1/4\n",
      "637/637 [==============================] - 1747s 3s/step - loss: 2.2952 - accuracy: 0.4573 - val_loss: 1.2088 - val_accuracy: 0.6345\n",
      "\n",
      "Epoch 00001: val_accuracy improved from -inf to 0.63453, saving model to ./savefiles/model_effb0.hdf5\n",
      "Epoch 2/4\n",
      "637/637 [==============================] - 1938s 3s/step - loss: 1.7165 - accuracy: 0.5267 - val_loss: 1.1209 - val_accuracy: 0.6396\n",
      "\n",
      "Epoch 00002: val_accuracy improved from 0.63453 to 0.63962, saving model to ./savefiles/model_effb0.hdf5\n",
      "Epoch 3/4\n",
      "637/637 [==============================] - 1610s 3s/step - loss: 1.5669 - accuracy: 0.5508 - val_loss: 1.0995 - val_accuracy: 0.6451\n",
      "\n",
      "Epoch 00003: val_accuracy improved from 0.63962 to 0.64511, saving model to ./savefiles/model_effb0.hdf5\n",
      "Epoch 4/4\n",
      "637/637 [==============================] - 1819s 3s/step - loss: 1.5004 - accuracy: 0.5657 - val_loss: 1.0475 - val_accuracy: 0.6725\n",
      "\n",
      "Epoch 00004: val_accuracy improved from 0.64511 to 0.67255, saving model to ./savefiles/model_effb0.hdf5\n",
      "CPU times: user 1h 48min 28s, sys: 6min 9s, total: 1h 54min 37s\n",
      "Wall time: 1h 59min 35s\n"
     ]
    }
   ],
   "source": [
    "%%time\n",
    "\n",
    "filepath_eff = save_dir + \"/model_effb0.hdf5\"\n",
    "checkpoint_eff = ModelCheckpoint(filepath_eff, monitor='val_accuracy',\n",
    "                             verbose=1, save_best_only=True, mode='max')\n",
    "\n",
    "history_effb0 = model_effb0.fit(\n",
    "    unscaled_train_gen,\n",
    "    steps_per_epoch=steps_per_epoch,\n",
    "    epochs=epochs,\n",
    "    validation_data=unscaled_val_gen,\n",
    "    validation_steps=validation_steps,\n",
    "    callbacks=[checkpoint_eff]\n",
    ")"
   ]
  },
  {
   "cell_type": "code",
   "execution_count": 79,
   "id": "ce33bd79",
   "metadata": {
    "ExecuteTime": {
     "end_time": "2022-02-26T13:39:40.872668Z",
     "start_time": "2022-02-26T13:39:40.868998Z"
    }
   },
   "outputs": [],
   "source": [
    "model_effb0.load_weights(filepath_eff)\n",
    "\n",
    "model_effb0.save(save_dir + '/effb0.h5')\n",
    "\n",
    "with open(save_dir + '/effb0_hist.pickle', 'wb') as handle:\n",
    "    pickle.dump(history_effb0.history, handle, protocol=pickle.HIGHEST_PROTOCOL)"
   ]
  },
  {
   "cell_type": "markdown",
   "id": "e5a37369",
   "metadata": {},
   "source": [
    "#### Unfreeze part of base model and retrain"
   ]
  },
  {
   "cell_type": "code",
   "execution_count": 101,
   "id": "e4aaad96",
   "metadata": {
    "ExecuteTime": {
     "end_time": "2022-02-26T14:01:44.950495Z",
     "start_time": "2022-02-26T14:01:44.929951Z"
    }
   },
   "outputs": [
    {
     "name": "stdout",
     "output_type": "stream",
     "text": [
      "Model: \"sequential\"\n",
      "_________________________________________________________________\n",
      "Layer (type)                 Output Shape              Param #   \n",
      "=================================================================\n",
      "efficientnetb0 (Functional)  (None, 8, 8, 1280)        4049571   \n",
      "_________________________________________________________________\n",
      "flatten (Flatten)            (None, 81920)             0         \n",
      "_________________________________________________________________\n",
      "dense (Dense)                (None, 256)               20971776  \n",
      "_________________________________________________________________\n",
      "dropout (Dropout)            (None, 256)               0         \n",
      "_________________________________________________________________\n",
      "dense_1 (Dense)              (None, 26)                6682      \n",
      "=================================================================\n",
      "Total params: 25,028,029\n",
      "Trainable params: 22,329,418\n",
      "Non-trainable params: 2,698,611\n",
      "_________________________________________________________________\n"
     ]
    }
   ],
   "source": [
    "effnetb0.trainable = True\n",
    "\n",
    "for layer in effnetb0.layers[:-20]:\n",
    "    layer.trainable = False\n",
    "for layer in effnetb0.layers[-20:]:\n",
    "    if not isinstance(layer, layers.BatchNormalization):\n",
    "        layer.trainable = True\n",
    "\n",
    "model_effb0.compile(loss='categorical_crossentropy',\n",
    "                    optimizer=optimizers.Adam(learning_rate=1e-5),\n",
    "                    metrics=['accuracy'])\n",
    "\n",
    "model_effb0.summary()"
   ]
  },
  {
   "cell_type": "code",
   "execution_count": 103,
   "id": "c2141ac3",
   "metadata": {
    "ExecuteTime": {
     "end_time": "2022-02-26T15:19:27.986615Z",
     "start_time": "2022-02-26T14:05:11.932203Z"
    }
   },
   "outputs": [
    {
     "name": "stdout",
     "output_type": "stream",
     "text": [
      "Epoch 1/4\n",
      "637/637 [==============================] - 1142s 2s/step - loss: 1.5856 - accuracy: 0.5432 - val_loss: 1.0753 - val_accuracy: 0.6478\n",
      "\n",
      "Epoch 00001: val_accuracy improved from -inf to 0.64776, saving model to ./savefiles/model_effb0.hdf5\n",
      "Epoch 2/4\n",
      "637/637 [==============================] - 1117s 2s/step - loss: 1.4995 - accuracy: 0.5636 - val_loss: 1.0008 - val_accuracy: 0.6745\n",
      "\n",
      "Epoch 00002: val_accuracy improved from 0.64776 to 0.67451, saving model to ./savefiles/model_effb0.hdf5\n",
      "Epoch 3/4\n",
      "637/637 [==============================] - 1087s 2s/step - loss: 1.4593 - accuracy: 0.5733 - val_loss: 0.9910 - val_accuracy: 0.6918\n",
      "\n",
      "Epoch 00003: val_accuracy improved from 0.67451 to 0.69185, saving model to ./savefiles/model_effb0.hdf5\n",
      "Epoch 4/4\n",
      "637/637 [==============================] - 1100s 2s/step - loss: 1.4314 - accuracy: 0.5797 - val_loss: 0.9713 - val_accuracy: 0.6996\n",
      "\n",
      "Epoch 00004: val_accuracy improved from 0.69185 to 0.69959, saving model to ./savefiles/model_effb0.hdf5\n",
      "CPU times: user 1h 9min 15s, sys: 5min 4s, total: 1h 14min 20s\n",
      "Wall time: 1h 14min 16s\n"
     ]
    }
   ],
   "source": [
    "%%time\n",
    "\n",
    "history_effb0 = model_effb0.fit(\n",
    "    unscaled_train_gen,\n",
    "    steps_per_epoch=steps_per_epoch,\n",
    "    epochs=epochs,\n",
    "    validation_data=unscaled_val_gen,\n",
    "    validation_steps=validation_steps,\n",
    "    callbacks=[checkpoint_eff]\n",
    ")"
   ]
  },
  {
   "cell_type": "code",
   "execution_count": 105,
   "id": "028e33d8",
   "metadata": {
    "ExecuteTime": {
     "end_time": "2022-02-26T15:22:26.685053Z",
     "start_time": "2022-02-26T15:22:23.954012Z"
    }
   },
   "outputs": [],
   "source": [
    "model_effb0.load_weights(filepath_eff)\n",
    "\n",
    "model_effb0.save(save_dir + '/effb0_ft.h5')\n",
    "\n",
    "with open(save_dir + '/effb0_hist_ft.pickle', 'wb') as handle:\n",
    "    pickle.dump(history_effb0.history, handle, protocol=pickle.HIGHEST_PROTOCOL)"
   ]
  },
  {
   "cell_type": "code",
   "execution_count": 106,
   "id": "9d975a01",
   "metadata": {
    "ExecuteTime": {
     "end_time": "2022-02-26T15:22:30.401973Z",
     "start_time": "2022-02-26T15:22:29.929966Z"
    }
   },
   "outputs": [
    {
     "data": {
      "image/png": "[encoded data removed]",
      "text/plain": [
       "<Figure size 1080x360 with 2 Axes>"
      ]
     },
     "metadata": {
      "needs_background": "light"
     },
     "output_type": "display_data"
    }
   ],
   "source": [
    "plot_results(history_effb0)"
   ]
  },
  {
   "cell_type": "markdown",
   "id": "7f3e5e00",
   "metadata": {},
   "source": [
    "### CoAtNet + Fine-Tuning"
   ]
  },
  {
   "cell_type": "code",
   "execution_count": 53,
   "id": "67e2c7fc",
   "metadata": {
    "ExecuteTime": {
     "end_time": "2022-02-26T08:26:20.876049Z",
     "start_time": "2022-02-26T08:26:15.577267Z"
    }
   },
   "outputs": [],
   "source": [
    "# !pip install -U keras-cv-attention-models\n",
    "import keras_cv_attention_models"
   ]
  },
  {
   "cell_type": "markdown",
   "id": "e3901a8d",
   "metadata": {},
   "source": [
    "#### Adjust model inputs to match CoAtNet weights"
   ]
  },
  {
   "cell_type": "code",
   "execution_count": 54,
   "id": "4940f58b",
   "metadata": {
    "ExecuteTime": {
     "end_time": "2022-02-26T08:26:35.042365Z",
     "start_time": "2022-02-26T08:26:20.883316Z"
    }
   },
   "outputs": [
    {
     "name": "stdout",
     "output_type": "stream",
     "text": [
      "Found 40827 validated image filenames belonging to 26 classes.\n",
      "Found 10206 validated image filenames belonging to 26 classes.\n"
     ]
    }
   ],
   "source": [
    "alt_target_size = 224\n",
    "\n",
    "alt_train_gen = (\n",
    "    train_datagen.\n",
    "    flow_from_dataframe(df_train,\n",
    "                        directory = os.path.join(work_dir, train_folder),\n",
    "                        subset=\"training\",\n",
    "                        x_col=img_col,\n",
    "                        y_col=target_col,\n",
    "                        color_mode='rgb',\n",
    "                        target_size=(alt_target_size, alt_target_size),\n",
    "                        batch_size=batch_size,\n",
    "                        class_mode=\"categorical\")\n",
    ")\n",
    "\n",
    "alt_val_gen = (\n",
    "    val_datagen.\n",
    "    flow_from_dataframe(df_train,\n",
    "                        directory=os.path.join(work_dir, train_folder),\n",
    "                        subset=\"validation\",\n",
    "                        color_mode='rgb',\n",
    "                        x_col=img_col,\n",
    "                        y_col=target_col,\n",
    "                        target_size=(alt_target_size, alt_target_size),\n",
    "                        batch_size=batch_size,\n",
    "                        class_mode=\"categorical\")\n",
    ")"
   ]
  },
  {
   "cell_type": "markdown",
   "id": "b9d74f32",
   "metadata": {},
   "source": [
    "#### Train top layer"
   ]
  },
  {
   "cell_type": "code",
   "execution_count": 55,
   "id": "bce75dd9",
   "metadata": {
    "ExecuteTime": {
     "end_time": "2022-02-26T08:26:35.091901Z",
     "start_time": "2022-02-26T08:26:35.044722Z"
    }
   },
   "outputs": [],
   "source": [
    "tf.keras.backend.clear_session()"
   ]
  },
  {
   "cell_type": "code",
   "execution_count": 56,
   "id": "8cfcba25",
   "metadata": {
    "ExecuteTime": {
     "end_time": "2022-02-26T08:26:39.545003Z",
     "start_time": "2022-02-26T08:26:35.097588Z"
    }
   },
   "outputs": [
    {
     "name": "stdout",
     "output_type": "stream",
     "text": [
      ">>>> Load pretrained from: /home/msds2022/nlapid/.keras/models/coatnet0_224_imagenet.h5\n",
      "Model: \"sequential\"\n",
      "_________________________________________________________________\n",
      "Layer (type)                 Output Shape              Param #   \n",
      "=================================================================\n",
      "coatnet0 (Functional)        (None, 7, 7, 768)         23075178  \n",
      "_________________________________________________________________\n",
      "flatten (Flatten)            (None, 37632)             0         \n",
      "_________________________________________________________________\n",
      "dense (Dense)                (None, 256)               9634048   \n",
      "_________________________________________________________________\n",
      "dropout (Dropout)            (None, 256)               0         \n",
      "_________________________________________________________________\n",
      "dense_1 (Dense)              (None, 26)                6682      \n",
      "=================================================================\n",
      "Total params: 32,715,908\n",
      "Trainable params: 9,640,730\n",
      "Non-trainable params: 23,075,178\n",
      "_________________________________________________________________\n"
     ]
    }
   ],
   "source": [
    "coatnet0 = keras_cv_attention_models.coatnet.CoAtNet0(\n",
    "    num_classes=0,\n",
    "    input_shape=(alt_target_size, alt_target_size, 3))\n",
    "\n",
    "coatnet0.trainable = False\n",
    "\n",
    "model_coat0 = models.Sequential()\n",
    "\n",
    "model_coat0.add(coatnet0)\n",
    "model_coat0.add(layers.Flatten())\n",
    "model_coat0.add(layers.Dense(256, activation=\"relu\"))\n",
    "model_coat0.add(layers.Dropout(0.6))\n",
    "model_coat0.add(layers.Dense(num_classes, activation='softmax'))\n",
    "\n",
    "model_coat0.summary()\n",
    "\n",
    "model_coat0.compile(loss='categorical_crossentropy',\n",
    "                   optimizer=\"adam\",\n",
    "                   metrics=['accuracy'])"
   ]
  },
  {
   "cell_type": "code",
   "execution_count": 57,
   "id": "973faf21",
   "metadata": {
    "ExecuteTime": {
     "end_time": "2022-02-26T10:10:32.148479Z",
     "start_time": "2022-02-26T08:26:39.547464Z"
    }
   },
   "outputs": [
    {
     "name": "stdout",
     "output_type": "stream",
     "text": [
      "Epoch 1/4\n",
      "637/637 [==============================] - 1536s 2s/step - loss: 2.1955 - accuracy: 0.4557 - val_loss: 1.2045 - val_accuracy: 0.6204\n",
      "\n",
      "Epoch 00001: val_accuracy improved from -inf to 0.62042, saving model to ./savefiles/model_coat0.hdf5\n",
      "Epoch 2/4\n",
      "637/637 [==============================] - 1521s 2s/step - loss: 1.7330 - accuracy: 0.5098 - val_loss: 1.1471 - val_accuracy: 0.6239\n",
      "\n",
      "Epoch 00002: val_accuracy improved from 0.62042 to 0.62395, saving model to ./savefiles/model_coat0.hdf5\n",
      "Epoch 3/4\n",
      "637/637 [==============================] - 1524s 2s/step - loss: 1.6252 - accuracy: 0.5244 - val_loss: 1.0837 - val_accuracy: 0.6318\n",
      "\n",
      "Epoch 00003: val_accuracy improved from 0.62395 to 0.63179, saving model to ./savefiles/model_coat0.hdf5\n",
      "Epoch 4/4\n",
      "637/637 [==============================] - 1531s 2s/step - loss: 1.5472 - accuracy: 0.5337 - val_loss: 1.0859 - val_accuracy: 0.6228\n",
      "\n",
      "Epoch 00004: val_accuracy did not improve from 0.63179\n",
      "CPU times: user 1h 35min 48s, sys: 5min 23s, total: 1h 41min 12s\n",
      "Wall time: 1h 43min 52s\n"
     ]
    }
   ],
   "source": [
    "%%time\n",
    "\n",
    "filepath_coat = save_dir + \"/model_coat0.hdf5\"\n",
    "checkpoint_coat = ModelCheckpoint(filepath_coat, monitor='val_accuracy',\n",
    "                             verbose=1, save_best_only=True, mode='max')\n",
    "\n",
    "history_coat0 = model_coat0.fit(\n",
    "    alt_train_gen,\n",
    "    steps_per_epoch=steps_per_epoch,\n",
    "    epochs=epochs,\n",
    "    validation_data=alt_val_gen,\n",
    "    validation_steps=validation_steps,\n",
    "    callbacks=[checkpoint_coat]\n",
    ")"
   ]
  },
  {
   "cell_type": "code",
   "execution_count": 58,
   "id": "f446c846",
   "metadata": {
    "ExecuteTime": {
     "end_time": "2022-02-26T10:10:34.128692Z",
     "start_time": "2022-02-26T10:10:32.152451Z"
    }
   },
   "outputs": [],
   "source": [
    "model_coat0.load_weights(filepath_coat)\n",
    "\n",
    "model_coat0.save(save_dir + '/coat0.h5')\n",
    "\n",
    "with open(save_dir + '/coat0_hist.pickle', 'wb') as handle:\n",
    "    pickle.dump(history_coat0.history, handle, protocol=pickle.HIGHEST_PROTOCOL)"
   ]
  },
  {
   "cell_type": "markdown",
   "id": "6e686909",
   "metadata": {},
   "source": [
    "#### Unfreeze part of base model and retrain"
   ]
  },
  {
   "cell_type": "code",
   "execution_count": 120,
   "id": "eb0a659a",
   "metadata": {
    "ExecuteTime": {
     "end_time": "2022-02-26T16:39:37.844874Z",
     "start_time": "2022-02-26T16:39:34.058650Z"
    }
   },
   "outputs": [
    {
     "name": "stdout",
     "output_type": "stream",
     "text": [
      "Model: \"sequential\"\n",
      "_________________________________________________________________\n",
      "Layer (type)                 Output Shape              Param #   \n",
      "=================================================================\n",
      "coatnet0 (Functional)        (None, 7, 7, 768)         23075178  \n",
      "_________________________________________________________________\n",
      "flatten (Flatten)            (None, 37632)             0         \n",
      "_________________________________________________________________\n",
      "dense (Dense)                (None, 256)               9634048   \n",
      "_________________________________________________________________\n",
      "dropout (Dropout)            (None, 256)               0         \n",
      "_________________________________________________________________\n",
      "dense_1 (Dense)              (None, 26)                6682      \n",
      "=================================================================\n",
      "Total params: 32,715,908\n",
      "Trainable params: 14,950,682\n",
      "Non-trainable params: 17,765,226\n",
      "_________________________________________________________________\n"
     ]
    }
   ],
   "source": [
    "coatnet0.trainable = True\n",
    "\n",
    "\n",
    "for layer in coatnet0.layers[:-7]:\n",
    "    layer.trainable = False\n",
    "for layer in coatnet0.layers[-7:]:\n",
    "    if not isinstance(layer, layers.BatchNormalization):\n",
    "        layer.trainable = True\n",
    "        \n",
    "model_coat0.compile(loss='categorical_crossentropy',\n",
    "                    optimizer=optimizers.Adam(learning_rate=1e-5),\n",
    "                    metrics=['accuracy'])\n",
    "\n",
    "model_coat0.summary()"
   ]
  },
  {
   "cell_type": "code",
   "execution_count": 121,
   "id": "6eeb94e7",
   "metadata": {
    "ExecuteTime": {
     "end_time": "2022-02-26T17:44:08.881093Z",
     "start_time": "2022-02-26T16:40:43.708403Z"
    }
   },
   "outputs": [
    {
     "name": "stdout",
     "output_type": "stream",
     "text": [
      "Epoch 1/4\n",
      "637/637 [==============================] - 923s 1s/step - loss: 1.5093 - accuracy: 0.5453 - val_loss: 1.0558 - val_accuracy: 0.6326\n",
      "\n",
      "Epoch 00001: val_accuracy improved from -inf to 0.63257, saving model to ./savefiles/model_coat0.hdf5\n",
      "Epoch 2/4\n",
      "637/637 [==============================] - 1046s 2s/step - loss: 1.4796 - accuracy: 0.5513 - val_loss: 1.0388 - val_accuracy: 0.6374\n",
      "\n",
      "Epoch 00002: val_accuracy improved from 0.63257 to 0.63737, saving model to ./savefiles/model_coat0.hdf5\n",
      "Epoch 3/4\n",
      "637/637 [==============================] - 940s 1s/step - loss: 1.4521 - accuracy: 0.5565 - val_loss: 1.0402 - val_accuracy: 0.6365\n",
      "\n",
      "Epoch 00003: val_accuracy did not improve from 0.63737\n",
      "Epoch 4/4\n",
      "637/637 [==============================] - 889s 1s/step - loss: 1.4314 - accuracy: 0.5630 - val_loss: 1.0313 - val_accuracy: 0.6406\n",
      "\n",
      "Epoch 00004: val_accuracy improved from 0.63737 to 0.64060, saving model to ./savefiles/model_coat0.hdf5\n",
      "CPU times: user 59min 26s, sys: 4min 17s, total: 1h 3min 43s\n",
      "Wall time: 1h 3min 25s\n"
     ]
    }
   ],
   "source": [
    "%%time\n",
    "\n",
    "\n",
    "history_coat0 = model_coat0.fit(\n",
    "    alt_train_gen,\n",
    "    steps_per_epoch=steps_per_epoch,\n",
    "    epochs=epochs,\n",
    "    validation_data=alt_val_gen,\n",
    "    validation_steps=validation_steps,\n",
    "    callbacks=[checkpoint_coat]\n",
    ")"
   ]
  },
  {
   "cell_type": "code",
   "execution_count": 122,
   "id": "e5888299",
   "metadata": {
    "ExecuteTime": {
     "end_time": "2022-02-26T17:44:10.671412Z",
     "start_time": "2022-02-26T17:44:08.884974Z"
    }
   },
   "outputs": [],
   "source": [
    "model_coat0.load_weights(filepath_coat)\n",
    "\n",
    "model_coat0.save(save_dir + '/coat0_ft.h5')\n",
    "\n",
    "with open(save_dir + '/coat0_hist_ft.pickle', 'wb') as handle:\n",
    "    pickle.dump(history_coat0.history, handle, protocol=pickle.HIGHEST_PROTOCOL)"
   ]
  },
  {
   "cell_type": "code",
   "execution_count": null,
   "id": "f718469b",
   "metadata": {
    "ExecuteTime": {
     "end_time": "2022-02-26T13:19:30.725884Z",
     "start_time": "2022-02-26T13:19:30.725854Z"
    }
   },
   "outputs": [],
   "source": [
    "plot_results(history_coat0)"
   ]
  },
  {
   "cell_type": "markdown",
   "id": "5ce67dba",
   "metadata": {},
   "source": [
    "### LeViT + Fine-Tuning"
   ]
  },
  {
   "cell_type": "code",
   "execution_count": 59,
   "id": "261efc4f",
   "metadata": {
    "ExecuteTime": {
     "end_time": "2022-02-26T10:10:34.184636Z",
     "start_time": "2022-02-26T10:10:34.138958Z"
    }
   },
   "outputs": [],
   "source": [
    "tf.keras.backend.clear_session()"
   ]
  },
  {
   "cell_type": "markdown",
   "id": "7bb1ce9a",
   "metadata": {},
   "source": [
    "#### Train top layer"
   ]
  },
  {
   "cell_type": "code",
   "execution_count": 60,
   "id": "3d6df5ae",
   "metadata": {
    "ExecuteTime": {
     "end_time": "2022-02-26T10:10:43.000440Z",
     "start_time": "2022-02-26T10:10:34.190530Z"
    }
   },
   "outputs": [
    {
     "name": "stdout",
     "output_type": "stream",
     "text": [
      ">>>> Load pretrained from: /home/msds2022/nlapid/.keras/models/levit128_imagenet.h5\n",
      "Model: \"sequential\"\n",
      "_________________________________________________________________\n",
      "Layer (type)                 Output Shape              Param #   \n",
      "=================================================================\n",
      "levit128 (Functional)        (None, 16, 384)           8489472   \n",
      "_________________________________________________________________\n",
      "flatten (Flatten)            (None, 6144)              0         \n",
      "_________________________________________________________________\n",
      "dense (Dense)                (None, 256)               1573120   \n",
      "_________________________________________________________________\n",
      "dropout (Dropout)            (None, 256)               0         \n",
      "_________________________________________________________________\n",
      "dense_1 (Dense)              (None, 26)                6682      \n",
      "=================================================================\n",
      "Total params: 10,069,274\n",
      "Trainable params: 1,579,802\n",
      "Non-trainable params: 8,489,472\n",
      "_________________________________________________________________\n"
     ]
    }
   ],
   "source": [
    "levit192 = keras_cv_attention_models.levit.LeViT128(\n",
    "    num_classes=0,\n",
    "    input_shape=(alt_target_size, alt_target_size, 3))\n",
    "\n",
    "levit192.trainable = False\n",
    "\n",
    "model_levit = models.Sequential()\n",
    "\n",
    "model_levit.add(levit192)\n",
    "model_levit.add(layers.Flatten())\n",
    "model_levit.add(layers.Dense(256, activation=\"relu\"))\n",
    "model_levit.add(layers.Dropout(0.6))\n",
    "model_levit.add(layers.Dense(num_classes, activation='softmax'))\n",
    "\n",
    "model_levit.summary()\n",
    "\n",
    "model_levit.compile(loss='categorical_crossentropy',\n",
    "                   optimizer=\"adam\",\n",
    "                   metrics=['accuracy'])"
   ]
  },
  {
   "cell_type": "code",
   "execution_count": 61,
   "id": "44f0ffaa",
   "metadata": {
    "ExecuteTime": {
     "end_time": "2022-02-26T11:14:58.383068Z",
     "start_time": "2022-02-26T10:10:43.003910Z"
    }
   },
   "outputs": [
    {
     "name": "stdout",
     "output_type": "stream",
     "text": [
      "Epoch 1/4\n",
      "637/637 [==============================] - 1311s 2s/step - loss: 2.1482 - accuracy: 0.4920 - val_loss: 1.1756 - val_accuracy: 0.6484\n",
      "\n",
      "Epoch 00001: val_accuracy improved from -inf to 0.64844, saving model to ./savefiles/model_levit.hdf5\n",
      "Epoch 2/4\n",
      "637/637 [==============================] - 830s 1s/step - loss: 1.5523 - accuracy: 0.5725 - val_loss: 1.0507 - val_accuracy: 0.6656\n",
      "\n",
      "Epoch 00002: val_accuracy improved from 0.64844 to 0.66559, saving model to ./savefiles/model_levit.hdf5\n",
      "Epoch 3/4\n",
      "637/637 [==============================] - 863s 1s/step - loss: 1.3950 - accuracy: 0.6067 - val_loss: 0.9770 - val_accuracy: 0.6977\n",
      "\n",
      "Epoch 00003: val_accuracy improved from 0.66559 to 0.69773, saving model to ./savefiles/model_levit.hdf5\n",
      "Epoch 4/4\n",
      "637/637 [==============================] - 847s 1s/step - loss: 1.3329 - accuracy: 0.6159 - val_loss: 0.9202 - val_accuracy: 0.7052\n",
      "\n",
      "Epoch 00004: val_accuracy improved from 0.69773 to 0.70517, saving model to ./savefiles/model_levit.hdf5\n",
      "CPU times: user 1h 3min 4s, sys: 4min 16s, total: 1h 7min 21s\n",
      "Wall time: 1h 4min 15s\n"
     ]
    }
   ],
   "source": [
    "%%time\n",
    "\n",
    "filepath_lev = save_dir + \"/model_levit.hdf5\"\n",
    "checkpoint_lev = ModelCheckpoint(filepath_lev, monitor='val_accuracy',\n",
    "                             verbose=1, save_best_only=True, mode='max')\n",
    "\n",
    "history_levit = model_levit.fit(\n",
    "    alt_train_gen,\n",
    "    steps_per_epoch=steps_per_epoch,\n",
    "    epochs=epochs,\n",
    "    validation_data=alt_val_gen,\n",
    "    validation_steps=validation_steps,\n",
    "    callbacks=[checkpoint_lev]\n",
    ")"
   ]
  },
  {
   "cell_type": "code",
   "execution_count": 62,
   "id": "0585955f",
   "metadata": {
    "ExecuteTime": {
     "end_time": "2022-02-26T11:15:07.640310Z",
     "start_time": "2022-02-26T11:14:58.386687Z"
    }
   },
   "outputs": [],
   "source": [
    "model_levit.load_weights(filepath_lev)\n",
    "\n",
    "model_levit.save(save_dir + '/levit.h5')\n",
    "\n",
    "with open(save_dir + '/levit_hist.pickle', 'wb') as handle:\n",
    "    pickle.dump(history_levit.history, handle, protocol=pickle.HIGHEST_PROTOCOL)"
   ]
  },
  {
   "cell_type": "markdown",
   "id": "6da09fe5",
   "metadata": {},
   "source": [
    "#### Unfreeze part of base model and retrain"
   ]
  },
  {
   "cell_type": "code",
   "execution_count": 115,
   "id": "92b2568d",
   "metadata": {
    "ExecuteTime": {
     "end_time": "2022-02-26T15:24:59.516977Z",
     "start_time": "2022-02-26T15:24:59.428060Z"
    }
   },
   "outputs": [
    {
     "name": "stdout",
     "output_type": "stream",
     "text": [
      "Model: \"sequential\"\n",
      "_________________________________________________________________\n",
      "Layer (type)                 Output Shape              Param #   \n",
      "=================================================================\n",
      "levit128 (Functional)        (None, 16, 384)           8489472   \n",
      "_________________________________________________________________\n",
      "flatten (Flatten)            (None, 6144)              0         \n",
      "_________________________________________________________________\n",
      "dense (Dense)                (None, 256)               1573120   \n",
      "_________________________________________________________________\n",
      "dropout (Dropout)            (None, 256)               0         \n",
      "_________________________________________________________________\n",
      "dense_1 (Dense)              (None, 26)                6682      \n",
      "=================================================================\n",
      "Total params: 10,069,274\n",
      "Trainable params: 2,171,930\n",
      "Non-trainable params: 7,897,344\n",
      "_________________________________________________________________\n"
     ]
    }
   ],
   "source": [
    "levit192.trainable = True\n",
    "\n",
    "for layer in levit192.layers[:-8]:\n",
    "    layer.trainable = False\n",
    "for layer in levit192.layers[-8:]:\n",
    "    if not isinstance(layer, layers.BatchNormalization):\n",
    "        layer.trainable = True\n",
    "\n",
    "model_levit.compile(loss='categorical_crossentropy',\n",
    "                    optimizer=optimizers.Adam(learning_rate=1e-5),\n",
    "                    metrics=['accuracy'])\n",
    "\n",
    "model_levit.summary()"
   ]
  },
  {
   "cell_type": "code",
   "execution_count": 117,
   "id": "9fdd59eb",
   "metadata": {
    "ExecuteTime": {
     "end_time": "2022-02-26T16:36:30.895196Z",
     "start_time": "2022-02-26T15:26:07.368629Z"
    }
   },
   "outputs": [
    {
     "name": "stdout",
     "output_type": "stream",
     "text": [
      "Epoch 1/4\n",
      "637/637 [==============================] - 935s 1s/step - loss: 1.3234 - accuracy: 0.6242 - val_loss: 0.9673 - val_accuracy: 0.6886\n",
      "\n",
      "Epoch 00001: val_accuracy did not improve from 0.70517\n",
      "Epoch 2/4\n",
      "637/637 [==============================] - 906s 1s/step - loss: 1.2779 - accuracy: 0.6337 - val_loss: 0.9448 - val_accuracy: 0.6965\n",
      "\n",
      "Epoch 00002: val_accuracy did not improve from 0.70517\n",
      "Epoch 3/4\n",
      "637/637 [==============================] - 1403s 2s/step - loss: 1.2498 - accuracy: 0.6394 - val_loss: 0.9280 - val_accuracy: 0.7026\n",
      "\n",
      "Epoch 00003: val_accuracy did not improve from 0.70517\n",
      "Epoch 4/4\n",
      "637/637 [==============================] - 978s 2s/step - loss: 1.2323 - accuracy: 0.6419 - val_loss: 0.9064 - val_accuracy: 0.7094\n",
      "\n",
      "Epoch 00004: val_accuracy improved from 0.70517 to 0.70939, saving model to ./savefiles/model_levit.hdf5\n",
      "CPU times: user 1h 55s, sys: 4min 15s, total: 1h 5min 10s\n",
      "Wall time: 1h 10min 23s\n"
     ]
    }
   ],
   "source": [
    "%%time\n",
    "\n",
    "\n",
    "history_levit = model_levit.fit(\n",
    "    alt_train_gen,\n",
    "    steps_per_epoch=steps_per_epoch,\n",
    "    epochs=epochs,\n",
    "    validation_data=alt_val_gen,\n",
    "    validation_steps=validation_steps,\n",
    "    callbacks=[checkpoint_lev]\n",
    ")"
   ]
  },
  {
   "cell_type": "code",
   "execution_count": 118,
   "id": "4d0e0e0a",
   "metadata": {
    "ExecuteTime": {
     "end_time": "2022-02-26T16:36:32.059189Z",
     "start_time": "2022-02-26T16:36:30.903312Z"
    }
   },
   "outputs": [],
   "source": [
    "model_levit.load_weights(filepath_lev)\n",
    "\n",
    "model_levit.save(save_dir + '/levit_ft.h5')\n",
    "\n",
    "with open(save_dir + '/levit_hist_ft.pickle', 'wb') as handle:\n",
    "    pickle.dump(history_levit.history, handle, protocol=pickle.HIGHEST_PROTOCOL)"
   ]
  },
  {
   "cell_type": "code",
   "execution_count": 119,
   "id": "50045447",
   "metadata": {
    "ExecuteTime": {
     "end_time": "2022-02-26T16:36:32.605897Z",
     "start_time": "2022-02-26T16:36:32.061837Z"
    }
   },
   "outputs": [
    {
     "data": {
      "image/png": "[encoded data removed]",
      "text/plain": [
       "<Figure size 1080x360 with 2 Axes>"
      ]
     },
     "metadata": {
      "needs_background": "light"
     },
     "output_type": "display_data"
    }
   ],
   "source": [
    "plot_results(history_levit)"
   ]
  },
  {
   "cell_type": "markdown",
   "id": "ff852a65",
   "metadata": {},
   "source": [
    "### Inception V3"
   ]
  },
  {
   "cell_type": "code",
   "execution_count": 123,
   "id": "4f342bc0",
   "metadata": {
    "ExecuteTime": {
     "end_time": "2022-02-26T18:16:19.830427Z",
     "start_time": "2022-02-26T18:16:19.825941Z"
    }
   },
   "outputs": [],
   "source": [
    "more_epochs = 10"
   ]
  },
  {
   "cell_type": "code",
   "execution_count": 124,
   "id": "621551dd",
   "metadata": {
    "ExecuteTime": {
     "end_time": "2022-02-26T18:16:22.401272Z",
     "start_time": "2022-02-26T18:16:22.149757Z"
    }
   },
   "outputs": [],
   "source": [
    "tf.keras.backend.clear_session()"
   ]
  },
  {
   "cell_type": "markdown",
   "id": "c55a6591",
   "metadata": {},
   "source": [
    "#### Training"
   ]
  },
  {
   "cell_type": "code",
   "execution_count": 125,
   "id": "20494db8",
   "metadata": {
    "ExecuteTime": {
     "end_time": "2022-02-26T18:16:36.097248Z",
     "start_time": "2022-02-26T18:16:32.681114Z"
    }
   },
   "outputs": [
    {
     "name": "stdout",
     "output_type": "stream",
     "text": [
      "Model: \"sequential\"\n",
      "_________________________________________________________________\n",
      "Layer (type)                 Output Shape              Param #   \n",
      "=================================================================\n",
      "lambda (Lambda)              (None, 256, 256, 3)       0         \n",
      "_________________________________________________________________\n",
      "inception_v3 (Functional)    (None, None, None, 2048)  21802784  \n",
      "_________________________________________________________________\n",
      "max_pooling2d_4 (MaxPooling2 (None, 3, 3, 2048)        0         \n",
      "_________________________________________________________________\n",
      "flatten (Flatten)            (None, 18432)             0         \n",
      "_________________________________________________________________\n",
      "dense (Dense)                (None, 256)               4718848   \n",
      "_________________________________________________________________\n",
      "dropout (Dropout)            (None, 256)               0         \n",
      "_________________________________________________________________\n",
      "dense_1 (Dense)              (None, 26)                6682      \n",
      "=================================================================\n",
      "Total params: 26,528,314\n",
      "Trainable params: 15,840,410\n",
      "Non-trainable params: 10,687,904\n",
      "_________________________________________________________________\n"
     ]
    }
   ],
   "source": [
    "inception_v3_base = tf.keras.applications.InceptionV3(\n",
    "    include_top=False,\n",
    "    weights = \"imagenet\")\n",
    "\n",
    "for layer in inception_v3_base.layers[:249]:\n",
    "    layer.trainable = False\n",
    "for layer in inception_v3_base.layers[249:]:\n",
    "    layer.trainable = True\n",
    "\n",
    "\n",
    "model_inv3_main = models.Sequential()\n",
    "model_inv3_main.add(layers.Lambda(preprocess_inception_v3,\n",
    "                             input_shape=(target_size, target_size, 3)))\n",
    "model_inv3_main.add(inception_v3_base)\n",
    "model_inv3_main.add(layers.MaxPooling2D(pool_size=(2, 2)))\n",
    "model_inv3_main.add(layers.Flatten())\n",
    "model_inv3_main.add(layers.Dense(256, activation=\"relu\"))\n",
    "model_inv3_main.add(layers.Dropout(0.6))\n",
    "model_inv3_main.add(layers.Dense(num_classes, activation='softmax'))\n",
    "\n",
    "model_inv3_main.summary()"
   ]
  },
  {
   "cell_type": "code",
   "execution_count": 126,
   "id": "24640d21",
   "metadata": {
    "ExecuteTime": {
     "end_time": "2022-02-26T18:17:10.950491Z",
     "start_time": "2022-02-26T18:17:10.898366Z"
    }
   },
   "outputs": [],
   "source": [
    "metrics = [tf.keras.metrics.CategoricalAccuracy(name=\"accuracy\"),\n",
    "           tf.keras.metrics.TopKCategoricalAccuracy(5, name=\"top_5_acc\"),\n",
    "           tf.keras.metrics.Precision(top_k=5, name=\"top_5_map\")]\n",
    "\n",
    "model_inv3_main.compile(loss='categorical_crossentropy',\n",
    "                         optimizer=optimizers.Adam(),\n",
    "                         metrics=metrics)"
   ]
  },
  {
   "cell_type": "code",
   "execution_count": 128,
   "id": "90c979c7",
   "metadata": {
    "ExecuteTime": {
     "end_time": "2022-02-26T21:16:52.104107Z",
     "start_time": "2022-02-26T18:20:37.255102Z"
    }
   },
   "outputs": [
    {
     "name": "stdout",
     "output_type": "stream",
     "text": [
      "Epoch 1/10\n",
      "637/637 [==============================] - 1083s 2s/step - loss: 1.3080 - accuracy: 0.6628 - top_5_acc: 0.8821 - top_5_map: 0.1764 - val_loss: 0.6702 - val_accuracy: 0.8184 - val_top_5_acc: 0.9615 - val_top_5_map: 0.1923\n",
      "\n",
      "Epoch 00001: val_accuracy improved from -inf to 0.81844, saving model to ./savefiles/inv3_main_wts.hdf5\n",
      "Epoch 2/10\n",
      "637/637 [==============================] - 1011s 2s/step - loss: 0.7614 - accuracy: 0.7882 - top_5_acc: 0.9516 - top_5_map: 0.1903 - val_loss: 0.5088 - val_accuracy: 0.8587 - val_top_5_acc: 0.9756 - val_top_5_map: 0.1951\n",
      "\n",
      "Epoch 00002: val_accuracy improved from 0.81844 to 0.85871, saving model to ./savefiles/inv3_main_wts.hdf5\n",
      "Epoch 3/10\n",
      "637/637 [==============================] - 1007s 2s/step - loss: 0.6358 - accuracy: 0.8212 - top_5_acc: 0.9646 - top_5_map: 0.1929 - val_loss: 0.4205 - val_accuracy: 0.8768 - val_top_5_acc: 0.9816 - val_top_5_map: 0.1963\n",
      "\n",
      "Epoch 00003: val_accuracy improved from 0.85871 to 0.87684, saving model to ./savefiles/inv3_main_wts.hdf5\n",
      "Epoch 4/10\n",
      "637/637 [==============================] - 1077s 2s/step - loss: 0.5647 - accuracy: 0.8444 - top_5_acc: 0.9698 - top_5_map: 0.1940 - val_loss: 0.4971 - val_accuracy: 0.8622 - val_top_5_acc: 0.9791 - val_top_5_map: 0.1958\n",
      "\n",
      "Epoch 00004: val_accuracy did not improve from 0.87684\n",
      "Epoch 5/10\n",
      "637/637 [==============================] - 1065s 2s/step - loss: 0.5016 - accuracy: 0.8602 - top_5_acc: 0.9758 - top_5_map: 0.1952 - val_loss: 0.3825 - val_accuracy: 0.8880 - val_top_5_acc: 0.9852 - val_top_5_map: 0.1970\n",
      "\n",
      "Epoch 00005: val_accuracy improved from 0.87684 to 0.88801, saving model to ./savefiles/inv3_main_wts.hdf5\n",
      "Epoch 6/10\n",
      "637/637 [==============================] - 1080s 2s/step - loss: 0.4633 - accuracy: 0.8715 - top_5_acc: 0.9788 - top_5_map: 0.1958 - val_loss: 0.3927 - val_accuracy: 0.8852 - val_top_5_acc: 0.9864 - val_top_5_map: 0.1973\n",
      "\n",
      "Epoch 00006: val_accuracy did not improve from 0.88801\n",
      "Epoch 7/10\n",
      "637/637 [==============================] - 1099s 2s/step - loss: 0.4389 - accuracy: 0.8762 - top_5_acc: 0.9808 - top_5_map: 0.1962 - val_loss: 0.4435 - val_accuracy: 0.8789 - val_top_5_acc: 0.9837 - val_top_5_map: 0.1967\n",
      "\n",
      "Epoch 00007: val_accuracy did not improve from 0.88801\n",
      "\n",
      "Epoch 00007: ReduceLROnPlateau reducing learning rate to 0.00020000000949949026.\n",
      "Epoch 8/10\n",
      "637/637 [==============================] - 1107s 2s/step - loss: 0.3550 - accuracy: 0.8980 - top_5_acc: 0.9861 - top_5_map: 0.1972 - val_loss: 0.2723 - val_accuracy: 0.9204 - val_top_5_acc: 0.9905 - val_top_5_map: 0.1981\n",
      "\n",
      "Epoch 00008: val_accuracy improved from 0.88801 to 0.92044, saving model to ./savefiles/inv3_main_wts.hdf5\n",
      "Epoch 9/10\n",
      "637/637 [==============================] - 1014s 2s/step - loss: 0.3163 - accuracy: 0.9105 - top_5_acc: 0.9880 - top_5_map: 0.1976 - val_loss: 0.2616 - val_accuracy: 0.9237 - val_top_5_acc: 0.9916 - val_top_5_map: 0.1983\n",
      "\n",
      "Epoch 00009: val_accuracy improved from 0.92044 to 0.92367, saving model to ./savefiles/inv3_main_wts.hdf5\n",
      "Epoch 10/10\n",
      "637/637 [==============================] - 1016s 2s/step - loss: 0.2987 - accuracy: 0.9152 - top_5_acc: 0.9881 - top_5_map: 0.1976 - val_loss: 0.2575 - val_accuracy: 0.9268 - val_top_5_acc: 0.9916 - val_top_5_map: 0.1983\n",
      "\n",
      "Epoch 00010: val_accuracy improved from 0.92367 to 0.92681, saving model to ./savefiles/inv3_main_wts.hdf5\n",
      "CPU times: user 2h 49min 34s, sys: 12min 6s, total: 3h 1min 41s\n",
      "Wall time: 2h 56min 14s\n"
     ]
    }
   ],
   "source": [
    "%%time\n",
    "\n",
    "filepath_inv3b = save_dir + \"/inv3_main_wts.hdf5\"\n",
    "checkpoint_inv3b = ModelCheckpoint(filepath_inv3b, monitor='val_accuracy',\n",
    "                             verbose=1, save_best_only=True, mode='max')\n",
    "earlystop_inv3b = EarlyStopping(monitor='val_accuracy', patience=3, verbose=1)\n",
    "reduce_lr_inv3b = ReduceLROnPlateau(monitor='val_loss', factor=0.2,\n",
    "                              patience=2, min_lr=0.00001, verbose=1)\n",
    "\n",
    "history_inv3_main = model_inv3_main.fit(\n",
    "    unscaled_train_gen,\n",
    "    steps_per_epoch=steps_per_epoch,\n",
    "    epochs=more_epochs,\n",
    "    validation_data=unscaled_val_gen,\n",
    "    validation_steps=validation_steps,\n",
    "    callbacks=[checkpoint_inv3b, earlystop_inv3b, reduce_lr_inv3b]\n",
    ")"
   ]
  },
  {
   "cell_type": "code",
   "execution_count": 130,
   "id": "c782d44c",
   "metadata": {
    "ExecuteTime": {
     "end_time": "2022-02-27T02:03:06.486027Z",
     "start_time": "2022-02-27T02:03:06.469293Z"
    }
   },
   "outputs": [],
   "source": [
    "model_inv3_main.load_weights(filepath_inv3b)\n",
    "\n",
    "model_inv3_main.save(save_dir + '/inv3_main.h5')\n",
    "\n",
    "with open(save_dir + '/inv3_hist_main.pickle', 'wb') as handle:\n",
    "    pickle.dump(history_inv3_main.history, handle,\n",
    "                protocol=pickle.HIGHEST_PROTOCOL)"
   ]
  },
  {
   "cell_type": "code",
   "execution_count": 146,
   "id": "00efebb6",
   "metadata": {
    "ExecuteTime": {
     "end_time": "2022-02-27T08:15:21.276688Z",
     "start_time": "2022-02-27T08:15:21.251894Z"
    }
   },
   "outputs": [],
   "source": [
    "def plot_results_v2(history):\n",
    "    fig, ax = plt.subplots(2, 2, figsize=(15, 10))\n",
    "\n",
    "    # plot accuracy \n",
    "    acc = history.history['accuracy']\n",
    "    val_acc = history.history['val_accuracy']\n",
    "    epochs = range(1, len(acc) + 1)\n",
    "\n",
    "    ax[0, 0].plot(epochs, acc, 'ko', label='Training Accuracy')\n",
    "    ax[0, 0].plot(epochs, val_acc, 'k', label='Validation Accuracy')\n",
    "    ax[0, 0].set_title('Training and Validation Categorical Accuracy')\n",
    "    ax[0, 0].set_xlabel('Epochs')\n",
    "    ax[0, 0].legend()\n",
    "\n",
    "    # plot Top-5 Accuracy\n",
    "    top_5_acc = history.history['top_5_acc']\n",
    "    val_top_5_acc = history.history['val_top_5_acc']\n",
    "\n",
    "    ax[1, 0].plot(epochs, top_5_acc, 'ko', label='Training Top-5 Accuracy')\n",
    "    ax[1, 0].plot(epochs, val_top_5_acc, 'k', label='Validation Top-5 Accuracy')\n",
    "    ax[1, 0].set_title('Training and Validation Top-5 Accuracy')\n",
    "    ax[1, 0].set_xlabel('Epochs')\n",
    "    ax[1, 0].legend()\n",
    "\n",
    "    # plot Top-5 MAP\n",
    "    top_5_map = history.history['top_5_map']\n",
    "    val_top_5_map = history.history['val_top_5_map']\n",
    "\n",
    "    ax[0, 1].plot(epochs, top_5_map, 'ko', label=\"Training Top-5 MAP\")\n",
    "    ax[0, 1].plot(epochs, val_top_5_map, 'k', label=\"Validation Top-5 MAP\")\n",
    "    ax[0, 1].set_title(\"Training and Validation Top-5 MAP\")\n",
    "    ax[0, 1].set_xlabel('Epochs')\n",
    "    ax[0, 1].legend()\n",
    "\n",
    "    # plot loss\n",
    "    loss = history.history['loss']\n",
    "    val_loss = history.history['val_loss']\n",
    "\n",
    "    ax[1, 1].plot(epochs, loss, 'ro', label='Training loss')\n",
    "    ax[1, 1].plot(epochs, val_loss, 'r', label='Validation loss')\n",
    "    ax[1, 1].set_title('Training and Validation Categorical Cross-Entropy')\n",
    "    ax[1, 1].set_xlabel('Epochs')\n",
    "    ax[1, 1].legend()"
   ]
  },
  {
   "cell_type": "code",
   "execution_count": 150,
   "id": "3cc5369f",
   "metadata": {
    "ExecuteTime": {
     "end_time": "2022-02-27T08:50:54.273498Z",
     "start_time": "2022-02-27T08:50:53.549374Z"
    }
   },
   "outputs": [
    {
     "data": {
      "image/png": "[encoded data removed]",
      "text/plain": [
       "<Figure size 1080x720 with 4 Axes>"
      ]
     },
     "metadata": {
      "needs_background": "light"
     },
     "output_type": "display_data"
    }
   ],
   "source": [
    "plot_results_v2(history_inv3_main)"
   ]
  },
  {
   "cell_type": "markdown",
   "id": "7be1f9d9",
   "metadata": {},
   "source": [
    "#### Fine-tuning"
   ]
  },
  {
   "cell_type": "code",
   "execution_count": 135,
   "id": "93fc51fa",
   "metadata": {
    "ExecuteTime": {
     "end_time": "2022-02-27T02:04:08.966112Z",
     "start_time": "2022-02-27T02:04:08.909734Z"
    }
   },
   "outputs": [],
   "source": [
    "model_inv3_main.compile(loss='categorical_crossentropy',\n",
    "                         optimizer=optimizers.Adam(learning_rate=1e-4),\n",
    "                         metrics=metrics)"
   ]
  },
  {
   "cell_type": "code",
   "execution_count": 136,
   "id": "01982bf6",
   "metadata": {
    "ExecuteTime": {
     "end_time": "2022-02-27T03:24:15.873348Z",
     "start_time": "2022-02-27T02:04:08.968765Z"
    }
   },
   "outputs": [
    {
     "name": "stdout",
     "output_type": "stream",
     "text": [
      "Epoch 1/10\n",
      "637/637 [==============================] - 984s 2s/step - loss: 0.2737 - accuracy: 0.9226 - top_5_acc: 0.9905 - top_5_map: 0.1981 - val_loss: 0.2538 - val_accuracy: 0.9319 - val_top_5_acc: 0.9929 - val_top_5_map: 0.1986\n",
      "\n",
      "Epoch 00001: val_accuracy improved from 0.92681 to 0.93190, saving model to ./savefiles/inv3_main_wts.hdf5\n",
      "Epoch 2/10\n",
      "637/637 [==============================] - 928s 1s/step - loss: 0.2686 - accuracy: 0.9234 - top_5_acc: 0.9901 - top_5_map: 0.1980 - val_loss: 0.2337 - val_accuracy: 0.9334 - val_top_5_acc: 0.9928 - val_top_5_map: 0.1986\n",
      "\n",
      "Epoch 00002: val_accuracy improved from 0.93190 to 0.93337, saving model to ./savefiles/inv3_main_wts.hdf5\n",
      "Epoch 3/10\n",
      "637/637 [==============================] - 952s 1s/step - loss: 0.2591 - accuracy: 0.9255 - top_5_acc: 0.9909 - top_5_map: 0.1982 - val_loss: 0.2282 - val_accuracy: 0.9334 - val_top_5_acc: 0.9937 - val_top_5_map: 0.1987\n",
      "\n",
      "Epoch 00003: val_accuracy did not improve from 0.93337\n",
      "Epoch 4/10\n",
      "637/637 [==============================] - 946s 1s/step - loss: 0.2496 - accuracy: 0.9262 - top_5_acc: 0.9911 - top_5_map: 0.1982 - val_loss: 0.2291 - val_accuracy: 0.9334 - val_top_5_acc: 0.9932 - val_top_5_map: 0.1986\n",
      "\n",
      "Epoch 00004: val_accuracy did not improve from 0.93337\n",
      "Epoch 5/10\n",
      "637/637 [==============================] - 990s 2s/step - loss: 0.2425 - accuracy: 0.9284 - top_5_acc: 0.9917 - top_5_map: 0.1983 - val_loss: 0.2439 - val_accuracy: 0.9323 - val_top_5_acc: 0.9931 - val_top_5_map: 0.1986\n",
      "\n",
      "Epoch 00005: val_accuracy did not improve from 0.93337\n",
      "\n",
      "Epoch 00005: ReduceLROnPlateau reducing learning rate to 1.9999999494757503e-05.\n",
      "Epoch 00005: early stopping\n",
      "CPU times: user 1h 16min 53s, sys: 5min 44s, total: 1h 22min 37s\n",
      "Wall time: 1h 20min 6s\n"
     ]
    }
   ],
   "source": [
    "%%time\n",
    "\n",
    "reduce_lr_inv3b = ReduceLROnPlateau(monitor='val_loss', factor=0.2,\n",
    "                              patience=2, min_lr=0.000001, verbose=1)\n",
    "\n",
    "\n",
    "history_inv3_main_ft = model_inv3_main.fit(\n",
    "    unscaled_train_gen,\n",
    "    steps_per_epoch=steps_per_epoch,\n",
    "    epochs=more_epochs,\n",
    "    validation_data=unscaled_val_gen,\n",
    "    validation_steps=validation_steps,\n",
    "    callbacks=[checkpoint_inv3b, earlystop_inv3b, reduce_lr_inv3b]\n",
    ")"
   ]
  },
  {
   "cell_type": "code",
   "execution_count": 137,
   "id": "ccb6ed9d",
   "metadata": {
    "ExecuteTime": {
     "end_time": "2022-02-27T03:24:18.466485Z",
     "start_time": "2022-02-27T03:24:15.876868Z"
    }
   },
   "outputs": [],
   "source": [
    "model_inv3_main.load_weights(filepath_inv3b)\n",
    "\n",
    "model_inv3_main.save(save_dir + '/inv3_main_ft.h5')\n",
    "\n",
    "with open(save_dir + '/inv3_hist_main_ft.pickle', 'wb') as handle:\n",
    "    pickle.dump(history_inv3_main_ft.history, handle,\n",
    "                protocol=pickle.HIGHEST_PROTOCOL)"
   ]
  },
  {
   "cell_type": "code",
   "execution_count": 153,
   "id": "e89400a2",
   "metadata": {
    "ExecuteTime": {
     "end_time": "2022-02-27T08:52:23.317710Z",
     "start_time": "2022-02-27T08:52:22.506635Z"
    }
   },
   "outputs": [
    {
     "data": {
      "image/png": "[encoded data removed]",
      "text/plain": [
       "<Figure size 1080x720 with 4 Axes>"
      ]
     },
     "metadata": {
      "needs_background": "light"
     },
     "output_type": "display_data"
    }
   ],
   "source": [
    "plot_results_v2(history_inv3_main_ft)"
   ]
  },
  {
   "cell_type": "markdown",
   "id": "ea108f24",
   "metadata": {},
   "source": [
    "### EfficientNet Individual Identification"
   ]
  },
  {
   "cell_type": "markdown",
   "id": "6fe6298f",
   "metadata": {},
   "source": [
    "Based on https://www.kaggle.com/jasonczh/pretrained-model-with-keras/notebook"
   ]
  },
  {
   "cell_type": "code",
   "execution_count": 120,
   "id": "3af68c62",
   "metadata": {
    "ExecuteTime": {
     "end_time": "2022-02-27T12:53:35.519152Z",
     "start_time": "2022-02-27T12:53:35.491439Z"
    }
   },
   "outputs": [],
   "source": [
    "label_col = \"individual_id\"\n",
    "num_label = len(df_train[label_col].value_counts())\n",
    "\n",
    "batch_size = 128\n",
    "steps_per_epoch = len(df_train) * 0.8 / batch_size\n",
    "validation_steps = len(df_train) * 0.2 / batch_size\n",
    "\n",
    "more_epochs = 10\n",
    "label_target_size = 32"
   ]
  },
  {
   "cell_type": "code",
   "execution_count": 121,
   "id": "ff6379ba",
   "metadata": {
    "ExecuteTime": {
     "end_time": "2022-02-27T12:53:44.503506Z",
     "start_time": "2022-02-27T12:53:37.675675Z"
    }
   },
   "outputs": [
    {
     "name": "stdout",
     "output_type": "stream",
     "text": [
      "Found 40827 validated image filenames belonging to 15587 classes.\n",
      "Found 10206 validated image filenames belonging to 15587 classes.\n"
     ]
    }
   ],
   "source": [
    "# Training set\n",
    "label_train_datagen = ImageDataGenerator(validation_split=0.2,\n",
    "                                         preprocessing_function=None,\n",
    "                                         rotation_range=45,\n",
    "                                         zoom_range=0.2,\n",
    "                                         brightness_range=[0.6, 1.4],\n",
    "                                         channel_shift_range=0.7,\n",
    "                                         horizontal_flip=True,\n",
    "                                         vertical_flip=True,\n",
    "                                         fill_mode='nearest',\n",
    "                                         shear_range=0.1,\n",
    "                                         height_shift_range=0.1,\n",
    "                                         width_shift_range=0.1)\n",
    "\n",
    "label_train_gen = (\n",
    "    label_train_datagen.\n",
    "    flow_from_dataframe(df_train,\n",
    "                        directory = os.path.join(work_dir, train_folder),\n",
    "                        subset=\"training\",\n",
    "                        x_col=img_col,\n",
    "                        y_col=label_col,\n",
    "                        color_mode='rgb',\n",
    "                        target_size=(label_target_size, label_target_size),\n",
    "                        batch_size=batch_size,\n",
    "                        class_mode=\"categorical\")\n",
    ")\n",
    "\n",
    "# Validation set\n",
    "label_val_datagen = ImageDataGenerator(validation_split=0.2)\n",
    "\n",
    "label_val_gen = (\n",
    "    label_val_datagen.\n",
    "    flow_from_dataframe(df_train,\n",
    "                        directory=os.path.join(work_dir, train_folder),\n",
    "                        subset=\"validation\",\n",
    "                        color_mode='rgb',\n",
    "                        x_col=img_col,\n",
    "                        y_col=label_col,\n",
    "                        target_size=(label_target_size, label_target_size),\n",
    "                        batch_size=batch_size,\n",
    "                        class_mode=\"categorical\")\n",
    ")"
   ]
  },
  {
   "cell_type": "code",
   "execution_count": 122,
   "id": "a4ed1141",
   "metadata": {
    "ExecuteTime": {
     "end_time": "2022-02-27T12:53:47.391710Z",
     "start_time": "2022-02-27T12:53:44.974249Z"
    }
   },
   "outputs": [
    {
     "name": "stdout",
     "output_type": "stream",
     "text": [
      "Model: \"model\"\n",
      "__________________________________________________________________________________________________\n",
      "Layer (type)                    Output Shape         Param #     Connected to                     \n",
      "==================================================================================================\n",
      "input_1 (InputLayer)            [(None, 32, 32, 3)]  0                                            \n",
      "__________________________________________________________________________________________________\n",
      "rescaling (Rescaling)           (None, 32, 32, 3)    0           input_1[0][0]                    \n",
      "__________________________________________________________________________________________________\n",
      "normalization (Normalization)   (None, 32, 32, 3)    7           rescaling[0][0]                  \n",
      "__________________________________________________________________________________________________\n",
      "stem_conv_pad (ZeroPadding2D)   (None, 33, 33, 3)    0           normalization[0][0]              \n",
      "__________________________________________________________________________________________________\n",
      "stem_conv (Conv2D)              (None, 16, 16, 32)   864         stem_conv_pad[0][0]              \n",
      "__________________________________________________________________________________________________\n",
      "stem_bn (BatchNormalization)    (None, 16, 16, 32)   128         stem_conv[0][0]                  \n",
      "__________________________________________________________________________________________________\n",
      "stem_activation (Activation)    (None, 16, 16, 32)   0           stem_bn[0][0]                    \n",
      "__________________________________________________________________________________________________\n",
      "block1a_dwconv (DepthwiseConv2D (None, 16, 16, 32)   288         stem_activation[0][0]            \n",
      "__________________________________________________________________________________________________\n",
      "block1a_bn (BatchNormalization) (None, 16, 16, 32)   128         block1a_dwconv[0][0]             \n",
      "__________________________________________________________________________________________________\n",
      "block1a_activation (Activation) (None, 16, 16, 32)   0           block1a_bn[0][0]                 \n",
      "__________________________________________________________________________________________________\n",
      "block1a_se_squeeze (GlobalAvera (None, 32)           0           block1a_activation[0][0]         \n",
      "__________________________________________________________________________________________________\n",
      "block1a_se_reshape (Reshape)    (None, 1, 1, 32)     0           block1a_se_squeeze[0][0]         \n",
      "__________________________________________________________________________________________________\n",
      "block1a_se_reduce (Conv2D)      (None, 1, 1, 8)      264         block1a_se_reshape[0][0]         \n",
      "__________________________________________________________________________________________________\n",
      "block1a_se_expand (Conv2D)      (None, 1, 1, 32)     288         block1a_se_reduce[0][0]          \n",
      "__________________________________________________________________________________________________\n",
      "block1a_se_excite (Multiply)    (None, 16, 16, 32)   0           block1a_activation[0][0]         \n",
      "                                                                 block1a_se_expand[0][0]          \n",
      "__________________________________________________________________________________________________\n",
      "block1a_project_conv (Conv2D)   (None, 16, 16, 16)   512         block1a_se_excite[0][0]          \n",
      "__________________________________________________________________________________________________\n",
      "block1a_project_bn (BatchNormal (None, 16, 16, 16)   64          block1a_project_conv[0][0]       \n",
      "__________________________________________________________________________________________________\n",
      "block2a_expand_conv (Conv2D)    (None, 16, 16, 96)   1536        block1a_project_bn[0][0]         \n",
      "__________________________________________________________________________________________________\n",
      "block2a_expand_bn (BatchNormali (None, 16, 16, 96)   384         block2a_expand_conv[0][0]        \n",
      "__________________________________________________________________________________________________\n",
      "block2a_expand_activation (Acti (None, 16, 16, 96)   0           block2a_expand_bn[0][0]          \n",
      "__________________________________________________________________________________________________\n",
      "block2a_dwconv_pad (ZeroPadding (None, 17, 17, 96)   0           block2a_expand_activation[0][0]  \n",
      "__________________________________________________________________________________________________\n",
      "block2a_dwconv (DepthwiseConv2D (None, 8, 8, 96)     864         block2a_dwconv_pad[0][0]         \n",
      "__________________________________________________________________________________________________\n",
      "block2a_bn (BatchNormalization) (None, 8, 8, 96)     384         block2a_dwconv[0][0]             \n",
      "__________________________________________________________________________________________________\n",
      "block2a_activation (Activation) (None, 8, 8, 96)     0           block2a_bn[0][0]                 \n",
      "__________________________________________________________________________________________________\n",
      "block2a_se_squeeze (GlobalAvera (None, 96)           0           block2a_activation[0][0]         \n",
      "__________________________________________________________________________________________________\n",
      "block2a_se_reshape (Reshape)    (None, 1, 1, 96)     0           block2a_se_squeeze[0][0]         \n",
      "__________________________________________________________________________________________________\n",
      "block2a_se_reduce (Conv2D)      (None, 1, 1, 4)      388         block2a_se_reshape[0][0]         \n",
      "__________________________________________________________________________________________________\n",
      "block2a_se_expand (Conv2D)      (None, 1, 1, 96)     480         block2a_se_reduce[0][0]          \n",
      "__________________________________________________________________________________________________\n",
      "block2a_se_excite (Multiply)    (None, 8, 8, 96)     0           block2a_activation[0][0]         \n",
      "                                                                 block2a_se_expand[0][0]          \n",
      "__________________________________________________________________________________________________\n",
      "block2a_project_conv (Conv2D)   (None, 8, 8, 24)     2304        block2a_se_excite[0][0]          \n",
      "__________________________________________________________________________________________________\n",
      "block2a_project_bn (BatchNormal (None, 8, 8, 24)     96          block2a_project_conv[0][0]       \n",
      "__________________________________________________________________________________________________\n",
      "block2b_expand_conv (Conv2D)    (None, 8, 8, 144)    3456        block2a_project_bn[0][0]         \n",
      "__________________________________________________________________________________________________\n",
      "block2b_expand_bn (BatchNormali (None, 8, 8, 144)    576         block2b_expand_conv[0][0]        \n",
      "__________________________________________________________________________________________________\n",
      "block2b_expand_activation (Acti (None, 8, 8, 144)    0           block2b_expand_bn[0][0]          \n",
      "__________________________________________________________________________________________________\n",
      "block2b_dwconv (DepthwiseConv2D (None, 8, 8, 144)    1296        block2b_expand_activation[0][0]  \n",
      "__________________________________________________________________________________________________\n",
      "block2b_bn (BatchNormalization) (None, 8, 8, 144)    576         block2b_dwconv[0][0]             \n",
      "__________________________________________________________________________________________________\n",
      "block2b_activation (Activation) (None, 8, 8, 144)    0           block2b_bn[0][0]                 \n",
      "__________________________________________________________________________________________________\n",
      "block2b_se_squeeze (GlobalAvera (None, 144)          0           block2b_activation[0][0]         \n",
      "__________________________________________________________________________________________________\n",
      "block2b_se_reshape (Reshape)    (None, 1, 1, 144)    0           block2b_se_squeeze[0][0]         \n",
      "__________________________________________________________________________________________________\n",
      "block2b_se_reduce (Conv2D)      (None, 1, 1, 6)      870         block2b_se_reshape[0][0]         \n",
      "__________________________________________________________________________________________________\n",
      "block2b_se_expand (Conv2D)      (None, 1, 1, 144)    1008        block2b_se_reduce[0][0]          \n",
      "__________________________________________________________________________________________________\n",
      "block2b_se_excite (Multiply)    (None, 8, 8, 144)    0           block2b_activation[0][0]         \n",
      "                                                                 block2b_se_expand[0][0]          \n",
      "__________________________________________________________________________________________________\n",
      "block2b_project_conv (Conv2D)   (None, 8, 8, 24)     3456        block2b_se_excite[0][0]          \n",
      "__________________________________________________________________________________________________\n",
      "block2b_project_bn (BatchNormal (None, 8, 8, 24)     96          block2b_project_conv[0][0]       \n",
      "__________________________________________________________________________________________________\n",
      "block2b_drop (Dropout)          (None, 8, 8, 24)     0           block2b_project_bn[0][0]         \n",
      "__________________________________________________________________________________________________\n",
      "block2b_add (Add)               (None, 8, 8, 24)     0           block2b_drop[0][0]               \n",
      "                                                                 block2a_project_bn[0][0]         \n",
      "__________________________________________________________________________________________________\n",
      "block3a_expand_conv (Conv2D)    (None, 8, 8, 144)    3456        block2b_add[0][0]                \n",
      "__________________________________________________________________________________________________\n",
      "block3a_expand_bn (BatchNormali (None, 8, 8, 144)    576         block3a_expand_conv[0][0]        \n",
      "__________________________________________________________________________________________________\n",
      "block3a_expand_activation (Acti (None, 8, 8, 144)    0           block3a_expand_bn[0][0]          \n",
      "__________________________________________________________________________________________________\n",
      "block3a_dwconv_pad (ZeroPadding (None, 11, 11, 144)  0           block3a_expand_activation[0][0]  \n",
      "__________________________________________________________________________________________________\n",
      "block3a_dwconv (DepthwiseConv2D (None, 4, 4, 144)    3600        block3a_dwconv_pad[0][0]         \n",
      "__________________________________________________________________________________________________\n",
      "block3a_bn (BatchNormalization) (None, 4, 4, 144)    576         block3a_dwconv[0][0]             \n",
      "__________________________________________________________________________________________________\n",
      "block3a_activation (Activation) (None, 4, 4, 144)    0           block3a_bn[0][0]                 \n",
      "__________________________________________________________________________________________________\n",
      "block3a_se_squeeze (GlobalAvera (None, 144)          0           block3a_activation[0][0]         \n",
      "__________________________________________________________________________________________________\n",
      "block3a_se_reshape (Reshape)    (None, 1, 1, 144)    0           block3a_se_squeeze[0][0]         \n",
      "__________________________________________________________________________________________________\n",
      "block3a_se_reduce (Conv2D)      (None, 1, 1, 6)      870         block3a_se_reshape[0][0]         \n",
      "__________________________________________________________________________________________________\n",
      "block3a_se_expand (Conv2D)      (None, 1, 1, 144)    1008        block3a_se_reduce[0][0]          \n",
      "__________________________________________________________________________________________________\n",
      "block3a_se_excite (Multiply)    (None, 4, 4, 144)    0           block3a_activation[0][0]         \n",
      "                                                                 block3a_se_expand[0][0]          \n",
      "__________________________________________________________________________________________________\n",
      "block3a_project_conv (Conv2D)   (None, 4, 4, 40)     5760        block3a_se_excite[0][0]          \n",
      "__________________________________________________________________________________________________\n",
      "block3a_project_bn (BatchNormal (None, 4, 4, 40)     160         block3a_project_conv[0][0]       \n",
      "__________________________________________________________________________________________________\n",
      "block3b_expand_conv (Conv2D)    (None, 4, 4, 240)    9600        block3a_project_bn[0][0]         \n",
      "__________________________________________________________________________________________________\n",
      "block3b_expand_bn (BatchNormali (None, 4, 4, 240)    960         block3b_expand_conv[0][0]        \n",
      "__________________________________________________________________________________________________\n",
      "block3b_expand_activation (Acti (None, 4, 4, 240)    0           block3b_expand_bn[0][0]          \n",
      "__________________________________________________________________________________________________\n",
      "block3b_dwconv (DepthwiseConv2D (None, 4, 4, 240)    6000        block3b_expand_activation[0][0]  \n",
      "__________________________________________________________________________________________________\n",
      "block3b_bn (BatchNormalization) (None, 4, 4, 240)    960         block3b_dwconv[0][0]             \n",
      "__________________________________________________________________________________________________\n",
      "block3b_activation (Activation) (None, 4, 4, 240)    0           block3b_bn[0][0]                 \n",
      "__________________________________________________________________________________________________\n",
      "block3b_se_squeeze (GlobalAvera (None, 240)          0           block3b_activation[0][0]         \n",
      "__________________________________________________________________________________________________\n",
      "block3b_se_reshape (Reshape)    (None, 1, 1, 240)    0           block3b_se_squeeze[0][0]         \n",
      "__________________________________________________________________________________________________\n",
      "block3b_se_reduce (Conv2D)      (None, 1, 1, 10)     2410        block3b_se_reshape[0][0]         \n",
      "__________________________________________________________________________________________________\n",
      "block3b_se_expand (Conv2D)      (None, 1, 1, 240)    2640        block3b_se_reduce[0][0]          \n",
      "__________________________________________________________________________________________________\n",
      "block3b_se_excite (Multiply)    (None, 4, 4, 240)    0           block3b_activation[0][0]         \n",
      "                                                                 block3b_se_expand[0][0]          \n",
      "__________________________________________________________________________________________________\n",
      "block3b_project_conv (Conv2D)   (None, 4, 4, 40)     9600        block3b_se_excite[0][0]          \n",
      "__________________________________________________________________________________________________\n",
      "block3b_project_bn (BatchNormal (None, 4, 4, 40)     160         block3b_project_conv[0][0]       \n",
      "__________________________________________________________________________________________________\n",
      "block3b_drop (Dropout)          (None, 4, 4, 40)     0           block3b_project_bn[0][0]         \n",
      "__________________________________________________________________________________________________\n",
      "block3b_add (Add)               (None, 4, 4, 40)     0           block3b_drop[0][0]               \n",
      "                                                                 block3a_project_bn[0][0]         \n",
      "__________________________________________________________________________________________________\n",
      "block4a_expand_conv (Conv2D)    (None, 4, 4, 240)    9600        block3b_add[0][0]                \n",
      "__________________________________________________________________________________________________\n",
      "block4a_expand_bn (BatchNormali (None, 4, 4, 240)    960         block4a_expand_conv[0][0]        \n",
      "__________________________________________________________________________________________________\n",
      "block4a_expand_activation (Acti (None, 4, 4, 240)    0           block4a_expand_bn[0][0]          \n",
      "__________________________________________________________________________________________________\n",
      "block4a_dwconv_pad (ZeroPadding (None, 5, 5, 240)    0           block4a_expand_activation[0][0]  \n",
      "__________________________________________________________________________________________________\n",
      "block4a_dwconv (DepthwiseConv2D (None, 2, 2, 240)    2160        block4a_dwconv_pad[0][0]         \n",
      "__________________________________________________________________________________________________\n",
      "block4a_bn (BatchNormalization) (None, 2, 2, 240)    960         block4a_dwconv[0][0]             \n",
      "__________________________________________________________________________________________________\n",
      "block4a_activation (Activation) (None, 2, 2, 240)    0           block4a_bn[0][0]                 \n",
      "__________________________________________________________________________________________________\n",
      "block4a_se_squeeze (GlobalAvera (None, 240)          0           block4a_activation[0][0]         \n",
      "__________________________________________________________________________________________________\n",
      "block4a_se_reshape (Reshape)    (None, 1, 1, 240)    0           block4a_se_squeeze[0][0]         \n",
      "__________________________________________________________________________________________________\n",
      "block4a_se_reduce (Conv2D)      (None, 1, 1, 10)     2410        block4a_se_reshape[0][0]         \n",
      "__________________________________________________________________________________________________\n",
      "block4a_se_expand (Conv2D)      (None, 1, 1, 240)    2640        block4a_se_reduce[0][0]          \n",
      "__________________________________________________________________________________________________\n",
      "block4a_se_excite (Multiply)    (None, 2, 2, 240)    0           block4a_activation[0][0]         \n",
      "                                                                 block4a_se_expand[0][0]          \n",
      "__________________________________________________________________________________________________\n",
      "block4a_project_conv (Conv2D)   (None, 2, 2, 80)     19200       block4a_se_excite[0][0]          \n",
      "__________________________________________________________________________________________________\n",
      "block4a_project_bn (BatchNormal (None, 2, 2, 80)     320         block4a_project_conv[0][0]       \n",
      "__________________________________________________________________________________________________\n",
      "block4b_expand_conv (Conv2D)    (None, 2, 2, 480)    38400       block4a_project_bn[0][0]         \n",
      "__________________________________________________________________________________________________\n",
      "block4b_expand_bn (BatchNormali (None, 2, 2, 480)    1920        block4b_expand_conv[0][0]        \n",
      "__________________________________________________________________________________________________\n",
      "block4b_expand_activation (Acti (None, 2, 2, 480)    0           block4b_expand_bn[0][0]          \n",
      "__________________________________________________________________________________________________\n",
      "block4b_dwconv (DepthwiseConv2D (None, 2, 2, 480)    4320        block4b_expand_activation[0][0]  \n",
      "__________________________________________________________________________________________________\n",
      "block4b_bn (BatchNormalization) (None, 2, 2, 480)    1920        block4b_dwconv[0][0]             \n",
      "__________________________________________________________________________________________________\n",
      "block4b_activation (Activation) (None, 2, 2, 480)    0           block4b_bn[0][0]                 \n",
      "__________________________________________________________________________________________________\n",
      "block4b_se_squeeze (GlobalAvera (None, 480)          0           block4b_activation[0][0]         \n",
      "__________________________________________________________________________________________________\n",
      "block4b_se_reshape (Reshape)    (None, 1, 1, 480)    0           block4b_se_squeeze[0][0]         \n",
      "__________________________________________________________________________________________________\n",
      "block4b_se_reduce (Conv2D)      (None, 1, 1, 20)     9620        block4b_se_reshape[0][0]         \n",
      "__________________________________________________________________________________________________\n",
      "block4b_se_expand (Conv2D)      (None, 1, 1, 480)    10080       block4b_se_reduce[0][0]          \n",
      "__________________________________________________________________________________________________\n",
      "block4b_se_excite (Multiply)    (None, 2, 2, 480)    0           block4b_activation[0][0]         \n",
      "                                                                 block4b_se_expand[0][0]          \n",
      "__________________________________________________________________________________________________\n",
      "block4b_project_conv (Conv2D)   (None, 2, 2, 80)     38400       block4b_se_excite[0][0]          \n",
      "__________________________________________________________________________________________________\n",
      "block4b_project_bn (BatchNormal (None, 2, 2, 80)     320         block4b_project_conv[0][0]       \n",
      "__________________________________________________________________________________________________\n",
      "block4b_drop (Dropout)          (None, 2, 2, 80)     0           block4b_project_bn[0][0]         \n",
      "__________________________________________________________________________________________________\n",
      "block4b_add (Add)               (None, 2, 2, 80)     0           block4b_drop[0][0]               \n",
      "                                                                 block4a_project_bn[0][0]         \n",
      "__________________________________________________________________________________________________\n",
      "block4c_expand_conv (Conv2D)    (None, 2, 2, 480)    38400       block4b_add[0][0]                \n",
      "__________________________________________________________________________________________________\n",
      "block4c_expand_bn (BatchNormali (None, 2, 2, 480)    1920        block4c_expand_conv[0][0]        \n",
      "__________________________________________________________________________________________________\n",
      "block4c_expand_activation (Acti (None, 2, 2, 480)    0           block4c_expand_bn[0][0]          \n",
      "__________________________________________________________________________________________________\n",
      "block4c_dwconv (DepthwiseConv2D (None, 2, 2, 480)    4320        block4c_expand_activation[0][0]  \n",
      "__________________________________________________________________________________________________\n",
      "block4c_bn (BatchNormalization) (None, 2, 2, 480)    1920        block4c_dwconv[0][0]             \n",
      "__________________________________________________________________________________________________\n",
      "block4c_activation (Activation) (None, 2, 2, 480)    0           block4c_bn[0][0]                 \n",
      "__________________________________________________________________________________________________\n",
      "block4c_se_squeeze (GlobalAvera (None, 480)          0           block4c_activation[0][0]         \n",
      "__________________________________________________________________________________________________\n",
      "block4c_se_reshape (Reshape)    (None, 1, 1, 480)    0           block4c_se_squeeze[0][0]         \n",
      "__________________________________________________________________________________________________\n",
      "block4c_se_reduce (Conv2D)      (None, 1, 1, 20)     9620        block4c_se_reshape[0][0]         \n",
      "__________________________________________________________________________________________________\n",
      "block4c_se_expand (Conv2D)      (None, 1, 1, 480)    10080       block4c_se_reduce[0][0]          \n",
      "__________________________________________________________________________________________________\n",
      "block4c_se_excite (Multiply)    (None, 2, 2, 480)    0           block4c_activation[0][0]         \n",
      "                                                                 block4c_se_expand[0][0]          \n",
      "__________________________________________________________________________________________________\n",
      "block4c_project_conv (Conv2D)   (None, 2, 2, 80)     38400       block4c_se_excite[0][0]          \n",
      "__________________________________________________________________________________________________\n",
      "block4c_project_bn (BatchNormal (None, 2, 2, 80)     320         block4c_project_conv[0][0]       \n",
      "__________________________________________________________________________________________________\n",
      "block4c_drop (Dropout)          (None, 2, 2, 80)     0           block4c_project_bn[0][0]         \n",
      "__________________________________________________________________________________________________\n",
      "block4c_add (Add)               (None, 2, 2, 80)     0           block4c_drop[0][0]               \n",
      "                                                                 block4b_add[0][0]                \n",
      "__________________________________________________________________________________________________\n",
      "block5a_expand_conv (Conv2D)    (None, 2, 2, 480)    38400       block4c_add[0][0]                \n",
      "__________________________________________________________________________________________________\n",
      "block5a_expand_bn (BatchNormali (None, 2, 2, 480)    1920        block5a_expand_conv[0][0]        \n",
      "__________________________________________________________________________________________________\n",
      "block5a_expand_activation (Acti (None, 2, 2, 480)    0           block5a_expand_bn[0][0]          \n",
      "__________________________________________________________________________________________________\n",
      "block5a_dwconv (DepthwiseConv2D (None, 2, 2, 480)    12000       block5a_expand_activation[0][0]  \n",
      "__________________________________________________________________________________________________\n",
      "block5a_bn (BatchNormalization) (None, 2, 2, 480)    1920        block5a_dwconv[0][0]             \n",
      "__________________________________________________________________________________________________\n",
      "block5a_activation (Activation) (None, 2, 2, 480)    0           block5a_bn[0][0]                 \n",
      "__________________________________________________________________________________________________\n",
      "block5a_se_squeeze (GlobalAvera (None, 480)          0           block5a_activation[0][0]         \n",
      "__________________________________________________________________________________________________\n",
      "block5a_se_reshape (Reshape)    (None, 1, 1, 480)    0           block5a_se_squeeze[0][0]         \n",
      "__________________________________________________________________________________________________\n",
      "block5a_se_reduce (Conv2D)      (None, 1, 1, 20)     9620        block5a_se_reshape[0][0]         \n",
      "__________________________________________________________________________________________________\n",
      "block5a_se_expand (Conv2D)      (None, 1, 1, 480)    10080       block5a_se_reduce[0][0]          \n",
      "__________________________________________________________________________________________________\n",
      "block5a_se_excite (Multiply)    (None, 2, 2, 480)    0           block5a_activation[0][0]         \n",
      "                                                                 block5a_se_expand[0][0]          \n",
      "__________________________________________________________________________________________________\n",
      "block5a_project_conv (Conv2D)   (None, 2, 2, 112)    53760       block5a_se_excite[0][0]          \n",
      "__________________________________________________________________________________________________\n",
      "block5a_project_bn (BatchNormal (None, 2, 2, 112)    448         block5a_project_conv[0][0]       \n",
      "__________________________________________________________________________________________________\n",
      "block5b_expand_conv (Conv2D)    (None, 2, 2, 672)    75264       block5a_project_bn[0][0]         \n",
      "__________________________________________________________________________________________________\n",
      "block5b_expand_bn (BatchNormali (None, 2, 2, 672)    2688        block5b_expand_conv[0][0]        \n",
      "__________________________________________________________________________________________________\n",
      "block5b_expand_activation (Acti (None, 2, 2, 672)    0           block5b_expand_bn[0][0]          \n",
      "__________________________________________________________________________________________________\n",
      "block5b_dwconv (DepthwiseConv2D (None, 2, 2, 672)    16800       block5b_expand_activation[0][0]  \n",
      "__________________________________________________________________________________________________\n",
      "block5b_bn (BatchNormalization) (None, 2, 2, 672)    2688        block5b_dwconv[0][0]             \n",
      "__________________________________________________________________________________________________\n",
      "block5b_activation (Activation) (None, 2, 2, 672)    0           block5b_bn[0][0]                 \n",
      "__________________________________________________________________________________________________\n",
      "block5b_se_squeeze (GlobalAvera (None, 672)          0           block5b_activation[0][0]         \n",
      "__________________________________________________________________________________________________\n",
      "block5b_se_reshape (Reshape)    (None, 1, 1, 672)    0           block5b_se_squeeze[0][0]         \n",
      "__________________________________________________________________________________________________\n",
      "block5b_se_reduce (Conv2D)      (None, 1, 1, 28)     18844       block5b_se_reshape[0][0]         \n",
      "__________________________________________________________________________________________________\n",
      "block5b_se_expand (Conv2D)      (None, 1, 1, 672)    19488       block5b_se_reduce[0][0]          \n",
      "__________________________________________________________________________________________________\n",
      "block5b_se_excite (Multiply)    (None, 2, 2, 672)    0           block5b_activation[0][0]         \n",
      "                                                                 block5b_se_expand[0][0]          \n",
      "__________________________________________________________________________________________________\n",
      "block5b_project_conv (Conv2D)   (None, 2, 2, 112)    75264       block5b_se_excite[0][0]          \n",
      "__________________________________________________________________________________________________\n",
      "block5b_project_bn (BatchNormal (None, 2, 2, 112)    448         block5b_project_conv[0][0]       \n",
      "__________________________________________________________________________________________________\n",
      "block5b_drop (Dropout)          (None, 2, 2, 112)    0           block5b_project_bn[0][0]         \n",
      "__________________________________________________________________________________________________\n",
      "block5b_add (Add)               (None, 2, 2, 112)    0           block5b_drop[0][0]               \n",
      "                                                                 block5a_project_bn[0][0]         \n",
      "__________________________________________________________________________________________________\n",
      "block5c_expand_conv (Conv2D)    (None, 2, 2, 672)    75264       block5b_add[0][0]                \n",
      "__________________________________________________________________________________________________\n",
      "block5c_expand_bn (BatchNormali (None, 2, 2, 672)    2688        block5c_expand_conv[0][0]        \n",
      "__________________________________________________________________________________________________\n",
      "block5c_expand_activation (Acti (None, 2, 2, 672)    0           block5c_expand_bn[0][0]          \n",
      "__________________________________________________________________________________________________\n",
      "block5c_dwconv (DepthwiseConv2D (None, 2, 2, 672)    16800       block5c_expand_activation[0][0]  \n",
      "__________________________________________________________________________________________________\n",
      "block5c_bn (BatchNormalization) (None, 2, 2, 672)    2688        block5c_dwconv[0][0]             \n",
      "__________________________________________________________________________________________________\n",
      "block5c_activation (Activation) (None, 2, 2, 672)    0           block5c_bn[0][0]                 \n",
      "__________________________________________________________________________________________________\n",
      "block5c_se_squeeze (GlobalAvera (None, 672)          0           block5c_activation[0][0]         \n",
      "__________________________________________________________________________________________________\n",
      "block5c_se_reshape (Reshape)    (None, 1, 1, 672)    0           block5c_se_squeeze[0][0]         \n",
      "__________________________________________________________________________________________________\n",
      "block5c_se_reduce (Conv2D)      (None, 1, 1, 28)     18844       block5c_se_reshape[0][0]         \n",
      "__________________________________________________________________________________________________\n",
      "block5c_se_expand (Conv2D)      (None, 1, 1, 672)    19488       block5c_se_reduce[0][0]          \n",
      "__________________________________________________________________________________________________\n",
      "block5c_se_excite (Multiply)    (None, 2, 2, 672)    0           block5c_activation[0][0]         \n",
      "                                                                 block5c_se_expand[0][0]          \n",
      "__________________________________________________________________________________________________\n",
      "block5c_project_conv (Conv2D)   (None, 2, 2, 112)    75264       block5c_se_excite[0][0]          \n",
      "__________________________________________________________________________________________________\n",
      "block5c_project_bn (BatchNormal (None, 2, 2, 112)    448         block5c_project_conv[0][0]       \n",
      "__________________________________________________________________________________________________\n",
      "block5c_drop (Dropout)          (None, 2, 2, 112)    0           block5c_project_bn[0][0]         \n",
      "__________________________________________________________________________________________________\n",
      "block5c_add (Add)               (None, 2, 2, 112)    0           block5c_drop[0][0]               \n",
      "                                                                 block5b_add[0][0]                \n",
      "__________________________________________________________________________________________________\n",
      "block6a_expand_conv (Conv2D)    (None, 2, 2, 672)    75264       block5c_add[0][0]                \n",
      "__________________________________________________________________________________________________\n",
      "block6a_expand_bn (BatchNormali (None, 2, 2, 672)    2688        block6a_expand_conv[0][0]        \n",
      "__________________________________________________________________________________________________\n",
      "block6a_expand_activation (Acti (None, 2, 2, 672)    0           block6a_expand_bn[0][0]          \n",
      "__________________________________________________________________________________________________\n",
      "block6a_dwconv_pad (ZeroPadding (None, 5, 5, 672)    0           block6a_expand_activation[0][0]  \n",
      "__________________________________________________________________________________________________\n",
      "block6a_dwconv (DepthwiseConv2D (None, 1, 1, 672)    16800       block6a_dwconv_pad[0][0]         \n",
      "__________________________________________________________________________________________________\n",
      "block6a_bn (BatchNormalization) (None, 1, 1, 672)    2688        block6a_dwconv[0][0]             \n",
      "__________________________________________________________________________________________________\n",
      "block6a_activation (Activation) (None, 1, 1, 672)    0           block6a_bn[0][0]                 \n",
      "__________________________________________________________________________________________________\n",
      "block6a_se_squeeze (GlobalAvera (None, 672)          0           block6a_activation[0][0]         \n",
      "__________________________________________________________________________________________________\n",
      "block6a_se_reshape (Reshape)    (None, 1, 1, 672)    0           block6a_se_squeeze[0][0]         \n",
      "__________________________________________________________________________________________________\n",
      "block6a_se_reduce (Conv2D)      (None, 1, 1, 28)     18844       block6a_se_reshape[0][0]         \n",
      "__________________________________________________________________________________________________\n",
      "block6a_se_expand (Conv2D)      (None, 1, 1, 672)    19488       block6a_se_reduce[0][0]          \n",
      "__________________________________________________________________________________________________\n",
      "block6a_se_excite (Multiply)    (None, 1, 1, 672)    0           block6a_activation[0][0]         \n",
      "                                                                 block6a_se_expand[0][0]          \n",
      "__________________________________________________________________________________________________\n",
      "block6a_project_conv (Conv2D)   (None, 1, 1, 192)    129024      block6a_se_excite[0][0]          \n",
      "__________________________________________________________________________________________________\n",
      "block6a_project_bn (BatchNormal (None, 1, 1, 192)    768         block6a_project_conv[0][0]       \n",
      "__________________________________________________________________________________________________\n",
      "block6b_expand_conv (Conv2D)    (None, 1, 1, 1152)   221184      block6a_project_bn[0][0]         \n",
      "__________________________________________________________________________________________________\n",
      "block6b_expand_bn (BatchNormali (None, 1, 1, 1152)   4608        block6b_expand_conv[0][0]        \n",
      "__________________________________________________________________________________________________\n",
      "block6b_expand_activation (Acti (None, 1, 1, 1152)   0           block6b_expand_bn[0][0]          \n",
      "__________________________________________________________________________________________________\n",
      "block6b_dwconv (DepthwiseConv2D (None, 1, 1, 1152)   28800       block6b_expand_activation[0][0]  \n",
      "__________________________________________________________________________________________________\n",
      "block6b_bn (BatchNormalization) (None, 1, 1, 1152)   4608        block6b_dwconv[0][0]             \n",
      "__________________________________________________________________________________________________\n",
      "block6b_activation (Activation) (None, 1, 1, 1152)   0           block6b_bn[0][0]                 \n",
      "__________________________________________________________________________________________________\n",
      "block6b_se_squeeze (GlobalAvera (None, 1152)         0           block6b_activation[0][0]         \n",
      "__________________________________________________________________________________________________\n",
      "block6b_se_reshape (Reshape)    (None, 1, 1, 1152)   0           block6b_se_squeeze[0][0]         \n",
      "__________________________________________________________________________________________________\n",
      "block6b_se_reduce (Conv2D)      (None, 1, 1, 48)     55344       block6b_se_reshape[0][0]         \n",
      "__________________________________________________________________________________________________\n",
      "block6b_se_expand (Conv2D)      (None, 1, 1, 1152)   56448       block6b_se_reduce[0][0]          \n",
      "__________________________________________________________________________________________________\n",
      "block6b_se_excite (Multiply)    (None, 1, 1, 1152)   0           block6b_activation[0][0]         \n",
      "                                                                 block6b_se_expand[0][0]          \n",
      "__________________________________________________________________________________________________\n",
      "block6b_project_conv (Conv2D)   (None, 1, 1, 192)    221184      block6b_se_excite[0][0]          \n",
      "__________________________________________________________________________________________________\n",
      "block6b_project_bn (BatchNormal (None, 1, 1, 192)    768         block6b_project_conv[0][0]       \n",
      "__________________________________________________________________________________________________\n",
      "block6b_drop (Dropout)          (None, 1, 1, 192)    0           block6b_project_bn[0][0]         \n",
      "__________________________________________________________________________________________________\n",
      "block6b_add (Add)               (None, 1, 1, 192)    0           block6b_drop[0][0]               \n",
      "                                                                 block6a_project_bn[0][0]         \n",
      "__________________________________________________________________________________________________\n",
      "block6c_expand_conv (Conv2D)    (None, 1, 1, 1152)   221184      block6b_add[0][0]                \n",
      "__________________________________________________________________________________________________\n",
      "block6c_expand_bn (BatchNormali (None, 1, 1, 1152)   4608        block6c_expand_conv[0][0]        \n",
      "__________________________________________________________________________________________________\n",
      "block6c_expand_activation (Acti (None, 1, 1, 1152)   0           block6c_expand_bn[0][0]          \n",
      "__________________________________________________________________________________________________\n",
      "block6c_dwconv (DepthwiseConv2D (None, 1, 1, 1152)   28800       block6c_expand_activation[0][0]  \n",
      "__________________________________________________________________________________________________\n",
      "block6c_bn (BatchNormalization) (None, 1, 1, 1152)   4608        block6c_dwconv[0][0]             \n",
      "__________________________________________________________________________________________________\n",
      "block6c_activation (Activation) (None, 1, 1, 1152)   0           block6c_bn[0][0]                 \n",
      "__________________________________________________________________________________________________\n",
      "block6c_se_squeeze (GlobalAvera (None, 1152)         0           block6c_activation[0][0]         \n",
      "__________________________________________________________________________________________________\n",
      "block6c_se_reshape (Reshape)    (None, 1, 1, 1152)   0           block6c_se_squeeze[0][0]         \n",
      "__________________________________________________________________________________________________\n",
      "block6c_se_reduce (Conv2D)      (None, 1, 1, 48)     55344       block6c_se_reshape[0][0]         \n",
      "__________________________________________________________________________________________________\n",
      "block6c_se_expand (Conv2D)      (None, 1, 1, 1152)   56448       block6c_se_reduce[0][0]          \n",
      "__________________________________________________________________________________________________\n",
      "block6c_se_excite (Multiply)    (None, 1, 1, 1152)   0           block6c_activation[0][0]         \n",
      "                                                                 block6c_se_expand[0][0]          \n",
      "__________________________________________________________________________________________________\n",
      "block6c_project_conv (Conv2D)   (None, 1, 1, 192)    221184      block6c_se_excite[0][0]          \n",
      "__________________________________________________________________________________________________\n",
      "block6c_project_bn (BatchNormal (None, 1, 1, 192)    768         block6c_project_conv[0][0]       \n",
      "__________________________________________________________________________________________________\n",
      "block6c_drop (Dropout)          (None, 1, 1, 192)    0           block6c_project_bn[0][0]         \n",
      "__________________________________________________________________________________________________\n",
      "block6c_add (Add)               (None, 1, 1, 192)    0           block6c_drop[0][0]               \n",
      "                                                                 block6b_add[0][0]                \n",
      "__________________________________________________________________________________________________\n",
      "block6d_expand_conv (Conv2D)    (None, 1, 1, 1152)   221184      block6c_add[0][0]                \n",
      "__________________________________________________________________________________________________\n",
      "block6d_expand_bn (BatchNormali (None, 1, 1, 1152)   4608        block6d_expand_conv[0][0]        \n",
      "__________________________________________________________________________________________________\n",
      "block6d_expand_activation (Acti (None, 1, 1, 1152)   0           block6d_expand_bn[0][0]          \n",
      "__________________________________________________________________________________________________\n",
      "block6d_dwconv (DepthwiseConv2D (None, 1, 1, 1152)   28800       block6d_expand_activation[0][0]  \n",
      "__________________________________________________________________________________________________\n",
      "block6d_bn (BatchNormalization) (None, 1, 1, 1152)   4608        block6d_dwconv[0][0]             \n",
      "__________________________________________________________________________________________________\n",
      "block6d_activation (Activation) (None, 1, 1, 1152)   0           block6d_bn[0][0]                 \n",
      "__________________________________________________________________________________________________\n",
      "block6d_se_squeeze (GlobalAvera (None, 1152)         0           block6d_activation[0][0]         \n",
      "__________________________________________________________________________________________________\n",
      "block6d_se_reshape (Reshape)    (None, 1, 1, 1152)   0           block6d_se_squeeze[0][0]         \n",
      "__________________________________________________________________________________________________\n",
      "block6d_se_reduce (Conv2D)      (None, 1, 1, 48)     55344       block6d_se_reshape[0][0]         \n",
      "__________________________________________________________________________________________________\n",
      "block6d_se_expand (Conv2D)      (None, 1, 1, 1152)   56448       block6d_se_reduce[0][0]          \n",
      "__________________________________________________________________________________________________\n",
      "block6d_se_excite (Multiply)    (None, 1, 1, 1152)   0           block6d_activation[0][0]         \n",
      "                                                                 block6d_se_expand[0][0]          \n",
      "__________________________________________________________________________________________________\n",
      "block6d_project_conv (Conv2D)   (None, 1, 1, 192)    221184      block6d_se_excite[0][0]          \n",
      "__________________________________________________________________________________________________\n",
      "block6d_project_bn (BatchNormal (None, 1, 1, 192)    768         block6d_project_conv[0][0]       \n",
      "__________________________________________________________________________________________________\n",
      "block6d_drop (Dropout)          (None, 1, 1, 192)    0           block6d_project_bn[0][0]         \n",
      "__________________________________________________________________________________________________\n",
      "block6d_add (Add)               (None, 1, 1, 192)    0           block6d_drop[0][0]               \n",
      "                                                                 block6c_add[0][0]                \n",
      "__________________________________________________________________________________________________\n",
      "block7a_expand_conv (Conv2D)    (None, 1, 1, 1152)   221184      block6d_add[0][0]                \n",
      "__________________________________________________________________________________________________\n",
      "block7a_expand_bn (BatchNormali (None, 1, 1, 1152)   4608        block7a_expand_conv[0][0]        \n",
      "__________________________________________________________________________________________________\n",
      "block7a_expand_activation (Acti (None, 1, 1, 1152)   0           block7a_expand_bn[0][0]          \n",
      "__________________________________________________________________________________________________\n",
      "block7a_dwconv (DepthwiseConv2D (None, 1, 1, 1152)   10368       block7a_expand_activation[0][0]  \n",
      "__________________________________________________________________________________________________\n",
      "block7a_bn (BatchNormalization) (None, 1, 1, 1152)   4608        block7a_dwconv[0][0]             \n",
      "__________________________________________________________________________________________________\n",
      "block7a_activation (Activation) (None, 1, 1, 1152)   0           block7a_bn[0][0]                 \n",
      "__________________________________________________________________________________________________\n",
      "block7a_se_squeeze (GlobalAvera (None, 1152)         0           block7a_activation[0][0]         \n",
      "__________________________________________________________________________________________________\n",
      "block7a_se_reshape (Reshape)    (None, 1, 1, 1152)   0           block7a_se_squeeze[0][0]         \n",
      "__________________________________________________________________________________________________\n",
      "block7a_se_reduce (Conv2D)      (None, 1, 1, 48)     55344       block7a_se_reshape[0][0]         \n",
      "__________________________________________________________________________________________________\n",
      "block7a_se_expand (Conv2D)      (None, 1, 1, 1152)   56448       block7a_se_reduce[0][0]          \n",
      "__________________________________________________________________________________________________\n",
      "block7a_se_excite (Multiply)    (None, 1, 1, 1152)   0           block7a_activation[0][0]         \n",
      "                                                                 block7a_se_expand[0][0]          \n",
      "__________________________________________________________________________________________________\n",
      "block7a_project_conv (Conv2D)   (None, 1, 1, 320)    368640      block7a_se_excite[0][0]          \n",
      "__________________________________________________________________________________________________\n",
      "block7a_project_bn (BatchNormal (None, 1, 1, 320)    1280        block7a_project_conv[0][0]       \n",
      "__________________________________________________________________________________________________\n",
      "top_conv (Conv2D)               (None, 1, 1, 1280)   409600      block7a_project_bn[0][0]         \n",
      "__________________________________________________________________________________________________\n",
      "top_bn (BatchNormalization)     (None, 1, 1, 1280)   5120        top_conv[0][0]                   \n",
      "__________________________________________________________________________________________________\n",
      "top_activation (Activation)     (None, 1, 1, 1280)   0           top_bn[0][0]                     \n",
      "__________________________________________________________________________________________________\n",
      "dense (Dense)                   (None, 1, 1, 256)    327936      top_activation[0][0]             \n",
      "__________________________________________________________________________________________________\n",
      "flatten (Flatten)               (None, 256)          0           dense[0][0]                      \n",
      "__________________________________________________________________________________________________\n",
      "dense_1 (Dense)                 (None, 15587)        4005859     flatten[0][0]                    \n",
      "==================================================================================================\n",
      "Total params: 8,383,366\n",
      "Trainable params: 8,341,343\n",
      "Non-trainable params: 42,023\n",
      "__________________________________________________________________________________________________\n"
     ]
    }
   ],
   "source": [
    "tf.keras.backend.clear_session()\n",
    "gc.collect()\n",
    "\n",
    "base_model = tf.keras.applications.EfficientNetB0(\n",
    "               input_shape=(label_target_size, label_target_size, 3), \n",
    "               weights=None,\n",
    "               include_top=False)\n",
    "\n",
    "base_model.trainable = False\n",
    "\n",
    "layer = base_model.output\n",
    "layer = layers.Dense(256, activation='relu')(layer)\n",
    "layer = layers.Flatten()(layer)\n",
    "predictions = layers.Dense(num_label, activation='softmax')(layer)\n",
    "model_effb0 = models.Model(inputs=base_model.input, outputs=predictions)\n",
    "\n",
    "model_effb0.compile(loss='categorical_crossentropy',\n",
    "                    optimizer=\"adam\",\n",
    "                    metrics=['accuracy'])\n",
    "\n",
    "model_effb0.summary()"
   ]
  },
  {
   "cell_type": "code",
   "execution_count": 113,
   "id": "79d7da8f",
   "metadata": {
    "ExecuteTime": {
     "end_time": "2022-02-27T12:49:22.353112Z",
     "start_time": "2022-02-27T12:49:22.347685Z"
    }
   },
   "outputs": [],
   "source": [
    "# tf.keras.backend.clear_session()\n",
    "\n",
    "\n",
    "# effnetb0 = tf.keras.applications.EfficientNetB0(\n",
    "#     include_top=False,\n",
    "#     weights=None,\n",
    "#     input_shape=(label_target_size, label_target_size, 3))\n",
    "\n",
    "# # effnetb0.trainable = False\n",
    "\n",
    "# model_effb0 = models.Sequential()\n",
    "\n",
    "# model_effb0.add(effnetb0)\n",
    "\n",
    "# # model_effb0.add(layers.Flatten())\n",
    "# model_effb0.add(layers.Dense(1024, activation=\"relu\"))\n",
    "# # model_effb0.add(layers.Dropout(0.6))\n",
    "# model_effb0.add(layers.Dense(num_classes, activation='softmax'))\n",
    "\n",
    "# model_effb0.summary()\n",
    "\n",
    "# model_effb0.compile(loss='categorical_crossentropy',\n",
    "#                    optimizer=\"adam\",\n",
    "#                    metrics=['accuracy'])"
   ]
  },
  {
   "cell_type": "code",
   "execution_count": 124,
   "id": "274c6759",
   "metadata": {
    "ExecuteTime": {
     "end_time": "2022-02-27T12:57:27.019690Z",
     "start_time": "2022-02-27T12:57:18.404098Z"
    }
   },
   "outputs": [
    {
     "name": "stdout",
     "output_type": "stream",
     "text": [
      "Epoch 1/10\n",
      "  2/319 [..............................] - ETA: 10:42 - loss: 9.3604 - accuracy: 0.0039    "
     ]
    },
    {
     "ename": "KeyboardInterrupt",
     "evalue": "",
     "output_type": "error",
     "traceback": [
      "\u001b[0;31m---------------------------------------------------------------------------\u001b[0m",
      "\u001b[0;31mKeyboardInterrupt\u001b[0m                         Traceback (most recent call last)",
      "\u001b[0;32m<timed exec>\u001b[0m in \u001b[0;36m<module>\u001b[0;34m\u001b[0m\n",
      "\u001b[0;32m~/.conda/envs/msds2022-ml3/lib/python3.9/site-packages/keras/engine/training.py\u001b[0m in \u001b[0;36mfit\u001b[0;34m(self, x, y, batch_size, epochs, verbose, callbacks, validation_split, validation_data, shuffle, class_weight, sample_weight, initial_epoch, steps_per_epoch, validation_steps, validation_batch_size, validation_freq, max_queue_size, workers, use_multiprocessing)\u001b[0m\n\u001b[1;32m   1182\u001b[0m                 _r=1):\n\u001b[1;32m   1183\u001b[0m               \u001b[0mcallbacks\u001b[0m\u001b[0;34m.\u001b[0m\u001b[0mon_train_batch_begin\u001b[0m\u001b[0;34m(\u001b[0m\u001b[0mstep\u001b[0m\u001b[0;34m)\u001b[0m\u001b[0;34m\u001b[0m\u001b[0;34m\u001b[0m\u001b[0m\n\u001b[0;32m-> 1184\u001b[0;31m               \u001b[0mtmp_logs\u001b[0m \u001b[0;34m=\u001b[0m \u001b[0mself\u001b[0m\u001b[0;34m.\u001b[0m\u001b[0mtrain_function\u001b[0m\u001b[0;34m(\u001b[0m\u001b[0miterator\u001b[0m\u001b[0;34m)\u001b[0m\u001b[0;34m\u001b[0m\u001b[0;34m\u001b[0m\u001b[0m\n\u001b[0m\u001b[1;32m   1185\u001b[0m               \u001b[0;32mif\u001b[0m \u001b[0mdata_handler\u001b[0m\u001b[0;34m.\u001b[0m\u001b[0mshould_sync\u001b[0m\u001b[0;34m:\u001b[0m\u001b[0;34m\u001b[0m\u001b[0;34m\u001b[0m\u001b[0m\n\u001b[1;32m   1186\u001b[0m                 \u001b[0mcontext\u001b[0m\u001b[0;34m.\u001b[0m\u001b[0masync_wait\u001b[0m\u001b[0;34m(\u001b[0m\u001b[0;34m)\u001b[0m\u001b[0;34m\u001b[0m\u001b[0;34m\u001b[0m\u001b[0m\n",
      "\u001b[0;32m~/.conda/envs/msds2022-ml3/lib/python3.9/site-packages/tensorflow/python/eager/def_function.py\u001b[0m in \u001b[0;36m__call__\u001b[0;34m(self, *args, **kwds)\u001b[0m\n\u001b[1;32m    883\u001b[0m \u001b[0;34m\u001b[0m\u001b[0m\n\u001b[1;32m    884\u001b[0m       \u001b[0;32mwith\u001b[0m \u001b[0mOptionalXlaContext\u001b[0m\u001b[0;34m(\u001b[0m\u001b[0mself\u001b[0m\u001b[0;34m.\u001b[0m\u001b[0m_jit_compile\u001b[0m\u001b[0;34m)\u001b[0m\u001b[0;34m:\u001b[0m\u001b[0;34m\u001b[0m\u001b[0;34m\u001b[0m\u001b[0m\n\u001b[0;32m--> 885\u001b[0;31m         \u001b[0mresult\u001b[0m \u001b[0;34m=\u001b[0m \u001b[0mself\u001b[0m\u001b[0;34m.\u001b[0m\u001b[0m_call\u001b[0m\u001b[0;34m(\u001b[0m\u001b[0;34m*\u001b[0m\u001b[0margs\u001b[0m\u001b[0;34m,\u001b[0m \u001b[0;34m**\u001b[0m\u001b[0mkwds\u001b[0m\u001b[0;34m)\u001b[0m\u001b[0;34m\u001b[0m\u001b[0;34m\u001b[0m\u001b[0m\n\u001b[0m\u001b[1;32m    886\u001b[0m \u001b[0;34m\u001b[0m\u001b[0m\n\u001b[1;32m    887\u001b[0m       \u001b[0mnew_tracing_count\u001b[0m \u001b[0;34m=\u001b[0m \u001b[0mself\u001b[0m\u001b[0;34m.\u001b[0m\u001b[0mexperimental_get_tracing_count\u001b[0m\u001b[0;34m(\u001b[0m\u001b[0;34m)\u001b[0m\u001b[0;34m\u001b[0m\u001b[0;34m\u001b[0m\u001b[0m\n",
      "\u001b[0;32m~/.conda/envs/msds2022-ml3/lib/python3.9/site-packages/tensorflow/python/eager/def_function.py\u001b[0m in \u001b[0;36m_call\u001b[0;34m(self, *args, **kwds)\u001b[0m\n\u001b[1;32m    915\u001b[0m       \u001b[0;31m# In this case we have created variables on the first call, so we run the\u001b[0m\u001b[0;34m\u001b[0m\u001b[0;34m\u001b[0m\u001b[0;34m\u001b[0m\u001b[0m\n\u001b[1;32m    916\u001b[0m       \u001b[0;31m# defunned version which is guaranteed to never create variables.\u001b[0m\u001b[0;34m\u001b[0m\u001b[0;34m\u001b[0m\u001b[0;34m\u001b[0m\u001b[0m\n\u001b[0;32m--> 917\u001b[0;31m       \u001b[0;32mreturn\u001b[0m \u001b[0mself\u001b[0m\u001b[0;34m.\u001b[0m\u001b[0m_stateless_fn\u001b[0m\u001b[0;34m(\u001b[0m\u001b[0;34m*\u001b[0m\u001b[0margs\u001b[0m\u001b[0;34m,\u001b[0m \u001b[0;34m**\u001b[0m\u001b[0mkwds\u001b[0m\u001b[0;34m)\u001b[0m  \u001b[0;31m# pylint: disable=not-callable\u001b[0m\u001b[0;34m\u001b[0m\u001b[0;34m\u001b[0m\u001b[0m\n\u001b[0m\u001b[1;32m    918\u001b[0m     \u001b[0;32melif\u001b[0m \u001b[0mself\u001b[0m\u001b[0;34m.\u001b[0m\u001b[0m_stateful_fn\u001b[0m \u001b[0;32mis\u001b[0m \u001b[0;32mnot\u001b[0m \u001b[0;32mNone\u001b[0m\u001b[0;34m:\u001b[0m\u001b[0;34m\u001b[0m\u001b[0;34m\u001b[0m\u001b[0m\n\u001b[1;32m    919\u001b[0m       \u001b[0;31m# Release the lock early so that multiple threads can perform the call\u001b[0m\u001b[0;34m\u001b[0m\u001b[0;34m\u001b[0m\u001b[0;34m\u001b[0m\u001b[0m\n",
      "\u001b[0;32m~/.conda/envs/msds2022-ml3/lib/python3.9/site-packages/tensorflow/python/eager/function.py\u001b[0m in \u001b[0;36m__call__\u001b[0;34m(self, *args, **kwargs)\u001b[0m\n\u001b[1;32m   3037\u001b[0m       (graph_function,\n\u001b[1;32m   3038\u001b[0m        filtered_flat_args) = self._maybe_define_function(args, kwargs)\n\u001b[0;32m-> 3039\u001b[0;31m     return graph_function._call_flat(\n\u001b[0m\u001b[1;32m   3040\u001b[0m         filtered_flat_args, captured_inputs=graph_function.captured_inputs)  # pylint: disable=protected-access\n\u001b[1;32m   3041\u001b[0m \u001b[0;34m\u001b[0m\u001b[0m\n",
      "\u001b[0;32m~/.conda/envs/msds2022-ml3/lib/python3.9/site-packages/tensorflow/python/eager/function.py\u001b[0m in \u001b[0;36m_call_flat\u001b[0;34m(self, args, captured_inputs, cancellation_manager)\u001b[0m\n\u001b[1;32m   1961\u001b[0m         and executing_eagerly):\n\u001b[1;32m   1962\u001b[0m       \u001b[0;31m# No tape is watching; skip to running the function.\u001b[0m\u001b[0;34m\u001b[0m\u001b[0;34m\u001b[0m\u001b[0;34m\u001b[0m\u001b[0m\n\u001b[0;32m-> 1963\u001b[0;31m       return self._build_call_outputs(self._inference_function.call(\n\u001b[0m\u001b[1;32m   1964\u001b[0m           ctx, args, cancellation_manager=cancellation_manager))\n\u001b[1;32m   1965\u001b[0m     forward_backward = self._select_forward_and_backward_functions(\n",
      "\u001b[0;32m~/.conda/envs/msds2022-ml3/lib/python3.9/site-packages/tensorflow/python/eager/function.py\u001b[0m in \u001b[0;36mcall\u001b[0;34m(self, ctx, args, cancellation_manager)\u001b[0m\n\u001b[1;32m    589\u001b[0m       \u001b[0;32mwith\u001b[0m \u001b[0m_InterpolateFunctionError\u001b[0m\u001b[0;34m(\u001b[0m\u001b[0mself\u001b[0m\u001b[0;34m)\u001b[0m\u001b[0;34m:\u001b[0m\u001b[0;34m\u001b[0m\u001b[0;34m\u001b[0m\u001b[0m\n\u001b[1;32m    590\u001b[0m         \u001b[0;32mif\u001b[0m \u001b[0mcancellation_manager\u001b[0m \u001b[0;32mis\u001b[0m \u001b[0;32mNone\u001b[0m\u001b[0;34m:\u001b[0m\u001b[0;34m\u001b[0m\u001b[0;34m\u001b[0m\u001b[0m\n\u001b[0;32m--> 591\u001b[0;31m           outputs = execute.execute(\n\u001b[0m\u001b[1;32m    592\u001b[0m               \u001b[0mstr\u001b[0m\u001b[0;34m(\u001b[0m\u001b[0mself\u001b[0m\u001b[0;34m.\u001b[0m\u001b[0msignature\u001b[0m\u001b[0;34m.\u001b[0m\u001b[0mname\u001b[0m\u001b[0;34m)\u001b[0m\u001b[0;34m,\u001b[0m\u001b[0;34m\u001b[0m\u001b[0;34m\u001b[0m\u001b[0m\n\u001b[1;32m    593\u001b[0m               \u001b[0mnum_outputs\u001b[0m\u001b[0;34m=\u001b[0m\u001b[0mself\u001b[0m\u001b[0;34m.\u001b[0m\u001b[0m_num_outputs\u001b[0m\u001b[0;34m,\u001b[0m\u001b[0;34m\u001b[0m\u001b[0;34m\u001b[0m\u001b[0m\n",
      "\u001b[0;32m~/.conda/envs/msds2022-ml3/lib/python3.9/site-packages/tensorflow/python/eager/execute.py\u001b[0m in \u001b[0;36mquick_execute\u001b[0;34m(op_name, num_outputs, inputs, attrs, ctx, name)\u001b[0m\n\u001b[1;32m     57\u001b[0m   \u001b[0;32mtry\u001b[0m\u001b[0;34m:\u001b[0m\u001b[0;34m\u001b[0m\u001b[0;34m\u001b[0m\u001b[0m\n\u001b[1;32m     58\u001b[0m     \u001b[0mctx\u001b[0m\u001b[0;34m.\u001b[0m\u001b[0mensure_initialized\u001b[0m\u001b[0;34m(\u001b[0m\u001b[0;34m)\u001b[0m\u001b[0;34m\u001b[0m\u001b[0;34m\u001b[0m\u001b[0m\n\u001b[0;32m---> 59\u001b[0;31m     tensors = pywrap_tfe.TFE_Py_Execute(ctx._handle, device_name, op_name,\n\u001b[0m\u001b[1;32m     60\u001b[0m                                         inputs, attrs, num_outputs)\n\u001b[1;32m     61\u001b[0m   \u001b[0;32mexcept\u001b[0m \u001b[0mcore\u001b[0m\u001b[0;34m.\u001b[0m\u001b[0m_NotOkStatusException\u001b[0m \u001b[0;32mas\u001b[0m \u001b[0me\u001b[0m\u001b[0;34m:\u001b[0m\u001b[0;34m\u001b[0m\u001b[0;34m\u001b[0m\u001b[0m\n",
      "\u001b[0;31mKeyboardInterrupt\u001b[0m: "
     ]
    }
   ],
   "source": [
    "%%time\n",
    "\n",
    "filepath_eff = save_dir + \"/model_effb0_label.hdf5\"\n",
    "checkpoint_eff = ModelCheckpoint(filepath_eff, monitor='val_accuracy',\n",
    "                             verbose=1, save_best_only=True, mode='max')\n",
    "\n",
    "history_effb0 = model_effb0.fit(\n",
    "    label_train_gen,\n",
    "#     steps_per_epoch=steps_per_epoch,\n",
    "    epochs=more_epochs,\n",
    "    validation_data=label_val_gen,\n",
    "#     validation_steps=validation_steps,\n",
    "    callbacks=[checkpoint_eff]\n",
    ")"
   ]
  },
  {
   "cell_type": "code",
   "execution_count": null,
   "id": "f38d6492",
   "metadata": {},
   "outputs": [],
   "source": []
  },
  {
   "cell_type": "code",
   "execution_count": null,
   "id": "05dc6287",
   "metadata": {},
   "outputs": [],
   "source": []
  },
  {
   "cell_type": "code",
   "execution_count": null,
   "id": "14b9870a",
   "metadata": {},
   "outputs": [],
   "source": []
  },
  {
   "cell_type": "markdown",
   "id": "9569a401",
   "metadata": {},
   "source": [
    "### Inception V3 Individual Identification"
   ]
  },
  {
   "cell_type": "code",
   "execution_count": 80,
   "id": "bffcad46",
   "metadata": {
    "ExecuteTime": {
     "end_time": "2022-02-27T12:29:15.396197Z",
     "start_time": "2022-02-27T12:29:15.369867Z"
    }
   },
   "outputs": [],
   "source": [
    "label_col = \"individual_id\"\n",
    "num_label = len(df_train[label_col].value_counts())\n",
    "\n",
    "batch_size = 128\n",
    "steps_per_epoch = len(df_train) * 0.8 / batch_size\n",
    "validation_steps = len(df_train) * 0.2 / batch_size\n",
    "\n",
    "more_epochs = 10\n",
    "label_target_size = 112"
   ]
  },
  {
   "cell_type": "code",
   "execution_count": 81,
   "id": "3a2eb7e9",
   "metadata": {
    "ExecuteTime": {
     "end_time": "2022-02-27T12:29:20.498948Z",
     "start_time": "2022-02-27T12:29:19.482481Z"
    }
   },
   "outputs": [
    {
     "name": "stdout",
     "output_type": "stream",
     "text": [
      "Found 40827 validated image filenames belonging to 15587 classes.\n",
      "Found 10206 validated image filenames belonging to 15587 classes.\n"
     ]
    }
   ],
   "source": [
    "from tensorflow.keras.applications.inception_v3 import preprocess_input as preprocess_inception_v3\n",
    "tf.keras.backend.clear_session()\n",
    "\n",
    "# Training set\n",
    "label_train_datagen = ImageDataGenerator(validation_split=0.2,\n",
    "                                         preprocessing_function=preprocess_inception_v3,\n",
    "                                         rotation_range=45,\n",
    "                                         zoom_range=0.2,\n",
    "                                         brightness_range=[0.6, 1.4],\n",
    "                                         channel_shift_range=0.7,\n",
    "                                         horizontal_flip=True,\n",
    "                                         vertical_flip=True,\n",
    "                                         fill_mode='nearest',\n",
    "                                         shear_range=0.1,\n",
    "                                         height_shift_range=0.1,\n",
    "                                         width_shift_range=0.1)\n",
    "\n",
    "label_train_gen = (\n",
    "    label_train_datagen.\n",
    "    flow_from_dataframe(df_train,\n",
    "                        directory = os.path.join(work_dir, train_folder),\n",
    "                        subset=\"training\",\n",
    "                        x_col=img_col,\n",
    "                        y_col=label_col,\n",
    "                        color_mode='rgb',\n",
    "                        target_size=(label_target_size, label_target_size),\n",
    "                        batch_size=batch_size,\n",
    "                        class_mode=\"categorical\")\n",
    ")\n",
    "\n",
    "# Validation set\n",
    "label_val_datagen = ImageDataGenerator(validation_split=0.2)\n",
    "\n",
    "label_val_gen = (\n",
    "    label_val_datagen.\n",
    "    flow_from_dataframe(df_train,\n",
    "                        directory=os.path.join(work_dir, train_folder),\n",
    "                        subset=\"validation\",\n",
    "                        color_mode='rgb',\n",
    "                        x_col=img_col,\n",
    "                        y_col=label_col,\n",
    "                        target_size=(label_target_size, label_target_size),\n",
    "                        batch_size=batch_size,\n",
    "                        class_mode=\"categorical\")\n",
    ")"
   ]
  },
  {
   "cell_type": "markdown",
   "id": "26774bc0",
   "metadata": {},
   "source": [
    "#### Training"
   ]
  },
  {
   "cell_type": "code",
   "execution_count": 82,
   "id": "7483e18a",
   "metadata": {
    "ExecuteTime": {
     "end_time": "2022-02-27T12:29:26.305444Z",
     "start_time": "2022-02-27T12:29:24.054796Z"
    }
   },
   "outputs": [
    {
     "name": "stdout",
     "output_type": "stream",
     "text": [
      "Model: \"sequential\"\n",
      "_________________________________________________________________\n",
      "Layer (type)                 Output Shape              Param #   \n",
      "=================================================================\n",
      "inception_v3 (Functional)    (None, 2, 2, 2048)        21802784  \n",
      "_________________________________________________________________\n",
      "max_pooling2d_4 (MaxPooling2 (None, 1, 1, 2048)        0         \n",
      "_________________________________________________________________\n",
      "flatten (Flatten)            (None, 2048)              0         \n",
      "_________________________________________________________________\n",
      "dense (Dense)                (None, 512)               1049088   \n",
      "_________________________________________________________________\n",
      "dropout (Dropout)            (None, 512)               0         \n",
      "_________________________________________________________________\n",
      "dense_1 (Dense)              (None, 15587)             7996131   \n",
      "=================================================================\n",
      "Total params: 30,848,003\n",
      "Trainable params: 30,813,571\n",
      "Non-trainable params: 34,432\n",
      "_________________________________________________________________\n"
     ]
    }
   ],
   "source": [
    "inception_v3_label = tf.keras.applications.InceptionV3(\n",
    "    include_top=False,\n",
    "    weights = None,\n",
    "    input_shape=(label_target_size, label_target_size, 3))\n",
    "\n",
    "# for layer in inception_v3_label.layers[:249]:\n",
    "#     layer.trainable = False\n",
    "# for layer in inception_v3_label.layers[249:]:\n",
    "#     layer.trainable = True\n",
    "\n",
    "\n",
    "model_inv3_label = models.Sequential()\n",
    "# model_inv3_label.add(layers.Lambda(preprocess_inception_v3,\n",
    "#                              input_shape=(label_target_size,\n",
    "#                                           label_target_size, 3)))\n",
    "model_inv3_label.add(inception_v3_label)\n",
    "model_inv3_label.add(layers.MaxPooling2D(pool_size=(2, 2)))\n",
    "model_inv3_label.add(layers.Flatten())\n",
    "model_inv3_label.add(layers.Dense(512, activation=\"relu\"))\n",
    "model_inv3_label.add(layers.Dropout(0.5))\n",
    "model_inv3_label.add(layers.Dense(num_label, activation='softmax'))\n",
    "\n",
    "model_inv3_label.summary()"
   ]
  },
  {
   "cell_type": "code",
   "execution_count": 83,
   "id": "0516abf9",
   "metadata": {
    "ExecuteTime": {
     "end_time": "2022-02-27T12:30:15.496130Z",
     "start_time": "2022-02-27T12:30:15.453417Z"
    }
   },
   "outputs": [],
   "source": [
    "metrics = [tf.keras.metrics.CategoricalAccuracy(name=\"accuracy\"),\n",
    "           tf.keras.metrics.TopKCategoricalAccuracy(5, name=\"top_5_acc\"),\n",
    "           tf.keras.metrics.Precision(top_k=5, name=\"top_5_map\")]\n",
    "\n",
    "model_inv3_label.compile(loss='categorical_crossentropy',\n",
    "                         optimizer=optimizers.Adam(),\n",
    "                         metrics=metrics)"
   ]
  },
  {
   "cell_type": "code",
   "execution_count": 84,
   "id": "db3f3977",
   "metadata": {
    "ExecuteTime": {
     "end_time": "2022-02-27T12:31:08.813842Z",
     "start_time": "2022-02-27T12:30:21.286294Z"
    }
   },
   "outputs": [
    {
     "name": "stdout",
     "output_type": "stream",
     "text": [
      "Epoch 1/10\n",
      " 10/318 [..............................] - ETA: 16:17 - loss: 9.6990 - accuracy: 0.0031 - top_5_acc: 0.0047 - top_5_map: 9.3750e-04   "
     ]
    },
    {
     "ename": "KeyboardInterrupt",
     "evalue": "",
     "output_type": "error",
     "traceback": [
      "\u001b[0;31m---------------------------------------------------------------------------\u001b[0m",
      "\u001b[0;31mKeyboardInterrupt\u001b[0m                         Traceback (most recent call last)",
      "\u001b[0;32m<timed exec>\u001b[0m in \u001b[0;36m<module>\u001b[0;34m\u001b[0m\n",
      "\u001b[0;32m~/.conda/envs/msds2022-ml3/lib/python3.9/site-packages/keras/engine/training.py\u001b[0m in \u001b[0;36mfit\u001b[0;34m(self, x, y, batch_size, epochs, verbose, callbacks, validation_split, validation_data, shuffle, class_weight, sample_weight, initial_epoch, steps_per_epoch, validation_steps, validation_batch_size, validation_freq, max_queue_size, workers, use_multiprocessing)\u001b[0m\n\u001b[1;32m   1182\u001b[0m                 _r=1):\n\u001b[1;32m   1183\u001b[0m               \u001b[0mcallbacks\u001b[0m\u001b[0;34m.\u001b[0m\u001b[0mon_train_batch_begin\u001b[0m\u001b[0;34m(\u001b[0m\u001b[0mstep\u001b[0m\u001b[0;34m)\u001b[0m\u001b[0;34m\u001b[0m\u001b[0;34m\u001b[0m\u001b[0m\n\u001b[0;32m-> 1184\u001b[0;31m               \u001b[0mtmp_logs\u001b[0m \u001b[0;34m=\u001b[0m \u001b[0mself\u001b[0m\u001b[0;34m.\u001b[0m\u001b[0mtrain_function\u001b[0m\u001b[0;34m(\u001b[0m\u001b[0miterator\u001b[0m\u001b[0;34m)\u001b[0m\u001b[0;34m\u001b[0m\u001b[0;34m\u001b[0m\u001b[0m\n\u001b[0m\u001b[1;32m   1185\u001b[0m               \u001b[0;32mif\u001b[0m \u001b[0mdata_handler\u001b[0m\u001b[0;34m.\u001b[0m\u001b[0mshould_sync\u001b[0m\u001b[0;34m:\u001b[0m\u001b[0;34m\u001b[0m\u001b[0;34m\u001b[0m\u001b[0m\n\u001b[1;32m   1186\u001b[0m                 \u001b[0mcontext\u001b[0m\u001b[0;34m.\u001b[0m\u001b[0masync_wait\u001b[0m\u001b[0;34m(\u001b[0m\u001b[0;34m)\u001b[0m\u001b[0;34m\u001b[0m\u001b[0;34m\u001b[0m\u001b[0m\n",
      "\u001b[0;32m~/.conda/envs/msds2022-ml3/lib/python3.9/site-packages/tensorflow/python/eager/def_function.py\u001b[0m in \u001b[0;36m__call__\u001b[0;34m(self, *args, **kwds)\u001b[0m\n\u001b[1;32m    883\u001b[0m \u001b[0;34m\u001b[0m\u001b[0m\n\u001b[1;32m    884\u001b[0m       \u001b[0;32mwith\u001b[0m \u001b[0mOptionalXlaContext\u001b[0m\u001b[0;34m(\u001b[0m\u001b[0mself\u001b[0m\u001b[0;34m.\u001b[0m\u001b[0m_jit_compile\u001b[0m\u001b[0;34m)\u001b[0m\u001b[0;34m:\u001b[0m\u001b[0;34m\u001b[0m\u001b[0;34m\u001b[0m\u001b[0m\n\u001b[0;32m--> 885\u001b[0;31m         \u001b[0mresult\u001b[0m \u001b[0;34m=\u001b[0m \u001b[0mself\u001b[0m\u001b[0;34m.\u001b[0m\u001b[0m_call\u001b[0m\u001b[0;34m(\u001b[0m\u001b[0;34m*\u001b[0m\u001b[0margs\u001b[0m\u001b[0;34m,\u001b[0m \u001b[0;34m**\u001b[0m\u001b[0mkwds\u001b[0m\u001b[0;34m)\u001b[0m\u001b[0;34m\u001b[0m\u001b[0;34m\u001b[0m\u001b[0m\n\u001b[0m\u001b[1;32m    886\u001b[0m \u001b[0;34m\u001b[0m\u001b[0m\n\u001b[1;32m    887\u001b[0m       \u001b[0mnew_tracing_count\u001b[0m \u001b[0;34m=\u001b[0m \u001b[0mself\u001b[0m\u001b[0;34m.\u001b[0m\u001b[0mexperimental_get_tracing_count\u001b[0m\u001b[0;34m(\u001b[0m\u001b[0;34m)\u001b[0m\u001b[0;34m\u001b[0m\u001b[0;34m\u001b[0m\u001b[0m\n",
      "\u001b[0;32m~/.conda/envs/msds2022-ml3/lib/python3.9/site-packages/tensorflow/python/eager/def_function.py\u001b[0m in \u001b[0;36m_call\u001b[0;34m(self, *args, **kwds)\u001b[0m\n\u001b[1;32m    915\u001b[0m       \u001b[0;31m# In this case we have created variables on the first call, so we run the\u001b[0m\u001b[0;34m\u001b[0m\u001b[0;34m\u001b[0m\u001b[0;34m\u001b[0m\u001b[0m\n\u001b[1;32m    916\u001b[0m       \u001b[0;31m# defunned version which is guaranteed to never create variables.\u001b[0m\u001b[0;34m\u001b[0m\u001b[0;34m\u001b[0m\u001b[0;34m\u001b[0m\u001b[0m\n\u001b[0;32m--> 917\u001b[0;31m       \u001b[0;32mreturn\u001b[0m \u001b[0mself\u001b[0m\u001b[0;34m.\u001b[0m\u001b[0m_stateless_fn\u001b[0m\u001b[0;34m(\u001b[0m\u001b[0;34m*\u001b[0m\u001b[0margs\u001b[0m\u001b[0;34m,\u001b[0m \u001b[0;34m**\u001b[0m\u001b[0mkwds\u001b[0m\u001b[0;34m)\u001b[0m  \u001b[0;31m# pylint: disable=not-callable\u001b[0m\u001b[0;34m\u001b[0m\u001b[0;34m\u001b[0m\u001b[0m\n\u001b[0m\u001b[1;32m    918\u001b[0m     \u001b[0;32melif\u001b[0m \u001b[0mself\u001b[0m\u001b[0;34m.\u001b[0m\u001b[0m_stateful_fn\u001b[0m \u001b[0;32mis\u001b[0m \u001b[0;32mnot\u001b[0m \u001b[0;32mNone\u001b[0m\u001b[0;34m:\u001b[0m\u001b[0;34m\u001b[0m\u001b[0;34m\u001b[0m\u001b[0m\n\u001b[1;32m    919\u001b[0m       \u001b[0;31m# Release the lock early so that multiple threads can perform the call\u001b[0m\u001b[0;34m\u001b[0m\u001b[0;34m\u001b[0m\u001b[0;34m\u001b[0m\u001b[0m\n",
      "\u001b[0;32m~/.conda/envs/msds2022-ml3/lib/python3.9/site-packages/tensorflow/python/eager/function.py\u001b[0m in \u001b[0;36m__call__\u001b[0;34m(self, *args, **kwargs)\u001b[0m\n\u001b[1;32m   3037\u001b[0m       (graph_function,\n\u001b[1;32m   3038\u001b[0m        filtered_flat_args) = self._maybe_define_function(args, kwargs)\n\u001b[0;32m-> 3039\u001b[0;31m     return graph_function._call_flat(\n\u001b[0m\u001b[1;32m   3040\u001b[0m         filtered_flat_args, captured_inputs=graph_function.captured_inputs)  # pylint: disable=protected-access\n\u001b[1;32m   3041\u001b[0m \u001b[0;34m\u001b[0m\u001b[0m\n",
      "\u001b[0;32m~/.conda/envs/msds2022-ml3/lib/python3.9/site-packages/tensorflow/python/eager/function.py\u001b[0m in \u001b[0;36m_call_flat\u001b[0;34m(self, args, captured_inputs, cancellation_manager)\u001b[0m\n\u001b[1;32m   1961\u001b[0m         and executing_eagerly):\n\u001b[1;32m   1962\u001b[0m       \u001b[0;31m# No tape is watching; skip to running the function.\u001b[0m\u001b[0;34m\u001b[0m\u001b[0;34m\u001b[0m\u001b[0;34m\u001b[0m\u001b[0m\n\u001b[0;32m-> 1963\u001b[0;31m       return self._build_call_outputs(self._inference_function.call(\n\u001b[0m\u001b[1;32m   1964\u001b[0m           ctx, args, cancellation_manager=cancellation_manager))\n\u001b[1;32m   1965\u001b[0m     forward_backward = self._select_forward_and_backward_functions(\n",
      "\u001b[0;32m~/.conda/envs/msds2022-ml3/lib/python3.9/site-packages/tensorflow/python/eager/function.py\u001b[0m in \u001b[0;36mcall\u001b[0;34m(self, ctx, args, cancellation_manager)\u001b[0m\n\u001b[1;32m    589\u001b[0m       \u001b[0;32mwith\u001b[0m \u001b[0m_InterpolateFunctionError\u001b[0m\u001b[0;34m(\u001b[0m\u001b[0mself\u001b[0m\u001b[0;34m)\u001b[0m\u001b[0;34m:\u001b[0m\u001b[0;34m\u001b[0m\u001b[0;34m\u001b[0m\u001b[0m\n\u001b[1;32m    590\u001b[0m         \u001b[0;32mif\u001b[0m \u001b[0mcancellation_manager\u001b[0m \u001b[0;32mis\u001b[0m \u001b[0;32mNone\u001b[0m\u001b[0;34m:\u001b[0m\u001b[0;34m\u001b[0m\u001b[0;34m\u001b[0m\u001b[0m\n\u001b[0;32m--> 591\u001b[0;31m           outputs = execute.execute(\n\u001b[0m\u001b[1;32m    592\u001b[0m               \u001b[0mstr\u001b[0m\u001b[0;34m(\u001b[0m\u001b[0mself\u001b[0m\u001b[0;34m.\u001b[0m\u001b[0msignature\u001b[0m\u001b[0;34m.\u001b[0m\u001b[0mname\u001b[0m\u001b[0;34m)\u001b[0m\u001b[0;34m,\u001b[0m\u001b[0;34m\u001b[0m\u001b[0;34m\u001b[0m\u001b[0m\n\u001b[1;32m    593\u001b[0m               \u001b[0mnum_outputs\u001b[0m\u001b[0;34m=\u001b[0m\u001b[0mself\u001b[0m\u001b[0;34m.\u001b[0m\u001b[0m_num_outputs\u001b[0m\u001b[0;34m,\u001b[0m\u001b[0;34m\u001b[0m\u001b[0;34m\u001b[0m\u001b[0m\n",
      "\u001b[0;32m~/.conda/envs/msds2022-ml3/lib/python3.9/site-packages/tensorflow/python/eager/execute.py\u001b[0m in \u001b[0;36mquick_execute\u001b[0;34m(op_name, num_outputs, inputs, attrs, ctx, name)\u001b[0m\n\u001b[1;32m     57\u001b[0m   \u001b[0;32mtry\u001b[0m\u001b[0;34m:\u001b[0m\u001b[0;34m\u001b[0m\u001b[0;34m\u001b[0m\u001b[0m\n\u001b[1;32m     58\u001b[0m     \u001b[0mctx\u001b[0m\u001b[0;34m.\u001b[0m\u001b[0mensure_initialized\u001b[0m\u001b[0;34m(\u001b[0m\u001b[0;34m)\u001b[0m\u001b[0;34m\u001b[0m\u001b[0;34m\u001b[0m\u001b[0m\n\u001b[0;32m---> 59\u001b[0;31m     tensors = pywrap_tfe.TFE_Py_Execute(ctx._handle, device_name, op_name,\n\u001b[0m\u001b[1;32m     60\u001b[0m                                         inputs, attrs, num_outputs)\n\u001b[1;32m     61\u001b[0m   \u001b[0;32mexcept\u001b[0m \u001b[0mcore\u001b[0m\u001b[0;34m.\u001b[0m\u001b[0m_NotOkStatusException\u001b[0m \u001b[0;32mas\u001b[0m \u001b[0me\u001b[0m\u001b[0;34m:\u001b[0m\u001b[0;34m\u001b[0m\u001b[0;34m\u001b[0m\u001b[0m\n",
      "\u001b[0;31mKeyboardInterrupt\u001b[0m: "
     ]
    }
   ],
   "source": [
    "%%time\n",
    "\n",
    "filepath_inv3_label = save_dir + \"/inv3_label_wts_v2.hdf5\"\n",
    "checkpoint_inv3_label = ModelCheckpoint(filepath_inv3_label,\n",
    "                                        monitor='val_accuracy',\n",
    "                                        verbose=1, save_best_only=True,\n",
    "                                        mode='max')\n",
    "earlystop_inv3_label = EarlyStopping(monitor='val_accuracy',\n",
    "                                     patience=3, verbose=1)\n",
    "reduce_lr_inv3_label = ReduceLROnPlateau(monitor='val_loss', factor=0.2,\n",
    "                                         patience=2, min_lr=0.00001,\n",
    "                                         verbose=1)\n",
    "\n",
    "history_inv3_label = model_inv3_label.fit(\n",
    "    label_train_gen,\n",
    "    steps_per_epoch=steps_per_epoch,\n",
    "    epochs=more_epochs,\n",
    "    validation_data=label_val_gen,\n",
    "    validation_steps=validation_steps,\n",
    "    callbacks=[checkpoint_inv3_label, earlystop_inv3_label,\n",
    "               reduce_lr_inv3_label]\n",
    ")"
   ]
  },
  {
   "cell_type": "code",
   "execution_count": 148,
   "id": "aeeaf9ea",
   "metadata": {
    "ExecuteTime": {
     "end_time": "2022-02-27T08:50:14.918203Z",
     "start_time": "2022-02-27T08:50:11.731250Z"
    }
   },
   "outputs": [],
   "source": [
    "model_inv3_label.load_weights(filepath_inv3_label)\n",
    "\n",
    "model_inv3_label.save(save_dir + '/inv3_label_v2.h5')\n",
    "\n",
    "with open(save_dir + '/inv3_hist_label_v2.pickle', 'wb') as handle:\n",
    "    pickle.dump(history_inv3_label.history, handle,\n",
    "                protocol=pickle.HIGHEST_PROTOCOL)"
   ]
  },
  {
   "cell_type": "code",
   "execution_count": 149,
   "id": "0ce7bec1",
   "metadata": {
    "ExecuteTime": {
     "end_time": "2022-02-27T08:50:24.149302Z",
     "start_time": "2022-02-27T08:50:23.381039Z"
    }
   },
   "outputs": [
    {
     "data": {
      "image/png": "[encoded data removed]",
      "text/plain": [
       "<Figure size 1080x720 with 4 Axes>"
      ]
     },
     "metadata": {
      "needs_background": "light"
     },
     "output_type": "display_data"
    }
   ],
   "source": [
    "plot_results_v2(history_inv3_label)"
   ]
  },
  {
   "cell_type": "markdown",
   "id": "f64929eb",
   "metadata": {
    "ExecuteTime": {
     "end_time": "2022-02-27T09:02:50.359699Z",
     "start_time": "2022-02-27T09:02:49.536207Z"
    }
   },
   "source": [
    "### Predicting on the Test Set and Preparing a Submission"
   ]
  },
  {
   "cell_type": "code",
   "execution_count": 98,
   "id": "dae6ccdd",
   "metadata": {
    "ExecuteTime": {
     "end_time": "2022-02-27T12:45:14.621798Z",
     "start_time": "2022-02-27T12:45:11.253084Z"
    }
   },
   "outputs": [],
   "source": [
    "from tensorflow.keras.applications.inception_v3 import preprocess_input as preprocess_inception_v3\n",
    "\n",
    "model_inv3_label = tf.keras.models.load_model(save_dir + '/inv3_label.h5')"
   ]
  },
  {
   "cell_type": "code",
   "execution_count": 99,
   "id": "11302690",
   "metadata": {
    "ExecuteTime": {
     "end_time": "2022-02-27T12:45:15.946000Z",
     "start_time": "2022-02-27T12:45:15.925970Z"
    }
   },
   "outputs": [
    {
     "name": "stdout",
     "output_type": "stream",
     "text": [
      "27956\n"
     ]
    }
   ],
   "source": [
    "label_target_size = 384\n",
    "\n",
    "test = os.listdir(\"./jpeg-happywhale-384x384/test_images\")\n",
    "print(len(test))"
   ]
  },
  {
   "cell_type": "code",
   "execution_count": 100,
   "id": "269a3a1c",
   "metadata": {
    "ExecuteTime": {
     "end_time": "2022-02-27T12:45:18.036530Z",
     "start_time": "2022-02-27T12:45:18.026061Z"
    }
   },
   "outputs": [],
   "source": [
    "df_test = pd.DataFrame(test, columns=['image'])\n",
    "df_test['predictions'] = ''"
   ]
  },
  {
   "cell_type": "code",
   "execution_count": 101,
   "id": "bb8efb6e",
   "metadata": {
    "ExecuteTime": {
     "end_time": "2022-02-27T12:45:20.029134Z",
     "start_time": "2022-02-27T12:45:20.020439Z"
    }
   },
   "outputs": [],
   "source": [
    "def Loading_Images(data, num, dataset):\n",
    "#     print(\"Loading images\")\n",
    "    X_train = np.zeros((num, label_target_size, label_target_size, 3))\n",
    "    count = 0\n",
    "    for fig in tqdm(data['image']):\n",
    "        img = image.load_img(\"./jpeg-happywhale-384x384/\" + dataset + \"/\" + fig,\n",
    "                             target_size=(label_target_size, label_target_size, 3))\n",
    "        x = image.img_to_array(img)\n",
    "        x = preprocess_inception_v3(x)\n",
    "        X_train[count] = x\n",
    "        count += 1\n",
    "    return X_train\n",
    "\n",
    "\n",
    "def prepare_labels(y):\n",
    "    values = np.array(y)\n",
    "    label_encoder = LabelEncoder()\n",
    "    integer_encoded = label_encoder.fit_transform(values)\n",
    "    onehot_encoder = OneHotEncoder(sparse=False)\n",
    "    integer_encoded = integer_encoded.reshape(len(integer_encoded), 1)\n",
    "    onehot_encoded = onehot_encoder.fit_transform(integer_encoded)\n",
    "    y = onehot_encoded\n",
    "    return y, label_encoder"
   ]
  },
  {
   "cell_type": "code",
   "execution_count": 102,
   "id": "58713b4e",
   "metadata": {
    "ExecuteTime": {
     "end_time": "2022-02-27T12:45:21.956775Z",
     "start_time": "2022-02-27T12:45:21.635375Z"
    }
   },
   "outputs": [],
   "source": [
    "y, label_encoder = prepare_labels(df_train['individual_id'])"
   ]
  },
  {
   "cell_type": "code",
   "execution_count": 31,
   "id": "6c2f9bb5",
   "metadata": {
    "ExecuteTime": {
     "end_time": "2022-02-27T11:54:16.974393Z",
     "start_time": "2022-02-27T11:43:17.896217Z"
    }
   },
   "outputs": [
    {
     "name": "stderr",
     "output_type": "stream",
     "text": [
      "100%|██████████| 1000/1000 [00:07<00:00, 127.43it/s]\n"
     ]
    },
    {
     "name": "stdout",
     "output_type": "stream",
     "text": [
      "32/32 [==============================] - 4s 99ms/step\n",
      "Processed 1000\n"
     ]
    },
    {
     "name": "stderr",
     "output_type": "stream",
     "text": [
      "100%|██████████| 1000/1000 [00:07<00:00, 129.38it/s]\n"
     ]
    },
    {
     "name": "stdout",
     "output_type": "stream",
     "text": [
      "32/32 [==============================] - 4s 100ms/step\n",
      "Processed 2000\n"
     ]
    },
    {
     "name": "stderr",
     "output_type": "stream",
     "text": [
      "100%|██████████| 1000/1000 [00:07<00:00, 126.76it/s]\n"
     ]
    },
    {
     "name": "stdout",
     "output_type": "stream",
     "text": [
      "32/32 [==============================] - 4s 99ms/step\n",
      "Processed 3000\n"
     ]
    },
    {
     "name": "stderr",
     "output_type": "stream",
     "text": [
      "100%|██████████| 1000/1000 [00:08<00:00, 123.56it/s]\n"
     ]
    },
    {
     "name": "stdout",
     "output_type": "stream",
     "text": [
      "32/32 [==============================] - 4s 100ms/step\n",
      "Processed 4000\n"
     ]
    },
    {
     "name": "stderr",
     "output_type": "stream",
     "text": [
      "100%|██████████| 1000/1000 [00:07<00:00, 130.90it/s]\n"
     ]
    },
    {
     "name": "stdout",
     "output_type": "stream",
     "text": [
      "32/32 [==============================] - 4s 100ms/step\n",
      "Processed 5000\n"
     ]
    },
    {
     "name": "stderr",
     "output_type": "stream",
     "text": [
      "100%|██████████| 1000/1000 [00:07<00:00, 131.92it/s]\n"
     ]
    },
    {
     "name": "stdout",
     "output_type": "stream",
     "text": [
      "32/32 [==============================] - 4s 99ms/step\n",
      "Processed 6000\n"
     ]
    },
    {
     "name": "stderr",
     "output_type": "stream",
     "text": [
      "100%|██████████| 1000/1000 [00:07<00:00, 129.41it/s]\n"
     ]
    },
    {
     "name": "stdout",
     "output_type": "stream",
     "text": [
      "32/32 [==============================] - 4s 100ms/step\n",
      "Processed 7000\n"
     ]
    },
    {
     "name": "stderr",
     "output_type": "stream",
     "text": [
      "100%|██████████| 1000/1000 [00:07<00:00, 131.03it/s]\n"
     ]
    },
    {
     "name": "stdout",
     "output_type": "stream",
     "text": [
      "32/32 [==============================] - 4s 99ms/step\n",
      "Processed 8000\n"
     ]
    },
    {
     "name": "stderr",
     "output_type": "stream",
     "text": [
      "100%|██████████| 1000/1000 [00:07<00:00, 126.24it/s]\n"
     ]
    },
    {
     "name": "stdout",
     "output_type": "stream",
     "text": [
      "32/32 [==============================] - 4s 98ms/step\n",
      "Processed 9000\n"
     ]
    },
    {
     "name": "stderr",
     "output_type": "stream",
     "text": [
      "100%|██████████| 1000/1000 [00:07<00:00, 125.48it/s]\n"
     ]
    },
    {
     "name": "stdout",
     "output_type": "stream",
     "text": [
      "32/32 [==============================] - 4s 99ms/step\n",
      "Processed 10000\n"
     ]
    },
    {
     "name": "stderr",
     "output_type": "stream",
     "text": [
      "100%|██████████| 1000/1000 [00:07<00:00, 129.20it/s]\n"
     ]
    },
    {
     "name": "stdout",
     "output_type": "stream",
     "text": [
      "32/32 [==============================] - 4s 98ms/step\n",
      "Processed 11000\n"
     ]
    },
    {
     "name": "stderr",
     "output_type": "stream",
     "text": [
      "100%|██████████| 1000/1000 [00:07<00:00, 131.06it/s]\n"
     ]
    },
    {
     "name": "stdout",
     "output_type": "stream",
     "text": [
      "32/32 [==============================] - 4s 99ms/step\n",
      "Processed 12000\n"
     ]
    },
    {
     "name": "stderr",
     "output_type": "stream",
     "text": [
      "100%|██████████| 1000/1000 [00:07<00:00, 131.19it/s]\n"
     ]
    },
    {
     "name": "stdout",
     "output_type": "stream",
     "text": [
      "32/32 [==============================] - 4s 99ms/step\n",
      "Processed 13000\n"
     ]
    },
    {
     "name": "stderr",
     "output_type": "stream",
     "text": [
      "100%|██████████| 1000/1000 [00:07<00:00, 131.20it/s]\n"
     ]
    },
    {
     "name": "stdout",
     "output_type": "stream",
     "text": [
      "32/32 [==============================] - 4s 99ms/step\n",
      "Processed 14000\n"
     ]
    },
    {
     "name": "stderr",
     "output_type": "stream",
     "text": [
      "100%|██████████| 1000/1000 [00:07<00:00, 129.65it/s]\n"
     ]
    },
    {
     "name": "stdout",
     "output_type": "stream",
     "text": [
      "32/32 [==============================] - 4s 100ms/step\n",
      "Processed 15000\n"
     ]
    },
    {
     "name": "stderr",
     "output_type": "stream",
     "text": [
      "100%|██████████| 1000/1000 [00:07<00:00, 126.91it/s]\n"
     ]
    },
    {
     "name": "stdout",
     "output_type": "stream",
     "text": [
      "32/32 [==============================] - 4s 99ms/step\n",
      "Processed 16000\n"
     ]
    },
    {
     "name": "stderr",
     "output_type": "stream",
     "text": [
      "100%|██████████| 1000/1000 [00:07<00:00, 130.69it/s]\n"
     ]
    },
    {
     "name": "stdout",
     "output_type": "stream",
     "text": [
      "32/32 [==============================] - 4s 100ms/step\n",
      "Processed 17000\n"
     ]
    },
    {
     "name": "stderr",
     "output_type": "stream",
     "text": [
      "100%|██████████| 1000/1000 [00:07<00:00, 129.00it/s]\n"
     ]
    },
    {
     "name": "stdout",
     "output_type": "stream",
     "text": [
      "32/32 [==============================] - 4s 100ms/step\n",
      "Processed 18000\n"
     ]
    },
    {
     "name": "stderr",
     "output_type": "stream",
     "text": [
      "100%|██████████| 1000/1000 [00:07<00:00, 128.32it/s]\n"
     ]
    },
    {
     "name": "stdout",
     "output_type": "stream",
     "text": [
      "32/32 [==============================] - 4s 100ms/step\n",
      "Processed 19000\n"
     ]
    },
    {
     "name": "stderr",
     "output_type": "stream",
     "text": [
      "100%|██████████| 1000/1000 [00:07<00:00, 128.30it/s]\n"
     ]
    },
    {
     "name": "stdout",
     "output_type": "stream",
     "text": [
      "32/32 [==============================] - 4s 100ms/step\n",
      "Processed 20000\n"
     ]
    },
    {
     "name": "stderr",
     "output_type": "stream",
     "text": [
      "100%|██████████| 1000/1000 [00:07<00:00, 127.61it/s]\n"
     ]
    },
    {
     "name": "stdout",
     "output_type": "stream",
     "text": [
      "32/32 [==============================] - 4s 99ms/step\n",
      "Processed 21000\n"
     ]
    },
    {
     "name": "stderr",
     "output_type": "stream",
     "text": [
      "100%|██████████| 1000/1000 [00:07<00:00, 125.78it/s]\n"
     ]
    },
    {
     "name": "stdout",
     "output_type": "stream",
     "text": [
      "32/32 [==============================] - 4s 101ms/step\n",
      "Processed 22000\n"
     ]
    },
    {
     "name": "stderr",
     "output_type": "stream",
     "text": [
      "100%|██████████| 1000/1000 [00:07<00:00, 125.83it/s]\n"
     ]
    },
    {
     "name": "stdout",
     "output_type": "stream",
     "text": [
      "32/32 [==============================] - 4s 100ms/step\n",
      "Processed 23000\n"
     ]
    },
    {
     "name": "stderr",
     "output_type": "stream",
     "text": [
      "100%|██████████| 1000/1000 [00:07<00:00, 128.75it/s]\n"
     ]
    },
    {
     "name": "stdout",
     "output_type": "stream",
     "text": [
      "32/32 [==============================] - 4s 100ms/step\n",
      "Processed 24000\n"
     ]
    },
    {
     "name": "stderr",
     "output_type": "stream",
     "text": [
      "100%|██████████| 1000/1000 [00:08<00:00, 121.43it/s]\n"
     ]
    },
    {
     "name": "stdout",
     "output_type": "stream",
     "text": [
      "32/32 [==============================] - 4s 101ms/step\n",
      "Processed 25000\n"
     ]
    },
    {
     "name": "stderr",
     "output_type": "stream",
     "text": [
      "100%|██████████| 1000/1000 [00:08<00:00, 120.08it/s]\n"
     ]
    },
    {
     "name": "stdout",
     "output_type": "stream",
     "text": [
      "32/32 [==============================] - 4s 99ms/step\n",
      "Processed 26000\n"
     ]
    },
    {
     "name": "stderr",
     "output_type": "stream",
     "text": [
      "100%|██████████| 1000/1000 [00:07<00:00, 129.42it/s]\n"
     ]
    },
    {
     "name": "stdout",
     "output_type": "stream",
     "text": [
      "32/32 [==============================] - 4s 100ms/step\n",
      "Processed 27000\n"
     ]
    },
    {
     "name": "stderr",
     "output_type": "stream",
     "text": [
      "100%|██████████| 956/956 [00:07<00:00, 124.86it/s]\n"
     ]
    },
    {
     "name": "stdout",
     "output_type": "stream",
     "text": [
      "30/30 [==============================] - 4s 99ms/step\n",
      "Processed 27956\n"
     ]
    }
   ],
   "source": [
    "batch_size = 1000\n",
    "batch_start = 0\n",
    "batch_end = batch_size\n",
    "len_df = len(df_test)\n",
    "\n",
    "\n",
    "while batch_start < len_df:\n",
    "    limit = min(batch_end, len_df)\n",
    "    df_test_batch = df_test.iloc[batch_start:limit]\n",
    "    X = Loading_Images(df_test_batch, df_test_batch.shape[0], \"test_images\")\n",
    "    X /= 255\n",
    "    predictions = model_inv3_label.predict(np.array(X), verbose=1)\n",
    "    for i, pred in enumerate(predictions):\n",
    "        p = pred.argsort()[-5:][::-1]\n",
    "        idx = -1\n",
    "        s = ''\n",
    "        s1 = ''\n",
    "        s2 = ''\n",
    "        for x in p:\n",
    "            idx = idx + 1\n",
    "            if pred[x] > 0.1:\n",
    "                s1 = s1 + ' ' +  label_encoder.inverse_transform(p)[idx]\n",
    "            else:\n",
    "                s2 = s2 + ' ' + label_encoder.inverse_transform(p)[idx]\n",
    "        s = s1 + ' new_individual' + s2\n",
    "        s = s.strip(' ')\n",
    "        df_test.loc[batch_start + i, 'predictions'] = s\n",
    "    batch_start += batch_size   \n",
    "    batch_end += batch_size\n",
    "    print(f'Processed {limit}')\n",
    "    del X\n",
    "    del df_test_batch\n",
    "    del predictions\n",
    "    gc.collect()"
   ]
  },
  {
   "cell_type": "code",
   "execution_count": 32,
   "id": "5bddc1a5",
   "metadata": {
    "ExecuteTime": {
     "end_time": "2022-02-27T11:54:17.071088Z",
     "start_time": "2022-02-27T11:54:16.976339Z"
    }
   },
   "outputs": [
    {
     "data": {
      "text/html": [
       "<div>\n",
       "<style scoped>\n",
       "    .dataframe tbody tr th:only-of-type {\n",
       "        vertical-align: middle;\n",
       "    }\n",
       "\n",
       "    .dataframe tbody tr th {\n",
       "        vertical-align: top;\n",
       "    }\n",
       "\n",
       "    .dataframe thead th {\n",
       "        text-align: right;\n",
       "    }\n",
       "</style>\n",
       "<table border=\"1\" class=\"dataframe\">\n",
       "  <thead>\n",
       "    <tr style=\"text-align: right;\">\n",
       "      <th></th>\n",
       "      <th>image</th>\n",
       "      <th>predictions</th>\n",
       "    </tr>\n",
       "  </thead>\n",
       "  <tbody>\n",
       "    <tr>\n",
       "      <th>0</th>\n",
       "      <td>0453ad477acaec.jpg</td>\n",
       "      <td>37c7aba965a5 180c0ab04dcd abbeba14a290 938b7e9...</td>\n",
       "    </tr>\n",
       "    <tr>\n",
       "      <th>1</th>\n",
       "      <td>0454ac14150afc.jpg</td>\n",
       "      <td>37c7aba965a5 180c0ab04dcd abbeba14a290 938b7e9...</td>\n",
       "    </tr>\n",
       "    <tr>\n",
       "      <th>2</th>\n",
       "      <td>055b5053dab2f1.jpg</td>\n",
       "      <td>37c7aba965a5 180c0ab04dcd abbeba14a290 938b7e9...</td>\n",
       "    </tr>\n",
       "    <tr>\n",
       "      <th>3</th>\n",
       "      <td>068bd9a7665887.jpg</td>\n",
       "      <td>37c7aba965a5 180c0ab04dcd abbeba14a290 938b7e9...</td>\n",
       "    </tr>\n",
       "    <tr>\n",
       "      <th>4</th>\n",
       "      <td>078c471d482d92.jpg</td>\n",
       "      <td>37c7aba965a5 180c0ab04dcd abbeba14a290 938b7e9...</td>\n",
       "    </tr>\n",
       "    <tr>\n",
       "      <th>...</th>\n",
       "      <td>...</td>\n",
       "      <td>...</td>\n",
       "    </tr>\n",
       "    <tr>\n",
       "      <th>27951</th>\n",
       "      <td>8be7efa92a4fc5.jpg</td>\n",
       "      <td>37c7aba965a5 180c0ab04dcd abbeba14a290 938b7e9...</td>\n",
       "    </tr>\n",
       "    <tr>\n",
       "      <th>27952</th>\n",
       "      <td>a3fbacc98667b1.jpg</td>\n",
       "      <td>37c7aba965a5 180c0ab04dcd abbeba14a290 938b7e9...</td>\n",
       "    </tr>\n",
       "    <tr>\n",
       "      <th>27953</th>\n",
       "      <td>345c5689d879b2.jpg</td>\n",
       "      <td>37c7aba965a5 180c0ab04dcd abbeba14a290 938b7e9...</td>\n",
       "    </tr>\n",
       "    <tr>\n",
       "      <th>27954</th>\n",
       "      <td>fe0681ef62e5ed.jpg</td>\n",
       "      <td>37c7aba965a5 180c0ab04dcd abbeba14a290 938b7e9...</td>\n",
       "    </tr>\n",
       "    <tr>\n",
       "      <th>27955</th>\n",
       "      <td>ff4261d7ad84fe.jpg</td>\n",
       "      <td>37c7aba965a5 180c0ab04dcd abbeba14a290 938b7e9...</td>\n",
       "    </tr>\n",
       "  </tbody>\n",
       "</table>\n",
       "<p>27956 rows × 2 columns</p>\n",
       "</div>"
      ],
      "text/plain": [
       "                    image                                        predictions\n",
       "0      0453ad477acaec.jpg  37c7aba965a5 180c0ab04dcd abbeba14a290 938b7e9...\n",
       "1      0454ac14150afc.jpg  37c7aba965a5 180c0ab04dcd abbeba14a290 938b7e9...\n",
       "2      055b5053dab2f1.jpg  37c7aba965a5 180c0ab04dcd abbeba14a290 938b7e9...\n",
       "3      068bd9a7665887.jpg  37c7aba965a5 180c0ab04dcd abbeba14a290 938b7e9...\n",
       "4      078c471d482d92.jpg  37c7aba965a5 180c0ab04dcd abbeba14a290 938b7e9...\n",
       "...                   ...                                                ...\n",
       "27951  8be7efa92a4fc5.jpg  37c7aba965a5 180c0ab04dcd abbeba14a290 938b7e9...\n",
       "27952  a3fbacc98667b1.jpg  37c7aba965a5 180c0ab04dcd abbeba14a290 938b7e9...\n",
       "27953  345c5689d879b2.jpg  37c7aba965a5 180c0ab04dcd abbeba14a290 938b7e9...\n",
       "27954  fe0681ef62e5ed.jpg  37c7aba965a5 180c0ab04dcd abbeba14a290 938b7e9...\n",
       "27955  ff4261d7ad84fe.jpg  37c7aba965a5 180c0ab04dcd abbeba14a290 938b7e9...\n",
       "\n",
       "[27956 rows x 2 columns]"
      ]
     },
     "execution_count": 32,
     "metadata": {},
     "output_type": "execute_result"
    }
   ],
   "source": [
    "df_test.to_csv('submission2.csv', index=False)\n",
    "df_test"
   ]
  },
  {
   "cell_type": "code",
   "execution_count": 36,
   "id": "19681dbf",
   "metadata": {
    "ExecuteTime": {
     "end_time": "2022-02-27T11:57:18.198672Z",
     "start_time": "2022-02-27T11:57:18.189016Z"
    }
   },
   "outputs": [
    {
     "data": {
      "text/plain": [
       "10000    37c7aba965a5 180c0ab04dcd abbeba14a290 938b7e9...\n",
       "10001    37c7aba965a5 180c0ab04dcd abbeba14a290 938b7e9...\n",
       "10002    37c7aba965a5 180c0ab04dcd abbeba14a290 938b7e9...\n",
       "10003    37c7aba965a5 180c0ab04dcd abbeba14a290 938b7e9...\n",
       "10004    37c7aba965a5 180c0ab04dcd abbeba14a290 938b7e9...\n",
       "                               ...                        \n",
       "10995    37c7aba965a5 180c0ab04dcd abbeba14a290 938b7e9...\n",
       "10996    37c7aba965a5 180c0ab04dcd abbeba14a290 938b7e9...\n",
       "10997    37c7aba965a5 180c0ab04dcd abbeba14a290 938b7e9...\n",
       "10998    37c7aba965a5 180c0ab04dcd abbeba14a290 938b7e9...\n",
       "10999    37c7aba965a5 180c0ab04dcd abbeba14a290 938b7e9...\n",
       "Name: predictions, Length: 1000, dtype: object"
      ]
     },
     "execution_count": 36,
     "metadata": {},
     "output_type": "execute_result"
    }
   ],
   "source": [
    "df_test['predictions'][10000:11000]"
   ]
  },
  {
   "cell_type": "code",
   "execution_count": 27,
   "id": "8449e43c",
   "metadata": {
    "ExecuteTime": {
     "end_time": "2022-02-27T11:36:58.793304Z",
     "start_time": "2022-02-27T11:36:58.754664Z"
    }
   },
   "outputs": [
    {
     "data": {
      "text/plain": [
       "['37c7aba965a5 180c0ab04dcd abbeba14a290 938b7e931166 6a3af6e0c55c new_individual',\n",
       " '37c7aba965a5 180c0ab04dcd abbeba14a290 938b7e931166 6a3af6e0c55c new_individual',\n",
       " '37c7aba965a5 180c0ab04dcd abbeba14a290 938b7e931166 6a3af6e0c55c new_individual',\n",
       " '37c7aba965a5 180c0ab04dcd abbeba14a290 938b7e931166 6a3af6e0c55c new_individual',\n",
       " '37c7aba965a5 180c0ab04dcd abbeba14a290 938b7e931166 6a3af6e0c55c new_individual',\n",
       " '37c7aba965a5 180c0ab04dcd abbeba14a290 938b7e931166 6a3af6e0c55c new_individual',\n",
       " '37c7aba965a5 180c0ab04dcd abbeba14a290 938b7e931166 6a3af6e0c55c new_individual',\n",
       " '37c7aba965a5 180c0ab04dcd abbeba14a290 938b7e931166 6a3af6e0c55c new_individual',\n",
       " '37c7aba965a5 180c0ab04dcd abbeba14a290 938b7e931166 6a3af6e0c55c new_individual',\n",
       " '37c7aba965a5 180c0ab04dcd abbeba14a290 938b7e931166 6a3af6e0c55c new_individual',\n",
       " '37c7aba965a5 180c0ab04dcd abbeba14a290 938b7e931166 6a3af6e0c55c new_individual',\n",
       " '37c7aba965a5 180c0ab04dcd abbeba14a290 938b7e931166 6a3af6e0c55c new_individual',\n",
       " '37c7aba965a5 180c0ab04dcd abbeba14a290 938b7e931166 6a3af6e0c55c new_individual',\n",
       " '37c7aba965a5 180c0ab04dcd abbeba14a290 938b7e931166 6a3af6e0c55c new_individual',\n",
       " '37c7aba965a5 180c0ab04dcd abbeba14a290 938b7e931166 6a3af6e0c55c new_individual',\n",
       " '37c7aba965a5 180c0ab04dcd abbeba14a290 938b7e931166 6a3af6e0c55c new_individual',\n",
       " '37c7aba965a5 180c0ab04dcd abbeba14a290 938b7e931166 6a3af6e0c55c new_individual',\n",
       " '37c7aba965a5 180c0ab04dcd abbeba14a290 938b7e931166 6a3af6e0c55c new_individual',\n",
       " '37c7aba965a5 180c0ab04dcd abbeba14a290 938b7e931166 6a3af6e0c55c new_individual',\n",
       " '37c7aba965a5 180c0ab04dcd abbeba14a290 938b7e931166 6a3af6e0c55c new_individual',\n",
       " '37c7aba965a5 180c0ab04dcd abbeba14a290 938b7e931166 6a3af6e0c55c new_individual',\n",
       " '37c7aba965a5 180c0ab04dcd abbeba14a290 938b7e931166 6a3af6e0c55c new_individual',\n",
       " '37c7aba965a5 180c0ab04dcd abbeba14a290 938b7e931166 6a3af6e0c55c new_individual',\n",
       " '37c7aba965a5 180c0ab04dcd abbeba14a290 938b7e931166 6a3af6e0c55c new_individual',\n",
       " '37c7aba965a5 180c0ab04dcd abbeba14a290 938b7e931166 6a3af6e0c55c new_individual',\n",
       " '37c7aba965a5 180c0ab04dcd abbeba14a290 938b7e931166 6a3af6e0c55c new_individual',\n",
       " '37c7aba965a5 180c0ab04dcd abbeba14a290 938b7e931166 6a3af6e0c55c new_individual',\n",
       " '37c7aba965a5 180c0ab04dcd abbeba14a290 938b7e931166 6a3af6e0c55c new_individual',\n",
       " '37c7aba965a5 180c0ab04dcd abbeba14a290 938b7e931166 6a3af6e0c55c new_individual',\n",
       " '37c7aba965a5 180c0ab04dcd abbeba14a290 938b7e931166 6a3af6e0c55c new_individual',\n",
       " '37c7aba965a5 180c0ab04dcd abbeba14a290 938b7e931166 6a3af6e0c55c new_individual',\n",
       " '37c7aba965a5 180c0ab04dcd abbeba14a290 938b7e931166 6a3af6e0c55c new_individual',\n",
       " '37c7aba965a5 180c0ab04dcd abbeba14a290 938b7e931166 6a3af6e0c55c new_individual',\n",
       " '37c7aba965a5 180c0ab04dcd abbeba14a290 938b7e931166 6a3af6e0c55c new_individual',\n",
       " '37c7aba965a5 180c0ab04dcd abbeba14a290 938b7e931166 6a3af6e0c55c new_individual',\n",
       " '37c7aba965a5 180c0ab04dcd abbeba14a290 938b7e931166 6a3af6e0c55c new_individual',\n",
       " '37c7aba965a5 180c0ab04dcd abbeba14a290 938b7e931166 6a3af6e0c55c new_individual',\n",
       " '37c7aba965a5 180c0ab04dcd abbeba14a290 938b7e931166 6a3af6e0c55c new_individual',\n",
       " '37c7aba965a5 180c0ab04dcd abbeba14a290 938b7e931166 6a3af6e0c55c new_individual',\n",
       " '37c7aba965a5 180c0ab04dcd abbeba14a290 938b7e931166 6a3af6e0c55c new_individual',\n",
       " '37c7aba965a5 180c0ab04dcd abbeba14a290 938b7e931166 6a3af6e0c55c new_individual',\n",
       " '37c7aba965a5 180c0ab04dcd abbeba14a290 938b7e931166 6a3af6e0c55c new_individual',\n",
       " '37c7aba965a5 180c0ab04dcd abbeba14a290 938b7e931166 6a3af6e0c55c new_individual',\n",
       " '37c7aba965a5 180c0ab04dcd abbeba14a290 938b7e931166 6a3af6e0c55c new_individual',\n",
       " '37c7aba965a5 180c0ab04dcd abbeba14a290 938b7e931166 6a3af6e0c55c new_individual',\n",
       " '37c7aba965a5 180c0ab04dcd abbeba14a290 938b7e931166 6a3af6e0c55c new_individual',\n",
       " '37c7aba965a5 180c0ab04dcd abbeba14a290 938b7e931166 6a3af6e0c55c new_individual',\n",
       " '37c7aba965a5 180c0ab04dcd abbeba14a290 938b7e931166 6a3af6e0c55c new_individual',\n",
       " '37c7aba965a5 180c0ab04dcd abbeba14a290 938b7e931166 6a3af6e0c55c new_individual',\n",
       " '37c7aba965a5 180c0ab04dcd abbeba14a290 938b7e931166 6a3af6e0c55c new_individual',\n",
       " '37c7aba965a5 180c0ab04dcd abbeba14a290 938b7e931166 6a3af6e0c55c new_individual',\n",
       " '37c7aba965a5 180c0ab04dcd abbeba14a290 938b7e931166 6a3af6e0c55c new_individual',\n",
       " '37c7aba965a5 180c0ab04dcd abbeba14a290 938b7e931166 6a3af6e0c55c new_individual',\n",
       " '37c7aba965a5 180c0ab04dcd abbeba14a290 938b7e931166 6a3af6e0c55c new_individual',\n",
       " '37c7aba965a5 180c0ab04dcd abbeba14a290 938b7e931166 6a3af6e0c55c new_individual',\n",
       " '37c7aba965a5 180c0ab04dcd abbeba14a290 938b7e931166 6a3af6e0c55c new_individual',\n",
       " '37c7aba965a5 180c0ab04dcd abbeba14a290 938b7e931166 6a3af6e0c55c new_individual',\n",
       " '37c7aba965a5 180c0ab04dcd abbeba14a290 938b7e931166 6a3af6e0c55c new_individual',\n",
       " '37c7aba965a5 180c0ab04dcd abbeba14a290 938b7e931166 6a3af6e0c55c new_individual',\n",
       " '37c7aba965a5 180c0ab04dcd abbeba14a290 938b7e931166 6a3af6e0c55c new_individual',\n",
       " '37c7aba965a5 180c0ab04dcd abbeba14a290 938b7e931166 6a3af6e0c55c new_individual',\n",
       " '37c7aba965a5 180c0ab04dcd abbeba14a290 938b7e931166 6a3af6e0c55c new_individual',\n",
       " '37c7aba965a5 180c0ab04dcd abbeba14a290 938b7e931166 6a3af6e0c55c new_individual',\n",
       " '37c7aba965a5 180c0ab04dcd abbeba14a290 938b7e931166 6a3af6e0c55c new_individual',\n",
       " '37c7aba965a5 180c0ab04dcd abbeba14a290 938b7e931166 6a3af6e0c55c new_individual',\n",
       " '37c7aba965a5 180c0ab04dcd abbeba14a290 938b7e931166 6a3af6e0c55c new_individual',\n",
       " '37c7aba965a5 180c0ab04dcd abbeba14a290 938b7e931166 6a3af6e0c55c new_individual',\n",
       " '37c7aba965a5 180c0ab04dcd abbeba14a290 938b7e931166 6a3af6e0c55c new_individual',\n",
       " '37c7aba965a5 180c0ab04dcd abbeba14a290 938b7e931166 6a3af6e0c55c new_individual',\n",
       " '37c7aba965a5 180c0ab04dcd abbeba14a290 938b7e931166 6a3af6e0c55c new_individual',\n",
       " '37c7aba965a5 180c0ab04dcd abbeba14a290 938b7e931166 6a3af6e0c55c new_individual',\n",
       " '37c7aba965a5 180c0ab04dcd abbeba14a290 938b7e931166 6a3af6e0c55c new_individual',\n",
       " '37c7aba965a5 180c0ab04dcd abbeba14a290 938b7e931166 6a3af6e0c55c new_individual',\n",
       " '37c7aba965a5 180c0ab04dcd abbeba14a290 938b7e931166 6a3af6e0c55c new_individual',\n",
       " '37c7aba965a5 180c0ab04dcd abbeba14a290 938b7e931166 6a3af6e0c55c new_individual',\n",
       " '37c7aba965a5 180c0ab04dcd abbeba14a290 938b7e931166 6a3af6e0c55c new_individual',\n",
       " '37c7aba965a5 180c0ab04dcd abbeba14a290 938b7e931166 6a3af6e0c55c new_individual',\n",
       " '37c7aba965a5 180c0ab04dcd abbeba14a290 938b7e931166 6a3af6e0c55c new_individual',\n",
       " '37c7aba965a5 180c0ab04dcd abbeba14a290 938b7e931166 6a3af6e0c55c new_individual',\n",
       " '37c7aba965a5 180c0ab04dcd abbeba14a290 938b7e931166 6a3af6e0c55c new_individual',\n",
       " '37c7aba965a5 180c0ab04dcd abbeba14a290 938b7e931166 6a3af6e0c55c new_individual',\n",
       " '37c7aba965a5 180c0ab04dcd abbeba14a290 938b7e931166 6a3af6e0c55c new_individual',\n",
       " '37c7aba965a5 180c0ab04dcd abbeba14a290 938b7e931166 6a3af6e0c55c new_individual',\n",
       " '37c7aba965a5 180c0ab04dcd abbeba14a290 938b7e931166 6a3af6e0c55c new_individual',\n",
       " '37c7aba965a5 180c0ab04dcd abbeba14a290 938b7e931166 6a3af6e0c55c new_individual',\n",
       " '37c7aba965a5 180c0ab04dcd abbeba14a290 938b7e931166 6a3af6e0c55c new_individual',\n",
       " '37c7aba965a5 180c0ab04dcd abbeba14a290 938b7e931166 6a3af6e0c55c new_individual',\n",
       " '37c7aba965a5 180c0ab04dcd abbeba14a290 938b7e931166 6a3af6e0c55c new_individual',\n",
       " '37c7aba965a5 180c0ab04dcd abbeba14a290 938b7e931166 6a3af6e0c55c new_individual',\n",
       " '37c7aba965a5 180c0ab04dcd abbeba14a290 938b7e931166 6a3af6e0c55c new_individual',\n",
       " '37c7aba965a5 180c0ab04dcd abbeba14a290 938b7e931166 6a3af6e0c55c new_individual',\n",
       " '37c7aba965a5 180c0ab04dcd abbeba14a290 938b7e931166 6a3af6e0c55c new_individual',\n",
       " '37c7aba965a5 180c0ab04dcd abbeba14a290 938b7e931166 6a3af6e0c55c new_individual',\n",
       " '37c7aba965a5 180c0ab04dcd abbeba14a290 938b7e931166 6a3af6e0c55c new_individual',\n",
       " '37c7aba965a5 180c0ab04dcd abbeba14a290 938b7e931166 6a3af6e0c55c new_individual',\n",
       " '37c7aba965a5 180c0ab04dcd abbeba14a290 938b7e931166 6a3af6e0c55c new_individual',\n",
       " '37c7aba965a5 180c0ab04dcd abbeba14a290 938b7e931166 6a3af6e0c55c new_individual',\n",
       " '37c7aba965a5 180c0ab04dcd abbeba14a290 938b7e931166 6a3af6e0c55c new_individual',\n",
       " '37c7aba965a5 180c0ab04dcd abbeba14a290 938b7e931166 6a3af6e0c55c new_individual',\n",
       " '37c7aba965a5 180c0ab04dcd abbeba14a290 938b7e931166 6a3af6e0c55c new_individual',\n",
       " '37c7aba965a5 180c0ab04dcd abbeba14a290 938b7e931166 6a3af6e0c55c new_individual',\n",
       " '37c7aba965a5 180c0ab04dcd abbeba14a290 938b7e931166 6a3af6e0c55c new_individual',\n",
       " '37c7aba965a5 180c0ab04dcd abbeba14a290 938b7e931166 6a3af6e0c55c new_individual',\n",
       " '37c7aba965a5 180c0ab04dcd abbeba14a290 938b7e931166 6a3af6e0c55c new_individual',\n",
       " '37c7aba965a5 180c0ab04dcd abbeba14a290 938b7e931166 6a3af6e0c55c new_individual',\n",
       " '37c7aba965a5 180c0ab04dcd abbeba14a290 938b7e931166 6a3af6e0c55c new_individual',\n",
       " '37c7aba965a5 180c0ab04dcd abbeba14a290 938b7e931166 6a3af6e0c55c new_individual',\n",
       " '37c7aba965a5 180c0ab04dcd abbeba14a290 938b7e931166 6a3af6e0c55c new_individual',\n",
       " '37c7aba965a5 180c0ab04dcd abbeba14a290 938b7e931166 6a3af6e0c55c new_individual',\n",
       " '37c7aba965a5 180c0ab04dcd abbeba14a290 938b7e931166 6a3af6e0c55c new_individual',\n",
       " '37c7aba965a5 180c0ab04dcd abbeba14a290 938b7e931166 6a3af6e0c55c new_individual',\n",
       " '37c7aba965a5 180c0ab04dcd abbeba14a290 938b7e931166 6a3af6e0c55c new_individual',\n",
       " '37c7aba965a5 180c0ab04dcd abbeba14a290 938b7e931166 6a3af6e0c55c new_individual',\n",
       " '37c7aba965a5 180c0ab04dcd abbeba14a290 938b7e931166 6a3af6e0c55c new_individual',\n",
       " '37c7aba965a5 180c0ab04dcd abbeba14a290 938b7e931166 6a3af6e0c55c new_individual',\n",
       " '37c7aba965a5 180c0ab04dcd abbeba14a290 938b7e931166 6a3af6e0c55c new_individual',\n",
       " '37c7aba965a5 180c0ab04dcd abbeba14a290 938b7e931166 6a3af6e0c55c new_individual',\n",
       " '37c7aba965a5 180c0ab04dcd abbeba14a290 938b7e931166 6a3af6e0c55c new_individual',\n",
       " '37c7aba965a5 180c0ab04dcd abbeba14a290 938b7e931166 6a3af6e0c55c new_individual',\n",
       " '37c7aba965a5 180c0ab04dcd abbeba14a290 938b7e931166 6a3af6e0c55c new_individual',\n",
       " '37c7aba965a5 180c0ab04dcd abbeba14a290 938b7e931166 6a3af6e0c55c new_individual',\n",
       " '37c7aba965a5 180c0ab04dcd abbeba14a290 938b7e931166 6a3af6e0c55c new_individual',\n",
       " '37c7aba965a5 180c0ab04dcd abbeba14a290 938b7e931166 6a3af6e0c55c new_individual',\n",
       " '37c7aba965a5 180c0ab04dcd abbeba14a290 938b7e931166 6a3af6e0c55c new_individual',\n",
       " '37c7aba965a5 180c0ab04dcd abbeba14a290 938b7e931166 6a3af6e0c55c new_individual',\n",
       " '37c7aba965a5 180c0ab04dcd abbeba14a290 938b7e931166 6a3af6e0c55c new_individual',\n",
       " '37c7aba965a5 180c0ab04dcd abbeba14a290 938b7e931166 6a3af6e0c55c new_individual',\n",
       " '37c7aba965a5 180c0ab04dcd abbeba14a290 938b7e931166 6a3af6e0c55c new_individual',\n",
       " '37c7aba965a5 180c0ab04dcd abbeba14a290 938b7e931166 6a3af6e0c55c new_individual',\n",
       " '37c7aba965a5 180c0ab04dcd abbeba14a290 938b7e931166 6a3af6e0c55c new_individual',\n",
       " '37c7aba965a5 180c0ab04dcd abbeba14a290 938b7e931166 6a3af6e0c55c new_individual',\n",
       " '37c7aba965a5 180c0ab04dcd abbeba14a290 938b7e931166 6a3af6e0c55c new_individual',\n",
       " '37c7aba965a5 180c0ab04dcd abbeba14a290 938b7e931166 6a3af6e0c55c new_individual',\n",
       " '37c7aba965a5 180c0ab04dcd abbeba14a290 938b7e931166 6a3af6e0c55c new_individual',\n",
       " '37c7aba965a5 180c0ab04dcd abbeba14a290 938b7e931166 6a3af6e0c55c new_individual',\n",
       " '37c7aba965a5 180c0ab04dcd abbeba14a290 938b7e931166 6a3af6e0c55c new_individual',\n",
       " '37c7aba965a5 180c0ab04dcd abbeba14a290 938b7e931166 6a3af6e0c55c new_individual',\n",
       " '37c7aba965a5 180c0ab04dcd abbeba14a290 938b7e931166 6a3af6e0c55c new_individual',\n",
       " '37c7aba965a5 180c0ab04dcd abbeba14a290 938b7e931166 6a3af6e0c55c new_individual',\n",
       " '37c7aba965a5 180c0ab04dcd abbeba14a290 938b7e931166 6a3af6e0c55c new_individual',\n",
       " '37c7aba965a5 180c0ab04dcd abbeba14a290 938b7e931166 6a3af6e0c55c new_individual',\n",
       " '37c7aba965a5 180c0ab04dcd abbeba14a290 938b7e931166 6a3af6e0c55c new_individual',\n",
       " '37c7aba965a5 180c0ab04dcd abbeba14a290 938b7e931166 6a3af6e0c55c new_individual',\n",
       " '37c7aba965a5 180c0ab04dcd abbeba14a290 938b7e931166 6a3af6e0c55c new_individual',\n",
       " '37c7aba965a5 180c0ab04dcd abbeba14a290 938b7e931166 6a3af6e0c55c new_individual',\n",
       " '37c7aba965a5 180c0ab04dcd abbeba14a290 938b7e931166 6a3af6e0c55c new_individual',\n",
       " '37c7aba965a5 180c0ab04dcd abbeba14a290 938b7e931166 6a3af6e0c55c new_individual',\n",
       " '37c7aba965a5 180c0ab04dcd abbeba14a290 938b7e931166 6a3af6e0c55c new_individual',\n",
       " '37c7aba965a5 180c0ab04dcd abbeba14a290 938b7e931166 6a3af6e0c55c new_individual',\n",
       " '37c7aba965a5 180c0ab04dcd abbeba14a290 938b7e931166 6a3af6e0c55c new_individual',\n",
       " '37c7aba965a5 180c0ab04dcd abbeba14a290 938b7e931166 6a3af6e0c55c new_individual',\n",
       " '37c7aba965a5 180c0ab04dcd abbeba14a290 938b7e931166 6a3af6e0c55c new_individual',\n",
       " '37c7aba965a5 180c0ab04dcd abbeba14a290 938b7e931166 6a3af6e0c55c new_individual',\n",
       " '37c7aba965a5 180c0ab04dcd abbeba14a290 938b7e931166 6a3af6e0c55c new_individual',\n",
       " '37c7aba965a5 180c0ab04dcd abbeba14a290 938b7e931166 6a3af6e0c55c new_individual',\n",
       " '37c7aba965a5 180c0ab04dcd abbeba14a290 938b7e931166 6a3af6e0c55c new_individual',\n",
       " '37c7aba965a5 180c0ab04dcd abbeba14a290 938b7e931166 6a3af6e0c55c new_individual',\n",
       " '37c7aba965a5 180c0ab04dcd abbeba14a290 938b7e931166 6a3af6e0c55c new_individual',\n",
       " '37c7aba965a5 180c0ab04dcd abbeba14a290 938b7e931166 6a3af6e0c55c new_individual',\n",
       " '37c7aba965a5 180c0ab04dcd abbeba14a290 938b7e931166 6a3af6e0c55c new_individual',\n",
       " '37c7aba965a5 180c0ab04dcd abbeba14a290 938b7e931166 6a3af6e0c55c new_individual',\n",
       " '37c7aba965a5 180c0ab04dcd abbeba14a290 938b7e931166 6a3af6e0c55c new_individual',\n",
       " '37c7aba965a5 180c0ab04dcd abbeba14a290 938b7e931166 6a3af6e0c55c new_individual',\n",
       " '37c7aba965a5 180c0ab04dcd abbeba14a290 938b7e931166 6a3af6e0c55c new_individual',\n",
       " '37c7aba965a5 180c0ab04dcd abbeba14a290 938b7e931166 6a3af6e0c55c new_individual',\n",
       " '37c7aba965a5 180c0ab04dcd abbeba14a290 938b7e931166 6a3af6e0c55c new_individual',\n",
       " '37c7aba965a5 180c0ab04dcd abbeba14a290 938b7e931166 6a3af6e0c55c new_individual',\n",
       " '37c7aba965a5 180c0ab04dcd abbeba14a290 938b7e931166 6a3af6e0c55c new_individual',\n",
       " '37c7aba965a5 180c0ab04dcd abbeba14a290 938b7e931166 6a3af6e0c55c new_individual',\n",
       " '37c7aba965a5 180c0ab04dcd abbeba14a290 938b7e931166 6a3af6e0c55c new_individual',\n",
       " '37c7aba965a5 180c0ab04dcd abbeba14a290 938b7e931166 6a3af6e0c55c new_individual',\n",
       " '37c7aba965a5 180c0ab04dcd abbeba14a290 938b7e931166 6a3af6e0c55c new_individual',\n",
       " '37c7aba965a5 180c0ab04dcd abbeba14a290 938b7e931166 6a3af6e0c55c new_individual',\n",
       " '37c7aba965a5 180c0ab04dcd abbeba14a290 938b7e931166 6a3af6e0c55c new_individual',\n",
       " '37c7aba965a5 180c0ab04dcd abbeba14a290 938b7e931166 6a3af6e0c55c new_individual',\n",
       " '37c7aba965a5 180c0ab04dcd abbeba14a290 938b7e931166 6a3af6e0c55c new_individual',\n",
       " '37c7aba965a5 180c0ab04dcd abbeba14a290 938b7e931166 6a3af6e0c55c new_individual',\n",
       " '37c7aba965a5 180c0ab04dcd abbeba14a290 938b7e931166 6a3af6e0c55c new_individual',\n",
       " '37c7aba965a5 180c0ab04dcd abbeba14a290 938b7e931166 6a3af6e0c55c new_individual',\n",
       " '37c7aba965a5 180c0ab04dcd abbeba14a290 938b7e931166 6a3af6e0c55c new_individual',\n",
       " '37c7aba965a5 180c0ab04dcd abbeba14a290 938b7e931166 6a3af6e0c55c new_individual',\n",
       " '37c7aba965a5 180c0ab04dcd abbeba14a290 938b7e931166 6a3af6e0c55c new_individual',\n",
       " '37c7aba965a5 180c0ab04dcd abbeba14a290 938b7e931166 6a3af6e0c55c new_individual',\n",
       " '37c7aba965a5 180c0ab04dcd abbeba14a290 938b7e931166 6a3af6e0c55c new_individual',\n",
       " '37c7aba965a5 180c0ab04dcd abbeba14a290 938b7e931166 6a3af6e0c55c new_individual',\n",
       " '37c7aba965a5 180c0ab04dcd abbeba14a290 938b7e931166 6a3af6e0c55c new_individual',\n",
       " '37c7aba965a5 180c0ab04dcd abbeba14a290 938b7e931166 6a3af6e0c55c new_individual',\n",
       " '37c7aba965a5 180c0ab04dcd abbeba14a290 938b7e931166 6a3af6e0c55c new_individual',\n",
       " '37c7aba965a5 180c0ab04dcd abbeba14a290 938b7e931166 6a3af6e0c55c new_individual',\n",
       " '37c7aba965a5 180c0ab04dcd abbeba14a290 938b7e931166 6a3af6e0c55c new_individual',\n",
       " '37c7aba965a5 180c0ab04dcd abbeba14a290 938b7e931166 6a3af6e0c55c new_individual',\n",
       " '37c7aba965a5 180c0ab04dcd abbeba14a290 938b7e931166 6a3af6e0c55c new_individual',\n",
       " '37c7aba965a5 180c0ab04dcd abbeba14a290 938b7e931166 6a3af6e0c55c new_individual',\n",
       " '37c7aba965a5 180c0ab04dcd abbeba14a290 938b7e931166 6a3af6e0c55c new_individual',\n",
       " '37c7aba965a5 180c0ab04dcd abbeba14a290 938b7e931166 6a3af6e0c55c new_individual',\n",
       " '37c7aba965a5 180c0ab04dcd abbeba14a290 938b7e931166 6a3af6e0c55c new_individual',\n",
       " '37c7aba965a5 180c0ab04dcd abbeba14a290 938b7e931166 6a3af6e0c55c new_individual',\n",
       " '37c7aba965a5 180c0ab04dcd abbeba14a290 938b7e931166 6a3af6e0c55c new_individual',\n",
       " '37c7aba965a5 180c0ab04dcd abbeba14a290 938b7e931166 6a3af6e0c55c new_individual',\n",
       " '37c7aba965a5 180c0ab04dcd abbeba14a290 938b7e931166 6a3af6e0c55c new_individual',\n",
       " '37c7aba965a5 180c0ab04dcd abbeba14a290 938b7e931166 6a3af6e0c55c new_individual',\n",
       " '37c7aba965a5 180c0ab04dcd abbeba14a290 938b7e931166 6a3af6e0c55c new_individual',\n",
       " '37c7aba965a5 180c0ab04dcd abbeba14a290 938b7e931166 6a3af6e0c55c new_individual',\n",
       " '37c7aba965a5 180c0ab04dcd abbeba14a290 938b7e931166 6a3af6e0c55c new_individual',\n",
       " '37c7aba965a5 180c0ab04dcd abbeba14a290 938b7e931166 6a3af6e0c55c new_individual',\n",
       " '37c7aba965a5 180c0ab04dcd abbeba14a290 938b7e931166 6a3af6e0c55c new_individual',\n",
       " '37c7aba965a5 180c0ab04dcd abbeba14a290 938b7e931166 6a3af6e0c55c new_individual',\n",
       " '37c7aba965a5 180c0ab04dcd abbeba14a290 938b7e931166 6a3af6e0c55c new_individual',\n",
       " '37c7aba965a5 180c0ab04dcd abbeba14a290 938b7e931166 6a3af6e0c55c new_individual',\n",
       " '37c7aba965a5 180c0ab04dcd abbeba14a290 938b7e931166 6a3af6e0c55c new_individual',\n",
       " '37c7aba965a5 180c0ab04dcd abbeba14a290 938b7e931166 6a3af6e0c55c new_individual',\n",
       " '37c7aba965a5 180c0ab04dcd abbeba14a290 938b7e931166 6a3af6e0c55c new_individual',\n",
       " '37c7aba965a5 180c0ab04dcd abbeba14a290 938b7e931166 6a3af6e0c55c new_individual',\n",
       " '37c7aba965a5 180c0ab04dcd abbeba14a290 938b7e931166 6a3af6e0c55c new_individual',\n",
       " '37c7aba965a5 180c0ab04dcd abbeba14a290 938b7e931166 6a3af6e0c55c new_individual',\n",
       " '37c7aba965a5 180c0ab04dcd abbeba14a290 938b7e931166 6a3af6e0c55c new_individual',\n",
       " '37c7aba965a5 180c0ab04dcd abbeba14a290 938b7e931166 6a3af6e0c55c new_individual',\n",
       " '37c7aba965a5 180c0ab04dcd abbeba14a290 938b7e931166 6a3af6e0c55c new_individual',\n",
       " '37c7aba965a5 180c0ab04dcd abbeba14a290 938b7e931166 6a3af6e0c55c new_individual',\n",
       " '37c7aba965a5 180c0ab04dcd abbeba14a290 938b7e931166 6a3af6e0c55c new_individual',\n",
       " '37c7aba965a5 180c0ab04dcd abbeba14a290 938b7e931166 6a3af6e0c55c new_individual',\n",
       " '37c7aba965a5 180c0ab04dcd abbeba14a290 938b7e931166 6a3af6e0c55c new_individual',\n",
       " '37c7aba965a5 180c0ab04dcd abbeba14a290 938b7e931166 6a3af6e0c55c new_individual',\n",
       " '37c7aba965a5 180c0ab04dcd abbeba14a290 938b7e931166 6a3af6e0c55c new_individual',\n",
       " '37c7aba965a5 180c0ab04dcd abbeba14a290 938b7e931166 6a3af6e0c55c new_individual',\n",
       " '37c7aba965a5 180c0ab04dcd abbeba14a290 938b7e931166 6a3af6e0c55c new_individual',\n",
       " '37c7aba965a5 180c0ab04dcd abbeba14a290 938b7e931166 6a3af6e0c55c new_individual',\n",
       " '37c7aba965a5 180c0ab04dcd abbeba14a290 938b7e931166 6a3af6e0c55c new_individual',\n",
       " '37c7aba965a5 180c0ab04dcd abbeba14a290 938b7e931166 6a3af6e0c55c new_individual',\n",
       " '37c7aba965a5 180c0ab04dcd abbeba14a290 938b7e931166 6a3af6e0c55c new_individual',\n",
       " '37c7aba965a5 180c0ab04dcd abbeba14a290 938b7e931166 6a3af6e0c55c new_individual',\n",
       " '37c7aba965a5 180c0ab04dcd abbeba14a290 938b7e931166 6a3af6e0c55c new_individual',\n",
       " '37c7aba965a5 180c0ab04dcd abbeba14a290 938b7e931166 6a3af6e0c55c new_individual',\n",
       " '37c7aba965a5 180c0ab04dcd abbeba14a290 938b7e931166 6a3af6e0c55c new_individual',\n",
       " '37c7aba965a5 180c0ab04dcd abbeba14a290 938b7e931166 6a3af6e0c55c new_individual',\n",
       " '37c7aba965a5 180c0ab04dcd abbeba14a290 938b7e931166 6a3af6e0c55c new_individual',\n",
       " '37c7aba965a5 180c0ab04dcd abbeba14a290 938b7e931166 6a3af6e0c55c new_individual',\n",
       " '37c7aba965a5 180c0ab04dcd abbeba14a290 938b7e931166 6a3af6e0c55c new_individual',\n",
       " '37c7aba965a5 180c0ab04dcd abbeba14a290 938b7e931166 6a3af6e0c55c new_individual',\n",
       " '37c7aba965a5 180c0ab04dcd abbeba14a290 938b7e931166 6a3af6e0c55c new_individual',\n",
       " '37c7aba965a5 180c0ab04dcd abbeba14a290 938b7e931166 6a3af6e0c55c new_individual',\n",
       " '37c7aba965a5 180c0ab04dcd abbeba14a290 938b7e931166 6a3af6e0c55c new_individual',\n",
       " '37c7aba965a5 180c0ab04dcd abbeba14a290 938b7e931166 6a3af6e0c55c new_individual',\n",
       " '37c7aba965a5 180c0ab04dcd abbeba14a290 938b7e931166 6a3af6e0c55c new_individual',\n",
       " '37c7aba965a5 180c0ab04dcd abbeba14a290 938b7e931166 6a3af6e0c55c new_individual',\n",
       " '37c7aba965a5 180c0ab04dcd abbeba14a290 938b7e931166 6a3af6e0c55c new_individual',\n",
       " '37c7aba965a5 180c0ab04dcd abbeba14a290 938b7e931166 6a3af6e0c55c new_individual',\n",
       " '37c7aba965a5 180c0ab04dcd abbeba14a290 938b7e931166 6a3af6e0c55c new_individual',\n",
       " '37c7aba965a5 180c0ab04dcd abbeba14a290 938b7e931166 6a3af6e0c55c new_individual',\n",
       " '37c7aba965a5 180c0ab04dcd abbeba14a290 938b7e931166 6a3af6e0c55c new_individual',\n",
       " '37c7aba965a5 180c0ab04dcd abbeba14a290 938b7e931166 6a3af6e0c55c new_individual',\n",
       " '37c7aba965a5 180c0ab04dcd abbeba14a290 938b7e931166 6a3af6e0c55c new_individual',\n",
       " '37c7aba965a5 180c0ab04dcd abbeba14a290 938b7e931166 6a3af6e0c55c new_individual',\n",
       " '37c7aba965a5 180c0ab04dcd abbeba14a290 938b7e931166 6a3af6e0c55c new_individual',\n",
       " '37c7aba965a5 180c0ab04dcd abbeba14a290 938b7e931166 6a3af6e0c55c new_individual',\n",
       " '37c7aba965a5 180c0ab04dcd abbeba14a290 938b7e931166 6a3af6e0c55c new_individual',\n",
       " '37c7aba965a5 180c0ab04dcd abbeba14a290 938b7e931166 6a3af6e0c55c new_individual',\n",
       " '37c7aba965a5 180c0ab04dcd abbeba14a290 938b7e931166 6a3af6e0c55c new_individual',\n",
       " '37c7aba965a5 180c0ab04dcd abbeba14a290 938b7e931166 6a3af6e0c55c new_individual',\n",
       " '37c7aba965a5 180c0ab04dcd abbeba14a290 938b7e931166 6a3af6e0c55c new_individual',\n",
       " '37c7aba965a5 180c0ab04dcd abbeba14a290 938b7e931166 6a3af6e0c55c new_individual',\n",
       " '37c7aba965a5 180c0ab04dcd abbeba14a290 938b7e931166 6a3af6e0c55c new_individual',\n",
       " '37c7aba965a5 180c0ab04dcd abbeba14a290 938b7e931166 6a3af6e0c55c new_individual',\n",
       " '37c7aba965a5 180c0ab04dcd abbeba14a290 938b7e931166 6a3af6e0c55c new_individual',\n",
       " '37c7aba965a5 180c0ab04dcd abbeba14a290 938b7e931166 6a3af6e0c55c new_individual',\n",
       " '37c7aba965a5 180c0ab04dcd abbeba14a290 938b7e931166 6a3af6e0c55c new_individual',\n",
       " '37c7aba965a5 180c0ab04dcd abbeba14a290 938b7e931166 6a3af6e0c55c new_individual',\n",
       " '37c7aba965a5 180c0ab04dcd abbeba14a290 938b7e931166 6a3af6e0c55c new_individual',\n",
       " '37c7aba965a5 180c0ab04dcd abbeba14a290 938b7e931166 6a3af6e0c55c new_individual',\n",
       " '37c7aba965a5 180c0ab04dcd abbeba14a290 938b7e931166 6a3af6e0c55c new_individual',\n",
       " '37c7aba965a5 180c0ab04dcd abbeba14a290 938b7e931166 6a3af6e0c55c new_individual',\n",
       " '37c7aba965a5 180c0ab04dcd abbeba14a290 938b7e931166 6a3af6e0c55c new_individual',\n",
       " '37c7aba965a5 180c0ab04dcd abbeba14a290 938b7e931166 6a3af6e0c55c new_individual',\n",
       " '37c7aba965a5 180c0ab04dcd abbeba14a290 938b7e931166 6a3af6e0c55c new_individual',\n",
       " '37c7aba965a5 180c0ab04dcd abbeba14a290 938b7e931166 6a3af6e0c55c new_individual',\n",
       " '37c7aba965a5 180c0ab04dcd abbeba14a290 938b7e931166 6a3af6e0c55c new_individual',\n",
       " '37c7aba965a5 180c0ab04dcd abbeba14a290 938b7e931166 6a3af6e0c55c new_individual',\n",
       " '37c7aba965a5 180c0ab04dcd abbeba14a290 938b7e931166 6a3af6e0c55c new_individual',\n",
       " '37c7aba965a5 180c0ab04dcd abbeba14a290 938b7e931166 6a3af6e0c55c new_individual',\n",
       " '37c7aba965a5 180c0ab04dcd abbeba14a290 938b7e931166 6a3af6e0c55c new_individual',\n",
       " '37c7aba965a5 180c0ab04dcd abbeba14a290 938b7e931166 6a3af6e0c55c new_individual',\n",
       " '37c7aba965a5 180c0ab04dcd abbeba14a290 938b7e931166 6a3af6e0c55c new_individual',\n",
       " '37c7aba965a5 180c0ab04dcd abbeba14a290 938b7e931166 6a3af6e0c55c new_individual',\n",
       " '37c7aba965a5 180c0ab04dcd abbeba14a290 938b7e931166 6a3af6e0c55c new_individual',\n",
       " '37c7aba965a5 180c0ab04dcd abbeba14a290 938b7e931166 6a3af6e0c55c new_individual',\n",
       " '37c7aba965a5 180c0ab04dcd abbeba14a290 938b7e931166 6a3af6e0c55c new_individual',\n",
       " '37c7aba965a5 180c0ab04dcd abbeba14a290 938b7e931166 6a3af6e0c55c new_individual',\n",
       " '37c7aba965a5 180c0ab04dcd abbeba14a290 938b7e931166 6a3af6e0c55c new_individual',\n",
       " '37c7aba965a5 180c0ab04dcd abbeba14a290 938b7e931166 6a3af6e0c55c new_individual',\n",
       " '37c7aba965a5 180c0ab04dcd abbeba14a290 938b7e931166 6a3af6e0c55c new_individual',\n",
       " '37c7aba965a5 180c0ab04dcd abbeba14a290 938b7e931166 6a3af6e0c55c new_individual',\n",
       " '37c7aba965a5 180c0ab04dcd abbeba14a290 938b7e931166 6a3af6e0c55c new_individual',\n",
       " '37c7aba965a5 180c0ab04dcd abbeba14a290 938b7e931166 6a3af6e0c55c new_individual',\n",
       " '37c7aba965a5 180c0ab04dcd abbeba14a290 938b7e931166 6a3af6e0c55c new_individual',\n",
       " '37c7aba965a5 180c0ab04dcd abbeba14a290 938b7e931166 6a3af6e0c55c new_individual',\n",
       " '37c7aba965a5 180c0ab04dcd abbeba14a290 938b7e931166 6a3af6e0c55c new_individual',\n",
       " '37c7aba965a5 180c0ab04dcd abbeba14a290 938b7e931166 6a3af6e0c55c new_individual',\n",
       " '37c7aba965a5 180c0ab04dcd abbeba14a290 938b7e931166 6a3af6e0c55c new_individual',\n",
       " '37c7aba965a5 180c0ab04dcd abbeba14a290 938b7e931166 6a3af6e0c55c new_individual',\n",
       " '37c7aba965a5 180c0ab04dcd abbeba14a290 938b7e931166 6a3af6e0c55c new_individual',\n",
       " '37c7aba965a5 180c0ab04dcd abbeba14a290 938b7e931166 6a3af6e0c55c new_individual',\n",
       " '37c7aba965a5 180c0ab04dcd abbeba14a290 938b7e931166 6a3af6e0c55c new_individual',\n",
       " '37c7aba965a5 180c0ab04dcd abbeba14a290 938b7e931166 6a3af6e0c55c new_individual',\n",
       " '37c7aba965a5 180c0ab04dcd abbeba14a290 938b7e931166 6a3af6e0c55c new_individual',\n",
       " '37c7aba965a5 180c0ab04dcd abbeba14a290 938b7e931166 6a3af6e0c55c new_individual',\n",
       " '37c7aba965a5 180c0ab04dcd abbeba14a290 938b7e931166 6a3af6e0c55c new_individual',\n",
       " '37c7aba965a5 180c0ab04dcd abbeba14a290 938b7e931166 6a3af6e0c55c new_individual',\n",
       " '37c7aba965a5 180c0ab04dcd abbeba14a290 938b7e931166 6a3af6e0c55c new_individual',\n",
       " '37c7aba965a5 180c0ab04dcd abbeba14a290 938b7e931166 6a3af6e0c55c new_individual',\n",
       " '37c7aba965a5 180c0ab04dcd abbeba14a290 938b7e931166 6a3af6e0c55c new_individual',\n",
       " '37c7aba965a5 180c0ab04dcd abbeba14a290 938b7e931166 6a3af6e0c55c new_individual',\n",
       " '37c7aba965a5 180c0ab04dcd abbeba14a290 938b7e931166 6a3af6e0c55c new_individual',\n",
       " '37c7aba965a5 180c0ab04dcd abbeba14a290 938b7e931166 6a3af6e0c55c new_individual',\n",
       " '37c7aba965a5 180c0ab04dcd abbeba14a290 938b7e931166 6a3af6e0c55c new_individual',\n",
       " '37c7aba965a5 180c0ab04dcd abbeba14a290 938b7e931166 6a3af6e0c55c new_individual',\n",
       " '37c7aba965a5 180c0ab04dcd abbeba14a290 938b7e931166 6a3af6e0c55c new_individual',\n",
       " '37c7aba965a5 180c0ab04dcd abbeba14a290 938b7e931166 6a3af6e0c55c new_individual',\n",
       " '37c7aba965a5 180c0ab04dcd abbeba14a290 938b7e931166 6a3af6e0c55c new_individual',\n",
       " '37c7aba965a5 180c0ab04dcd abbeba14a290 938b7e931166 6a3af6e0c55c new_individual',\n",
       " '37c7aba965a5 180c0ab04dcd abbeba14a290 938b7e931166 6a3af6e0c55c new_individual',\n",
       " '37c7aba965a5 180c0ab04dcd abbeba14a290 938b7e931166 6a3af6e0c55c new_individual',\n",
       " '37c7aba965a5 180c0ab04dcd abbeba14a290 938b7e931166 6a3af6e0c55c new_individual',\n",
       " '37c7aba965a5 180c0ab04dcd abbeba14a290 938b7e931166 6a3af6e0c55c new_individual',\n",
       " '37c7aba965a5 180c0ab04dcd abbeba14a290 938b7e931166 6a3af6e0c55c new_individual',\n",
       " '37c7aba965a5 180c0ab04dcd abbeba14a290 938b7e931166 6a3af6e0c55c new_individual',\n",
       " '37c7aba965a5 180c0ab04dcd abbeba14a290 938b7e931166 6a3af6e0c55c new_individual',\n",
       " '37c7aba965a5 180c0ab04dcd abbeba14a290 938b7e931166 6a3af6e0c55c new_individual',\n",
       " '37c7aba965a5 180c0ab04dcd abbeba14a290 938b7e931166 6a3af6e0c55c new_individual',\n",
       " '37c7aba965a5 180c0ab04dcd abbeba14a290 938b7e931166 6a3af6e0c55c new_individual',\n",
       " '37c7aba965a5 180c0ab04dcd abbeba14a290 938b7e931166 6a3af6e0c55c new_individual',\n",
       " '37c7aba965a5 180c0ab04dcd abbeba14a290 938b7e931166 6a3af6e0c55c new_individual',\n",
       " '37c7aba965a5 180c0ab04dcd abbeba14a290 938b7e931166 6a3af6e0c55c new_individual',\n",
       " '37c7aba965a5 180c0ab04dcd abbeba14a290 938b7e931166 6a3af6e0c55c new_individual',\n",
       " '37c7aba965a5 180c0ab04dcd abbeba14a290 938b7e931166 6a3af6e0c55c new_individual',\n",
       " '37c7aba965a5 180c0ab04dcd abbeba14a290 938b7e931166 6a3af6e0c55c new_individual',\n",
       " '37c7aba965a5 180c0ab04dcd abbeba14a290 938b7e931166 6a3af6e0c55c new_individual',\n",
       " '37c7aba965a5 180c0ab04dcd abbeba14a290 938b7e931166 6a3af6e0c55c new_individual',\n",
       " '37c7aba965a5 180c0ab04dcd abbeba14a290 938b7e931166 6a3af6e0c55c new_individual',\n",
       " '37c7aba965a5 180c0ab04dcd abbeba14a290 938b7e931166 6a3af6e0c55c new_individual',\n",
       " '37c7aba965a5 180c0ab04dcd abbeba14a290 938b7e931166 6a3af6e0c55c new_individual',\n",
       " '37c7aba965a5 180c0ab04dcd abbeba14a290 938b7e931166 6a3af6e0c55c new_individual',\n",
       " '37c7aba965a5 180c0ab04dcd abbeba14a290 938b7e931166 6a3af6e0c55c new_individual',\n",
       " '37c7aba965a5 180c0ab04dcd abbeba14a290 938b7e931166 6a3af6e0c55c new_individual',\n",
       " '37c7aba965a5 180c0ab04dcd abbeba14a290 938b7e931166 6a3af6e0c55c new_individual',\n",
       " '37c7aba965a5 180c0ab04dcd abbeba14a290 938b7e931166 6a3af6e0c55c new_individual',\n",
       " '37c7aba965a5 180c0ab04dcd abbeba14a290 938b7e931166 6a3af6e0c55c new_individual',\n",
       " '37c7aba965a5 180c0ab04dcd abbeba14a290 938b7e931166 6a3af6e0c55c new_individual',\n",
       " '37c7aba965a5 180c0ab04dcd abbeba14a290 938b7e931166 6a3af6e0c55c new_individual',\n",
       " '37c7aba965a5 180c0ab04dcd abbeba14a290 938b7e931166 6a3af6e0c55c new_individual',\n",
       " '37c7aba965a5 180c0ab04dcd abbeba14a290 938b7e931166 6a3af6e0c55c new_individual',\n",
       " '37c7aba965a5 180c0ab04dcd abbeba14a290 938b7e931166 6a3af6e0c55c new_individual',\n",
       " '37c7aba965a5 180c0ab04dcd abbeba14a290 938b7e931166 6a3af6e0c55c new_individual',\n",
       " '37c7aba965a5 180c0ab04dcd abbeba14a290 938b7e931166 6a3af6e0c55c new_individual',\n",
       " '37c7aba965a5 180c0ab04dcd abbeba14a290 938b7e931166 6a3af6e0c55c new_individual',\n",
       " '37c7aba965a5 180c0ab04dcd abbeba14a290 938b7e931166 6a3af6e0c55c new_individual',\n",
       " '37c7aba965a5 180c0ab04dcd abbeba14a290 938b7e931166 6a3af6e0c55c new_individual',\n",
       " '37c7aba965a5 180c0ab04dcd abbeba14a290 938b7e931166 6a3af6e0c55c new_individual',\n",
       " '37c7aba965a5 180c0ab04dcd abbeba14a290 938b7e931166 6a3af6e0c55c new_individual',\n",
       " '37c7aba965a5 180c0ab04dcd abbeba14a290 938b7e931166 6a3af6e0c55c new_individual',\n",
       " '37c7aba965a5 180c0ab04dcd abbeba14a290 938b7e931166 6a3af6e0c55c new_individual',\n",
       " '37c7aba965a5 180c0ab04dcd abbeba14a290 938b7e931166 6a3af6e0c55c new_individual',\n",
       " '37c7aba965a5 180c0ab04dcd abbeba14a290 938b7e931166 6a3af6e0c55c new_individual',\n",
       " '37c7aba965a5 180c0ab04dcd abbeba14a290 938b7e931166 6a3af6e0c55c new_individual',\n",
       " '37c7aba965a5 180c0ab04dcd abbeba14a290 938b7e931166 6a3af6e0c55c new_individual',\n",
       " '37c7aba965a5 180c0ab04dcd abbeba14a290 938b7e931166 6a3af6e0c55c new_individual',\n",
       " '37c7aba965a5 180c0ab04dcd abbeba14a290 938b7e931166 6a3af6e0c55c new_individual',\n",
       " '37c7aba965a5 180c0ab04dcd abbeba14a290 938b7e931166 6a3af6e0c55c new_individual',\n",
       " '37c7aba965a5 180c0ab04dcd abbeba14a290 938b7e931166 6a3af6e0c55c new_individual',\n",
       " '37c7aba965a5 180c0ab04dcd abbeba14a290 938b7e931166 6a3af6e0c55c new_individual',\n",
       " '37c7aba965a5 180c0ab04dcd abbeba14a290 938b7e931166 6a3af6e0c55c new_individual',\n",
       " '37c7aba965a5 180c0ab04dcd abbeba14a290 938b7e931166 6a3af6e0c55c new_individual',\n",
       " '37c7aba965a5 180c0ab04dcd abbeba14a290 938b7e931166 6a3af6e0c55c new_individual',\n",
       " '37c7aba965a5 180c0ab04dcd abbeba14a290 938b7e931166 6a3af6e0c55c new_individual',\n",
       " '37c7aba965a5 180c0ab04dcd abbeba14a290 938b7e931166 6a3af6e0c55c new_individual',\n",
       " '37c7aba965a5 180c0ab04dcd abbeba14a290 938b7e931166 6a3af6e0c55c new_individual',\n",
       " '37c7aba965a5 180c0ab04dcd abbeba14a290 938b7e931166 6a3af6e0c55c new_individual',\n",
       " '37c7aba965a5 180c0ab04dcd abbeba14a290 938b7e931166 6a3af6e0c55c new_individual',\n",
       " '37c7aba965a5 180c0ab04dcd abbeba14a290 938b7e931166 6a3af6e0c55c new_individual',\n",
       " '37c7aba965a5 180c0ab04dcd abbeba14a290 938b7e931166 6a3af6e0c55c new_individual',\n",
       " '37c7aba965a5 180c0ab04dcd abbeba14a290 938b7e931166 6a3af6e0c55c new_individual',\n",
       " '37c7aba965a5 180c0ab04dcd abbeba14a290 938b7e931166 6a3af6e0c55c new_individual',\n",
       " '37c7aba965a5 180c0ab04dcd abbeba14a290 938b7e931166 6a3af6e0c55c new_individual',\n",
       " '37c7aba965a5 180c0ab04dcd abbeba14a290 938b7e931166 6a3af6e0c55c new_individual',\n",
       " '37c7aba965a5 180c0ab04dcd abbeba14a290 938b7e931166 6a3af6e0c55c new_individual',\n",
       " '37c7aba965a5 180c0ab04dcd abbeba14a290 938b7e931166 6a3af6e0c55c new_individual',\n",
       " '37c7aba965a5 180c0ab04dcd abbeba14a290 938b7e931166 6a3af6e0c55c new_individual',\n",
       " '37c7aba965a5 180c0ab04dcd abbeba14a290 938b7e931166 6a3af6e0c55c new_individual',\n",
       " '37c7aba965a5 180c0ab04dcd abbeba14a290 938b7e931166 6a3af6e0c55c new_individual',\n",
       " '37c7aba965a5 180c0ab04dcd abbeba14a290 938b7e931166 6a3af6e0c55c new_individual',\n",
       " '37c7aba965a5 180c0ab04dcd abbeba14a290 938b7e931166 6a3af6e0c55c new_individual',\n",
       " '37c7aba965a5 180c0ab04dcd abbeba14a290 938b7e931166 6a3af6e0c55c new_individual',\n",
       " '37c7aba965a5 180c0ab04dcd abbeba14a290 938b7e931166 6a3af6e0c55c new_individual',\n",
       " '37c7aba965a5 180c0ab04dcd abbeba14a290 938b7e931166 6a3af6e0c55c new_individual',\n",
       " '37c7aba965a5 180c0ab04dcd abbeba14a290 938b7e931166 6a3af6e0c55c new_individual',\n",
       " '37c7aba965a5 180c0ab04dcd abbeba14a290 938b7e931166 6a3af6e0c55c new_individual',\n",
       " '37c7aba965a5 180c0ab04dcd abbeba14a290 938b7e931166 6a3af6e0c55c new_individual',\n",
       " '37c7aba965a5 180c0ab04dcd abbeba14a290 938b7e931166 6a3af6e0c55c new_individual',\n",
       " '37c7aba965a5 180c0ab04dcd abbeba14a290 938b7e931166 6a3af6e0c55c new_individual',\n",
       " '37c7aba965a5 180c0ab04dcd abbeba14a290 938b7e931166 6a3af6e0c55c new_individual',\n",
       " '37c7aba965a5 180c0ab04dcd abbeba14a290 938b7e931166 6a3af6e0c55c new_individual',\n",
       " '37c7aba965a5 180c0ab04dcd abbeba14a290 938b7e931166 6a3af6e0c55c new_individual',\n",
       " '37c7aba965a5 180c0ab04dcd abbeba14a290 938b7e931166 6a3af6e0c55c new_individual',\n",
       " '37c7aba965a5 180c0ab04dcd abbeba14a290 938b7e931166 6a3af6e0c55c new_individual',\n",
       " '37c7aba965a5 180c0ab04dcd abbeba14a290 938b7e931166 6a3af6e0c55c new_individual',\n",
       " '37c7aba965a5 180c0ab04dcd abbeba14a290 938b7e931166 6a3af6e0c55c new_individual',\n",
       " '37c7aba965a5 180c0ab04dcd abbeba14a290 938b7e931166 6a3af6e0c55c new_individual',\n",
       " '37c7aba965a5 180c0ab04dcd abbeba14a290 938b7e931166 6a3af6e0c55c new_individual',\n",
       " '37c7aba965a5 180c0ab04dcd abbeba14a290 938b7e931166 6a3af6e0c55c new_individual',\n",
       " '37c7aba965a5 180c0ab04dcd abbeba14a290 938b7e931166 6a3af6e0c55c new_individual',\n",
       " '37c7aba965a5 180c0ab04dcd abbeba14a290 938b7e931166 6a3af6e0c55c new_individual',\n",
       " '37c7aba965a5 180c0ab04dcd abbeba14a290 938b7e931166 6a3af6e0c55c new_individual',\n",
       " '37c7aba965a5 180c0ab04dcd abbeba14a290 938b7e931166 6a3af6e0c55c new_individual',\n",
       " '37c7aba965a5 180c0ab04dcd abbeba14a290 938b7e931166 6a3af6e0c55c new_individual',\n",
       " '37c7aba965a5 180c0ab04dcd abbeba14a290 938b7e931166 6a3af6e0c55c new_individual',\n",
       " '37c7aba965a5 180c0ab04dcd abbeba14a290 938b7e931166 6a3af6e0c55c new_individual',\n",
       " '37c7aba965a5 180c0ab04dcd abbeba14a290 938b7e931166 6a3af6e0c55c new_individual',\n",
       " '37c7aba965a5 180c0ab04dcd abbeba14a290 938b7e931166 6a3af6e0c55c new_individual',\n",
       " '37c7aba965a5 180c0ab04dcd abbeba14a290 938b7e931166 6a3af6e0c55c new_individual',\n",
       " '37c7aba965a5 180c0ab04dcd abbeba14a290 938b7e931166 6a3af6e0c55c new_individual',\n",
       " '37c7aba965a5 180c0ab04dcd abbeba14a290 938b7e931166 6a3af6e0c55c new_individual',\n",
       " '37c7aba965a5 180c0ab04dcd abbeba14a290 938b7e931166 6a3af6e0c55c new_individual',\n",
       " '37c7aba965a5 180c0ab04dcd abbeba14a290 938b7e931166 6a3af6e0c55c new_individual',\n",
       " '37c7aba965a5 180c0ab04dcd abbeba14a290 938b7e931166 6a3af6e0c55c new_individual',\n",
       " '37c7aba965a5 180c0ab04dcd abbeba14a290 938b7e931166 6a3af6e0c55c new_individual',\n",
       " '37c7aba965a5 180c0ab04dcd abbeba14a290 938b7e931166 6a3af6e0c55c new_individual',\n",
       " '37c7aba965a5 180c0ab04dcd abbeba14a290 938b7e931166 6a3af6e0c55c new_individual',\n",
       " '37c7aba965a5 180c0ab04dcd abbeba14a290 938b7e931166 6a3af6e0c55c new_individual',\n",
       " '37c7aba965a5 180c0ab04dcd abbeba14a290 938b7e931166 6a3af6e0c55c new_individual',\n",
       " '37c7aba965a5 180c0ab04dcd abbeba14a290 938b7e931166 6a3af6e0c55c new_individual',\n",
       " '37c7aba965a5 180c0ab04dcd abbeba14a290 938b7e931166 6a3af6e0c55c new_individual',\n",
       " '37c7aba965a5 180c0ab04dcd abbeba14a290 938b7e931166 6a3af6e0c55c new_individual',\n",
       " '37c7aba965a5 180c0ab04dcd abbeba14a290 938b7e931166 6a3af6e0c55c new_individual',\n",
       " '37c7aba965a5 180c0ab04dcd abbeba14a290 938b7e931166 6a3af6e0c55c new_individual',\n",
       " '37c7aba965a5 180c0ab04dcd abbeba14a290 938b7e931166 6a3af6e0c55c new_individual',\n",
       " '37c7aba965a5 180c0ab04dcd abbeba14a290 938b7e931166 6a3af6e0c55c new_individual',\n",
       " '37c7aba965a5 180c0ab04dcd abbeba14a290 938b7e931166 6a3af6e0c55c new_individual',\n",
       " '37c7aba965a5 180c0ab04dcd abbeba14a290 938b7e931166 6a3af6e0c55c new_individual',\n",
       " '37c7aba965a5 180c0ab04dcd abbeba14a290 938b7e931166 6a3af6e0c55c new_individual',\n",
       " '37c7aba965a5 180c0ab04dcd abbeba14a290 938b7e931166 6a3af6e0c55c new_individual',\n",
       " '37c7aba965a5 180c0ab04dcd abbeba14a290 938b7e931166 6a3af6e0c55c new_individual',\n",
       " '37c7aba965a5 180c0ab04dcd abbeba14a290 938b7e931166 6a3af6e0c55c new_individual',\n",
       " '37c7aba965a5 180c0ab04dcd abbeba14a290 938b7e931166 6a3af6e0c55c new_individual',\n",
       " '37c7aba965a5 180c0ab04dcd abbeba14a290 938b7e931166 6a3af6e0c55c new_individual',\n",
       " '37c7aba965a5 180c0ab04dcd abbeba14a290 938b7e931166 6a3af6e0c55c new_individual',\n",
       " '37c7aba965a5 180c0ab04dcd abbeba14a290 938b7e931166 6a3af6e0c55c new_individual',\n",
       " '37c7aba965a5 180c0ab04dcd abbeba14a290 938b7e931166 6a3af6e0c55c new_individual',\n",
       " '37c7aba965a5 180c0ab04dcd abbeba14a290 938b7e931166 6a3af6e0c55c new_individual',\n",
       " '37c7aba965a5 180c0ab04dcd abbeba14a290 938b7e931166 6a3af6e0c55c new_individual',\n",
       " '37c7aba965a5 180c0ab04dcd abbeba14a290 938b7e931166 6a3af6e0c55c new_individual',\n",
       " '37c7aba965a5 180c0ab04dcd abbeba14a290 938b7e931166 6a3af6e0c55c new_individual',\n",
       " '37c7aba965a5 180c0ab04dcd abbeba14a290 938b7e931166 6a3af6e0c55c new_individual',\n",
       " '37c7aba965a5 180c0ab04dcd abbeba14a290 938b7e931166 6a3af6e0c55c new_individual',\n",
       " '37c7aba965a5 180c0ab04dcd abbeba14a290 938b7e931166 6a3af6e0c55c new_individual',\n",
       " '37c7aba965a5 180c0ab04dcd abbeba14a290 938b7e931166 6a3af6e0c55c new_individual',\n",
       " '37c7aba965a5 180c0ab04dcd abbeba14a290 938b7e931166 6a3af6e0c55c new_individual',\n",
       " '37c7aba965a5 180c0ab04dcd abbeba14a290 938b7e931166 6a3af6e0c55c new_individual',\n",
       " '37c7aba965a5 180c0ab04dcd abbeba14a290 938b7e931166 6a3af6e0c55c new_individual',\n",
       " '37c7aba965a5 180c0ab04dcd abbeba14a290 938b7e931166 6a3af6e0c55c new_individual',\n",
       " '37c7aba965a5 180c0ab04dcd abbeba14a290 938b7e931166 6a3af6e0c55c new_individual',\n",
       " '37c7aba965a5 180c0ab04dcd abbeba14a290 938b7e931166 6a3af6e0c55c new_individual',\n",
       " '37c7aba965a5 180c0ab04dcd abbeba14a290 938b7e931166 6a3af6e0c55c new_individual',\n",
       " '37c7aba965a5 180c0ab04dcd abbeba14a290 938b7e931166 6a3af6e0c55c new_individual',\n",
       " '37c7aba965a5 180c0ab04dcd abbeba14a290 938b7e931166 6a3af6e0c55c new_individual',\n",
       " '37c7aba965a5 180c0ab04dcd abbeba14a290 938b7e931166 6a3af6e0c55c new_individual',\n",
       " '37c7aba965a5 180c0ab04dcd abbeba14a290 938b7e931166 6a3af6e0c55c new_individual',\n",
       " '37c7aba965a5 180c0ab04dcd abbeba14a290 938b7e931166 6a3af6e0c55c new_individual',\n",
       " '37c7aba965a5 180c0ab04dcd abbeba14a290 938b7e931166 6a3af6e0c55c new_individual',\n",
       " '37c7aba965a5 180c0ab04dcd abbeba14a290 938b7e931166 6a3af6e0c55c new_individual',\n",
       " '37c7aba965a5 180c0ab04dcd abbeba14a290 938b7e931166 6a3af6e0c55c new_individual',\n",
       " '37c7aba965a5 180c0ab04dcd abbeba14a290 938b7e931166 6a3af6e0c55c new_individual',\n",
       " '37c7aba965a5 180c0ab04dcd abbeba14a290 938b7e931166 6a3af6e0c55c new_individual',\n",
       " '37c7aba965a5 180c0ab04dcd abbeba14a290 938b7e931166 6a3af6e0c55c new_individual',\n",
       " '37c7aba965a5 180c0ab04dcd abbeba14a290 938b7e931166 6a3af6e0c55c new_individual',\n",
       " '37c7aba965a5 180c0ab04dcd abbeba14a290 938b7e931166 6a3af6e0c55c new_individual',\n",
       " '37c7aba965a5 180c0ab04dcd abbeba14a290 938b7e931166 6a3af6e0c55c new_individual',\n",
       " '37c7aba965a5 180c0ab04dcd abbeba14a290 938b7e931166 6a3af6e0c55c new_individual',\n",
       " '37c7aba965a5 180c0ab04dcd abbeba14a290 938b7e931166 6a3af6e0c55c new_individual',\n",
       " '37c7aba965a5 180c0ab04dcd abbeba14a290 938b7e931166 6a3af6e0c55c new_individual',\n",
       " '37c7aba965a5 180c0ab04dcd abbeba14a290 938b7e931166 6a3af6e0c55c new_individual',\n",
       " '37c7aba965a5 180c0ab04dcd abbeba14a290 938b7e931166 6a3af6e0c55c new_individual',\n",
       " '37c7aba965a5 180c0ab04dcd abbeba14a290 938b7e931166 6a3af6e0c55c new_individual',\n",
       " '37c7aba965a5 180c0ab04dcd abbeba14a290 938b7e931166 6a3af6e0c55c new_individual',\n",
       " '37c7aba965a5 180c0ab04dcd abbeba14a290 938b7e931166 6a3af6e0c55c new_individual',\n",
       " '37c7aba965a5 180c0ab04dcd abbeba14a290 938b7e931166 6a3af6e0c55c new_individual',\n",
       " '37c7aba965a5 180c0ab04dcd abbeba14a290 938b7e931166 6a3af6e0c55c new_individual',\n",
       " '37c7aba965a5 180c0ab04dcd abbeba14a290 938b7e931166 6a3af6e0c55c new_individual',\n",
       " '37c7aba965a5 180c0ab04dcd abbeba14a290 938b7e931166 6a3af6e0c55c new_individual',\n",
       " '37c7aba965a5 180c0ab04dcd abbeba14a290 938b7e931166 6a3af6e0c55c new_individual',\n",
       " '37c7aba965a5 180c0ab04dcd abbeba14a290 938b7e931166 6a3af6e0c55c new_individual',\n",
       " '37c7aba965a5 180c0ab04dcd abbeba14a290 938b7e931166 6a3af6e0c55c new_individual',\n",
       " '37c7aba965a5 180c0ab04dcd abbeba14a290 938b7e931166 6a3af6e0c55c new_individual',\n",
       " '37c7aba965a5 180c0ab04dcd abbeba14a290 938b7e931166 6a3af6e0c55c new_individual',\n",
       " '37c7aba965a5 180c0ab04dcd abbeba14a290 938b7e931166 6a3af6e0c55c new_individual',\n",
       " '37c7aba965a5 180c0ab04dcd abbeba14a290 938b7e931166 6a3af6e0c55c new_individual',\n",
       " '37c7aba965a5 180c0ab04dcd abbeba14a290 938b7e931166 6a3af6e0c55c new_individual',\n",
       " '37c7aba965a5 180c0ab04dcd abbeba14a290 938b7e931166 6a3af6e0c55c new_individual',\n",
       " '37c7aba965a5 180c0ab04dcd abbeba14a290 938b7e931166 6a3af6e0c55c new_individual',\n",
       " '37c7aba965a5 180c0ab04dcd abbeba14a290 938b7e931166 6a3af6e0c55c new_individual',\n",
       " '37c7aba965a5 180c0ab04dcd abbeba14a290 938b7e931166 6a3af6e0c55c new_individual',\n",
       " '37c7aba965a5 180c0ab04dcd abbeba14a290 938b7e931166 6a3af6e0c55c new_individual',\n",
       " '37c7aba965a5 180c0ab04dcd abbeba14a290 938b7e931166 6a3af6e0c55c new_individual',\n",
       " '37c7aba965a5 180c0ab04dcd abbeba14a290 938b7e931166 6a3af6e0c55c new_individual',\n",
       " '37c7aba965a5 180c0ab04dcd abbeba14a290 938b7e931166 6a3af6e0c55c new_individual',\n",
       " '37c7aba965a5 180c0ab04dcd abbeba14a290 938b7e931166 6a3af6e0c55c new_individual',\n",
       " '37c7aba965a5 180c0ab04dcd abbeba14a290 938b7e931166 6a3af6e0c55c new_individual',\n",
       " '37c7aba965a5 180c0ab04dcd abbeba14a290 938b7e931166 6a3af6e0c55c new_individual',\n",
       " '37c7aba965a5 180c0ab04dcd abbeba14a290 938b7e931166 6a3af6e0c55c new_individual',\n",
       " '37c7aba965a5 180c0ab04dcd abbeba14a290 938b7e931166 6a3af6e0c55c new_individual',\n",
       " '37c7aba965a5 180c0ab04dcd abbeba14a290 938b7e931166 6a3af6e0c55c new_individual',\n",
       " '37c7aba965a5 180c0ab04dcd abbeba14a290 938b7e931166 6a3af6e0c55c new_individual',\n",
       " '37c7aba965a5 180c0ab04dcd abbeba14a290 938b7e931166 6a3af6e0c55c new_individual',\n",
       " '37c7aba965a5 180c0ab04dcd abbeba14a290 938b7e931166 6a3af6e0c55c new_individual',\n",
       " '37c7aba965a5 180c0ab04dcd abbeba14a290 938b7e931166 6a3af6e0c55c new_individual',\n",
       " '37c7aba965a5 180c0ab04dcd abbeba14a290 938b7e931166 6a3af6e0c55c new_individual',\n",
       " '37c7aba965a5 180c0ab04dcd abbeba14a290 938b7e931166 6a3af6e0c55c new_individual',\n",
       " '37c7aba965a5 180c0ab04dcd abbeba14a290 938b7e931166 6a3af6e0c55c new_individual',\n",
       " '37c7aba965a5 180c0ab04dcd abbeba14a290 938b7e931166 6a3af6e0c55c new_individual',\n",
       " '37c7aba965a5 180c0ab04dcd abbeba14a290 938b7e931166 6a3af6e0c55c new_individual',\n",
       " '37c7aba965a5 180c0ab04dcd abbeba14a290 938b7e931166 6a3af6e0c55c new_individual',\n",
       " '37c7aba965a5 180c0ab04dcd abbeba14a290 938b7e931166 6a3af6e0c55c new_individual',\n",
       " '37c7aba965a5 180c0ab04dcd abbeba14a290 938b7e931166 6a3af6e0c55c new_individual',\n",
       " '37c7aba965a5 180c0ab04dcd abbeba14a290 938b7e931166 6a3af6e0c55c new_individual',\n",
       " '37c7aba965a5 180c0ab04dcd abbeba14a290 938b7e931166 6a3af6e0c55c new_individual',\n",
       " '37c7aba965a5 180c0ab04dcd abbeba14a290 938b7e931166 6a3af6e0c55c new_individual',\n",
       " '37c7aba965a5 180c0ab04dcd abbeba14a290 938b7e931166 6a3af6e0c55c new_individual',\n",
       " '37c7aba965a5 180c0ab04dcd abbeba14a290 938b7e931166 6a3af6e0c55c new_individual',\n",
       " '37c7aba965a5 180c0ab04dcd abbeba14a290 938b7e931166 6a3af6e0c55c new_individual',\n",
       " '37c7aba965a5 180c0ab04dcd abbeba14a290 938b7e931166 6a3af6e0c55c new_individual',\n",
       " '37c7aba965a5 180c0ab04dcd abbeba14a290 938b7e931166 6a3af6e0c55c new_individual',\n",
       " '37c7aba965a5 180c0ab04dcd abbeba14a290 938b7e931166 6a3af6e0c55c new_individual',\n",
       " '37c7aba965a5 180c0ab04dcd abbeba14a290 938b7e931166 6a3af6e0c55c new_individual',\n",
       " '37c7aba965a5 180c0ab04dcd abbeba14a290 938b7e931166 6a3af6e0c55c new_individual',\n",
       " '37c7aba965a5 180c0ab04dcd abbeba14a290 938b7e931166 6a3af6e0c55c new_individual',\n",
       " '37c7aba965a5 180c0ab04dcd abbeba14a290 938b7e931166 6a3af6e0c55c new_individual',\n",
       " '37c7aba965a5 180c0ab04dcd abbeba14a290 938b7e931166 6a3af6e0c55c new_individual',\n",
       " '37c7aba965a5 180c0ab04dcd abbeba14a290 938b7e931166 6a3af6e0c55c new_individual',\n",
       " '37c7aba965a5 180c0ab04dcd abbeba14a290 938b7e931166 6a3af6e0c55c new_individual',\n",
       " '37c7aba965a5 180c0ab04dcd abbeba14a290 938b7e931166 6a3af6e0c55c new_individual',\n",
       " '37c7aba965a5 180c0ab04dcd abbeba14a290 938b7e931166 6a3af6e0c55c new_individual',\n",
       " '37c7aba965a5 180c0ab04dcd abbeba14a290 938b7e931166 6a3af6e0c55c new_individual',\n",
       " '37c7aba965a5 180c0ab04dcd abbeba14a290 938b7e931166 6a3af6e0c55c new_individual',\n",
       " '37c7aba965a5 180c0ab04dcd abbeba14a290 938b7e931166 6a3af6e0c55c new_individual',\n",
       " '37c7aba965a5 180c0ab04dcd abbeba14a290 938b7e931166 6a3af6e0c55c new_individual',\n",
       " '37c7aba965a5 180c0ab04dcd abbeba14a290 938b7e931166 6a3af6e0c55c new_individual',\n",
       " '37c7aba965a5 180c0ab04dcd abbeba14a290 938b7e931166 6a3af6e0c55c new_individual',\n",
       " '37c7aba965a5 180c0ab04dcd abbeba14a290 938b7e931166 6a3af6e0c55c new_individual',\n",
       " '37c7aba965a5 180c0ab04dcd abbeba14a290 938b7e931166 6a3af6e0c55c new_individual',\n",
       " '37c7aba965a5 180c0ab04dcd abbeba14a290 938b7e931166 6a3af6e0c55c new_individual',\n",
       " '37c7aba965a5 180c0ab04dcd abbeba14a290 938b7e931166 6a3af6e0c55c new_individual',\n",
       " '37c7aba965a5 180c0ab04dcd abbeba14a290 938b7e931166 6a3af6e0c55c new_individual',\n",
       " '37c7aba965a5 180c0ab04dcd abbeba14a290 938b7e931166 6a3af6e0c55c new_individual',\n",
       " '37c7aba965a5 180c0ab04dcd abbeba14a290 938b7e931166 6a3af6e0c55c new_individual',\n",
       " '37c7aba965a5 180c0ab04dcd abbeba14a290 938b7e931166 6a3af6e0c55c new_individual',\n",
       " '37c7aba965a5 180c0ab04dcd abbeba14a290 938b7e931166 6a3af6e0c55c new_individual',\n",
       " '37c7aba965a5 180c0ab04dcd abbeba14a290 938b7e931166 6a3af6e0c55c new_individual',\n",
       " '37c7aba965a5 180c0ab04dcd abbeba14a290 938b7e931166 6a3af6e0c55c new_individual',\n",
       " '37c7aba965a5 180c0ab04dcd abbeba14a290 938b7e931166 6a3af6e0c55c new_individual',\n",
       " '37c7aba965a5 180c0ab04dcd abbeba14a290 938b7e931166 6a3af6e0c55c new_individual',\n",
       " '37c7aba965a5 180c0ab04dcd abbeba14a290 938b7e931166 6a3af6e0c55c new_individual',\n",
       " '37c7aba965a5 180c0ab04dcd abbeba14a290 938b7e931166 6a3af6e0c55c new_individual',\n",
       " '37c7aba965a5 180c0ab04dcd abbeba14a290 938b7e931166 6a3af6e0c55c new_individual',\n",
       " '37c7aba965a5 180c0ab04dcd abbeba14a290 938b7e931166 6a3af6e0c55c new_individual',\n",
       " '37c7aba965a5 180c0ab04dcd abbeba14a290 938b7e931166 6a3af6e0c55c new_individual',\n",
       " '37c7aba965a5 180c0ab04dcd abbeba14a290 938b7e931166 6a3af6e0c55c new_individual',\n",
       " '37c7aba965a5 180c0ab04dcd abbeba14a290 938b7e931166 6a3af6e0c55c new_individual',\n",
       " '37c7aba965a5 180c0ab04dcd abbeba14a290 938b7e931166 6a3af6e0c55c new_individual',\n",
       " '37c7aba965a5 180c0ab04dcd abbeba14a290 938b7e931166 6a3af6e0c55c new_individual',\n",
       " '37c7aba965a5 180c0ab04dcd abbeba14a290 938b7e931166 6a3af6e0c55c new_individual',\n",
       " '37c7aba965a5 180c0ab04dcd abbeba14a290 938b7e931166 6a3af6e0c55c new_individual',\n",
       " '37c7aba965a5 180c0ab04dcd abbeba14a290 938b7e931166 6a3af6e0c55c new_individual',\n",
       " '37c7aba965a5 180c0ab04dcd abbeba14a290 938b7e931166 6a3af6e0c55c new_individual',\n",
       " '37c7aba965a5 180c0ab04dcd abbeba14a290 938b7e931166 6a3af6e0c55c new_individual',\n",
       " '37c7aba965a5 180c0ab04dcd abbeba14a290 938b7e931166 6a3af6e0c55c new_individual',\n",
       " '37c7aba965a5 180c0ab04dcd abbeba14a290 938b7e931166 6a3af6e0c55c new_individual',\n",
       " '37c7aba965a5 180c0ab04dcd abbeba14a290 938b7e931166 6a3af6e0c55c new_individual',\n",
       " '37c7aba965a5 180c0ab04dcd abbeba14a290 938b7e931166 6a3af6e0c55c new_individual',\n",
       " '37c7aba965a5 180c0ab04dcd abbeba14a290 938b7e931166 6a3af6e0c55c new_individual',\n",
       " '37c7aba965a5 180c0ab04dcd abbeba14a290 938b7e931166 6a3af6e0c55c new_individual',\n",
       " '37c7aba965a5 180c0ab04dcd abbeba14a290 938b7e931166 6a3af6e0c55c new_individual',\n",
       " '37c7aba965a5 180c0ab04dcd abbeba14a290 938b7e931166 6a3af6e0c55c new_individual',\n",
       " '37c7aba965a5 180c0ab04dcd abbeba14a290 938b7e931166 6a3af6e0c55c new_individual',\n",
       " '37c7aba965a5 180c0ab04dcd abbeba14a290 938b7e931166 6a3af6e0c55c new_individual',\n",
       " '37c7aba965a5 180c0ab04dcd abbeba14a290 938b7e931166 6a3af6e0c55c new_individual',\n",
       " '37c7aba965a5 180c0ab04dcd abbeba14a290 938b7e931166 6a3af6e0c55c new_individual',\n",
       " '37c7aba965a5 180c0ab04dcd abbeba14a290 938b7e931166 6a3af6e0c55c new_individual',\n",
       " '37c7aba965a5 180c0ab04dcd abbeba14a290 938b7e931166 6a3af6e0c55c new_individual',\n",
       " '37c7aba965a5 180c0ab04dcd abbeba14a290 938b7e931166 6a3af6e0c55c new_individual',\n",
       " '37c7aba965a5 180c0ab04dcd abbeba14a290 938b7e931166 6a3af6e0c55c new_individual',\n",
       " '37c7aba965a5 180c0ab04dcd abbeba14a290 938b7e931166 6a3af6e0c55c new_individual',\n",
       " '37c7aba965a5 180c0ab04dcd abbeba14a290 938b7e931166 6a3af6e0c55c new_individual',\n",
       " '37c7aba965a5 180c0ab04dcd abbeba14a290 938b7e931166 6a3af6e0c55c new_individual',\n",
       " '37c7aba965a5 180c0ab04dcd abbeba14a290 938b7e931166 6a3af6e0c55c new_individual',\n",
       " '37c7aba965a5 180c0ab04dcd abbeba14a290 938b7e931166 6a3af6e0c55c new_individual',\n",
       " '37c7aba965a5 180c0ab04dcd abbeba14a290 938b7e931166 6a3af6e0c55c new_individual',\n",
       " '37c7aba965a5 180c0ab04dcd abbeba14a290 938b7e931166 6a3af6e0c55c new_individual',\n",
       " '37c7aba965a5 180c0ab04dcd abbeba14a290 938b7e931166 6a3af6e0c55c new_individual',\n",
       " '37c7aba965a5 180c0ab04dcd abbeba14a290 938b7e931166 6a3af6e0c55c new_individual',\n",
       " '37c7aba965a5 180c0ab04dcd abbeba14a290 938b7e931166 6a3af6e0c55c new_individual',\n",
       " '37c7aba965a5 180c0ab04dcd abbeba14a290 938b7e931166 6a3af6e0c55c new_individual',\n",
       " '37c7aba965a5 180c0ab04dcd abbeba14a290 938b7e931166 6a3af6e0c55c new_individual',\n",
       " '37c7aba965a5 180c0ab04dcd abbeba14a290 938b7e931166 6a3af6e0c55c new_individual',\n",
       " '37c7aba965a5 180c0ab04dcd abbeba14a290 938b7e931166 6a3af6e0c55c new_individual',\n",
       " '37c7aba965a5 180c0ab04dcd abbeba14a290 938b7e931166 6a3af6e0c55c new_individual',\n",
       " '37c7aba965a5 180c0ab04dcd abbeba14a290 938b7e931166 6a3af6e0c55c new_individual',\n",
       " '37c7aba965a5 180c0ab04dcd abbeba14a290 938b7e931166 6a3af6e0c55c new_individual',\n",
       " '37c7aba965a5 180c0ab04dcd abbeba14a290 938b7e931166 6a3af6e0c55c new_individual',\n",
       " '37c7aba965a5 180c0ab04dcd abbeba14a290 938b7e931166 6a3af6e0c55c new_individual',\n",
       " '37c7aba965a5 180c0ab04dcd abbeba14a290 938b7e931166 6a3af6e0c55c new_individual',\n",
       " '37c7aba965a5 180c0ab04dcd abbeba14a290 938b7e931166 6a3af6e0c55c new_individual',\n",
       " '37c7aba965a5 180c0ab04dcd abbeba14a290 938b7e931166 6a3af6e0c55c new_individual',\n",
       " '37c7aba965a5 180c0ab04dcd abbeba14a290 938b7e931166 6a3af6e0c55c new_individual',\n",
       " '37c7aba965a5 180c0ab04dcd abbeba14a290 938b7e931166 6a3af6e0c55c new_individual',\n",
       " '37c7aba965a5 180c0ab04dcd abbeba14a290 938b7e931166 6a3af6e0c55c new_individual',\n",
       " '37c7aba965a5 180c0ab04dcd abbeba14a290 938b7e931166 6a3af6e0c55c new_individual',\n",
       " '37c7aba965a5 180c0ab04dcd abbeba14a290 938b7e931166 6a3af6e0c55c new_individual',\n",
       " '37c7aba965a5 180c0ab04dcd abbeba14a290 938b7e931166 6a3af6e0c55c new_individual',\n",
       " '37c7aba965a5 180c0ab04dcd abbeba14a290 938b7e931166 6a3af6e0c55c new_individual',\n",
       " '37c7aba965a5 180c0ab04dcd abbeba14a290 938b7e931166 6a3af6e0c55c new_individual',\n",
       " '37c7aba965a5 180c0ab04dcd abbeba14a290 938b7e931166 6a3af6e0c55c new_individual',\n",
       " '37c7aba965a5 180c0ab04dcd abbeba14a290 938b7e931166 6a3af6e0c55c new_individual',\n",
       " '37c7aba965a5 180c0ab04dcd abbeba14a290 938b7e931166 6a3af6e0c55c new_individual',\n",
       " '37c7aba965a5 180c0ab04dcd abbeba14a290 938b7e931166 6a3af6e0c55c new_individual',\n",
       " '37c7aba965a5 180c0ab04dcd abbeba14a290 938b7e931166 6a3af6e0c55c new_individual',\n",
       " '37c7aba965a5 180c0ab04dcd abbeba14a290 938b7e931166 6a3af6e0c55c new_individual',\n",
       " '37c7aba965a5 180c0ab04dcd abbeba14a290 938b7e931166 6a3af6e0c55c new_individual',\n",
       " '37c7aba965a5 180c0ab04dcd abbeba14a290 938b7e931166 6a3af6e0c55c new_individual',\n",
       " '37c7aba965a5 180c0ab04dcd abbeba14a290 938b7e931166 6a3af6e0c55c new_individual',\n",
       " '37c7aba965a5 180c0ab04dcd abbeba14a290 938b7e931166 6a3af6e0c55c new_individual',\n",
       " '37c7aba965a5 180c0ab04dcd abbeba14a290 938b7e931166 6a3af6e0c55c new_individual',\n",
       " '37c7aba965a5 180c0ab04dcd abbeba14a290 938b7e931166 6a3af6e0c55c new_individual',\n",
       " '37c7aba965a5 180c0ab04dcd abbeba14a290 938b7e931166 6a3af6e0c55c new_individual',\n",
       " '37c7aba965a5 180c0ab04dcd abbeba14a290 938b7e931166 6a3af6e0c55c new_individual',\n",
       " '37c7aba965a5 180c0ab04dcd abbeba14a290 938b7e931166 6a3af6e0c55c new_individual',\n",
       " '37c7aba965a5 180c0ab04dcd abbeba14a290 938b7e931166 6a3af6e0c55c new_individual',\n",
       " '37c7aba965a5 180c0ab04dcd abbeba14a290 938b7e931166 6a3af6e0c55c new_individual',\n",
       " '37c7aba965a5 180c0ab04dcd abbeba14a290 938b7e931166 6a3af6e0c55c new_individual',\n",
       " '37c7aba965a5 180c0ab04dcd abbeba14a290 938b7e931166 6a3af6e0c55c new_individual',\n",
       " '37c7aba965a5 180c0ab04dcd abbeba14a290 938b7e931166 6a3af6e0c55c new_individual',\n",
       " '37c7aba965a5 180c0ab04dcd abbeba14a290 938b7e931166 6a3af6e0c55c new_individual',\n",
       " '37c7aba965a5 180c0ab04dcd abbeba14a290 938b7e931166 6a3af6e0c55c new_individual',\n",
       " '37c7aba965a5 180c0ab04dcd abbeba14a290 938b7e931166 6a3af6e0c55c new_individual',\n",
       " '37c7aba965a5 180c0ab04dcd abbeba14a290 938b7e931166 6a3af6e0c55c new_individual',\n",
       " '37c7aba965a5 180c0ab04dcd abbeba14a290 938b7e931166 6a3af6e0c55c new_individual',\n",
       " '37c7aba965a5 180c0ab04dcd abbeba14a290 938b7e931166 6a3af6e0c55c new_individual',\n",
       " '37c7aba965a5 180c0ab04dcd abbeba14a290 938b7e931166 6a3af6e0c55c new_individual',\n",
       " '37c7aba965a5 180c0ab04dcd abbeba14a290 938b7e931166 6a3af6e0c55c new_individual',\n",
       " '37c7aba965a5 180c0ab04dcd abbeba14a290 938b7e931166 6a3af6e0c55c new_individual',\n",
       " '37c7aba965a5 180c0ab04dcd abbeba14a290 938b7e931166 6a3af6e0c55c new_individual',\n",
       " '37c7aba965a5 180c0ab04dcd abbeba14a290 938b7e931166 6a3af6e0c55c new_individual',\n",
       " '37c7aba965a5 180c0ab04dcd abbeba14a290 938b7e931166 6a3af6e0c55c new_individual',\n",
       " '37c7aba965a5 180c0ab04dcd abbeba14a290 938b7e931166 6a3af6e0c55c new_individual',\n",
       " '37c7aba965a5 180c0ab04dcd abbeba14a290 938b7e931166 6a3af6e0c55c new_individual',\n",
       " '37c7aba965a5 180c0ab04dcd abbeba14a290 938b7e931166 6a3af6e0c55c new_individual',\n",
       " '37c7aba965a5 180c0ab04dcd abbeba14a290 938b7e931166 6a3af6e0c55c new_individual',\n",
       " '37c7aba965a5 180c0ab04dcd abbeba14a290 938b7e931166 6a3af6e0c55c new_individual',\n",
       " '37c7aba965a5 180c0ab04dcd abbeba14a290 938b7e931166 6a3af6e0c55c new_individual',\n",
       " '37c7aba965a5 180c0ab04dcd abbeba14a290 938b7e931166 6a3af6e0c55c new_individual',\n",
       " '37c7aba965a5 180c0ab04dcd abbeba14a290 938b7e931166 6a3af6e0c55c new_individual',\n",
       " '37c7aba965a5 180c0ab04dcd abbeba14a290 938b7e931166 6a3af6e0c55c new_individual',\n",
       " '37c7aba965a5 180c0ab04dcd abbeba14a290 938b7e931166 6a3af6e0c55c new_individual',\n",
       " '37c7aba965a5 180c0ab04dcd abbeba14a290 938b7e931166 6a3af6e0c55c new_individual',\n",
       " '37c7aba965a5 180c0ab04dcd abbeba14a290 938b7e931166 6a3af6e0c55c new_individual',\n",
       " '37c7aba965a5 180c0ab04dcd abbeba14a290 938b7e931166 6a3af6e0c55c new_individual',\n",
       " '37c7aba965a5 180c0ab04dcd abbeba14a290 938b7e931166 6a3af6e0c55c new_individual',\n",
       " '37c7aba965a5 180c0ab04dcd abbeba14a290 938b7e931166 6a3af6e0c55c new_individual',\n",
       " '37c7aba965a5 180c0ab04dcd abbeba14a290 938b7e931166 6a3af6e0c55c new_individual',\n",
       " '37c7aba965a5 180c0ab04dcd abbeba14a290 938b7e931166 6a3af6e0c55c new_individual',\n",
       " '37c7aba965a5 180c0ab04dcd abbeba14a290 938b7e931166 6a3af6e0c55c new_individual',\n",
       " '37c7aba965a5 180c0ab04dcd abbeba14a290 938b7e931166 6a3af6e0c55c new_individual',\n",
       " '37c7aba965a5 180c0ab04dcd abbeba14a290 938b7e931166 6a3af6e0c55c new_individual',\n",
       " '37c7aba965a5 180c0ab04dcd abbeba14a290 938b7e931166 6a3af6e0c55c new_individual',\n",
       " '37c7aba965a5 180c0ab04dcd abbeba14a290 938b7e931166 6a3af6e0c55c new_individual',\n",
       " '37c7aba965a5 180c0ab04dcd abbeba14a290 938b7e931166 6a3af6e0c55c new_individual',\n",
       " '37c7aba965a5 180c0ab04dcd abbeba14a290 938b7e931166 6a3af6e0c55c new_individual',\n",
       " '37c7aba965a5 180c0ab04dcd abbeba14a290 938b7e931166 6a3af6e0c55c new_individual',\n",
       " '37c7aba965a5 180c0ab04dcd abbeba14a290 938b7e931166 6a3af6e0c55c new_individual',\n",
       " '37c7aba965a5 180c0ab04dcd abbeba14a290 938b7e931166 6a3af6e0c55c new_individual',\n",
       " '37c7aba965a5 180c0ab04dcd abbeba14a290 938b7e931166 6a3af6e0c55c new_individual',\n",
       " '37c7aba965a5 180c0ab04dcd abbeba14a290 938b7e931166 6a3af6e0c55c new_individual',\n",
       " '37c7aba965a5 180c0ab04dcd abbeba14a290 938b7e931166 6a3af6e0c55c new_individual',\n",
       " '37c7aba965a5 180c0ab04dcd abbeba14a290 938b7e931166 6a3af6e0c55c new_individual',\n",
       " '37c7aba965a5 180c0ab04dcd abbeba14a290 938b7e931166 6a3af6e0c55c new_individual',\n",
       " '37c7aba965a5 180c0ab04dcd abbeba14a290 938b7e931166 6a3af6e0c55c new_individual',\n",
       " '37c7aba965a5 180c0ab04dcd abbeba14a290 938b7e931166 6a3af6e0c55c new_individual',\n",
       " '37c7aba965a5 180c0ab04dcd abbeba14a290 938b7e931166 6a3af6e0c55c new_individual',\n",
       " '37c7aba965a5 180c0ab04dcd abbeba14a290 938b7e931166 6a3af6e0c55c new_individual',\n",
       " '37c7aba965a5 180c0ab04dcd abbeba14a290 938b7e931166 6a3af6e0c55c new_individual',\n",
       " '37c7aba965a5 180c0ab04dcd abbeba14a290 938b7e931166 6a3af6e0c55c new_individual',\n",
       " '37c7aba965a5 180c0ab04dcd abbeba14a290 938b7e931166 6a3af6e0c55c new_individual',\n",
       " '37c7aba965a5 180c0ab04dcd abbeba14a290 938b7e931166 6a3af6e0c55c new_individual',\n",
       " '37c7aba965a5 180c0ab04dcd abbeba14a290 938b7e931166 6a3af6e0c55c new_individual',\n",
       " '37c7aba965a5 180c0ab04dcd abbeba14a290 938b7e931166 6a3af6e0c55c new_individual',\n",
       " '37c7aba965a5 180c0ab04dcd abbeba14a290 938b7e931166 6a3af6e0c55c new_individual',\n",
       " '37c7aba965a5 180c0ab04dcd abbeba14a290 938b7e931166 6a3af6e0c55c new_individual',\n",
       " '37c7aba965a5 180c0ab04dcd abbeba14a290 938b7e931166 6a3af6e0c55c new_individual',\n",
       " '37c7aba965a5 180c0ab04dcd abbeba14a290 938b7e931166 6a3af6e0c55c new_individual',\n",
       " '37c7aba965a5 180c0ab04dcd abbeba14a290 938b7e931166 6a3af6e0c55c new_individual',\n",
       " '37c7aba965a5 180c0ab04dcd abbeba14a290 938b7e931166 6a3af6e0c55c new_individual',\n",
       " '37c7aba965a5 180c0ab04dcd abbeba14a290 938b7e931166 6a3af6e0c55c new_individual',\n",
       " '37c7aba965a5 180c0ab04dcd abbeba14a290 938b7e931166 6a3af6e0c55c new_individual',\n",
       " '37c7aba965a5 180c0ab04dcd abbeba14a290 938b7e931166 6a3af6e0c55c new_individual',\n",
       " '37c7aba965a5 180c0ab04dcd abbeba14a290 938b7e931166 6a3af6e0c55c new_individual',\n",
       " '37c7aba965a5 180c0ab04dcd abbeba14a290 938b7e931166 6a3af6e0c55c new_individual',\n",
       " '37c7aba965a5 180c0ab04dcd abbeba14a290 938b7e931166 6a3af6e0c55c new_individual',\n",
       " '37c7aba965a5 180c0ab04dcd abbeba14a290 938b7e931166 6a3af6e0c55c new_individual',\n",
       " '37c7aba965a5 180c0ab04dcd abbeba14a290 938b7e931166 6a3af6e0c55c new_individual',\n",
       " '37c7aba965a5 180c0ab04dcd abbeba14a290 938b7e931166 6a3af6e0c55c new_individual',\n",
       " '37c7aba965a5 180c0ab04dcd abbeba14a290 938b7e931166 6a3af6e0c55c new_individual',\n",
       " '37c7aba965a5 180c0ab04dcd abbeba14a290 938b7e931166 6a3af6e0c55c new_individual',\n",
       " '37c7aba965a5 180c0ab04dcd abbeba14a290 938b7e931166 6a3af6e0c55c new_individual',\n",
       " '37c7aba965a5 180c0ab04dcd abbeba14a290 938b7e931166 6a3af6e0c55c new_individual',\n",
       " '37c7aba965a5 180c0ab04dcd abbeba14a290 938b7e931166 6a3af6e0c55c new_individual',\n",
       " '37c7aba965a5 180c0ab04dcd abbeba14a290 938b7e931166 6a3af6e0c55c new_individual',\n",
       " '37c7aba965a5 180c0ab04dcd abbeba14a290 938b7e931166 6a3af6e0c55c new_individual',\n",
       " '37c7aba965a5 180c0ab04dcd abbeba14a290 938b7e931166 6a3af6e0c55c new_individual',\n",
       " '37c7aba965a5 180c0ab04dcd abbeba14a290 938b7e931166 6a3af6e0c55c new_individual',\n",
       " '37c7aba965a5 180c0ab04dcd abbeba14a290 938b7e931166 6a3af6e0c55c new_individual',\n",
       " '37c7aba965a5 180c0ab04dcd abbeba14a290 938b7e931166 6a3af6e0c55c new_individual',\n",
       " '37c7aba965a5 180c0ab04dcd abbeba14a290 938b7e931166 6a3af6e0c55c new_individual',\n",
       " '37c7aba965a5 180c0ab04dcd abbeba14a290 938b7e931166 6a3af6e0c55c new_individual',\n",
       " '37c7aba965a5 180c0ab04dcd abbeba14a290 938b7e931166 6a3af6e0c55c new_individual',\n",
       " '37c7aba965a5 180c0ab04dcd abbeba14a290 938b7e931166 6a3af6e0c55c new_individual',\n",
       " '37c7aba965a5 180c0ab04dcd abbeba14a290 938b7e931166 6a3af6e0c55c new_individual',\n",
       " '37c7aba965a5 180c0ab04dcd abbeba14a290 938b7e931166 6a3af6e0c55c new_individual',\n",
       " '37c7aba965a5 180c0ab04dcd abbeba14a290 938b7e931166 6a3af6e0c55c new_individual',\n",
       " '37c7aba965a5 180c0ab04dcd abbeba14a290 938b7e931166 6a3af6e0c55c new_individual',\n",
       " '37c7aba965a5 180c0ab04dcd abbeba14a290 938b7e931166 6a3af6e0c55c new_individual',\n",
       " '37c7aba965a5 180c0ab04dcd abbeba14a290 938b7e931166 6a3af6e0c55c new_individual',\n",
       " '37c7aba965a5 180c0ab04dcd abbeba14a290 938b7e931166 6a3af6e0c55c new_individual',\n",
       " '37c7aba965a5 180c0ab04dcd abbeba14a290 938b7e931166 6a3af6e0c55c new_individual',\n",
       " '37c7aba965a5 180c0ab04dcd abbeba14a290 938b7e931166 6a3af6e0c55c new_individual',\n",
       " '37c7aba965a5 180c0ab04dcd abbeba14a290 938b7e931166 6a3af6e0c55c new_individual',\n",
       " '37c7aba965a5 180c0ab04dcd abbeba14a290 938b7e931166 6a3af6e0c55c new_individual',\n",
       " '37c7aba965a5 180c0ab04dcd abbeba14a290 938b7e931166 6a3af6e0c55c new_individual',\n",
       " '37c7aba965a5 180c0ab04dcd abbeba14a290 938b7e931166 6a3af6e0c55c new_individual',\n",
       " '37c7aba965a5 180c0ab04dcd abbeba14a290 938b7e931166 6a3af6e0c55c new_individual',\n",
       " '37c7aba965a5 180c0ab04dcd abbeba14a290 938b7e931166 6a3af6e0c55c new_individual',\n",
       " '37c7aba965a5 180c0ab04dcd abbeba14a290 938b7e931166 6a3af6e0c55c new_individual',\n",
       " '37c7aba965a5 180c0ab04dcd abbeba14a290 938b7e931166 6a3af6e0c55c new_individual',\n",
       " '37c7aba965a5 180c0ab04dcd abbeba14a290 938b7e931166 6a3af6e0c55c new_individual',\n",
       " '37c7aba965a5 180c0ab04dcd abbeba14a290 938b7e931166 6a3af6e0c55c new_individual',\n",
       " '37c7aba965a5 180c0ab04dcd abbeba14a290 938b7e931166 6a3af6e0c55c new_individual',\n",
       " '37c7aba965a5 180c0ab04dcd abbeba14a290 938b7e931166 6a3af6e0c55c new_individual',\n",
       " '37c7aba965a5 180c0ab04dcd abbeba14a290 938b7e931166 6a3af6e0c55c new_individual',\n",
       " '37c7aba965a5 180c0ab04dcd abbeba14a290 938b7e931166 6a3af6e0c55c new_individual',\n",
       " '37c7aba965a5 180c0ab04dcd abbeba14a290 938b7e931166 6a3af6e0c55c new_individual',\n",
       " '37c7aba965a5 180c0ab04dcd abbeba14a290 938b7e931166 6a3af6e0c55c new_individual',\n",
       " '37c7aba965a5 180c0ab04dcd abbeba14a290 938b7e931166 6a3af6e0c55c new_individual',\n",
       " '37c7aba965a5 180c0ab04dcd abbeba14a290 938b7e931166 6a3af6e0c55c new_individual',\n",
       " '37c7aba965a5 180c0ab04dcd abbeba14a290 938b7e931166 6a3af6e0c55c new_individual',\n",
       " '37c7aba965a5 180c0ab04dcd abbeba14a290 938b7e931166 6a3af6e0c55c new_individual',\n",
       " '37c7aba965a5 180c0ab04dcd abbeba14a290 938b7e931166 6a3af6e0c55c new_individual',\n",
       " '37c7aba965a5 180c0ab04dcd abbeba14a290 938b7e931166 6a3af6e0c55c new_individual',\n",
       " '37c7aba965a5 180c0ab04dcd abbeba14a290 938b7e931166 6a3af6e0c55c new_individual',\n",
       " '37c7aba965a5 180c0ab04dcd abbeba14a290 938b7e931166 6a3af6e0c55c new_individual',\n",
       " '37c7aba965a5 180c0ab04dcd abbeba14a290 938b7e931166 6a3af6e0c55c new_individual',\n",
       " '37c7aba965a5 180c0ab04dcd abbeba14a290 938b7e931166 6a3af6e0c55c new_individual',\n",
       " '37c7aba965a5 180c0ab04dcd abbeba14a290 938b7e931166 6a3af6e0c55c new_individual',\n",
       " '37c7aba965a5 180c0ab04dcd abbeba14a290 938b7e931166 6a3af6e0c55c new_individual',\n",
       " '37c7aba965a5 180c0ab04dcd abbeba14a290 938b7e931166 6a3af6e0c55c new_individual',\n",
       " '37c7aba965a5 180c0ab04dcd abbeba14a290 938b7e931166 6a3af6e0c55c new_individual',\n",
       " '37c7aba965a5 180c0ab04dcd abbeba14a290 938b7e931166 6a3af6e0c55c new_individual',\n",
       " '37c7aba965a5 180c0ab04dcd abbeba14a290 938b7e931166 6a3af6e0c55c new_individual',\n",
       " '37c7aba965a5 180c0ab04dcd abbeba14a290 938b7e931166 6a3af6e0c55c new_individual',\n",
       " '37c7aba965a5 180c0ab04dcd abbeba14a290 938b7e931166 6a3af6e0c55c new_individual',\n",
       " '37c7aba965a5 180c0ab04dcd abbeba14a290 938b7e931166 6a3af6e0c55c new_individual',\n",
       " '37c7aba965a5 180c0ab04dcd abbeba14a290 938b7e931166 6a3af6e0c55c new_individual',\n",
       " '37c7aba965a5 180c0ab04dcd abbeba14a290 938b7e931166 6a3af6e0c55c new_individual',\n",
       " '37c7aba965a5 180c0ab04dcd abbeba14a290 938b7e931166 6a3af6e0c55c new_individual',\n",
       " '37c7aba965a5 180c0ab04dcd abbeba14a290 938b7e931166 6a3af6e0c55c new_individual',\n",
       " '37c7aba965a5 180c0ab04dcd abbeba14a290 938b7e931166 6a3af6e0c55c new_individual',\n",
       " '37c7aba965a5 180c0ab04dcd abbeba14a290 938b7e931166 6a3af6e0c55c new_individual',\n",
       " '37c7aba965a5 180c0ab04dcd abbeba14a290 938b7e931166 6a3af6e0c55c new_individual',\n",
       " '37c7aba965a5 180c0ab04dcd abbeba14a290 938b7e931166 6a3af6e0c55c new_individual',\n",
       " '37c7aba965a5 180c0ab04dcd abbeba14a290 938b7e931166 6a3af6e0c55c new_individual',\n",
       " '37c7aba965a5 180c0ab04dcd abbeba14a290 938b7e931166 6a3af6e0c55c new_individual',\n",
       " '37c7aba965a5 180c0ab04dcd abbeba14a290 938b7e931166 6a3af6e0c55c new_individual',\n",
       " '37c7aba965a5 180c0ab04dcd abbeba14a290 938b7e931166 6a3af6e0c55c new_individual',\n",
       " '37c7aba965a5 180c0ab04dcd abbeba14a290 938b7e931166 6a3af6e0c55c new_individual',\n",
       " '37c7aba965a5 180c0ab04dcd abbeba14a290 938b7e931166 6a3af6e0c55c new_individual',\n",
       " '37c7aba965a5 180c0ab04dcd abbeba14a290 938b7e931166 6a3af6e0c55c new_individual',\n",
       " '37c7aba965a5 180c0ab04dcd abbeba14a290 938b7e931166 6a3af6e0c55c new_individual',\n",
       " '37c7aba965a5 180c0ab04dcd abbeba14a290 938b7e931166 6a3af6e0c55c new_individual',\n",
       " '37c7aba965a5 180c0ab04dcd abbeba14a290 938b7e931166 6a3af6e0c55c new_individual',\n",
       " '37c7aba965a5 180c0ab04dcd abbeba14a290 938b7e931166 6a3af6e0c55c new_individual',\n",
       " '37c7aba965a5 180c0ab04dcd abbeba14a290 938b7e931166 6a3af6e0c55c new_individual',\n",
       " '37c7aba965a5 180c0ab04dcd abbeba14a290 938b7e931166 6a3af6e0c55c new_individual',\n",
       " '37c7aba965a5 180c0ab04dcd abbeba14a290 938b7e931166 6a3af6e0c55c new_individual',\n",
       " '37c7aba965a5 180c0ab04dcd abbeba14a290 938b7e931166 6a3af6e0c55c new_individual',\n",
       " '37c7aba965a5 180c0ab04dcd abbeba14a290 938b7e931166 6a3af6e0c55c new_individual',\n",
       " '37c7aba965a5 180c0ab04dcd abbeba14a290 938b7e931166 6a3af6e0c55c new_individual',\n",
       " '37c7aba965a5 180c0ab04dcd abbeba14a290 938b7e931166 6a3af6e0c55c new_individual',\n",
       " '37c7aba965a5 180c0ab04dcd abbeba14a290 938b7e931166 6a3af6e0c55c new_individual',\n",
       " '37c7aba965a5 180c0ab04dcd abbeba14a290 938b7e931166 6a3af6e0c55c new_individual',\n",
       " '37c7aba965a5 180c0ab04dcd abbeba14a290 938b7e931166 6a3af6e0c55c new_individual',\n",
       " '37c7aba965a5 180c0ab04dcd abbeba14a290 938b7e931166 6a3af6e0c55c new_individual',\n",
       " '37c7aba965a5 180c0ab04dcd abbeba14a290 938b7e931166 6a3af6e0c55c new_individual',\n",
       " '37c7aba965a5 180c0ab04dcd abbeba14a290 938b7e931166 6a3af6e0c55c new_individual',\n",
       " '37c7aba965a5 180c0ab04dcd abbeba14a290 938b7e931166 6a3af6e0c55c new_individual',\n",
       " '37c7aba965a5 180c0ab04dcd abbeba14a290 938b7e931166 6a3af6e0c55c new_individual',\n",
       " '37c7aba965a5 180c0ab04dcd abbeba14a290 938b7e931166 6a3af6e0c55c new_individual',\n",
       " '37c7aba965a5 180c0ab04dcd abbeba14a290 938b7e931166 6a3af6e0c55c new_individual',\n",
       " '37c7aba965a5 180c0ab04dcd abbeba14a290 938b7e931166 6a3af6e0c55c new_individual',\n",
       " '37c7aba965a5 180c0ab04dcd abbeba14a290 938b7e931166 6a3af6e0c55c new_individual',\n",
       " '37c7aba965a5 180c0ab04dcd abbeba14a290 938b7e931166 6a3af6e0c55c new_individual',\n",
       " '37c7aba965a5 180c0ab04dcd abbeba14a290 938b7e931166 6a3af6e0c55c new_individual',\n",
       " '37c7aba965a5 180c0ab04dcd abbeba14a290 938b7e931166 6a3af6e0c55c new_individual',\n",
       " '37c7aba965a5 180c0ab04dcd abbeba14a290 938b7e931166 6a3af6e0c55c new_individual',\n",
       " '37c7aba965a5 180c0ab04dcd abbeba14a290 938b7e931166 6a3af6e0c55c new_individual',\n",
       " '37c7aba965a5 180c0ab04dcd abbeba14a290 938b7e931166 6a3af6e0c55c new_individual',\n",
       " '37c7aba965a5 180c0ab04dcd abbeba14a290 938b7e931166 6a3af6e0c55c new_individual',\n",
       " '37c7aba965a5 180c0ab04dcd abbeba14a290 938b7e931166 6a3af6e0c55c new_individual',\n",
       " '37c7aba965a5 180c0ab04dcd abbeba14a290 938b7e931166 6a3af6e0c55c new_individual',\n",
       " '37c7aba965a5 180c0ab04dcd abbeba14a290 938b7e931166 6a3af6e0c55c new_individual',\n",
       " '37c7aba965a5 180c0ab04dcd abbeba14a290 938b7e931166 6a3af6e0c55c new_individual',\n",
       " '37c7aba965a5 180c0ab04dcd abbeba14a290 938b7e931166 6a3af6e0c55c new_individual',\n",
       " '37c7aba965a5 180c0ab04dcd abbeba14a290 938b7e931166 6a3af6e0c55c new_individual',\n",
       " '37c7aba965a5 180c0ab04dcd abbeba14a290 938b7e931166 6a3af6e0c55c new_individual',\n",
       " '37c7aba965a5 180c0ab04dcd abbeba14a290 938b7e931166 6a3af6e0c55c new_individual',\n",
       " '37c7aba965a5 180c0ab04dcd abbeba14a290 938b7e931166 6a3af6e0c55c new_individual',\n",
       " '37c7aba965a5 180c0ab04dcd abbeba14a290 938b7e931166 6a3af6e0c55c new_individual',\n",
       " '37c7aba965a5 180c0ab04dcd abbeba14a290 938b7e931166 6a3af6e0c55c new_individual',\n",
       " '37c7aba965a5 180c0ab04dcd abbeba14a290 938b7e931166 6a3af6e0c55c new_individual',\n",
       " '37c7aba965a5 180c0ab04dcd abbeba14a290 938b7e931166 6a3af6e0c55c new_individual',\n",
       " '37c7aba965a5 180c0ab04dcd abbeba14a290 938b7e931166 6a3af6e0c55c new_individual',\n",
       " '37c7aba965a5 180c0ab04dcd abbeba14a290 938b7e931166 6a3af6e0c55c new_individual',\n",
       " '37c7aba965a5 180c0ab04dcd abbeba14a290 938b7e931166 6a3af6e0c55c new_individual',\n",
       " '37c7aba965a5 180c0ab04dcd abbeba14a290 938b7e931166 6a3af6e0c55c new_individual',\n",
       " '37c7aba965a5 180c0ab04dcd abbeba14a290 938b7e931166 6a3af6e0c55c new_individual',\n",
       " '37c7aba965a5 180c0ab04dcd abbeba14a290 938b7e931166 6a3af6e0c55c new_individual',\n",
       " '37c7aba965a5 180c0ab04dcd abbeba14a290 938b7e931166 6a3af6e0c55c new_individual',\n",
       " '37c7aba965a5 180c0ab04dcd abbeba14a290 938b7e931166 6a3af6e0c55c new_individual',\n",
       " '37c7aba965a5 180c0ab04dcd abbeba14a290 938b7e931166 6a3af6e0c55c new_individual',\n",
       " '37c7aba965a5 180c0ab04dcd abbeba14a290 938b7e931166 6a3af6e0c55c new_individual',\n",
       " '37c7aba965a5 180c0ab04dcd abbeba14a290 938b7e931166 6a3af6e0c55c new_individual',\n",
       " '37c7aba965a5 180c0ab04dcd abbeba14a290 938b7e931166 6a3af6e0c55c new_individual',\n",
       " '37c7aba965a5 180c0ab04dcd abbeba14a290 938b7e931166 6a3af6e0c55c new_individual',\n",
       " '37c7aba965a5 180c0ab04dcd abbeba14a290 938b7e931166 6a3af6e0c55c new_individual',\n",
       " '37c7aba965a5 180c0ab04dcd abbeba14a290 938b7e931166 6a3af6e0c55c new_individual',\n",
       " '37c7aba965a5 180c0ab04dcd abbeba14a290 938b7e931166 6a3af6e0c55c new_individual',\n",
       " '37c7aba965a5 180c0ab04dcd abbeba14a290 938b7e931166 6a3af6e0c55c new_individual',\n",
       " '37c7aba965a5 180c0ab04dcd abbeba14a290 938b7e931166 6a3af6e0c55c new_individual',\n",
       " '37c7aba965a5 180c0ab04dcd abbeba14a290 938b7e931166 6a3af6e0c55c new_individual',\n",
       " '37c7aba965a5 180c0ab04dcd abbeba14a290 938b7e931166 6a3af6e0c55c new_individual',\n",
       " '37c7aba965a5 180c0ab04dcd abbeba14a290 938b7e931166 6a3af6e0c55c new_individual',\n",
       " '37c7aba965a5 180c0ab04dcd abbeba14a290 938b7e931166 6a3af6e0c55c new_individual',\n",
       " '37c7aba965a5 180c0ab04dcd abbeba14a290 938b7e931166 6a3af6e0c55c new_individual',\n",
       " '37c7aba965a5 180c0ab04dcd abbeba14a290 938b7e931166 6a3af6e0c55c new_individual',\n",
       " '37c7aba965a5 180c0ab04dcd abbeba14a290 938b7e931166 6a3af6e0c55c new_individual',\n",
       " '37c7aba965a5 180c0ab04dcd abbeba14a290 938b7e931166 6a3af6e0c55c new_individual',\n",
       " '37c7aba965a5 180c0ab04dcd abbeba14a290 938b7e931166 6a3af6e0c55c new_individual',\n",
       " '37c7aba965a5 180c0ab04dcd abbeba14a290 938b7e931166 6a3af6e0c55c new_individual',\n",
       " '37c7aba965a5 180c0ab04dcd abbeba14a290 938b7e931166 6a3af6e0c55c new_individual',\n",
       " '37c7aba965a5 180c0ab04dcd abbeba14a290 938b7e931166 6a3af6e0c55c new_individual',\n",
       " '37c7aba965a5 180c0ab04dcd abbeba14a290 938b7e931166 6a3af6e0c55c new_individual',\n",
       " '37c7aba965a5 180c0ab04dcd abbeba14a290 938b7e931166 6a3af6e0c55c new_individual',\n",
       " '37c7aba965a5 180c0ab04dcd abbeba14a290 938b7e931166 6a3af6e0c55c new_individual',\n",
       " '37c7aba965a5 180c0ab04dcd abbeba14a290 938b7e931166 6a3af6e0c55c new_individual',\n",
       " '37c7aba965a5 180c0ab04dcd abbeba14a290 938b7e931166 6a3af6e0c55c new_individual',\n",
       " '37c7aba965a5 180c0ab04dcd abbeba14a290 938b7e931166 6a3af6e0c55c new_individual',\n",
       " '37c7aba965a5 180c0ab04dcd abbeba14a290 938b7e931166 6a3af6e0c55c new_individual',\n",
       " '37c7aba965a5 180c0ab04dcd abbeba14a290 938b7e931166 6a3af6e0c55c new_individual',\n",
       " '37c7aba965a5 180c0ab04dcd abbeba14a290 938b7e931166 6a3af6e0c55c new_individual',\n",
       " '37c7aba965a5 180c0ab04dcd abbeba14a290 938b7e931166 6a3af6e0c55c new_individual',\n",
       " '37c7aba965a5 180c0ab04dcd abbeba14a290 938b7e931166 6a3af6e0c55c new_individual',\n",
       " '37c7aba965a5 180c0ab04dcd abbeba14a290 938b7e931166 6a3af6e0c55c new_individual',\n",
       " '37c7aba965a5 180c0ab04dcd abbeba14a290 938b7e931166 6a3af6e0c55c new_individual',\n",
       " '37c7aba965a5 180c0ab04dcd abbeba14a290 938b7e931166 6a3af6e0c55c new_individual',\n",
       " '37c7aba965a5 180c0ab04dcd abbeba14a290 938b7e931166 6a3af6e0c55c new_individual',\n",
       " '37c7aba965a5 180c0ab04dcd abbeba14a290 938b7e931166 6a3af6e0c55c new_individual',\n",
       " '37c7aba965a5 180c0ab04dcd abbeba14a290 938b7e931166 6a3af6e0c55c new_individual',\n",
       " '37c7aba965a5 180c0ab04dcd abbeba14a290 938b7e931166 6a3af6e0c55c new_individual',\n",
       " '37c7aba965a5 180c0ab04dcd abbeba14a290 938b7e931166 6a3af6e0c55c new_individual',\n",
       " '37c7aba965a5 180c0ab04dcd abbeba14a290 938b7e931166 6a3af6e0c55c new_individual',\n",
       " '37c7aba965a5 180c0ab04dcd abbeba14a290 938b7e931166 6a3af6e0c55c new_individual',\n",
       " '37c7aba965a5 180c0ab04dcd abbeba14a290 938b7e931166 6a3af6e0c55c new_individual',\n",
       " '37c7aba965a5 180c0ab04dcd abbeba14a290 938b7e931166 6a3af6e0c55c new_individual',\n",
       " '37c7aba965a5 180c0ab04dcd abbeba14a290 938b7e931166 6a3af6e0c55c new_individual',\n",
       " '37c7aba965a5 180c0ab04dcd abbeba14a290 938b7e931166 6a3af6e0c55c new_individual',\n",
       " '37c7aba965a5 180c0ab04dcd abbeba14a290 938b7e931166 6a3af6e0c55c new_individual',\n",
       " '37c7aba965a5 180c0ab04dcd abbeba14a290 938b7e931166 6a3af6e0c55c new_individual',\n",
       " '37c7aba965a5 180c0ab04dcd abbeba14a290 938b7e931166 6a3af6e0c55c new_individual',\n",
       " '37c7aba965a5 180c0ab04dcd abbeba14a290 938b7e931166 6a3af6e0c55c new_individual',\n",
       " '37c7aba965a5 180c0ab04dcd abbeba14a290 938b7e931166 6a3af6e0c55c new_individual',\n",
       " '37c7aba965a5 180c0ab04dcd abbeba14a290 938b7e931166 6a3af6e0c55c new_individual',\n",
       " '37c7aba965a5 180c0ab04dcd abbeba14a290 938b7e931166 6a3af6e0c55c new_individual',\n",
       " '37c7aba965a5 180c0ab04dcd abbeba14a290 938b7e931166 6a3af6e0c55c new_individual',\n",
       " '37c7aba965a5 180c0ab04dcd abbeba14a290 938b7e931166 6a3af6e0c55c new_individual',\n",
       " '37c7aba965a5 180c0ab04dcd abbeba14a290 938b7e931166 6a3af6e0c55c new_individual',\n",
       " '37c7aba965a5 180c0ab04dcd abbeba14a290 938b7e931166 6a3af6e0c55c new_individual',\n",
       " '37c7aba965a5 180c0ab04dcd abbeba14a290 938b7e931166 6a3af6e0c55c new_individual',\n",
       " '37c7aba965a5 180c0ab04dcd abbeba14a290 938b7e931166 6a3af6e0c55c new_individual',\n",
       " '37c7aba965a5 180c0ab04dcd abbeba14a290 938b7e931166 6a3af6e0c55c new_individual',\n",
       " '37c7aba965a5 180c0ab04dcd abbeba14a290 938b7e931166 6a3af6e0c55c new_individual',\n",
       " '37c7aba965a5 180c0ab04dcd abbeba14a290 938b7e931166 6a3af6e0c55c new_individual',\n",
       " '37c7aba965a5 180c0ab04dcd abbeba14a290 938b7e931166 6a3af6e0c55c new_individual',\n",
       " '37c7aba965a5 180c0ab04dcd abbeba14a290 938b7e931166 6a3af6e0c55c new_individual',\n",
       " '37c7aba965a5 180c0ab04dcd abbeba14a290 938b7e931166 6a3af6e0c55c new_individual',\n",
       " '37c7aba965a5 180c0ab04dcd abbeba14a290 938b7e931166 6a3af6e0c55c new_individual',\n",
       " '37c7aba965a5 180c0ab04dcd abbeba14a290 938b7e931166 6a3af6e0c55c new_individual',\n",
       " '37c7aba965a5 180c0ab04dcd abbeba14a290 938b7e931166 6a3af6e0c55c new_individual',\n",
       " '37c7aba965a5 180c0ab04dcd abbeba14a290 938b7e931166 6a3af6e0c55c new_individual',\n",
       " '37c7aba965a5 180c0ab04dcd abbeba14a290 938b7e931166 6a3af6e0c55c new_individual',\n",
       " '37c7aba965a5 180c0ab04dcd abbeba14a290 938b7e931166 6a3af6e0c55c new_individual',\n",
       " '37c7aba965a5 180c0ab04dcd abbeba14a290 938b7e931166 6a3af6e0c55c new_individual',\n",
       " '37c7aba965a5 180c0ab04dcd abbeba14a290 938b7e931166 6a3af6e0c55c new_individual',\n",
       " '37c7aba965a5 180c0ab04dcd abbeba14a290 938b7e931166 6a3af6e0c55c new_individual',\n",
       " '37c7aba965a5 180c0ab04dcd abbeba14a290 938b7e931166 6a3af6e0c55c new_individual',\n",
       " '37c7aba965a5 180c0ab04dcd abbeba14a290 938b7e931166 6a3af6e0c55c new_individual',\n",
       " '37c7aba965a5 180c0ab04dcd abbeba14a290 938b7e931166 6a3af6e0c55c new_individual',\n",
       " '37c7aba965a5 180c0ab04dcd abbeba14a290 938b7e931166 6a3af6e0c55c new_individual',\n",
       " '37c7aba965a5 180c0ab04dcd abbeba14a290 938b7e931166 6a3af6e0c55c new_individual',\n",
       " '37c7aba965a5 180c0ab04dcd abbeba14a290 938b7e931166 6a3af6e0c55c new_individual',\n",
       " '37c7aba965a5 180c0ab04dcd abbeba14a290 938b7e931166 6a3af6e0c55c new_individual',\n",
       " '37c7aba965a5 180c0ab04dcd abbeba14a290 938b7e931166 6a3af6e0c55c new_individual',\n",
       " '37c7aba965a5 180c0ab04dcd abbeba14a290 938b7e931166 6a3af6e0c55c new_individual',\n",
       " '37c7aba965a5 180c0ab04dcd abbeba14a290 938b7e931166 6a3af6e0c55c new_individual',\n",
       " '37c7aba965a5 180c0ab04dcd abbeba14a290 938b7e931166 6a3af6e0c55c new_individual',\n",
       " '37c7aba965a5 180c0ab04dcd abbeba14a290 938b7e931166 6a3af6e0c55c new_individual',\n",
       " '37c7aba965a5 180c0ab04dcd abbeba14a290 938b7e931166 6a3af6e0c55c new_individual',\n",
       " '37c7aba965a5 180c0ab04dcd abbeba14a290 938b7e931166 6a3af6e0c55c new_individual',\n",
       " '37c7aba965a5 180c0ab04dcd abbeba14a290 938b7e931166 6a3af6e0c55c new_individual',\n",
       " '37c7aba965a5 180c0ab04dcd abbeba14a290 938b7e931166 6a3af6e0c55c new_individual',\n",
       " '37c7aba965a5 180c0ab04dcd abbeba14a290 938b7e931166 6a3af6e0c55c new_individual',\n",
       " '37c7aba965a5 180c0ab04dcd abbeba14a290 938b7e931166 6a3af6e0c55c new_individual',\n",
       " '37c7aba965a5 180c0ab04dcd abbeba14a290 938b7e931166 6a3af6e0c55c new_individual',\n",
       " '37c7aba965a5 180c0ab04dcd abbeba14a290 938b7e931166 6a3af6e0c55c new_individual',\n",
       " '37c7aba965a5 180c0ab04dcd abbeba14a290 938b7e931166 6a3af6e0c55c new_individual',\n",
       " '37c7aba965a5 180c0ab04dcd abbeba14a290 938b7e931166 6a3af6e0c55c new_individual',\n",
       " '37c7aba965a5 180c0ab04dcd abbeba14a290 938b7e931166 6a3af6e0c55c new_individual',\n",
       " '37c7aba965a5 180c0ab04dcd abbeba14a290 938b7e931166 6a3af6e0c55c new_individual',\n",
       " '37c7aba965a5 180c0ab04dcd abbeba14a290 938b7e931166 6a3af6e0c55c new_individual',\n",
       " '37c7aba965a5 180c0ab04dcd abbeba14a290 938b7e931166 6a3af6e0c55c new_individual',\n",
       " '37c7aba965a5 180c0ab04dcd abbeba14a290 938b7e931166 6a3af6e0c55c new_individual',\n",
       " '37c7aba965a5 180c0ab04dcd abbeba14a290 938b7e931166 6a3af6e0c55c new_individual',\n",
       " '37c7aba965a5 180c0ab04dcd abbeba14a290 938b7e931166 6a3af6e0c55c new_individual',\n",
       " '37c7aba965a5 180c0ab04dcd abbeba14a290 938b7e931166 6a3af6e0c55c new_individual',\n",
       " '37c7aba965a5 180c0ab04dcd abbeba14a290 938b7e931166 6a3af6e0c55c new_individual',\n",
       " '37c7aba965a5 180c0ab04dcd abbeba14a290 938b7e931166 6a3af6e0c55c new_individual',\n",
       " '37c7aba965a5 180c0ab04dcd abbeba14a290 938b7e931166 6a3af6e0c55c new_individual',\n",
       " '37c7aba965a5 180c0ab04dcd abbeba14a290 938b7e931166 6a3af6e0c55c new_individual',\n",
       " '37c7aba965a5 180c0ab04dcd abbeba14a290 938b7e931166 6a3af6e0c55c new_individual',\n",
       " '37c7aba965a5 180c0ab04dcd abbeba14a290 938b7e931166 6a3af6e0c55c new_individual',\n",
       " '37c7aba965a5 180c0ab04dcd abbeba14a290 938b7e931166 6a3af6e0c55c new_individual',\n",
       " '37c7aba965a5 180c0ab04dcd abbeba14a290 938b7e931166 6a3af6e0c55c new_individual',\n",
       " '37c7aba965a5 180c0ab04dcd abbeba14a290 938b7e931166 6a3af6e0c55c new_individual',\n",
       " '37c7aba965a5 180c0ab04dcd abbeba14a290 938b7e931166 6a3af6e0c55c new_individual',\n",
       " '37c7aba965a5 180c0ab04dcd abbeba14a290 938b7e931166 6a3af6e0c55c new_individual',\n",
       " '37c7aba965a5 180c0ab04dcd abbeba14a290 938b7e931166 6a3af6e0c55c new_individual',\n",
       " '37c7aba965a5 180c0ab04dcd abbeba14a290 938b7e931166 6a3af6e0c55c new_individual',\n",
       " '37c7aba965a5 180c0ab04dcd abbeba14a290 938b7e931166 6a3af6e0c55c new_individual',\n",
       " '37c7aba965a5 180c0ab04dcd abbeba14a290 938b7e931166 6a3af6e0c55c new_individual',\n",
       " '37c7aba965a5 180c0ab04dcd abbeba14a290 938b7e931166 6a3af6e0c55c new_individual',\n",
       " '37c7aba965a5 180c0ab04dcd abbeba14a290 938b7e931166 6a3af6e0c55c new_individual',\n",
       " '37c7aba965a5 180c0ab04dcd abbeba14a290 938b7e931166 6a3af6e0c55c new_individual',\n",
       " '37c7aba965a5 180c0ab04dcd abbeba14a290 938b7e931166 6a3af6e0c55c new_individual',\n",
       " '37c7aba965a5 180c0ab04dcd abbeba14a290 938b7e931166 6a3af6e0c55c new_individual',\n",
       " '37c7aba965a5 180c0ab04dcd abbeba14a290 938b7e931166 6a3af6e0c55c new_individual',\n",
       " '37c7aba965a5 180c0ab04dcd abbeba14a290 938b7e931166 6a3af6e0c55c new_individual',\n",
       " '37c7aba965a5 180c0ab04dcd abbeba14a290 938b7e931166 6a3af6e0c55c new_individual',\n",
       " '37c7aba965a5 180c0ab04dcd abbeba14a290 938b7e931166 6a3af6e0c55c new_individual',\n",
       " '37c7aba965a5 180c0ab04dcd abbeba14a290 938b7e931166 6a3af6e0c55c new_individual',\n",
       " '37c7aba965a5 180c0ab04dcd abbeba14a290 938b7e931166 6a3af6e0c55c new_individual',\n",
       " '37c7aba965a5 180c0ab04dcd abbeba14a290 938b7e931166 6a3af6e0c55c new_individual',\n",
       " '37c7aba965a5 180c0ab04dcd abbeba14a290 938b7e931166 6a3af6e0c55c new_individual',\n",
       " '37c7aba965a5 180c0ab04dcd abbeba14a290 938b7e931166 6a3af6e0c55c new_individual',\n",
       " '37c7aba965a5 180c0ab04dcd abbeba14a290 938b7e931166 6a3af6e0c55c new_individual',\n",
       " '37c7aba965a5 180c0ab04dcd abbeba14a290 938b7e931166 6a3af6e0c55c new_individual',\n",
       " '37c7aba965a5 180c0ab04dcd abbeba14a290 938b7e931166 6a3af6e0c55c new_individual',\n",
       " '37c7aba965a5 180c0ab04dcd abbeba14a290 938b7e931166 6a3af6e0c55c new_individual',\n",
       " '37c7aba965a5 180c0ab04dcd abbeba14a290 938b7e931166 6a3af6e0c55c new_individual',\n",
       " '37c7aba965a5 180c0ab04dcd abbeba14a290 938b7e931166 6a3af6e0c55c new_individual',\n",
       " '37c7aba965a5 180c0ab04dcd abbeba14a290 938b7e931166 6a3af6e0c55c new_individual',\n",
       " '37c7aba965a5 180c0ab04dcd abbeba14a290 938b7e931166 6a3af6e0c55c new_individual',\n",
       " '37c7aba965a5 180c0ab04dcd abbeba14a290 938b7e931166 6a3af6e0c55c new_individual',\n",
       " '37c7aba965a5 180c0ab04dcd abbeba14a290 938b7e931166 6a3af6e0c55c new_individual',\n",
       " '37c7aba965a5 180c0ab04dcd abbeba14a290 938b7e931166 6a3af6e0c55c new_individual',\n",
       " '37c7aba965a5 180c0ab04dcd abbeba14a290 938b7e931166 6a3af6e0c55c new_individual',\n",
       " '37c7aba965a5 180c0ab04dcd abbeba14a290 938b7e931166 6a3af6e0c55c new_individual',\n",
       " '37c7aba965a5 180c0ab04dcd abbeba14a290 938b7e931166 6a3af6e0c55c new_individual',\n",
       " '37c7aba965a5 180c0ab04dcd abbeba14a290 938b7e931166 6a3af6e0c55c new_individual',\n",
       " '37c7aba965a5 180c0ab04dcd abbeba14a290 938b7e931166 6a3af6e0c55c new_individual',\n",
       " '37c7aba965a5 180c0ab04dcd abbeba14a290 938b7e931166 6a3af6e0c55c new_individual',\n",
       " '37c7aba965a5 180c0ab04dcd abbeba14a290 938b7e931166 6a3af6e0c55c new_individual',\n",
       " '37c7aba965a5 180c0ab04dcd abbeba14a290 938b7e931166 6a3af6e0c55c new_individual',\n",
       " '37c7aba965a5 180c0ab04dcd abbeba14a290 938b7e931166 6a3af6e0c55c new_individual',\n",
       " '37c7aba965a5 180c0ab04dcd abbeba14a290 938b7e931166 6a3af6e0c55c new_individual',\n",
       " '37c7aba965a5 180c0ab04dcd abbeba14a290 938b7e931166 6a3af6e0c55c new_individual',\n",
       " '37c7aba965a5 180c0ab04dcd abbeba14a290 938b7e931166 6a3af6e0c55c new_individual',\n",
       " '37c7aba965a5 180c0ab04dcd abbeba14a290 938b7e931166 6a3af6e0c55c new_individual',\n",
       " '37c7aba965a5 180c0ab04dcd abbeba14a290 938b7e931166 6a3af6e0c55c new_individual',\n",
       " '37c7aba965a5 180c0ab04dcd abbeba14a290 938b7e931166 6a3af6e0c55c new_individual',\n",
       " '37c7aba965a5 180c0ab04dcd abbeba14a290 938b7e931166 6a3af6e0c55c new_individual',\n",
       " '37c7aba965a5 180c0ab04dcd abbeba14a290 938b7e931166 6a3af6e0c55c new_individual',\n",
       " '37c7aba965a5 180c0ab04dcd abbeba14a290 938b7e931166 6a3af6e0c55c new_individual',\n",
       " '37c7aba965a5 180c0ab04dcd abbeba14a290 938b7e931166 6a3af6e0c55c new_individual',\n",
       " '37c7aba965a5 180c0ab04dcd abbeba14a290 938b7e931166 6a3af6e0c55c new_individual',\n",
       " '37c7aba965a5 180c0ab04dcd abbeba14a290 938b7e931166 6a3af6e0c55c new_individual',\n",
       " '37c7aba965a5 180c0ab04dcd abbeba14a290 938b7e931166 6a3af6e0c55c new_individual',\n",
       " '37c7aba965a5 180c0ab04dcd abbeba14a290 938b7e931166 6a3af6e0c55c new_individual',\n",
       " ...]"
      ]
     },
     "execution_count": 27,
     "metadata": {},
     "output_type": "execute_result"
    }
   ],
   "source": [
    "df_test['predictions'].tolist()"
   ]
  },
  {
   "cell_type": "code",
   "execution_count": 52,
   "id": "5f3f3832",
   "metadata": {
    "ExecuteTime": {
     "end_time": "2022-02-27T11:12:55.713566Z",
     "start_time": "2022-02-27T11:12:55.706465Z"
    }
   },
   "outputs": [
    {
     "data": {
      "text/plain": [
       "['37c7aba965a5 180c0ab04dcd abbeba14a290 938b7e931166 6a3af6e0c55c new_individual',\n",
       " '37c7aba965a5 180c0ab04dcd abbeba14a290 938b7e931166 6a3af6e0c55c new_individual',\n",
       " '37c7aba965a5 180c0ab04dcd abbeba14a290 938b7e931166 6a3af6e0c55c new_individual',\n",
       " '37c7aba965a5 180c0ab04dcd abbeba14a290 938b7e931166 6a3af6e0c55c new_individual',\n",
       " '37c7aba965a5 180c0ab04dcd abbeba14a290 938b7e931166 6a3af6e0c55c new_individual',\n",
       " '37c7aba965a5 180c0ab04dcd abbeba14a290 938b7e931166 6a3af6e0c55c new_individual',\n",
       " '37c7aba965a5 180c0ab04dcd abbeba14a290 938b7e931166 6a3af6e0c55c new_individual',\n",
       " '37c7aba965a5 180c0ab04dcd abbeba14a290 938b7e931166 6a3af6e0c55c new_individual',\n",
       " '37c7aba965a5 180c0ab04dcd abbeba14a290 938b7e931166 6a3af6e0c55c new_individual',\n",
       " '37c7aba965a5 180c0ab04dcd abbeba14a290 938b7e931166 6a3af6e0c55c new_individual',\n",
       " '37c7aba965a5 180c0ab04dcd abbeba14a290 938b7e931166 6a3af6e0c55c new_individual',\n",
       " '37c7aba965a5 180c0ab04dcd abbeba14a290 938b7e931166 6a3af6e0c55c new_individual',\n",
       " '37c7aba965a5 180c0ab04dcd abbeba14a290 938b7e931166 6a3af6e0c55c new_individual',\n",
       " '37c7aba965a5 180c0ab04dcd abbeba14a290 938b7e931166 6a3af6e0c55c new_individual',\n",
       " '37c7aba965a5 180c0ab04dcd abbeba14a290 938b7e931166 6a3af6e0c55c new_individual',\n",
       " '37c7aba965a5 180c0ab04dcd abbeba14a290 938b7e931166 6a3af6e0c55c new_individual',\n",
       " '37c7aba965a5 180c0ab04dcd abbeba14a290 938b7e931166 6a3af6e0c55c new_individual',\n",
       " '37c7aba965a5 180c0ab04dcd abbeba14a290 938b7e931166 6a3af6e0c55c new_individual',\n",
       " '37c7aba965a5 180c0ab04dcd abbeba14a290 938b7e931166 6a3af6e0c55c new_individual',\n",
       " '37c7aba965a5 180c0ab04dcd abbeba14a290 938b7e931166 6a3af6e0c55c new_individual',\n",
       " '37c7aba965a5 180c0ab04dcd abbeba14a290 938b7e931166 6a3af6e0c55c new_individual',\n",
       " '37c7aba965a5 180c0ab04dcd abbeba14a290 938b7e931166 6a3af6e0c55c new_individual',\n",
       " '37c7aba965a5 180c0ab04dcd abbeba14a290 938b7e931166 6a3af6e0c55c new_individual',\n",
       " '37c7aba965a5 180c0ab04dcd abbeba14a290 938b7e931166 6a3af6e0c55c new_individual',\n",
       " '37c7aba965a5 180c0ab04dcd abbeba14a290 938b7e931166 6a3af6e0c55c new_individual',\n",
       " '37c7aba965a5 180c0ab04dcd abbeba14a290 938b7e931166 6a3af6e0c55c new_individual',\n",
       " '37c7aba965a5 180c0ab04dcd abbeba14a290 938b7e931166 6a3af6e0c55c new_individual',\n",
       " '37c7aba965a5 180c0ab04dcd abbeba14a290 938b7e931166 6a3af6e0c55c new_individual',\n",
       " '37c7aba965a5 180c0ab04dcd abbeba14a290 938b7e931166 6a3af6e0c55c new_individual',\n",
       " '37c7aba965a5 180c0ab04dcd abbeba14a290 938b7e931166 6a3af6e0c55c new_individual',\n",
       " '37c7aba965a5 180c0ab04dcd abbeba14a290 938b7e931166 6a3af6e0c55c new_individual',\n",
       " '37c7aba965a5 180c0ab04dcd abbeba14a290 938b7e931166 6a3af6e0c55c new_individual',\n",
       " '37c7aba965a5 180c0ab04dcd abbeba14a290 938b7e931166 6a3af6e0c55c new_individual',\n",
       " '37c7aba965a5 180c0ab04dcd abbeba14a290 938b7e931166 6a3af6e0c55c new_individual',\n",
       " '37c7aba965a5 180c0ab04dcd abbeba14a290 938b7e931166 6a3af6e0c55c new_individual',\n",
       " '37c7aba965a5 180c0ab04dcd abbeba14a290 938b7e931166 6a3af6e0c55c new_individual',\n",
       " '37c7aba965a5 180c0ab04dcd abbeba14a290 938b7e931166 6a3af6e0c55c new_individual',\n",
       " '37c7aba965a5 180c0ab04dcd abbeba14a290 938b7e931166 6a3af6e0c55c new_individual',\n",
       " '37c7aba965a5 180c0ab04dcd abbeba14a290 938b7e931166 6a3af6e0c55c new_individual',\n",
       " '37c7aba965a5 180c0ab04dcd abbeba14a290 938b7e931166 6a3af6e0c55c new_individual',\n",
       " '37c7aba965a5 180c0ab04dcd abbeba14a290 938b7e931166 6a3af6e0c55c new_individual',\n",
       " '37c7aba965a5 180c0ab04dcd abbeba14a290 938b7e931166 6a3af6e0c55c new_individual',\n",
       " '37c7aba965a5 180c0ab04dcd abbeba14a290 938b7e931166 6a3af6e0c55c new_individual',\n",
       " '37c7aba965a5 180c0ab04dcd abbeba14a290 938b7e931166 6a3af6e0c55c new_individual',\n",
       " '37c7aba965a5 180c0ab04dcd abbeba14a290 938b7e931166 6a3af6e0c55c new_individual',\n",
       " '37c7aba965a5 180c0ab04dcd abbeba14a290 938b7e931166 6a3af6e0c55c new_individual',\n",
       " '37c7aba965a5 180c0ab04dcd abbeba14a290 938b7e931166 6a3af6e0c55c new_individual',\n",
       " '37c7aba965a5 180c0ab04dcd abbeba14a290 938b7e931166 6a3af6e0c55c new_individual',\n",
       " '37c7aba965a5 180c0ab04dcd abbeba14a290 938b7e931166 6a3af6e0c55c new_individual',\n",
       " '37c7aba965a5 180c0ab04dcd abbeba14a290 938b7e931166 6a3af6e0c55c new_individual']"
      ]
     },
     "execution_count": 52,
     "metadata": {},
     "output_type": "execute_result"
    }
   ],
   "source": [
    "df_test['predictions'].tolist()"
   ]
  },
  {
   "cell_type": "code",
   "execution_count": 35,
   "id": "0e723481",
   "metadata": {
    "ExecuteTime": {
     "end_time": "2022-02-27T10:54:39.120957Z",
     "start_time": "2022-02-27T10:54:38.978080Z"
    }
   },
   "outputs": [
    {
     "data": {
      "text/plain": [
       "['new_individual 37c7aba965a5 180c0ab04dcd abbeba14a290 938b7e931166 6a3af6e0c55c',\n",
       " 'new_individual 37c7aba965a5 180c0ab04dcd abbeba14a290 938b7e931166 6a3af6e0c55c',\n",
       " 'new_individual 37c7aba965a5 180c0ab04dcd abbeba14a290 938b7e931166 6a3af6e0c55c',\n",
       " 'new_individual 37c7aba965a5 180c0ab04dcd abbeba14a290 938b7e931166 6a3af6e0c55c',\n",
       " 'new_individual 37c7aba965a5 180c0ab04dcd abbeba14a290 938b7e931166 6a3af6e0c55c',\n",
       " 'new_individual 37c7aba965a5 180c0ab04dcd abbeba14a290 938b7e931166 6a3af6e0c55c',\n",
       " 'new_individual 37c7aba965a5 180c0ab04dcd abbeba14a290 938b7e931166 6a3af6e0c55c',\n",
       " 'new_individual 37c7aba965a5 180c0ab04dcd abbeba14a290 938b7e931166 6a3af6e0c55c',\n",
       " 'new_individual 37c7aba965a5 180c0ab04dcd abbeba14a290 938b7e931166 6a3af6e0c55c',\n",
       " 'new_individual 37c7aba965a5 180c0ab04dcd abbeba14a290 938b7e931166 6a3af6e0c55c',\n",
       " 'new_individual 37c7aba965a5 180c0ab04dcd abbeba14a290 938b7e931166 6a3af6e0c55c',\n",
       " 'new_individual 37c7aba965a5 180c0ab04dcd abbeba14a290 938b7e931166 6a3af6e0c55c',\n",
       " 'new_individual 37c7aba965a5 180c0ab04dcd abbeba14a290 938b7e931166 6a3af6e0c55c',\n",
       " 'new_individual 37c7aba965a5 180c0ab04dcd abbeba14a290 938b7e931166 6a3af6e0c55c',\n",
       " 'new_individual 37c7aba965a5 180c0ab04dcd abbeba14a290 938b7e931166 6a3af6e0c55c',\n",
       " 'new_individual 37c7aba965a5 180c0ab04dcd abbeba14a290 938b7e931166 6a3af6e0c55c',\n",
       " 'new_individual 37c7aba965a5 180c0ab04dcd abbeba14a290 938b7e931166 6a3af6e0c55c',\n",
       " 'new_individual 37c7aba965a5 180c0ab04dcd abbeba14a290 938b7e931166 6a3af6e0c55c',\n",
       " 'new_individual 37c7aba965a5 180c0ab04dcd abbeba14a290 938b7e931166 6a3af6e0c55c',\n",
       " 'new_individual 37c7aba965a5 180c0ab04dcd abbeba14a290 938b7e931166 6a3af6e0c55c',\n",
       " 'new_individual 37c7aba965a5 180c0ab04dcd abbeba14a290 938b7e931166 6a3af6e0c55c',\n",
       " 'new_individual 37c7aba965a5 180c0ab04dcd abbeba14a290 938b7e931166 6a3af6e0c55c',\n",
       " 'new_individual 37c7aba965a5 180c0ab04dcd abbeba14a290 938b7e931166 6a3af6e0c55c',\n",
       " 'new_individual 37c7aba965a5 180c0ab04dcd abbeba14a290 938b7e931166 6a3af6e0c55c',\n",
       " 'new_individual 37c7aba965a5 180c0ab04dcd abbeba14a290 938b7e931166 6a3af6e0c55c',\n",
       " 'new_individual 37c7aba965a5 180c0ab04dcd abbeba14a290 938b7e931166 6a3af6e0c55c',\n",
       " 'new_individual 37c7aba965a5 180c0ab04dcd abbeba14a290 938b7e931166 6a3af6e0c55c',\n",
       " 'new_individual 37c7aba965a5 180c0ab04dcd abbeba14a290 938b7e931166 6a3af6e0c55c',\n",
       " 'new_individual 37c7aba965a5 180c0ab04dcd abbeba14a290 938b7e931166 6a3af6e0c55c',\n",
       " 'new_individual 37c7aba965a5 180c0ab04dcd abbeba14a290 938b7e931166 6a3af6e0c55c',\n",
       " 'new_individual 37c7aba965a5 180c0ab04dcd abbeba14a290 938b7e931166 6a3af6e0c55c',\n",
       " 'new_individual 37c7aba965a5 180c0ab04dcd abbeba14a290 938b7e931166 6a3af6e0c55c',\n",
       " 'new_individual 37c7aba965a5 180c0ab04dcd abbeba14a290 938b7e931166 6a3af6e0c55c',\n",
       " 'new_individual 37c7aba965a5 180c0ab04dcd abbeba14a290 938b7e931166 6a3af6e0c55c',\n",
       " 'new_individual 37c7aba965a5 180c0ab04dcd abbeba14a290 938b7e931166 6a3af6e0c55c',\n",
       " 'new_individual 37c7aba965a5 180c0ab04dcd abbeba14a290 938b7e931166 6a3af6e0c55c',\n",
       " 'new_individual 37c7aba965a5 180c0ab04dcd abbeba14a290 938b7e931166 6a3af6e0c55c',\n",
       " 'new_individual 37c7aba965a5 180c0ab04dcd abbeba14a290 938b7e931166 6a3af6e0c55c',\n",
       " 'new_individual 37c7aba965a5 180c0ab04dcd abbeba14a290 938b7e931166 6a3af6e0c55c',\n",
       " 'new_individual 37c7aba965a5 180c0ab04dcd abbeba14a290 938b7e931166 6a3af6e0c55c',\n",
       " 'new_individual 37c7aba965a5 180c0ab04dcd abbeba14a290 938b7e931166 6a3af6e0c55c',\n",
       " 'new_individual 37c7aba965a5 180c0ab04dcd abbeba14a290 938b7e931166 6a3af6e0c55c',\n",
       " 'new_individual 37c7aba965a5 180c0ab04dcd abbeba14a290 938b7e931166 6a3af6e0c55c',\n",
       " 'new_individual 37c7aba965a5 180c0ab04dcd abbeba14a290 938b7e931166 6a3af6e0c55c',\n",
       " 'new_individual 37c7aba965a5 180c0ab04dcd abbeba14a290 938b7e931166 6a3af6e0c55c',\n",
       " 'new_individual 37c7aba965a5 180c0ab04dcd abbeba14a290 938b7e931166 6a3af6e0c55c',\n",
       " 'new_individual 37c7aba965a5 180c0ab04dcd abbeba14a290 938b7e931166 6a3af6e0c55c',\n",
       " 'new_individual 37c7aba965a5 180c0ab04dcd abbeba14a290 938b7e931166 6a3af6e0c55c',\n",
       " 'new_individual 37c7aba965a5 180c0ab04dcd abbeba14a290 938b7e931166 6a3af6e0c55c',\n",
       " 'new_individual 37c7aba965a5 180c0ab04dcd abbeba14a290 938b7e931166 6a3af6e0c55c',\n",
       " 'new_individual 37c7aba965a5 180c0ab04dcd abbeba14a290 938b7e931166 6a3af6e0c55c',\n",
       " 'new_individual 37c7aba965a5 180c0ab04dcd abbeba14a290 938b7e931166 6a3af6e0c55c',\n",
       " 'new_individual 37c7aba965a5 180c0ab04dcd abbeba14a290 938b7e931166 6a3af6e0c55c',\n",
       " 'new_individual 37c7aba965a5 180c0ab04dcd abbeba14a290 938b7e931166 6a3af6e0c55c',\n",
       " 'new_individual 37c7aba965a5 180c0ab04dcd abbeba14a290 938b7e931166 6a3af6e0c55c',\n",
       " 'new_individual 37c7aba965a5 180c0ab04dcd abbeba14a290 938b7e931166 6a3af6e0c55c',\n",
       " 'new_individual 37c7aba965a5 180c0ab04dcd abbeba14a290 938b7e931166 6a3af6e0c55c',\n",
       " 'new_individual 37c7aba965a5 180c0ab04dcd abbeba14a290 938b7e931166 6a3af6e0c55c',\n",
       " 'new_individual 37c7aba965a5 180c0ab04dcd abbeba14a290 938b7e931166 6a3af6e0c55c',\n",
       " 'new_individual 37c7aba965a5 180c0ab04dcd abbeba14a290 938b7e931166 6a3af6e0c55c',\n",
       " 'new_individual 37c7aba965a5 180c0ab04dcd abbeba14a290 938b7e931166 6a3af6e0c55c',\n",
       " 'new_individual 37c7aba965a5 180c0ab04dcd abbeba14a290 938b7e931166 6a3af6e0c55c',\n",
       " 'new_individual 37c7aba965a5 180c0ab04dcd abbeba14a290 938b7e931166 6a3af6e0c55c',\n",
       " 'new_individual 37c7aba965a5 180c0ab04dcd abbeba14a290 938b7e931166 6a3af6e0c55c',\n",
       " 'new_individual 37c7aba965a5 180c0ab04dcd abbeba14a290 938b7e931166 6a3af6e0c55c',\n",
       " 'new_individual 37c7aba965a5 180c0ab04dcd abbeba14a290 938b7e931166 6a3af6e0c55c',\n",
       " 'new_individual 37c7aba965a5 180c0ab04dcd abbeba14a290 938b7e931166 6a3af6e0c55c',\n",
       " 'new_individual 37c7aba965a5 180c0ab04dcd abbeba14a290 938b7e931166 6a3af6e0c55c',\n",
       " 'new_individual 37c7aba965a5 180c0ab04dcd abbeba14a290 938b7e931166 6a3af6e0c55c',\n",
       " 'new_individual 37c7aba965a5 180c0ab04dcd abbeba14a290 938b7e931166 6a3af6e0c55c',\n",
       " 'new_individual 37c7aba965a5 180c0ab04dcd abbeba14a290 938b7e931166 6a3af6e0c55c',\n",
       " 'new_individual 37c7aba965a5 180c0ab04dcd abbeba14a290 938b7e931166 6a3af6e0c55c',\n",
       " 'new_individual 37c7aba965a5 180c0ab04dcd abbeba14a290 938b7e931166 6a3af6e0c55c',\n",
       " 'new_individual 37c7aba965a5 180c0ab04dcd abbeba14a290 938b7e931166 6a3af6e0c55c',\n",
       " 'new_individual 37c7aba965a5 180c0ab04dcd abbeba14a290 938b7e931166 6a3af6e0c55c',\n",
       " 'new_individual 37c7aba965a5 180c0ab04dcd abbeba14a290 938b7e931166 6a3af6e0c55c',\n",
       " 'new_individual 37c7aba965a5 180c0ab04dcd abbeba14a290 938b7e931166 6a3af6e0c55c',\n",
       " 'new_individual 37c7aba965a5 180c0ab04dcd abbeba14a290 938b7e931166 6a3af6e0c55c',\n",
       " 'new_individual 37c7aba965a5 180c0ab04dcd abbeba14a290 938b7e931166 6a3af6e0c55c',\n",
       " 'new_individual 37c7aba965a5 180c0ab04dcd abbeba14a290 938b7e931166 6a3af6e0c55c',\n",
       " 'new_individual 37c7aba965a5 180c0ab04dcd abbeba14a290 938b7e931166 6a3af6e0c55c',\n",
       " 'new_individual 37c7aba965a5 180c0ab04dcd abbeba14a290 938b7e931166 6a3af6e0c55c',\n",
       " 'new_individual 37c7aba965a5 180c0ab04dcd abbeba14a290 938b7e931166 6a3af6e0c55c',\n",
       " 'new_individual 37c7aba965a5 180c0ab04dcd abbeba14a290 938b7e931166 6a3af6e0c55c',\n",
       " 'new_individual 37c7aba965a5 180c0ab04dcd abbeba14a290 938b7e931166 6a3af6e0c55c',\n",
       " 'new_individual 37c7aba965a5 180c0ab04dcd abbeba14a290 938b7e931166 6a3af6e0c55c',\n",
       " 'new_individual 37c7aba965a5 180c0ab04dcd abbeba14a290 938b7e931166 6a3af6e0c55c',\n",
       " 'new_individual 37c7aba965a5 180c0ab04dcd abbeba14a290 938b7e931166 6a3af6e0c55c',\n",
       " 'new_individual 37c7aba965a5 180c0ab04dcd abbeba14a290 938b7e931166 6a3af6e0c55c',\n",
       " 'new_individual 37c7aba965a5 180c0ab04dcd abbeba14a290 938b7e931166 6a3af6e0c55c',\n",
       " 'new_individual 37c7aba965a5 180c0ab04dcd abbeba14a290 938b7e931166 6a3af6e0c55c',\n",
       " 'new_individual 37c7aba965a5 180c0ab04dcd abbeba14a290 938b7e931166 6a3af6e0c55c',\n",
       " 'new_individual 37c7aba965a5 180c0ab04dcd abbeba14a290 938b7e931166 6a3af6e0c55c',\n",
       " 'new_individual 37c7aba965a5 180c0ab04dcd abbeba14a290 938b7e931166 6a3af6e0c55c',\n",
       " 'new_individual 37c7aba965a5 180c0ab04dcd abbeba14a290 938b7e931166 6a3af6e0c55c',\n",
       " 'new_individual 37c7aba965a5 180c0ab04dcd abbeba14a290 938b7e931166 6a3af6e0c55c',\n",
       " 'new_individual 37c7aba965a5 180c0ab04dcd abbeba14a290 938b7e931166 6a3af6e0c55c',\n",
       " 'new_individual 37c7aba965a5 180c0ab04dcd abbeba14a290 938b7e931166 6a3af6e0c55c',\n",
       " 'new_individual 37c7aba965a5 180c0ab04dcd abbeba14a290 938b7e931166 6a3af6e0c55c',\n",
       " 'new_individual 37c7aba965a5 180c0ab04dcd abbeba14a290 938b7e931166 6a3af6e0c55c',\n",
       " 'new_individual 37c7aba965a5 180c0ab04dcd abbeba14a290 938b7e931166 6a3af6e0c55c',\n",
       " 'new_individual 37c7aba965a5 180c0ab04dcd abbeba14a290 938b7e931166 6a3af6e0c55c',\n",
       " 'new_individual 37c7aba965a5 180c0ab04dcd abbeba14a290 938b7e931166 6a3af6e0c55c',\n",
       " 'new_individual 37c7aba965a5 180c0ab04dcd abbeba14a290 938b7e931166 6a3af6e0c55c',\n",
       " 'new_individual 37c7aba965a5 180c0ab04dcd abbeba14a290 938b7e931166 6a3af6e0c55c',\n",
       " 'new_individual 37c7aba965a5 180c0ab04dcd abbeba14a290 938b7e931166 6a3af6e0c55c',\n",
       " 'new_individual 37c7aba965a5 180c0ab04dcd abbeba14a290 938b7e931166 6a3af6e0c55c',\n",
       " 'new_individual 37c7aba965a5 180c0ab04dcd abbeba14a290 938b7e931166 6a3af6e0c55c',\n",
       " 'new_individual 37c7aba965a5 180c0ab04dcd abbeba14a290 938b7e931166 6a3af6e0c55c',\n",
       " 'new_individual 37c7aba965a5 180c0ab04dcd abbeba14a290 938b7e931166 6a3af6e0c55c',\n",
       " 'new_individual 37c7aba965a5 180c0ab04dcd abbeba14a290 938b7e931166 6a3af6e0c55c',\n",
       " 'new_individual 37c7aba965a5 180c0ab04dcd abbeba14a290 938b7e931166 6a3af6e0c55c',\n",
       " 'new_individual 37c7aba965a5 180c0ab04dcd abbeba14a290 938b7e931166 6a3af6e0c55c',\n",
       " 'new_individual 37c7aba965a5 180c0ab04dcd abbeba14a290 938b7e931166 6a3af6e0c55c',\n",
       " 'new_individual 37c7aba965a5 180c0ab04dcd abbeba14a290 938b7e931166 6a3af6e0c55c',\n",
       " 'new_individual 37c7aba965a5 180c0ab04dcd abbeba14a290 938b7e931166 6a3af6e0c55c',\n",
       " 'new_individual 37c7aba965a5 180c0ab04dcd abbeba14a290 938b7e931166 6a3af6e0c55c',\n",
       " 'new_individual 37c7aba965a5 180c0ab04dcd abbeba14a290 938b7e931166 6a3af6e0c55c',\n",
       " 'new_individual 37c7aba965a5 180c0ab04dcd abbeba14a290 938b7e931166 6a3af6e0c55c',\n",
       " 'new_individual 37c7aba965a5 180c0ab04dcd abbeba14a290 938b7e931166 6a3af6e0c55c',\n",
       " 'new_individual 37c7aba965a5 180c0ab04dcd abbeba14a290 938b7e931166 6a3af6e0c55c',\n",
       " 'new_individual 37c7aba965a5 180c0ab04dcd abbeba14a290 938b7e931166 6a3af6e0c55c',\n",
       " 'new_individual 37c7aba965a5 180c0ab04dcd abbeba14a290 938b7e931166 6a3af6e0c55c',\n",
       " 'new_individual 37c7aba965a5 180c0ab04dcd abbeba14a290 938b7e931166 6a3af6e0c55c',\n",
       " 'new_individual 37c7aba965a5 180c0ab04dcd abbeba14a290 938b7e931166 6a3af6e0c55c',\n",
       " 'new_individual 37c7aba965a5 180c0ab04dcd abbeba14a290 938b7e931166 6a3af6e0c55c',\n",
       " 'new_individual 37c7aba965a5 180c0ab04dcd abbeba14a290 938b7e931166 6a3af6e0c55c',\n",
       " 'new_individual 37c7aba965a5 180c0ab04dcd abbeba14a290 938b7e931166 6a3af6e0c55c',\n",
       " 'new_individual 37c7aba965a5 180c0ab04dcd abbeba14a290 938b7e931166 6a3af6e0c55c',\n",
       " 'new_individual 37c7aba965a5 180c0ab04dcd abbeba14a290 938b7e931166 6a3af6e0c55c',\n",
       " 'new_individual 37c7aba965a5 180c0ab04dcd abbeba14a290 938b7e931166 6a3af6e0c55c',\n",
       " 'new_individual 37c7aba965a5 180c0ab04dcd abbeba14a290 938b7e931166 6a3af6e0c55c',\n",
       " 'new_individual 37c7aba965a5 180c0ab04dcd abbeba14a290 938b7e931166 6a3af6e0c55c',\n",
       " 'new_individual 37c7aba965a5 180c0ab04dcd abbeba14a290 938b7e931166 6a3af6e0c55c',\n",
       " 'new_individual 37c7aba965a5 180c0ab04dcd abbeba14a290 938b7e931166 6a3af6e0c55c',\n",
       " 'new_individual 37c7aba965a5 180c0ab04dcd abbeba14a290 938b7e931166 6a3af6e0c55c',\n",
       " 'new_individual 37c7aba965a5 180c0ab04dcd abbeba14a290 938b7e931166 6a3af6e0c55c',\n",
       " 'new_individual 37c7aba965a5 180c0ab04dcd abbeba14a290 938b7e931166 6a3af6e0c55c',\n",
       " 'new_individual 37c7aba965a5 180c0ab04dcd abbeba14a290 938b7e931166 6a3af6e0c55c',\n",
       " 'new_individual 37c7aba965a5 180c0ab04dcd abbeba14a290 938b7e931166 6a3af6e0c55c',\n",
       " 'new_individual 37c7aba965a5 180c0ab04dcd abbeba14a290 938b7e931166 6a3af6e0c55c',\n",
       " 'new_individual 37c7aba965a5 180c0ab04dcd abbeba14a290 938b7e931166 6a3af6e0c55c',\n",
       " 'new_individual 37c7aba965a5 180c0ab04dcd abbeba14a290 938b7e931166 6a3af6e0c55c',\n",
       " 'new_individual 37c7aba965a5 180c0ab04dcd abbeba14a290 938b7e931166 6a3af6e0c55c',\n",
       " 'new_individual 37c7aba965a5 180c0ab04dcd abbeba14a290 938b7e931166 6a3af6e0c55c',\n",
       " 'new_individual 37c7aba965a5 180c0ab04dcd abbeba14a290 938b7e931166 6a3af6e0c55c',\n",
       " 'new_individual 37c7aba965a5 180c0ab04dcd abbeba14a290 938b7e931166 6a3af6e0c55c',\n",
       " 'new_individual 37c7aba965a5 180c0ab04dcd abbeba14a290 938b7e931166 6a3af6e0c55c',\n",
       " 'new_individual 37c7aba965a5 180c0ab04dcd abbeba14a290 938b7e931166 6a3af6e0c55c',\n",
       " 'new_individual 37c7aba965a5 180c0ab04dcd abbeba14a290 938b7e931166 6a3af6e0c55c',\n",
       " 'new_individual 37c7aba965a5 180c0ab04dcd abbeba14a290 938b7e931166 6a3af6e0c55c',\n",
       " 'new_individual 37c7aba965a5 180c0ab04dcd abbeba14a290 938b7e931166 6a3af6e0c55c',\n",
       " 'new_individual 37c7aba965a5 180c0ab04dcd abbeba14a290 938b7e931166 6a3af6e0c55c',\n",
       " 'new_individual 37c7aba965a5 180c0ab04dcd abbeba14a290 938b7e931166 6a3af6e0c55c',\n",
       " 'new_individual 37c7aba965a5 180c0ab04dcd abbeba14a290 938b7e931166 6a3af6e0c55c',\n",
       " 'new_individual 37c7aba965a5 180c0ab04dcd abbeba14a290 938b7e931166 6a3af6e0c55c',\n",
       " 'new_individual 37c7aba965a5 180c0ab04dcd abbeba14a290 938b7e931166 6a3af6e0c55c',\n",
       " 'new_individual 37c7aba965a5 180c0ab04dcd abbeba14a290 938b7e931166 6a3af6e0c55c',\n",
       " 'new_individual 37c7aba965a5 180c0ab04dcd abbeba14a290 938b7e931166 6a3af6e0c55c',\n",
       " 'new_individual 37c7aba965a5 180c0ab04dcd abbeba14a290 938b7e931166 6a3af6e0c55c',\n",
       " 'new_individual 37c7aba965a5 180c0ab04dcd abbeba14a290 938b7e931166 6a3af6e0c55c',\n",
       " 'new_individual 37c7aba965a5 180c0ab04dcd abbeba14a290 938b7e931166 6a3af6e0c55c',\n",
       " 'new_individual 37c7aba965a5 180c0ab04dcd abbeba14a290 938b7e931166 6a3af6e0c55c',\n",
       " 'new_individual 37c7aba965a5 180c0ab04dcd abbeba14a290 938b7e931166 6a3af6e0c55c',\n",
       " 'new_individual 37c7aba965a5 180c0ab04dcd abbeba14a290 938b7e931166 6a3af6e0c55c',\n",
       " 'new_individual 37c7aba965a5 180c0ab04dcd abbeba14a290 938b7e931166 6a3af6e0c55c',\n",
       " 'new_individual 37c7aba965a5 180c0ab04dcd abbeba14a290 938b7e931166 6a3af6e0c55c',\n",
       " 'new_individual 37c7aba965a5 180c0ab04dcd abbeba14a290 938b7e931166 6a3af6e0c55c',\n",
       " 'new_individual 37c7aba965a5 180c0ab04dcd abbeba14a290 938b7e931166 6a3af6e0c55c',\n",
       " 'new_individual 37c7aba965a5 180c0ab04dcd abbeba14a290 938b7e931166 6a3af6e0c55c',\n",
       " 'new_individual 37c7aba965a5 180c0ab04dcd abbeba14a290 938b7e931166 6a3af6e0c55c',\n",
       " 'new_individual 37c7aba965a5 180c0ab04dcd abbeba14a290 938b7e931166 6a3af6e0c55c',\n",
       " 'new_individual 37c7aba965a5 180c0ab04dcd abbeba14a290 938b7e931166 6a3af6e0c55c',\n",
       " 'new_individual 37c7aba965a5 180c0ab04dcd abbeba14a290 938b7e931166 6a3af6e0c55c',\n",
       " 'new_individual 37c7aba965a5 180c0ab04dcd abbeba14a290 938b7e931166 6a3af6e0c55c',\n",
       " 'new_individual 37c7aba965a5 180c0ab04dcd abbeba14a290 938b7e931166 6a3af6e0c55c',\n",
       " 'new_individual 37c7aba965a5 180c0ab04dcd abbeba14a290 938b7e931166 6a3af6e0c55c',\n",
       " 'new_individual 37c7aba965a5 180c0ab04dcd abbeba14a290 938b7e931166 6a3af6e0c55c',\n",
       " 'new_individual 37c7aba965a5 180c0ab04dcd abbeba14a290 938b7e931166 6a3af6e0c55c',\n",
       " 'new_individual 37c7aba965a5 180c0ab04dcd abbeba14a290 938b7e931166 6a3af6e0c55c',\n",
       " 'new_individual 37c7aba965a5 180c0ab04dcd abbeba14a290 938b7e931166 6a3af6e0c55c',\n",
       " 'new_individual 37c7aba965a5 180c0ab04dcd abbeba14a290 938b7e931166 6a3af6e0c55c',\n",
       " 'new_individual 37c7aba965a5 180c0ab04dcd abbeba14a290 938b7e931166 6a3af6e0c55c',\n",
       " 'new_individual 37c7aba965a5 180c0ab04dcd abbeba14a290 938b7e931166 6a3af6e0c55c',\n",
       " 'new_individual 37c7aba965a5 180c0ab04dcd abbeba14a290 938b7e931166 6a3af6e0c55c',\n",
       " 'new_individual 37c7aba965a5 180c0ab04dcd abbeba14a290 938b7e931166 6a3af6e0c55c',\n",
       " 'new_individual 37c7aba965a5 180c0ab04dcd abbeba14a290 938b7e931166 6a3af6e0c55c',\n",
       " 'new_individual 37c7aba965a5 180c0ab04dcd abbeba14a290 938b7e931166 6a3af6e0c55c',\n",
       " 'new_individual 37c7aba965a5 180c0ab04dcd abbeba14a290 938b7e931166 6a3af6e0c55c',\n",
       " 'new_individual 37c7aba965a5 180c0ab04dcd abbeba14a290 938b7e931166 6a3af6e0c55c',\n",
       " 'new_individual 37c7aba965a5 180c0ab04dcd abbeba14a290 938b7e931166 6a3af6e0c55c',\n",
       " 'new_individual 37c7aba965a5 180c0ab04dcd abbeba14a290 938b7e931166 6a3af6e0c55c',\n",
       " 'new_individual 37c7aba965a5 180c0ab04dcd abbeba14a290 938b7e931166 6a3af6e0c55c',\n",
       " 'new_individual 37c7aba965a5 180c0ab04dcd abbeba14a290 938b7e931166 6a3af6e0c55c',\n",
       " 'new_individual 37c7aba965a5 180c0ab04dcd abbeba14a290 938b7e931166 6a3af6e0c55c',\n",
       " 'new_individual 37c7aba965a5 180c0ab04dcd abbeba14a290 938b7e931166 6a3af6e0c55c',\n",
       " 'new_individual 37c7aba965a5 180c0ab04dcd abbeba14a290 938b7e931166 6a3af6e0c55c',\n",
       " 'new_individual 37c7aba965a5 180c0ab04dcd abbeba14a290 938b7e931166 6a3af6e0c55c',\n",
       " 'new_individual 37c7aba965a5 180c0ab04dcd abbeba14a290 938b7e931166 6a3af6e0c55c',\n",
       " 'new_individual 37c7aba965a5 180c0ab04dcd abbeba14a290 938b7e931166 6a3af6e0c55c',\n",
       " 'new_individual 37c7aba965a5 180c0ab04dcd abbeba14a290 938b7e931166 6a3af6e0c55c',\n",
       " 'new_individual 37c7aba965a5 180c0ab04dcd abbeba14a290 938b7e931166 6a3af6e0c55c',\n",
       " 'new_individual 37c7aba965a5 180c0ab04dcd abbeba14a290 938b7e931166 6a3af6e0c55c',\n",
       " 'new_individual 37c7aba965a5 180c0ab04dcd abbeba14a290 938b7e931166 6a3af6e0c55c',\n",
       " 'new_individual 37c7aba965a5 180c0ab04dcd abbeba14a290 938b7e931166 6a3af6e0c55c',\n",
       " 'new_individual 37c7aba965a5 180c0ab04dcd abbeba14a290 938b7e931166 6a3af6e0c55c',\n",
       " 'new_individual 37c7aba965a5 180c0ab04dcd abbeba14a290 938b7e931166 6a3af6e0c55c',\n",
       " 'new_individual 37c7aba965a5 180c0ab04dcd abbeba14a290 938b7e931166 6a3af6e0c55c',\n",
       " 'new_individual 37c7aba965a5 180c0ab04dcd abbeba14a290 938b7e931166 6a3af6e0c55c',\n",
       " 'new_individual 37c7aba965a5 180c0ab04dcd abbeba14a290 938b7e931166 6a3af6e0c55c',\n",
       " 'new_individual 37c7aba965a5 180c0ab04dcd abbeba14a290 938b7e931166 6a3af6e0c55c',\n",
       " 'new_individual 37c7aba965a5 180c0ab04dcd abbeba14a290 938b7e931166 6a3af6e0c55c',\n",
       " 'new_individual 37c7aba965a5 180c0ab04dcd abbeba14a290 938b7e931166 6a3af6e0c55c',\n",
       " 'new_individual 37c7aba965a5 180c0ab04dcd abbeba14a290 938b7e931166 6a3af6e0c55c',\n",
       " 'new_individual 37c7aba965a5 180c0ab04dcd abbeba14a290 938b7e931166 6a3af6e0c55c',\n",
       " 'new_individual 37c7aba965a5 180c0ab04dcd abbeba14a290 938b7e931166 6a3af6e0c55c',\n",
       " 'new_individual 37c7aba965a5 180c0ab04dcd abbeba14a290 938b7e931166 6a3af6e0c55c',\n",
       " 'new_individual 37c7aba965a5 180c0ab04dcd abbeba14a290 938b7e931166 6a3af6e0c55c',\n",
       " 'new_individual 37c7aba965a5 180c0ab04dcd abbeba14a290 938b7e931166 6a3af6e0c55c',\n",
       " 'new_individual 37c7aba965a5 180c0ab04dcd abbeba14a290 938b7e931166 6a3af6e0c55c',\n",
       " 'new_individual 37c7aba965a5 180c0ab04dcd abbeba14a290 938b7e931166 6a3af6e0c55c',\n",
       " 'new_individual 37c7aba965a5 180c0ab04dcd abbeba14a290 938b7e931166 6a3af6e0c55c',\n",
       " 'new_individual 37c7aba965a5 180c0ab04dcd abbeba14a290 938b7e931166 6a3af6e0c55c',\n",
       " 'new_individual 37c7aba965a5 180c0ab04dcd abbeba14a290 938b7e931166 6a3af6e0c55c',\n",
       " 'new_individual 37c7aba965a5 180c0ab04dcd abbeba14a290 938b7e931166 6a3af6e0c55c',\n",
       " 'new_individual 37c7aba965a5 180c0ab04dcd abbeba14a290 938b7e931166 6a3af6e0c55c',\n",
       " 'new_individual 37c7aba965a5 180c0ab04dcd abbeba14a290 938b7e931166 6a3af6e0c55c',\n",
       " 'new_individual 37c7aba965a5 180c0ab04dcd abbeba14a290 938b7e931166 6a3af6e0c55c',\n",
       " 'new_individual 37c7aba965a5 180c0ab04dcd abbeba14a290 938b7e931166 6a3af6e0c55c',\n",
       " 'new_individual 37c7aba965a5 180c0ab04dcd abbeba14a290 938b7e931166 6a3af6e0c55c',\n",
       " 'new_individual 37c7aba965a5 180c0ab04dcd abbeba14a290 938b7e931166 6a3af6e0c55c',\n",
       " 'new_individual 37c7aba965a5 180c0ab04dcd abbeba14a290 938b7e931166 6a3af6e0c55c',\n",
       " 'new_individual 37c7aba965a5 180c0ab04dcd abbeba14a290 938b7e931166 6a3af6e0c55c',\n",
       " 'new_individual 37c7aba965a5 180c0ab04dcd abbeba14a290 938b7e931166 6a3af6e0c55c',\n",
       " 'new_individual 37c7aba965a5 180c0ab04dcd abbeba14a290 938b7e931166 6a3af6e0c55c',\n",
       " 'new_individual 37c7aba965a5 180c0ab04dcd abbeba14a290 938b7e931166 6a3af6e0c55c',\n",
       " 'new_individual 37c7aba965a5 180c0ab04dcd abbeba14a290 938b7e931166 6a3af6e0c55c',\n",
       " 'new_individual 37c7aba965a5 180c0ab04dcd abbeba14a290 938b7e931166 6a3af6e0c55c',\n",
       " 'new_individual 37c7aba965a5 180c0ab04dcd abbeba14a290 938b7e931166 6a3af6e0c55c',\n",
       " 'new_individual 37c7aba965a5 180c0ab04dcd abbeba14a290 938b7e931166 6a3af6e0c55c',\n",
       " 'new_individual 37c7aba965a5 180c0ab04dcd abbeba14a290 938b7e931166 6a3af6e0c55c',\n",
       " 'new_individual 37c7aba965a5 180c0ab04dcd abbeba14a290 938b7e931166 6a3af6e0c55c',\n",
       " 'new_individual 37c7aba965a5 180c0ab04dcd abbeba14a290 938b7e931166 6a3af6e0c55c',\n",
       " 'new_individual 37c7aba965a5 180c0ab04dcd abbeba14a290 938b7e931166 6a3af6e0c55c',\n",
       " 'new_individual 37c7aba965a5 180c0ab04dcd abbeba14a290 938b7e931166 6a3af6e0c55c',\n",
       " 'new_individual 37c7aba965a5 180c0ab04dcd abbeba14a290 938b7e931166 6a3af6e0c55c',\n",
       " 'new_individual 37c7aba965a5 180c0ab04dcd abbeba14a290 938b7e931166 6a3af6e0c55c',\n",
       " 'new_individual 37c7aba965a5 180c0ab04dcd abbeba14a290 938b7e931166 6a3af6e0c55c',\n",
       " 'new_individual 37c7aba965a5 180c0ab04dcd abbeba14a290 938b7e931166 6a3af6e0c55c',\n",
       " 'new_individual 37c7aba965a5 180c0ab04dcd abbeba14a290 938b7e931166 6a3af6e0c55c',\n",
       " 'new_individual 37c7aba965a5 180c0ab04dcd abbeba14a290 938b7e931166 6a3af6e0c55c',\n",
       " 'new_individual 37c7aba965a5 180c0ab04dcd abbeba14a290 938b7e931166 6a3af6e0c55c',\n",
       " 'new_individual 37c7aba965a5 180c0ab04dcd abbeba14a290 938b7e931166 6a3af6e0c55c',\n",
       " 'new_individual 37c7aba965a5 180c0ab04dcd abbeba14a290 938b7e931166 6a3af6e0c55c',\n",
       " 'new_individual 37c7aba965a5 180c0ab04dcd abbeba14a290 938b7e931166 6a3af6e0c55c',\n",
       " 'new_individual 37c7aba965a5 180c0ab04dcd abbeba14a290 938b7e931166 6a3af6e0c55c',\n",
       " 'new_individual 37c7aba965a5 180c0ab04dcd abbeba14a290 938b7e931166 6a3af6e0c55c',\n",
       " 'new_individual 37c7aba965a5 180c0ab04dcd abbeba14a290 938b7e931166 6a3af6e0c55c',\n",
       " 'new_individual 37c7aba965a5 180c0ab04dcd abbeba14a290 938b7e931166 6a3af6e0c55c',\n",
       " 'new_individual 37c7aba965a5 180c0ab04dcd abbeba14a290 938b7e931166 6a3af6e0c55c',\n",
       " 'new_individual 37c7aba965a5 180c0ab04dcd abbeba14a290 938b7e931166 6a3af6e0c55c',\n",
       " 'new_individual 37c7aba965a5 180c0ab04dcd abbeba14a290 938b7e931166 6a3af6e0c55c',\n",
       " 'new_individual 37c7aba965a5 180c0ab04dcd abbeba14a290 938b7e931166 6a3af6e0c55c',\n",
       " 'new_individual 37c7aba965a5 180c0ab04dcd abbeba14a290 938b7e931166 6a3af6e0c55c',\n",
       " 'new_individual 37c7aba965a5 180c0ab04dcd abbeba14a290 938b7e931166 6a3af6e0c55c',\n",
       " 'new_individual 37c7aba965a5 180c0ab04dcd abbeba14a290 938b7e931166 6a3af6e0c55c',\n",
       " 'new_individual 37c7aba965a5 180c0ab04dcd abbeba14a290 938b7e931166 6a3af6e0c55c',\n",
       " 'new_individual 37c7aba965a5 180c0ab04dcd abbeba14a290 938b7e931166 6a3af6e0c55c',\n",
       " 'new_individual 37c7aba965a5 180c0ab04dcd abbeba14a290 938b7e931166 6a3af6e0c55c',\n",
       " 'new_individual 37c7aba965a5 180c0ab04dcd abbeba14a290 938b7e931166 6a3af6e0c55c',\n",
       " 'new_individual 37c7aba965a5 180c0ab04dcd abbeba14a290 938b7e931166 6a3af6e0c55c',\n",
       " 'new_individual 37c7aba965a5 180c0ab04dcd abbeba14a290 938b7e931166 6a3af6e0c55c',\n",
       " 'new_individual 37c7aba965a5 180c0ab04dcd abbeba14a290 938b7e931166 6a3af6e0c55c',\n",
       " 'new_individual 37c7aba965a5 180c0ab04dcd abbeba14a290 938b7e931166 6a3af6e0c55c',\n",
       " 'new_individual 37c7aba965a5 180c0ab04dcd abbeba14a290 938b7e931166 6a3af6e0c55c',\n",
       " 'new_individual 37c7aba965a5 180c0ab04dcd abbeba14a290 938b7e931166 6a3af6e0c55c',\n",
       " 'new_individual 37c7aba965a5 180c0ab04dcd abbeba14a290 938b7e931166 6a3af6e0c55c',\n",
       " 'new_individual 37c7aba965a5 180c0ab04dcd abbeba14a290 938b7e931166 6a3af6e0c55c',\n",
       " 'new_individual 37c7aba965a5 180c0ab04dcd abbeba14a290 938b7e931166 6a3af6e0c55c',\n",
       " 'new_individual 37c7aba965a5 180c0ab04dcd abbeba14a290 938b7e931166 6a3af6e0c55c',\n",
       " 'new_individual 37c7aba965a5 180c0ab04dcd abbeba14a290 938b7e931166 6a3af6e0c55c',\n",
       " 'new_individual 37c7aba965a5 180c0ab04dcd abbeba14a290 938b7e931166 6a3af6e0c55c',\n",
       " 'new_individual 37c7aba965a5 180c0ab04dcd abbeba14a290 938b7e931166 6a3af6e0c55c',\n",
       " 'new_individual 37c7aba965a5 180c0ab04dcd abbeba14a290 938b7e931166 6a3af6e0c55c',\n",
       " 'new_individual 37c7aba965a5 180c0ab04dcd abbeba14a290 938b7e931166 6a3af6e0c55c',\n",
       " 'new_individual 37c7aba965a5 180c0ab04dcd abbeba14a290 938b7e931166 6a3af6e0c55c',\n",
       " 'new_individual 37c7aba965a5 180c0ab04dcd abbeba14a290 938b7e931166 6a3af6e0c55c',\n",
       " 'new_individual 37c7aba965a5 180c0ab04dcd abbeba14a290 938b7e931166 6a3af6e0c55c',\n",
       " 'new_individual 37c7aba965a5 180c0ab04dcd abbeba14a290 938b7e931166 6a3af6e0c55c',\n",
       " 'new_individual 37c7aba965a5 180c0ab04dcd abbeba14a290 938b7e931166 6a3af6e0c55c',\n",
       " 'new_individual 37c7aba965a5 180c0ab04dcd abbeba14a290 938b7e931166 6a3af6e0c55c',\n",
       " 'new_individual 37c7aba965a5 180c0ab04dcd abbeba14a290 938b7e931166 6a3af6e0c55c',\n",
       " 'new_individual 37c7aba965a5 180c0ab04dcd abbeba14a290 938b7e931166 6a3af6e0c55c',\n",
       " 'new_individual 37c7aba965a5 180c0ab04dcd abbeba14a290 938b7e931166 6a3af6e0c55c',\n",
       " 'new_individual 37c7aba965a5 180c0ab04dcd abbeba14a290 938b7e931166 6a3af6e0c55c',\n",
       " 'new_individual 37c7aba965a5 180c0ab04dcd abbeba14a290 938b7e931166 6a3af6e0c55c',\n",
       " 'new_individual 37c7aba965a5 180c0ab04dcd abbeba14a290 938b7e931166 6a3af6e0c55c',\n",
       " 'new_individual 37c7aba965a5 180c0ab04dcd abbeba14a290 938b7e931166 6a3af6e0c55c',\n",
       " 'new_individual 37c7aba965a5 180c0ab04dcd abbeba14a290 938b7e931166 6a3af6e0c55c',\n",
       " 'new_individual 37c7aba965a5 180c0ab04dcd abbeba14a290 938b7e931166 6a3af6e0c55c',\n",
       " 'new_individual 37c7aba965a5 180c0ab04dcd abbeba14a290 938b7e931166 6a3af6e0c55c',\n",
       " 'new_individual 37c7aba965a5 180c0ab04dcd abbeba14a290 938b7e931166 6a3af6e0c55c',\n",
       " 'new_individual 37c7aba965a5 180c0ab04dcd abbeba14a290 938b7e931166 6a3af6e0c55c',\n",
       " 'new_individual 37c7aba965a5 180c0ab04dcd abbeba14a290 938b7e931166 6a3af6e0c55c',\n",
       " 'new_individual 37c7aba965a5 180c0ab04dcd abbeba14a290 938b7e931166 6a3af6e0c55c',\n",
       " 'new_individual 37c7aba965a5 180c0ab04dcd abbeba14a290 938b7e931166 6a3af6e0c55c',\n",
       " 'new_individual 37c7aba965a5 180c0ab04dcd abbeba14a290 938b7e931166 6a3af6e0c55c',\n",
       " 'new_individual 37c7aba965a5 180c0ab04dcd abbeba14a290 938b7e931166 6a3af6e0c55c',\n",
       " 'new_individual 37c7aba965a5 180c0ab04dcd abbeba14a290 938b7e931166 6a3af6e0c55c',\n",
       " 'new_individual 37c7aba965a5 180c0ab04dcd abbeba14a290 938b7e931166 6a3af6e0c55c',\n",
       " 'new_individual 37c7aba965a5 180c0ab04dcd abbeba14a290 938b7e931166 6a3af6e0c55c',\n",
       " 'new_individual 37c7aba965a5 180c0ab04dcd abbeba14a290 938b7e931166 6a3af6e0c55c',\n",
       " 'new_individual 37c7aba965a5 180c0ab04dcd abbeba14a290 938b7e931166 6a3af6e0c55c',\n",
       " 'new_individual 37c7aba965a5 180c0ab04dcd abbeba14a290 938b7e931166 6a3af6e0c55c',\n",
       " 'new_individual 37c7aba965a5 180c0ab04dcd abbeba14a290 938b7e931166 6a3af6e0c55c',\n",
       " 'new_individual 37c7aba965a5 180c0ab04dcd abbeba14a290 938b7e931166 6a3af6e0c55c',\n",
       " 'new_individual 37c7aba965a5 180c0ab04dcd abbeba14a290 938b7e931166 6a3af6e0c55c',\n",
       " 'new_individual 37c7aba965a5 180c0ab04dcd abbeba14a290 938b7e931166 6a3af6e0c55c',\n",
       " 'new_individual 37c7aba965a5 180c0ab04dcd abbeba14a290 938b7e931166 6a3af6e0c55c',\n",
       " 'new_individual 37c7aba965a5 180c0ab04dcd abbeba14a290 938b7e931166 6a3af6e0c55c',\n",
       " 'new_individual 37c7aba965a5 180c0ab04dcd abbeba14a290 938b7e931166 6a3af6e0c55c',\n",
       " 'new_individual 37c7aba965a5 180c0ab04dcd abbeba14a290 938b7e931166 6a3af6e0c55c',\n",
       " 'new_individual 37c7aba965a5 180c0ab04dcd abbeba14a290 938b7e931166 6a3af6e0c55c',\n",
       " 'new_individual 37c7aba965a5 180c0ab04dcd abbeba14a290 938b7e931166 6a3af6e0c55c',\n",
       " 'new_individual 37c7aba965a5 180c0ab04dcd abbeba14a290 938b7e931166 6a3af6e0c55c',\n",
       " 'new_individual 37c7aba965a5 180c0ab04dcd abbeba14a290 938b7e931166 6a3af6e0c55c',\n",
       " 'new_individual 37c7aba965a5 180c0ab04dcd abbeba14a290 938b7e931166 6a3af6e0c55c',\n",
       " 'new_individual 37c7aba965a5 180c0ab04dcd abbeba14a290 938b7e931166 6a3af6e0c55c',\n",
       " 'new_individual 37c7aba965a5 180c0ab04dcd abbeba14a290 938b7e931166 6a3af6e0c55c',\n",
       " 'new_individual 37c7aba965a5 180c0ab04dcd abbeba14a290 938b7e931166 6a3af6e0c55c',\n",
       " 'new_individual 37c7aba965a5 180c0ab04dcd abbeba14a290 938b7e931166 6a3af6e0c55c',\n",
       " 'new_individual 37c7aba965a5 180c0ab04dcd abbeba14a290 938b7e931166 6a3af6e0c55c',\n",
       " 'new_individual 37c7aba965a5 180c0ab04dcd abbeba14a290 938b7e931166 6a3af6e0c55c',\n",
       " 'new_individual 37c7aba965a5 180c0ab04dcd abbeba14a290 938b7e931166 6a3af6e0c55c',\n",
       " 'new_individual 37c7aba965a5 180c0ab04dcd abbeba14a290 938b7e931166 6a3af6e0c55c',\n",
       " 'new_individual 37c7aba965a5 180c0ab04dcd abbeba14a290 938b7e931166 6a3af6e0c55c',\n",
       " 'new_individual 37c7aba965a5 180c0ab04dcd abbeba14a290 938b7e931166 6a3af6e0c55c',\n",
       " 'new_individual 37c7aba965a5 180c0ab04dcd abbeba14a290 938b7e931166 6a3af6e0c55c',\n",
       " 'new_individual 37c7aba965a5 180c0ab04dcd abbeba14a290 938b7e931166 6a3af6e0c55c',\n",
       " 'new_individual 37c7aba965a5 180c0ab04dcd abbeba14a290 938b7e931166 6a3af6e0c55c',\n",
       " 'new_individual 37c7aba965a5 180c0ab04dcd abbeba14a290 938b7e931166 6a3af6e0c55c',\n",
       " 'new_individual 37c7aba965a5 180c0ab04dcd abbeba14a290 938b7e931166 6a3af6e0c55c',\n",
       " 'new_individual 37c7aba965a5 180c0ab04dcd abbeba14a290 938b7e931166 6a3af6e0c55c',\n",
       " 'new_individual 37c7aba965a5 180c0ab04dcd abbeba14a290 938b7e931166 6a3af6e0c55c',\n",
       " 'new_individual 37c7aba965a5 180c0ab04dcd abbeba14a290 938b7e931166 6a3af6e0c55c',\n",
       " 'new_individual 37c7aba965a5 180c0ab04dcd abbeba14a290 938b7e931166 6a3af6e0c55c',\n",
       " 'new_individual 37c7aba965a5 180c0ab04dcd abbeba14a290 938b7e931166 6a3af6e0c55c',\n",
       " 'new_individual 37c7aba965a5 180c0ab04dcd abbeba14a290 938b7e931166 6a3af6e0c55c',\n",
       " 'new_individual 37c7aba965a5 180c0ab04dcd abbeba14a290 938b7e931166 6a3af6e0c55c',\n",
       " 'new_individual 37c7aba965a5 180c0ab04dcd abbeba14a290 938b7e931166 6a3af6e0c55c',\n",
       " 'new_individual 37c7aba965a5 180c0ab04dcd abbeba14a290 938b7e931166 6a3af6e0c55c',\n",
       " 'new_individual 37c7aba965a5 180c0ab04dcd abbeba14a290 938b7e931166 6a3af6e0c55c',\n",
       " 'new_individual 37c7aba965a5 180c0ab04dcd abbeba14a290 938b7e931166 6a3af6e0c55c',\n",
       " 'new_individual 37c7aba965a5 180c0ab04dcd abbeba14a290 938b7e931166 6a3af6e0c55c',\n",
       " 'new_individual 37c7aba965a5 180c0ab04dcd abbeba14a290 938b7e931166 6a3af6e0c55c',\n",
       " 'new_individual 37c7aba965a5 180c0ab04dcd abbeba14a290 938b7e931166 6a3af6e0c55c',\n",
       " 'new_individual 37c7aba965a5 180c0ab04dcd abbeba14a290 938b7e931166 6a3af6e0c55c',\n",
       " 'new_individual 37c7aba965a5 180c0ab04dcd abbeba14a290 938b7e931166 6a3af6e0c55c',\n",
       " 'new_individual 37c7aba965a5 180c0ab04dcd abbeba14a290 938b7e931166 6a3af6e0c55c',\n",
       " 'new_individual 37c7aba965a5 180c0ab04dcd abbeba14a290 938b7e931166 6a3af6e0c55c',\n",
       " 'new_individual 37c7aba965a5 180c0ab04dcd abbeba14a290 938b7e931166 6a3af6e0c55c',\n",
       " 'new_individual 37c7aba965a5 180c0ab04dcd abbeba14a290 938b7e931166 6a3af6e0c55c',\n",
       " 'new_individual 37c7aba965a5 180c0ab04dcd abbeba14a290 938b7e931166 6a3af6e0c55c',\n",
       " 'new_individual 37c7aba965a5 180c0ab04dcd abbeba14a290 938b7e931166 6a3af6e0c55c',\n",
       " 'new_individual 37c7aba965a5 180c0ab04dcd abbeba14a290 938b7e931166 6a3af6e0c55c',\n",
       " 'new_individual 37c7aba965a5 180c0ab04dcd abbeba14a290 938b7e931166 6a3af6e0c55c',\n",
       " 'new_individual 37c7aba965a5 180c0ab04dcd abbeba14a290 938b7e931166 6a3af6e0c55c',\n",
       " 'new_individual 37c7aba965a5 180c0ab04dcd abbeba14a290 938b7e931166 6a3af6e0c55c',\n",
       " 'new_individual 37c7aba965a5 180c0ab04dcd abbeba14a290 938b7e931166 6a3af6e0c55c',\n",
       " 'new_individual 37c7aba965a5 180c0ab04dcd abbeba14a290 938b7e931166 6a3af6e0c55c',\n",
       " 'new_individual 37c7aba965a5 180c0ab04dcd abbeba14a290 938b7e931166 6a3af6e0c55c',\n",
       " 'new_individual 37c7aba965a5 180c0ab04dcd abbeba14a290 938b7e931166 6a3af6e0c55c',\n",
       " 'new_individual 37c7aba965a5 180c0ab04dcd abbeba14a290 938b7e931166 6a3af6e0c55c',\n",
       " 'new_individual 37c7aba965a5 180c0ab04dcd abbeba14a290 938b7e931166 6a3af6e0c55c',\n",
       " 'new_individual 37c7aba965a5 180c0ab04dcd abbeba14a290 938b7e931166 6a3af6e0c55c',\n",
       " 'new_individual 37c7aba965a5 180c0ab04dcd abbeba14a290 938b7e931166 6a3af6e0c55c',\n",
       " 'new_individual 37c7aba965a5 180c0ab04dcd abbeba14a290 938b7e931166 6a3af6e0c55c',\n",
       " 'new_individual 37c7aba965a5 180c0ab04dcd abbeba14a290 938b7e931166 6a3af6e0c55c',\n",
       " 'new_individual 37c7aba965a5 180c0ab04dcd abbeba14a290 938b7e931166 6a3af6e0c55c',\n",
       " 'new_individual 37c7aba965a5 180c0ab04dcd abbeba14a290 938b7e931166 6a3af6e0c55c',\n",
       " 'new_individual 37c7aba965a5 180c0ab04dcd abbeba14a290 938b7e931166 6a3af6e0c55c',\n",
       " 'new_individual 37c7aba965a5 180c0ab04dcd abbeba14a290 938b7e931166 6a3af6e0c55c',\n",
       " 'new_individual 37c7aba965a5 180c0ab04dcd abbeba14a290 938b7e931166 6a3af6e0c55c',\n",
       " 'new_individual 37c7aba965a5 180c0ab04dcd abbeba14a290 938b7e931166 6a3af6e0c55c',\n",
       " 'new_individual 37c7aba965a5 180c0ab04dcd abbeba14a290 938b7e931166 6a3af6e0c55c',\n",
       " 'new_individual 37c7aba965a5 180c0ab04dcd abbeba14a290 938b7e931166 6a3af6e0c55c',\n",
       " 'new_individual 37c7aba965a5 180c0ab04dcd abbeba14a290 938b7e931166 6a3af6e0c55c',\n",
       " 'new_individual 37c7aba965a5 180c0ab04dcd abbeba14a290 938b7e931166 6a3af6e0c55c',\n",
       " 'new_individual 37c7aba965a5 180c0ab04dcd abbeba14a290 938b7e931166 6a3af6e0c55c',\n",
       " 'new_individual 37c7aba965a5 180c0ab04dcd abbeba14a290 938b7e931166 6a3af6e0c55c',\n",
       " 'new_individual 37c7aba965a5 180c0ab04dcd abbeba14a290 938b7e931166 6a3af6e0c55c',\n",
       " 'new_individual 37c7aba965a5 180c0ab04dcd abbeba14a290 938b7e931166 6a3af6e0c55c',\n",
       " 'new_individual 37c7aba965a5 180c0ab04dcd abbeba14a290 938b7e931166 6a3af6e0c55c',\n",
       " 'new_individual 37c7aba965a5 180c0ab04dcd abbeba14a290 938b7e931166 6a3af6e0c55c',\n",
       " 'new_individual 37c7aba965a5 180c0ab04dcd abbeba14a290 938b7e931166 6a3af6e0c55c',\n",
       " 'new_individual 37c7aba965a5 180c0ab04dcd abbeba14a290 938b7e931166 6a3af6e0c55c',\n",
       " 'new_individual 37c7aba965a5 180c0ab04dcd abbeba14a290 938b7e931166 6a3af6e0c55c',\n",
       " 'new_individual 37c7aba965a5 180c0ab04dcd abbeba14a290 938b7e931166 6a3af6e0c55c',\n",
       " 'new_individual 37c7aba965a5 180c0ab04dcd abbeba14a290 938b7e931166 6a3af6e0c55c',\n",
       " 'new_individual 37c7aba965a5 180c0ab04dcd abbeba14a290 938b7e931166 6a3af6e0c55c',\n",
       " 'new_individual 37c7aba965a5 180c0ab04dcd abbeba14a290 938b7e931166 6a3af6e0c55c',\n",
       " 'new_individual 37c7aba965a5 180c0ab04dcd abbeba14a290 938b7e931166 6a3af6e0c55c',\n",
       " 'new_individual 37c7aba965a5 180c0ab04dcd abbeba14a290 938b7e931166 6a3af6e0c55c',\n",
       " 'new_individual 37c7aba965a5 180c0ab04dcd abbeba14a290 938b7e931166 6a3af6e0c55c',\n",
       " 'new_individual 37c7aba965a5 180c0ab04dcd abbeba14a290 938b7e931166 6a3af6e0c55c',\n",
       " 'new_individual 37c7aba965a5 180c0ab04dcd abbeba14a290 938b7e931166 6a3af6e0c55c',\n",
       " 'new_individual 37c7aba965a5 180c0ab04dcd abbeba14a290 938b7e931166 6a3af6e0c55c',\n",
       " 'new_individual 37c7aba965a5 180c0ab04dcd abbeba14a290 938b7e931166 6a3af6e0c55c',\n",
       " 'new_individual 37c7aba965a5 180c0ab04dcd abbeba14a290 938b7e931166 6a3af6e0c55c',\n",
       " 'new_individual 37c7aba965a5 180c0ab04dcd abbeba14a290 938b7e931166 6a3af6e0c55c',\n",
       " 'new_individual 37c7aba965a5 180c0ab04dcd abbeba14a290 938b7e931166 6a3af6e0c55c',\n",
       " 'new_individual 37c7aba965a5 180c0ab04dcd abbeba14a290 938b7e931166 6a3af6e0c55c',\n",
       " 'new_individual 37c7aba965a5 180c0ab04dcd abbeba14a290 938b7e931166 6a3af6e0c55c',\n",
       " 'new_individual 37c7aba965a5 180c0ab04dcd abbeba14a290 938b7e931166 6a3af6e0c55c',\n",
       " 'new_individual 37c7aba965a5 180c0ab04dcd abbeba14a290 938b7e931166 6a3af6e0c55c',\n",
       " 'new_individual 37c7aba965a5 180c0ab04dcd abbeba14a290 938b7e931166 6a3af6e0c55c',\n",
       " 'new_individual 37c7aba965a5 180c0ab04dcd abbeba14a290 938b7e931166 6a3af6e0c55c',\n",
       " 'new_individual 37c7aba965a5 180c0ab04dcd abbeba14a290 938b7e931166 6a3af6e0c55c',\n",
       " 'new_individual 37c7aba965a5 180c0ab04dcd abbeba14a290 938b7e931166 6a3af6e0c55c',\n",
       " 'new_individual 37c7aba965a5 180c0ab04dcd abbeba14a290 938b7e931166 6a3af6e0c55c',\n",
       " 'new_individual 37c7aba965a5 180c0ab04dcd abbeba14a290 938b7e931166 6a3af6e0c55c',\n",
       " 'new_individual 37c7aba965a5 180c0ab04dcd abbeba14a290 938b7e931166 6a3af6e0c55c',\n",
       " 'new_individual 37c7aba965a5 180c0ab04dcd abbeba14a290 938b7e931166 6a3af6e0c55c',\n",
       " 'new_individual 37c7aba965a5 180c0ab04dcd abbeba14a290 938b7e931166 6a3af6e0c55c',\n",
       " 'new_individual 37c7aba965a5 180c0ab04dcd abbeba14a290 938b7e931166 6a3af6e0c55c',\n",
       " 'new_individual 37c7aba965a5 180c0ab04dcd abbeba14a290 938b7e931166 6a3af6e0c55c',\n",
       " 'new_individual 37c7aba965a5 180c0ab04dcd abbeba14a290 938b7e931166 6a3af6e0c55c',\n",
       " 'new_individual 37c7aba965a5 180c0ab04dcd abbeba14a290 938b7e931166 6a3af6e0c55c',\n",
       " 'new_individual 37c7aba965a5 180c0ab04dcd abbeba14a290 938b7e931166 6a3af6e0c55c',\n",
       " 'new_individual 37c7aba965a5 180c0ab04dcd abbeba14a290 938b7e931166 6a3af6e0c55c',\n",
       " 'new_individual 37c7aba965a5 180c0ab04dcd abbeba14a290 938b7e931166 6a3af6e0c55c',\n",
       " 'new_individual 37c7aba965a5 180c0ab04dcd abbeba14a290 938b7e931166 6a3af6e0c55c',\n",
       " 'new_individual 37c7aba965a5 180c0ab04dcd abbeba14a290 938b7e931166 6a3af6e0c55c',\n",
       " 'new_individual 37c7aba965a5 180c0ab04dcd abbeba14a290 938b7e931166 6a3af6e0c55c',\n",
       " 'new_individual 37c7aba965a5 180c0ab04dcd abbeba14a290 938b7e931166 6a3af6e0c55c',\n",
       " 'new_individual 37c7aba965a5 180c0ab04dcd abbeba14a290 938b7e931166 6a3af6e0c55c',\n",
       " 'new_individual 37c7aba965a5 180c0ab04dcd abbeba14a290 938b7e931166 6a3af6e0c55c',\n",
       " 'new_individual 37c7aba965a5 180c0ab04dcd abbeba14a290 938b7e931166 6a3af6e0c55c',\n",
       " 'new_individual 37c7aba965a5 180c0ab04dcd abbeba14a290 938b7e931166 6a3af6e0c55c',\n",
       " 'new_individual 37c7aba965a5 180c0ab04dcd abbeba14a290 938b7e931166 6a3af6e0c55c',\n",
       " 'new_individual 37c7aba965a5 180c0ab04dcd abbeba14a290 938b7e931166 6a3af6e0c55c',\n",
       " 'new_individual 37c7aba965a5 180c0ab04dcd abbeba14a290 938b7e931166 6a3af6e0c55c',\n",
       " 'new_individual 37c7aba965a5 180c0ab04dcd abbeba14a290 938b7e931166 6a3af6e0c55c',\n",
       " 'new_individual 37c7aba965a5 180c0ab04dcd abbeba14a290 938b7e931166 6a3af6e0c55c',\n",
       " 'new_individual 37c7aba965a5 180c0ab04dcd abbeba14a290 938b7e931166 6a3af6e0c55c',\n",
       " 'new_individual 37c7aba965a5 180c0ab04dcd abbeba14a290 938b7e931166 6a3af6e0c55c',\n",
       " 'new_individual 37c7aba965a5 180c0ab04dcd abbeba14a290 938b7e931166 6a3af6e0c55c',\n",
       " 'new_individual 37c7aba965a5 180c0ab04dcd abbeba14a290 938b7e931166 6a3af6e0c55c',\n",
       " 'new_individual 37c7aba965a5 180c0ab04dcd abbeba14a290 938b7e931166 6a3af6e0c55c',\n",
       " 'new_individual 37c7aba965a5 180c0ab04dcd abbeba14a290 938b7e931166 6a3af6e0c55c',\n",
       " 'new_individual 37c7aba965a5 180c0ab04dcd abbeba14a290 938b7e931166 6a3af6e0c55c',\n",
       " 'new_individual 37c7aba965a5 180c0ab04dcd abbeba14a290 938b7e931166 6a3af6e0c55c',\n",
       " 'new_individual 37c7aba965a5 180c0ab04dcd abbeba14a290 938b7e931166 6a3af6e0c55c',\n",
       " 'new_individual 37c7aba965a5 180c0ab04dcd abbeba14a290 938b7e931166 6a3af6e0c55c',\n",
       " 'new_individual 37c7aba965a5 180c0ab04dcd abbeba14a290 938b7e931166 6a3af6e0c55c',\n",
       " 'new_individual 37c7aba965a5 180c0ab04dcd abbeba14a290 938b7e931166 6a3af6e0c55c',\n",
       " 'new_individual 37c7aba965a5 180c0ab04dcd abbeba14a290 938b7e931166 6a3af6e0c55c',\n",
       " 'new_individual 37c7aba965a5 180c0ab04dcd abbeba14a290 938b7e931166 6a3af6e0c55c',\n",
       " 'new_individual 37c7aba965a5 180c0ab04dcd abbeba14a290 938b7e931166 6a3af6e0c55c',\n",
       " 'new_individual 37c7aba965a5 180c0ab04dcd abbeba14a290 938b7e931166 6a3af6e0c55c',\n",
       " 'new_individual 37c7aba965a5 180c0ab04dcd abbeba14a290 938b7e931166 6a3af6e0c55c',\n",
       " 'new_individual 37c7aba965a5 180c0ab04dcd abbeba14a290 938b7e931166 6a3af6e0c55c',\n",
       " 'new_individual 37c7aba965a5 180c0ab04dcd abbeba14a290 938b7e931166 6a3af6e0c55c',\n",
       " 'new_individual 37c7aba965a5 180c0ab04dcd abbeba14a290 938b7e931166 6a3af6e0c55c',\n",
       " 'new_individual 37c7aba965a5 180c0ab04dcd abbeba14a290 938b7e931166 6a3af6e0c55c',\n",
       " 'new_individual 37c7aba965a5 180c0ab04dcd abbeba14a290 938b7e931166 6a3af6e0c55c',\n",
       " 'new_individual 37c7aba965a5 180c0ab04dcd abbeba14a290 938b7e931166 6a3af6e0c55c',\n",
       " 'new_individual 37c7aba965a5 180c0ab04dcd abbeba14a290 938b7e931166 6a3af6e0c55c',\n",
       " 'new_individual 37c7aba965a5 180c0ab04dcd abbeba14a290 938b7e931166 6a3af6e0c55c',\n",
       " 'new_individual 37c7aba965a5 180c0ab04dcd abbeba14a290 938b7e931166 6a3af6e0c55c',\n",
       " 'new_individual 37c7aba965a5 180c0ab04dcd abbeba14a290 938b7e931166 6a3af6e0c55c',\n",
       " 'new_individual 37c7aba965a5 180c0ab04dcd abbeba14a290 938b7e931166 6a3af6e0c55c',\n",
       " 'new_individual 37c7aba965a5 180c0ab04dcd abbeba14a290 938b7e931166 6a3af6e0c55c',\n",
       " 'new_individual 37c7aba965a5 180c0ab04dcd abbeba14a290 938b7e931166 6a3af6e0c55c',\n",
       " 'new_individual 37c7aba965a5 180c0ab04dcd abbeba14a290 938b7e931166 6a3af6e0c55c',\n",
       " 'new_individual 37c7aba965a5 180c0ab04dcd abbeba14a290 938b7e931166 6a3af6e0c55c',\n",
       " 'new_individual 37c7aba965a5 180c0ab04dcd abbeba14a290 938b7e931166 6a3af6e0c55c',\n",
       " 'new_individual 37c7aba965a5 180c0ab04dcd abbeba14a290 938b7e931166 6a3af6e0c55c',\n",
       " 'new_individual 37c7aba965a5 180c0ab04dcd abbeba14a290 938b7e931166 6a3af6e0c55c',\n",
       " 'new_individual 37c7aba965a5 180c0ab04dcd abbeba14a290 938b7e931166 6a3af6e0c55c',\n",
       " 'new_individual 37c7aba965a5 180c0ab04dcd abbeba14a290 938b7e931166 6a3af6e0c55c',\n",
       " 'new_individual 37c7aba965a5 180c0ab04dcd abbeba14a290 938b7e931166 6a3af6e0c55c',\n",
       " 'new_individual 37c7aba965a5 180c0ab04dcd abbeba14a290 938b7e931166 6a3af6e0c55c',\n",
       " 'new_individual 37c7aba965a5 180c0ab04dcd abbeba14a290 938b7e931166 6a3af6e0c55c',\n",
       " 'new_individual 37c7aba965a5 180c0ab04dcd abbeba14a290 938b7e931166 6a3af6e0c55c',\n",
       " 'new_individual 37c7aba965a5 180c0ab04dcd abbeba14a290 938b7e931166 6a3af6e0c55c',\n",
       " 'new_individual 37c7aba965a5 180c0ab04dcd abbeba14a290 938b7e931166 6a3af6e0c55c',\n",
       " 'new_individual 37c7aba965a5 180c0ab04dcd abbeba14a290 938b7e931166 6a3af6e0c55c',\n",
       " 'new_individual 37c7aba965a5 180c0ab04dcd abbeba14a290 938b7e931166 6a3af6e0c55c',\n",
       " 'new_individual 37c7aba965a5 180c0ab04dcd abbeba14a290 938b7e931166 6a3af6e0c55c',\n",
       " 'new_individual 37c7aba965a5 180c0ab04dcd abbeba14a290 938b7e931166 6a3af6e0c55c',\n",
       " 'new_individual 37c7aba965a5 180c0ab04dcd abbeba14a290 938b7e931166 6a3af6e0c55c',\n",
       " 'new_individual 37c7aba965a5 180c0ab04dcd abbeba14a290 938b7e931166 6a3af6e0c55c',\n",
       " 'new_individual 37c7aba965a5 180c0ab04dcd abbeba14a290 938b7e931166 6a3af6e0c55c',\n",
       " 'new_individual 37c7aba965a5 180c0ab04dcd abbeba14a290 938b7e931166 6a3af6e0c55c',\n",
       " 'new_individual 37c7aba965a5 180c0ab04dcd abbeba14a290 938b7e931166 6a3af6e0c55c',\n",
       " 'new_individual 37c7aba965a5 180c0ab04dcd abbeba14a290 938b7e931166 6a3af6e0c55c',\n",
       " 'new_individual 37c7aba965a5 180c0ab04dcd abbeba14a290 938b7e931166 6a3af6e0c55c',\n",
       " 'new_individual 37c7aba965a5 180c0ab04dcd abbeba14a290 938b7e931166 6a3af6e0c55c',\n",
       " 'new_individual 37c7aba965a5 180c0ab04dcd abbeba14a290 938b7e931166 6a3af6e0c55c',\n",
       " 'new_individual 37c7aba965a5 180c0ab04dcd abbeba14a290 938b7e931166 6a3af6e0c55c',\n",
       " 'new_individual 37c7aba965a5 180c0ab04dcd abbeba14a290 938b7e931166 6a3af6e0c55c',\n",
       " 'new_individual 37c7aba965a5 180c0ab04dcd abbeba14a290 938b7e931166 6a3af6e0c55c',\n",
       " 'new_individual 37c7aba965a5 180c0ab04dcd abbeba14a290 938b7e931166 6a3af6e0c55c',\n",
       " 'new_individual 37c7aba965a5 180c0ab04dcd abbeba14a290 938b7e931166 6a3af6e0c55c',\n",
       " 'new_individual 37c7aba965a5 180c0ab04dcd abbeba14a290 938b7e931166 6a3af6e0c55c',\n",
       " 'new_individual 37c7aba965a5 180c0ab04dcd abbeba14a290 938b7e931166 6a3af6e0c55c',\n",
       " 'new_individual 37c7aba965a5 180c0ab04dcd abbeba14a290 938b7e931166 6a3af6e0c55c',\n",
       " 'new_individual 37c7aba965a5 180c0ab04dcd abbeba14a290 938b7e931166 6a3af6e0c55c',\n",
       " 'new_individual 37c7aba965a5 180c0ab04dcd abbeba14a290 938b7e931166 6a3af6e0c55c',\n",
       " 'new_individual 37c7aba965a5 180c0ab04dcd abbeba14a290 938b7e931166 6a3af6e0c55c',\n",
       " 'new_individual 37c7aba965a5 180c0ab04dcd abbeba14a290 938b7e931166 6a3af6e0c55c',\n",
       " 'new_individual 37c7aba965a5 180c0ab04dcd abbeba14a290 938b7e931166 6a3af6e0c55c',\n",
       " 'new_individual 37c7aba965a5 180c0ab04dcd abbeba14a290 938b7e931166 6a3af6e0c55c',\n",
       " 'new_individual 37c7aba965a5 180c0ab04dcd abbeba14a290 938b7e931166 6a3af6e0c55c',\n",
       " 'new_individual 37c7aba965a5 180c0ab04dcd abbeba14a290 938b7e931166 6a3af6e0c55c',\n",
       " 'new_individual 37c7aba965a5 180c0ab04dcd abbeba14a290 938b7e931166 6a3af6e0c55c',\n",
       " 'new_individual 37c7aba965a5 180c0ab04dcd abbeba14a290 938b7e931166 6a3af6e0c55c',\n",
       " 'new_individual 37c7aba965a5 180c0ab04dcd abbeba14a290 938b7e931166 6a3af6e0c55c',\n",
       " 'new_individual 37c7aba965a5 180c0ab04dcd abbeba14a290 938b7e931166 6a3af6e0c55c',\n",
       " 'new_individual 37c7aba965a5 180c0ab04dcd abbeba14a290 938b7e931166 6a3af6e0c55c',\n",
       " 'new_individual 37c7aba965a5 180c0ab04dcd abbeba14a290 938b7e931166 6a3af6e0c55c',\n",
       " 'new_individual 37c7aba965a5 180c0ab04dcd abbeba14a290 938b7e931166 6a3af6e0c55c',\n",
       " 'new_individual 37c7aba965a5 180c0ab04dcd abbeba14a290 938b7e931166 6a3af6e0c55c',\n",
       " 'new_individual 37c7aba965a5 180c0ab04dcd abbeba14a290 938b7e931166 6a3af6e0c55c',\n",
       " 'new_individual 37c7aba965a5 180c0ab04dcd abbeba14a290 938b7e931166 6a3af6e0c55c',\n",
       " 'new_individual 37c7aba965a5 180c0ab04dcd abbeba14a290 938b7e931166 6a3af6e0c55c',\n",
       " 'new_individual 37c7aba965a5 180c0ab04dcd abbeba14a290 938b7e931166 6a3af6e0c55c',\n",
       " 'new_individual 37c7aba965a5 180c0ab04dcd abbeba14a290 938b7e931166 6a3af6e0c55c',\n",
       " 'new_individual 37c7aba965a5 180c0ab04dcd abbeba14a290 938b7e931166 6a3af6e0c55c',\n",
       " 'new_individual 37c7aba965a5 180c0ab04dcd abbeba14a290 938b7e931166 6a3af6e0c55c',\n",
       " 'new_individual 37c7aba965a5 180c0ab04dcd abbeba14a290 938b7e931166 6a3af6e0c55c',\n",
       " 'new_individual 37c7aba965a5 180c0ab04dcd abbeba14a290 938b7e931166 6a3af6e0c55c',\n",
       " 'new_individual 37c7aba965a5 180c0ab04dcd abbeba14a290 938b7e931166 6a3af6e0c55c',\n",
       " 'new_individual 37c7aba965a5 180c0ab04dcd abbeba14a290 938b7e931166 6a3af6e0c55c',\n",
       " 'new_individual 37c7aba965a5 180c0ab04dcd abbeba14a290 938b7e931166 6a3af6e0c55c',\n",
       " 'new_individual 37c7aba965a5 180c0ab04dcd abbeba14a290 938b7e931166 6a3af6e0c55c',\n",
       " 'new_individual 37c7aba965a5 180c0ab04dcd abbeba14a290 938b7e931166 6a3af6e0c55c',\n",
       " 'new_individual 37c7aba965a5 180c0ab04dcd abbeba14a290 938b7e931166 6a3af6e0c55c',\n",
       " 'new_individual 37c7aba965a5 180c0ab04dcd abbeba14a290 938b7e931166 6a3af6e0c55c',\n",
       " 'new_individual 37c7aba965a5 180c0ab04dcd abbeba14a290 938b7e931166 6a3af6e0c55c',\n",
       " 'new_individual 37c7aba965a5 180c0ab04dcd abbeba14a290 938b7e931166 6a3af6e0c55c',\n",
       " 'new_individual 37c7aba965a5 180c0ab04dcd abbeba14a290 938b7e931166 6a3af6e0c55c',\n",
       " 'new_individual 37c7aba965a5 180c0ab04dcd abbeba14a290 938b7e931166 6a3af6e0c55c',\n",
       " 'new_individual 37c7aba965a5 180c0ab04dcd abbeba14a290 938b7e931166 6a3af6e0c55c',\n",
       " 'new_individual 37c7aba965a5 180c0ab04dcd abbeba14a290 938b7e931166 6a3af6e0c55c',\n",
       " 'new_individual 37c7aba965a5 180c0ab04dcd abbeba14a290 938b7e931166 6a3af6e0c55c',\n",
       " 'new_individual 37c7aba965a5 180c0ab04dcd abbeba14a290 938b7e931166 6a3af6e0c55c',\n",
       " 'new_individual 37c7aba965a5 180c0ab04dcd abbeba14a290 938b7e931166 6a3af6e0c55c',\n",
       " 'new_individual 37c7aba965a5 180c0ab04dcd abbeba14a290 938b7e931166 6a3af6e0c55c',\n",
       " 'new_individual 37c7aba965a5 180c0ab04dcd abbeba14a290 938b7e931166 6a3af6e0c55c',\n",
       " 'new_individual 37c7aba965a5 180c0ab04dcd abbeba14a290 938b7e931166 6a3af6e0c55c',\n",
       " 'new_individual 37c7aba965a5 180c0ab04dcd abbeba14a290 938b7e931166 6a3af6e0c55c',\n",
       " 'new_individual 37c7aba965a5 180c0ab04dcd abbeba14a290 938b7e931166 6a3af6e0c55c',\n",
       " 'new_individual 37c7aba965a5 180c0ab04dcd abbeba14a290 938b7e931166 6a3af6e0c55c',\n",
       " 'new_individual 37c7aba965a5 180c0ab04dcd abbeba14a290 938b7e931166 6a3af6e0c55c',\n",
       " 'new_individual 37c7aba965a5 180c0ab04dcd abbeba14a290 938b7e931166 6a3af6e0c55c',\n",
       " 'new_individual 37c7aba965a5 180c0ab04dcd abbeba14a290 938b7e931166 6a3af6e0c55c',\n",
       " 'new_individual 37c7aba965a5 180c0ab04dcd abbeba14a290 938b7e931166 6a3af6e0c55c',\n",
       " 'new_individual 37c7aba965a5 180c0ab04dcd abbeba14a290 938b7e931166 6a3af6e0c55c',\n",
       " 'new_individual 37c7aba965a5 180c0ab04dcd abbeba14a290 938b7e931166 6a3af6e0c55c',\n",
       " 'new_individual 37c7aba965a5 180c0ab04dcd abbeba14a290 938b7e931166 6a3af6e0c55c',\n",
       " 'new_individual 37c7aba965a5 180c0ab04dcd abbeba14a290 938b7e931166 6a3af6e0c55c',\n",
       " 'new_individual 37c7aba965a5 180c0ab04dcd abbeba14a290 938b7e931166 6a3af6e0c55c',\n",
       " 'new_individual 37c7aba965a5 180c0ab04dcd abbeba14a290 938b7e931166 6a3af6e0c55c',\n",
       " 'new_individual 37c7aba965a5 180c0ab04dcd abbeba14a290 938b7e931166 6a3af6e0c55c',\n",
       " 'new_individual 37c7aba965a5 180c0ab04dcd abbeba14a290 938b7e931166 6a3af6e0c55c',\n",
       " 'new_individual 37c7aba965a5 180c0ab04dcd abbeba14a290 938b7e931166 6a3af6e0c55c',\n",
       " 'new_individual 37c7aba965a5 180c0ab04dcd abbeba14a290 938b7e931166 6a3af6e0c55c',\n",
       " 'new_individual 37c7aba965a5 180c0ab04dcd abbeba14a290 938b7e931166 6a3af6e0c55c',\n",
       " 'new_individual 37c7aba965a5 180c0ab04dcd abbeba14a290 938b7e931166 6a3af6e0c55c',\n",
       " 'new_individual 37c7aba965a5 180c0ab04dcd abbeba14a290 938b7e931166 6a3af6e0c55c',\n",
       " 'new_individual 37c7aba965a5 180c0ab04dcd abbeba14a290 938b7e931166 6a3af6e0c55c',\n",
       " 'new_individual 37c7aba965a5 180c0ab04dcd abbeba14a290 938b7e931166 6a3af6e0c55c',\n",
       " 'new_individual 37c7aba965a5 180c0ab04dcd abbeba14a290 938b7e931166 6a3af6e0c55c',\n",
       " 'new_individual 37c7aba965a5 180c0ab04dcd abbeba14a290 938b7e931166 6a3af6e0c55c',\n",
       " 'new_individual 37c7aba965a5 180c0ab04dcd abbeba14a290 938b7e931166 6a3af6e0c55c',\n",
       " 'new_individual 37c7aba965a5 180c0ab04dcd abbeba14a290 938b7e931166 6a3af6e0c55c',\n",
       " 'new_individual 37c7aba965a5 180c0ab04dcd abbeba14a290 938b7e931166 6a3af6e0c55c',\n",
       " 'new_individual 37c7aba965a5 180c0ab04dcd abbeba14a290 938b7e931166 6a3af6e0c55c',\n",
       " 'new_individual 37c7aba965a5 180c0ab04dcd abbeba14a290 938b7e931166 6a3af6e0c55c',\n",
       " 'new_individual 37c7aba965a5 180c0ab04dcd abbeba14a290 938b7e931166 6a3af6e0c55c',\n",
       " 'new_individual 37c7aba965a5 180c0ab04dcd abbeba14a290 938b7e931166 6a3af6e0c55c',\n",
       " 'new_individual 37c7aba965a5 180c0ab04dcd abbeba14a290 938b7e931166 6a3af6e0c55c',\n",
       " 'new_individual 37c7aba965a5 180c0ab04dcd abbeba14a290 938b7e931166 6a3af6e0c55c',\n",
       " 'new_individual 37c7aba965a5 180c0ab04dcd abbeba14a290 938b7e931166 6a3af6e0c55c',\n",
       " 'new_individual 37c7aba965a5 180c0ab04dcd abbeba14a290 938b7e931166 6a3af6e0c55c',\n",
       " 'new_individual 37c7aba965a5 180c0ab04dcd abbeba14a290 938b7e931166 6a3af6e0c55c',\n",
       " 'new_individual 37c7aba965a5 180c0ab04dcd abbeba14a290 938b7e931166 6a3af6e0c55c',\n",
       " 'new_individual 37c7aba965a5 180c0ab04dcd abbeba14a290 938b7e931166 6a3af6e0c55c',\n",
       " 'new_individual 37c7aba965a5 180c0ab04dcd abbeba14a290 938b7e931166 6a3af6e0c55c',\n",
       " 'new_individual 37c7aba965a5 180c0ab04dcd abbeba14a290 938b7e931166 6a3af6e0c55c',\n",
       " 'new_individual 37c7aba965a5 180c0ab04dcd abbeba14a290 938b7e931166 6a3af6e0c55c',\n",
       " 'new_individual 37c7aba965a5 180c0ab04dcd abbeba14a290 938b7e931166 6a3af6e0c55c',\n",
       " 'new_individual 37c7aba965a5 180c0ab04dcd abbeba14a290 938b7e931166 6a3af6e0c55c',\n",
       " 'new_individual 37c7aba965a5 180c0ab04dcd abbeba14a290 938b7e931166 6a3af6e0c55c',\n",
       " 'new_individual 37c7aba965a5 180c0ab04dcd abbeba14a290 938b7e931166 6a3af6e0c55c',\n",
       " 'new_individual 37c7aba965a5 180c0ab04dcd abbeba14a290 938b7e931166 6a3af6e0c55c',\n",
       " 'new_individual 37c7aba965a5 180c0ab04dcd abbeba14a290 938b7e931166 6a3af6e0c55c',\n",
       " 'new_individual 37c7aba965a5 180c0ab04dcd abbeba14a290 938b7e931166 6a3af6e0c55c',\n",
       " 'new_individual 37c7aba965a5 180c0ab04dcd abbeba14a290 938b7e931166 6a3af6e0c55c',\n",
       " 'new_individual 37c7aba965a5 180c0ab04dcd abbeba14a290 938b7e931166 6a3af6e0c55c',\n",
       " 'new_individual 37c7aba965a5 180c0ab04dcd abbeba14a290 938b7e931166 6a3af6e0c55c',\n",
       " 'new_individual 37c7aba965a5 180c0ab04dcd abbeba14a290 938b7e931166 6a3af6e0c55c',\n",
       " 'new_individual 37c7aba965a5 180c0ab04dcd abbeba14a290 938b7e931166 6a3af6e0c55c',\n",
       " 'new_individual 37c7aba965a5 180c0ab04dcd abbeba14a290 938b7e931166 6a3af6e0c55c',\n",
       " 'new_individual 37c7aba965a5 180c0ab04dcd abbeba14a290 938b7e931166 6a3af6e0c55c',\n",
       " 'new_individual 37c7aba965a5 180c0ab04dcd abbeba14a290 938b7e931166 6a3af6e0c55c',\n",
       " 'new_individual 37c7aba965a5 180c0ab04dcd abbeba14a290 938b7e931166 6a3af6e0c55c',\n",
       " 'new_individual 37c7aba965a5 180c0ab04dcd abbeba14a290 938b7e931166 6a3af6e0c55c',\n",
       " 'new_individual 37c7aba965a5 180c0ab04dcd abbeba14a290 938b7e931166 6a3af6e0c55c',\n",
       " 'new_individual 37c7aba965a5 180c0ab04dcd abbeba14a290 938b7e931166 6a3af6e0c55c',\n",
       " 'new_individual 37c7aba965a5 180c0ab04dcd abbeba14a290 938b7e931166 6a3af6e0c55c',\n",
       " 'new_individual 37c7aba965a5 180c0ab04dcd abbeba14a290 938b7e931166 6a3af6e0c55c',\n",
       " 'new_individual 37c7aba965a5 180c0ab04dcd abbeba14a290 938b7e931166 6a3af6e0c55c',\n",
       " 'new_individual 37c7aba965a5 180c0ab04dcd abbeba14a290 938b7e931166 6a3af6e0c55c',\n",
       " 'new_individual 37c7aba965a5 180c0ab04dcd abbeba14a290 938b7e931166 6a3af6e0c55c',\n",
       " 'new_individual 37c7aba965a5 180c0ab04dcd abbeba14a290 938b7e931166 6a3af6e0c55c',\n",
       " 'new_individual 37c7aba965a5 180c0ab04dcd abbeba14a290 938b7e931166 6a3af6e0c55c',\n",
       " 'new_individual 37c7aba965a5 180c0ab04dcd abbeba14a290 938b7e931166 6a3af6e0c55c',\n",
       " 'new_individual 37c7aba965a5 180c0ab04dcd abbeba14a290 938b7e931166 6a3af6e0c55c',\n",
       " 'new_individual 37c7aba965a5 180c0ab04dcd abbeba14a290 938b7e931166 6a3af6e0c55c',\n",
       " 'new_individual 37c7aba965a5 180c0ab04dcd abbeba14a290 938b7e931166 6a3af6e0c55c',\n",
       " 'new_individual 37c7aba965a5 180c0ab04dcd abbeba14a290 938b7e931166 6a3af6e0c55c',\n",
       " 'new_individual 37c7aba965a5 180c0ab04dcd abbeba14a290 938b7e931166 6a3af6e0c55c',\n",
       " 'new_individual 37c7aba965a5 180c0ab04dcd abbeba14a290 938b7e931166 6a3af6e0c55c',\n",
       " 'new_individual 37c7aba965a5 180c0ab04dcd abbeba14a290 938b7e931166 6a3af6e0c55c',\n",
       " 'new_individual 37c7aba965a5 180c0ab04dcd abbeba14a290 938b7e931166 6a3af6e0c55c',\n",
       " 'new_individual 37c7aba965a5 180c0ab04dcd abbeba14a290 938b7e931166 6a3af6e0c55c',\n",
       " 'new_individual 37c7aba965a5 180c0ab04dcd abbeba14a290 938b7e931166 6a3af6e0c55c',\n",
       " 'new_individual 37c7aba965a5 180c0ab04dcd abbeba14a290 938b7e931166 6a3af6e0c55c',\n",
       " 'new_individual 37c7aba965a5 180c0ab04dcd abbeba14a290 938b7e931166 6a3af6e0c55c',\n",
       " 'new_individual 37c7aba965a5 180c0ab04dcd abbeba14a290 938b7e931166 6a3af6e0c55c',\n",
       " 'new_individual 37c7aba965a5 180c0ab04dcd abbeba14a290 938b7e931166 6a3af6e0c55c',\n",
       " 'new_individual 37c7aba965a5 180c0ab04dcd abbeba14a290 938b7e931166 6a3af6e0c55c',\n",
       " 'new_individual 37c7aba965a5 180c0ab04dcd abbeba14a290 938b7e931166 6a3af6e0c55c',\n",
       " 'new_individual 37c7aba965a5 180c0ab04dcd abbeba14a290 938b7e931166 6a3af6e0c55c',\n",
       " 'new_individual 37c7aba965a5 180c0ab04dcd abbeba14a290 938b7e931166 6a3af6e0c55c',\n",
       " 'new_individual 37c7aba965a5 180c0ab04dcd abbeba14a290 938b7e931166 6a3af6e0c55c',\n",
       " 'new_individual 37c7aba965a5 180c0ab04dcd abbeba14a290 938b7e931166 6a3af6e0c55c',\n",
       " 'new_individual 37c7aba965a5 180c0ab04dcd abbeba14a290 938b7e931166 6a3af6e0c55c',\n",
       " 'new_individual 37c7aba965a5 180c0ab04dcd abbeba14a290 938b7e931166 6a3af6e0c55c',\n",
       " 'new_individual 37c7aba965a5 180c0ab04dcd abbeba14a290 938b7e931166 6a3af6e0c55c',\n",
       " 'new_individual 37c7aba965a5 180c0ab04dcd abbeba14a290 938b7e931166 6a3af6e0c55c',\n",
       " 'new_individual 37c7aba965a5 180c0ab04dcd abbeba14a290 938b7e931166 6a3af6e0c55c',\n",
       " 'new_individual 37c7aba965a5 180c0ab04dcd abbeba14a290 938b7e931166 6a3af6e0c55c',\n",
       " 'new_individual 37c7aba965a5 180c0ab04dcd abbeba14a290 938b7e931166 6a3af6e0c55c',\n",
       " 'new_individual 37c7aba965a5 180c0ab04dcd abbeba14a290 938b7e931166 6a3af6e0c55c',\n",
       " 'new_individual 37c7aba965a5 180c0ab04dcd abbeba14a290 938b7e931166 6a3af6e0c55c',\n",
       " 'new_individual 37c7aba965a5 180c0ab04dcd abbeba14a290 938b7e931166 6a3af6e0c55c',\n",
       " 'new_individual 37c7aba965a5 180c0ab04dcd abbeba14a290 938b7e931166 6a3af6e0c55c',\n",
       " 'new_individual 37c7aba965a5 180c0ab04dcd abbeba14a290 938b7e931166 6a3af6e0c55c',\n",
       " 'new_individual 37c7aba965a5 180c0ab04dcd abbeba14a290 938b7e931166 6a3af6e0c55c',\n",
       " 'new_individual 37c7aba965a5 180c0ab04dcd abbeba14a290 938b7e931166 6a3af6e0c55c',\n",
       " 'new_individual 37c7aba965a5 180c0ab04dcd abbeba14a290 938b7e931166 6a3af6e0c55c',\n",
       " 'new_individual 37c7aba965a5 180c0ab04dcd abbeba14a290 938b7e931166 6a3af6e0c55c',\n",
       " 'new_individual 37c7aba965a5 180c0ab04dcd abbeba14a290 938b7e931166 6a3af6e0c55c',\n",
       " 'new_individual 37c7aba965a5 180c0ab04dcd abbeba14a290 938b7e931166 6a3af6e0c55c',\n",
       " 'new_individual 37c7aba965a5 180c0ab04dcd abbeba14a290 938b7e931166 6a3af6e0c55c',\n",
       " 'new_individual 37c7aba965a5 180c0ab04dcd abbeba14a290 938b7e931166 6a3af6e0c55c',\n",
       " 'new_individual 37c7aba965a5 180c0ab04dcd abbeba14a290 938b7e931166 6a3af6e0c55c',\n",
       " 'new_individual 37c7aba965a5 180c0ab04dcd abbeba14a290 938b7e931166 6a3af6e0c55c',\n",
       " 'new_individual 37c7aba965a5 180c0ab04dcd abbeba14a290 938b7e931166 6a3af6e0c55c',\n",
       " 'new_individual 37c7aba965a5 180c0ab04dcd abbeba14a290 938b7e931166 6a3af6e0c55c',\n",
       " 'new_individual 37c7aba965a5 180c0ab04dcd abbeba14a290 938b7e931166 6a3af6e0c55c',\n",
       " 'new_individual 37c7aba965a5 180c0ab04dcd abbeba14a290 938b7e931166 6a3af6e0c55c',\n",
       " 'new_individual 37c7aba965a5 180c0ab04dcd abbeba14a290 938b7e931166 6a3af6e0c55c',\n",
       " 'new_individual 37c7aba965a5 180c0ab04dcd abbeba14a290 938b7e931166 6a3af6e0c55c',\n",
       " 'new_individual 37c7aba965a5 180c0ab04dcd abbeba14a290 938b7e931166 6a3af6e0c55c',\n",
       " 'new_individual 37c7aba965a5 180c0ab04dcd abbeba14a290 938b7e931166 6a3af6e0c55c',\n",
       " 'new_individual 37c7aba965a5 180c0ab04dcd abbeba14a290 938b7e931166 6a3af6e0c55c',\n",
       " 'new_individual 37c7aba965a5 180c0ab04dcd abbeba14a290 938b7e931166 6a3af6e0c55c',\n",
       " 'new_individual 37c7aba965a5 180c0ab04dcd abbeba14a290 938b7e931166 6a3af6e0c55c',\n",
       " 'new_individual 37c7aba965a5 180c0ab04dcd abbeba14a290 938b7e931166 6a3af6e0c55c',\n",
       " 'new_individual 37c7aba965a5 180c0ab04dcd abbeba14a290 938b7e931166 6a3af6e0c55c',\n",
       " 'new_individual 37c7aba965a5 180c0ab04dcd abbeba14a290 938b7e931166 6a3af6e0c55c',\n",
       " 'new_individual 37c7aba965a5 180c0ab04dcd abbeba14a290 938b7e931166 6a3af6e0c55c',\n",
       " 'new_individual 37c7aba965a5 180c0ab04dcd abbeba14a290 938b7e931166 6a3af6e0c55c',\n",
       " 'new_individual 37c7aba965a5 180c0ab04dcd abbeba14a290 938b7e931166 6a3af6e0c55c',\n",
       " 'new_individual 37c7aba965a5 180c0ab04dcd abbeba14a290 938b7e931166 6a3af6e0c55c',\n",
       " 'new_individual 37c7aba965a5 180c0ab04dcd abbeba14a290 938b7e931166 6a3af6e0c55c',\n",
       " 'new_individual 37c7aba965a5 180c0ab04dcd abbeba14a290 938b7e931166 6a3af6e0c55c',\n",
       " 'new_individual 37c7aba965a5 180c0ab04dcd abbeba14a290 938b7e931166 6a3af6e0c55c',\n",
       " 'new_individual 37c7aba965a5 180c0ab04dcd abbeba14a290 938b7e931166 6a3af6e0c55c',\n",
       " 'new_individual 37c7aba965a5 180c0ab04dcd abbeba14a290 938b7e931166 6a3af6e0c55c',\n",
       " 'new_individual 37c7aba965a5 180c0ab04dcd abbeba14a290 938b7e931166 6a3af6e0c55c',\n",
       " 'new_individual 37c7aba965a5 180c0ab04dcd abbeba14a290 938b7e931166 6a3af6e0c55c',\n",
       " 'new_individual 37c7aba965a5 180c0ab04dcd abbeba14a290 938b7e931166 6a3af6e0c55c',\n",
       " 'new_individual 37c7aba965a5 180c0ab04dcd abbeba14a290 938b7e931166 6a3af6e0c55c',\n",
       " 'new_individual 37c7aba965a5 180c0ab04dcd abbeba14a290 938b7e931166 6a3af6e0c55c',\n",
       " 'new_individual 37c7aba965a5 180c0ab04dcd abbeba14a290 938b7e931166 6a3af6e0c55c',\n",
       " 'new_individual 37c7aba965a5 180c0ab04dcd abbeba14a290 938b7e931166 6a3af6e0c55c',\n",
       " 'new_individual 37c7aba965a5 180c0ab04dcd abbeba14a290 938b7e931166 6a3af6e0c55c',\n",
       " 'new_individual 37c7aba965a5 180c0ab04dcd abbeba14a290 938b7e931166 6a3af6e0c55c',\n",
       " 'new_individual 37c7aba965a5 180c0ab04dcd abbeba14a290 938b7e931166 6a3af6e0c55c',\n",
       " 'new_individual 37c7aba965a5 180c0ab04dcd abbeba14a290 938b7e931166 6a3af6e0c55c',\n",
       " 'new_individual 37c7aba965a5 180c0ab04dcd abbeba14a290 938b7e931166 6a3af6e0c55c',\n",
       " 'new_individual 37c7aba965a5 180c0ab04dcd abbeba14a290 938b7e931166 6a3af6e0c55c',\n",
       " 'new_individual 37c7aba965a5 180c0ab04dcd abbeba14a290 938b7e931166 6a3af6e0c55c',\n",
       " 'new_individual 37c7aba965a5 180c0ab04dcd abbeba14a290 938b7e931166 6a3af6e0c55c',\n",
       " 'new_individual 37c7aba965a5 180c0ab04dcd abbeba14a290 938b7e931166 6a3af6e0c55c',\n",
       " 'new_individual 37c7aba965a5 180c0ab04dcd abbeba14a290 938b7e931166 6a3af6e0c55c',\n",
       " 'new_individual 37c7aba965a5 180c0ab04dcd abbeba14a290 938b7e931166 6a3af6e0c55c',\n",
       " 'new_individual 37c7aba965a5 180c0ab04dcd abbeba14a290 938b7e931166 6a3af6e0c55c',\n",
       " 'new_individual 37c7aba965a5 180c0ab04dcd abbeba14a290 938b7e931166 6a3af6e0c55c',\n",
       " 'new_individual 37c7aba965a5 180c0ab04dcd abbeba14a290 938b7e931166 6a3af6e0c55c',\n",
       " 'new_individual 37c7aba965a5 180c0ab04dcd abbeba14a290 938b7e931166 6a3af6e0c55c',\n",
       " 'new_individual 37c7aba965a5 180c0ab04dcd abbeba14a290 938b7e931166 6a3af6e0c55c',\n",
       " 'new_individual 37c7aba965a5 180c0ab04dcd abbeba14a290 938b7e931166 6a3af6e0c55c',\n",
       " 'new_individual 37c7aba965a5 180c0ab04dcd abbeba14a290 938b7e931166 6a3af6e0c55c',\n",
       " 'new_individual 37c7aba965a5 180c0ab04dcd abbeba14a290 938b7e931166 6a3af6e0c55c',\n",
       " 'new_individual 37c7aba965a5 180c0ab04dcd abbeba14a290 938b7e931166 6a3af6e0c55c',\n",
       " 'new_individual 37c7aba965a5 180c0ab04dcd abbeba14a290 938b7e931166 6a3af6e0c55c',\n",
       " 'new_individual 37c7aba965a5 180c0ab04dcd abbeba14a290 938b7e931166 6a3af6e0c55c',\n",
       " 'new_individual 37c7aba965a5 180c0ab04dcd abbeba14a290 938b7e931166 6a3af6e0c55c',\n",
       " 'new_individual 37c7aba965a5 180c0ab04dcd abbeba14a290 938b7e931166 6a3af6e0c55c',\n",
       " 'new_individual 37c7aba965a5 180c0ab04dcd abbeba14a290 938b7e931166 6a3af6e0c55c',\n",
       " 'new_individual 37c7aba965a5 180c0ab04dcd abbeba14a290 938b7e931166 6a3af6e0c55c',\n",
       " 'new_individual 37c7aba965a5 180c0ab04dcd abbeba14a290 938b7e931166 6a3af6e0c55c',\n",
       " 'new_individual 37c7aba965a5 180c0ab04dcd abbeba14a290 938b7e931166 6a3af6e0c55c',\n",
       " 'new_individual 37c7aba965a5 180c0ab04dcd abbeba14a290 938b7e931166 6a3af6e0c55c',\n",
       " 'new_individual 37c7aba965a5 180c0ab04dcd abbeba14a290 938b7e931166 6a3af6e0c55c',\n",
       " 'new_individual 37c7aba965a5 180c0ab04dcd abbeba14a290 938b7e931166 6a3af6e0c55c',\n",
       " 'new_individual 37c7aba965a5 180c0ab04dcd abbeba14a290 938b7e931166 6a3af6e0c55c',\n",
       " 'new_individual 37c7aba965a5 180c0ab04dcd abbeba14a290 938b7e931166 6a3af6e0c55c',\n",
       " 'new_individual 37c7aba965a5 180c0ab04dcd abbeba14a290 938b7e931166 6a3af6e0c55c',\n",
       " 'new_individual 37c7aba965a5 180c0ab04dcd abbeba14a290 938b7e931166 6a3af6e0c55c',\n",
       " 'new_individual 37c7aba965a5 180c0ab04dcd abbeba14a290 938b7e931166 6a3af6e0c55c',\n",
       " 'new_individual 37c7aba965a5 180c0ab04dcd abbeba14a290 938b7e931166 6a3af6e0c55c',\n",
       " 'new_individual 37c7aba965a5 180c0ab04dcd abbeba14a290 938b7e931166 6a3af6e0c55c',\n",
       " 'new_individual 37c7aba965a5 180c0ab04dcd abbeba14a290 938b7e931166 6a3af6e0c55c',\n",
       " 'new_individual 37c7aba965a5 180c0ab04dcd abbeba14a290 938b7e931166 6a3af6e0c55c',\n",
       " 'new_individual 37c7aba965a5 180c0ab04dcd abbeba14a290 938b7e931166 6a3af6e0c55c',\n",
       " 'new_individual 37c7aba965a5 180c0ab04dcd abbeba14a290 938b7e931166 6a3af6e0c55c',\n",
       " 'new_individual 37c7aba965a5 180c0ab04dcd abbeba14a290 938b7e931166 6a3af6e0c55c',\n",
       " 'new_individual 37c7aba965a5 180c0ab04dcd abbeba14a290 938b7e931166 6a3af6e0c55c',\n",
       " 'new_individual 37c7aba965a5 180c0ab04dcd abbeba14a290 938b7e931166 6a3af6e0c55c',\n",
       " 'new_individual 37c7aba965a5 180c0ab04dcd abbeba14a290 938b7e931166 6a3af6e0c55c',\n",
       " 'new_individual 37c7aba965a5 180c0ab04dcd abbeba14a290 938b7e931166 6a3af6e0c55c',\n",
       " 'new_individual 37c7aba965a5 180c0ab04dcd abbeba14a290 938b7e931166 6a3af6e0c55c',\n",
       " 'new_individual 37c7aba965a5 180c0ab04dcd abbeba14a290 938b7e931166 6a3af6e0c55c',\n",
       " 'new_individual 37c7aba965a5 180c0ab04dcd abbeba14a290 938b7e931166 6a3af6e0c55c',\n",
       " 'new_individual 37c7aba965a5 180c0ab04dcd abbeba14a290 938b7e931166 6a3af6e0c55c',\n",
       " 'new_individual 37c7aba965a5 180c0ab04dcd abbeba14a290 938b7e931166 6a3af6e0c55c',\n",
       " 'new_individual 37c7aba965a5 180c0ab04dcd abbeba14a290 938b7e931166 6a3af6e0c55c',\n",
       " 'new_individual 37c7aba965a5 180c0ab04dcd abbeba14a290 938b7e931166 6a3af6e0c55c',\n",
       " 'new_individual 37c7aba965a5 180c0ab04dcd abbeba14a290 938b7e931166 6a3af6e0c55c',\n",
       " 'new_individual 37c7aba965a5 180c0ab04dcd abbeba14a290 938b7e931166 6a3af6e0c55c',\n",
       " 'new_individual 37c7aba965a5 180c0ab04dcd abbeba14a290 938b7e931166 6a3af6e0c55c',\n",
       " 'new_individual 37c7aba965a5 180c0ab04dcd abbeba14a290 938b7e931166 6a3af6e0c55c',\n",
       " 'new_individual 37c7aba965a5 180c0ab04dcd abbeba14a290 938b7e931166 6a3af6e0c55c',\n",
       " 'new_individual 37c7aba965a5 180c0ab04dcd abbeba14a290 938b7e931166 6a3af6e0c55c',\n",
       " 'new_individual 37c7aba965a5 180c0ab04dcd abbeba14a290 938b7e931166 6a3af6e0c55c',\n",
       " 'new_individual 37c7aba965a5 180c0ab04dcd abbeba14a290 938b7e931166 6a3af6e0c55c',\n",
       " 'new_individual 37c7aba965a5 180c0ab04dcd abbeba14a290 938b7e931166 6a3af6e0c55c',\n",
       " 'new_individual 37c7aba965a5 180c0ab04dcd abbeba14a290 938b7e931166 6a3af6e0c55c',\n",
       " 'new_individual 37c7aba965a5 180c0ab04dcd abbeba14a290 938b7e931166 6a3af6e0c55c',\n",
       " 'new_individual 37c7aba965a5 180c0ab04dcd abbeba14a290 938b7e931166 6a3af6e0c55c',\n",
       " 'new_individual 37c7aba965a5 180c0ab04dcd abbeba14a290 938b7e931166 6a3af6e0c55c',\n",
       " 'new_individual 37c7aba965a5 180c0ab04dcd abbeba14a290 938b7e931166 6a3af6e0c55c',\n",
       " 'new_individual 37c7aba965a5 180c0ab04dcd abbeba14a290 938b7e931166 6a3af6e0c55c',\n",
       " 'new_individual 37c7aba965a5 180c0ab04dcd abbeba14a290 938b7e931166 6a3af6e0c55c',\n",
       " 'new_individual 37c7aba965a5 180c0ab04dcd abbeba14a290 938b7e931166 6a3af6e0c55c',\n",
       " 'new_individual 37c7aba965a5 180c0ab04dcd abbeba14a290 938b7e931166 6a3af6e0c55c',\n",
       " 'new_individual 37c7aba965a5 180c0ab04dcd abbeba14a290 938b7e931166 6a3af6e0c55c',\n",
       " 'new_individual 37c7aba965a5 180c0ab04dcd abbeba14a290 938b7e931166 6a3af6e0c55c',\n",
       " 'new_individual 37c7aba965a5 180c0ab04dcd abbeba14a290 938b7e931166 6a3af6e0c55c',\n",
       " 'new_individual 37c7aba965a5 180c0ab04dcd abbeba14a290 938b7e931166 6a3af6e0c55c',\n",
       " 'new_individual 37c7aba965a5 180c0ab04dcd abbeba14a290 938b7e931166 6a3af6e0c55c',\n",
       " 'new_individual 37c7aba965a5 180c0ab04dcd abbeba14a290 938b7e931166 6a3af6e0c55c',\n",
       " 'new_individual 37c7aba965a5 180c0ab04dcd abbeba14a290 938b7e931166 6a3af6e0c55c',\n",
       " 'new_individual 37c7aba965a5 180c0ab04dcd abbeba14a290 938b7e931166 6a3af6e0c55c',\n",
       " 'new_individual 37c7aba965a5 180c0ab04dcd abbeba14a290 938b7e931166 6a3af6e0c55c',\n",
       " 'new_individual 37c7aba965a5 180c0ab04dcd abbeba14a290 938b7e931166 6a3af6e0c55c',\n",
       " 'new_individual 37c7aba965a5 180c0ab04dcd abbeba14a290 938b7e931166 6a3af6e0c55c',\n",
       " 'new_individual 37c7aba965a5 180c0ab04dcd abbeba14a290 938b7e931166 6a3af6e0c55c',\n",
       " 'new_individual 37c7aba965a5 180c0ab04dcd abbeba14a290 938b7e931166 6a3af6e0c55c',\n",
       " 'new_individual 37c7aba965a5 180c0ab04dcd abbeba14a290 938b7e931166 6a3af6e0c55c',\n",
       " 'new_individual 37c7aba965a5 180c0ab04dcd abbeba14a290 938b7e931166 6a3af6e0c55c',\n",
       " 'new_individual 37c7aba965a5 180c0ab04dcd abbeba14a290 938b7e931166 6a3af6e0c55c',\n",
       " 'new_individual 37c7aba965a5 180c0ab04dcd abbeba14a290 938b7e931166 6a3af6e0c55c',\n",
       " 'new_individual 37c7aba965a5 180c0ab04dcd abbeba14a290 938b7e931166 6a3af6e0c55c',\n",
       " 'new_individual 37c7aba965a5 180c0ab04dcd abbeba14a290 938b7e931166 6a3af6e0c55c',\n",
       " 'new_individual 37c7aba965a5 180c0ab04dcd abbeba14a290 938b7e931166 6a3af6e0c55c',\n",
       " 'new_individual 37c7aba965a5 180c0ab04dcd abbeba14a290 938b7e931166 6a3af6e0c55c',\n",
       " 'new_individual 37c7aba965a5 180c0ab04dcd abbeba14a290 938b7e931166 6a3af6e0c55c',\n",
       " 'new_individual 37c7aba965a5 180c0ab04dcd abbeba14a290 938b7e931166 6a3af6e0c55c',\n",
       " 'new_individual 37c7aba965a5 180c0ab04dcd abbeba14a290 938b7e931166 6a3af6e0c55c',\n",
       " 'new_individual 37c7aba965a5 180c0ab04dcd abbeba14a290 938b7e931166 6a3af6e0c55c',\n",
       " 'new_individual 37c7aba965a5 180c0ab04dcd abbeba14a290 938b7e931166 6a3af6e0c55c',\n",
       " 'new_individual 37c7aba965a5 180c0ab04dcd abbeba14a290 938b7e931166 6a3af6e0c55c',\n",
       " 'new_individual 37c7aba965a5 180c0ab04dcd abbeba14a290 938b7e931166 6a3af6e0c55c',\n",
       " 'new_individual 37c7aba965a5 180c0ab04dcd abbeba14a290 938b7e931166 6a3af6e0c55c',\n",
       " 'new_individual 37c7aba965a5 180c0ab04dcd abbeba14a290 938b7e931166 6a3af6e0c55c',\n",
       " 'new_individual 37c7aba965a5 180c0ab04dcd abbeba14a290 938b7e931166 6a3af6e0c55c',\n",
       " 'new_individual 37c7aba965a5 180c0ab04dcd abbeba14a290 938b7e931166 6a3af6e0c55c',\n",
       " 'new_individual 37c7aba965a5 180c0ab04dcd abbeba14a290 938b7e931166 6a3af6e0c55c',\n",
       " 'new_individual 37c7aba965a5 180c0ab04dcd abbeba14a290 938b7e931166 6a3af6e0c55c',\n",
       " 'new_individual 37c7aba965a5 180c0ab04dcd abbeba14a290 938b7e931166 6a3af6e0c55c',\n",
       " 'new_individual 37c7aba965a5 180c0ab04dcd abbeba14a290 938b7e931166 6a3af6e0c55c',\n",
       " 'new_individual 37c7aba965a5 180c0ab04dcd abbeba14a290 938b7e931166 6a3af6e0c55c',\n",
       " 'new_individual 37c7aba965a5 180c0ab04dcd abbeba14a290 938b7e931166 6a3af6e0c55c',\n",
       " 'new_individual 37c7aba965a5 180c0ab04dcd abbeba14a290 938b7e931166 6a3af6e0c55c',\n",
       " 'new_individual 37c7aba965a5 180c0ab04dcd abbeba14a290 938b7e931166 6a3af6e0c55c',\n",
       " 'new_individual 37c7aba965a5 180c0ab04dcd abbeba14a290 938b7e931166 6a3af6e0c55c',\n",
       " 'new_individual 37c7aba965a5 180c0ab04dcd abbeba14a290 938b7e931166 6a3af6e0c55c',\n",
       " 'new_individual 37c7aba965a5 180c0ab04dcd abbeba14a290 938b7e931166 6a3af6e0c55c',\n",
       " 'new_individual 37c7aba965a5 180c0ab04dcd abbeba14a290 938b7e931166 6a3af6e0c55c',\n",
       " 'new_individual 37c7aba965a5 180c0ab04dcd abbeba14a290 938b7e931166 6a3af6e0c55c',\n",
       " 'new_individual 37c7aba965a5 180c0ab04dcd abbeba14a290 938b7e931166 6a3af6e0c55c',\n",
       " 'new_individual 37c7aba965a5 180c0ab04dcd abbeba14a290 938b7e931166 6a3af6e0c55c',\n",
       " 'new_individual 37c7aba965a5 180c0ab04dcd abbeba14a290 938b7e931166 6a3af6e0c55c',\n",
       " 'new_individual 37c7aba965a5 180c0ab04dcd abbeba14a290 938b7e931166 6a3af6e0c55c',\n",
       " 'new_individual 37c7aba965a5 180c0ab04dcd abbeba14a290 938b7e931166 6a3af6e0c55c',\n",
       " 'new_individual 37c7aba965a5 180c0ab04dcd abbeba14a290 938b7e931166 6a3af6e0c55c',\n",
       " 'new_individual 37c7aba965a5 180c0ab04dcd abbeba14a290 938b7e931166 6a3af6e0c55c',\n",
       " 'new_individual 37c7aba965a5 180c0ab04dcd abbeba14a290 938b7e931166 6a3af6e0c55c',\n",
       " 'new_individual 37c7aba965a5 180c0ab04dcd abbeba14a290 938b7e931166 6a3af6e0c55c',\n",
       " 'new_individual 37c7aba965a5 180c0ab04dcd abbeba14a290 938b7e931166 6a3af6e0c55c',\n",
       " 'new_individual 37c7aba965a5 180c0ab04dcd abbeba14a290 938b7e931166 6a3af6e0c55c',\n",
       " 'new_individual 37c7aba965a5 180c0ab04dcd abbeba14a290 938b7e931166 6a3af6e0c55c',\n",
       " 'new_individual 37c7aba965a5 180c0ab04dcd abbeba14a290 938b7e931166 6a3af6e0c55c',\n",
       " 'new_individual 37c7aba965a5 180c0ab04dcd abbeba14a290 938b7e931166 6a3af6e0c55c',\n",
       " 'new_individual 37c7aba965a5 180c0ab04dcd abbeba14a290 938b7e931166 6a3af6e0c55c',\n",
       " 'new_individual 37c7aba965a5 180c0ab04dcd abbeba14a290 938b7e931166 6a3af6e0c55c',\n",
       " 'new_individual 37c7aba965a5 180c0ab04dcd abbeba14a290 938b7e931166 6a3af6e0c55c',\n",
       " 'new_individual 37c7aba965a5 180c0ab04dcd abbeba14a290 938b7e931166 6a3af6e0c55c',\n",
       " 'new_individual 37c7aba965a5 180c0ab04dcd abbeba14a290 938b7e931166 6a3af6e0c55c',\n",
       " 'new_individual 37c7aba965a5 180c0ab04dcd abbeba14a290 938b7e931166 6a3af6e0c55c',\n",
       " 'new_individual 37c7aba965a5 180c0ab04dcd abbeba14a290 938b7e931166 6a3af6e0c55c',\n",
       " 'new_individual 37c7aba965a5 180c0ab04dcd abbeba14a290 938b7e931166 6a3af6e0c55c',\n",
       " 'new_individual 37c7aba965a5 180c0ab04dcd abbeba14a290 938b7e931166 6a3af6e0c55c',\n",
       " 'new_individual 37c7aba965a5 180c0ab04dcd abbeba14a290 938b7e931166 6a3af6e0c55c',\n",
       " 'new_individual 37c7aba965a5 180c0ab04dcd abbeba14a290 938b7e931166 6a3af6e0c55c',\n",
       " 'new_individual 37c7aba965a5 180c0ab04dcd abbeba14a290 938b7e931166 6a3af6e0c55c',\n",
       " 'new_individual 37c7aba965a5 180c0ab04dcd abbeba14a290 938b7e931166 6a3af6e0c55c',\n",
       " 'new_individual 37c7aba965a5 180c0ab04dcd abbeba14a290 938b7e931166 6a3af6e0c55c',\n",
       " 'new_individual 37c7aba965a5 180c0ab04dcd abbeba14a290 938b7e931166 6a3af6e0c55c',\n",
       " 'new_individual 37c7aba965a5 180c0ab04dcd abbeba14a290 938b7e931166 6a3af6e0c55c',\n",
       " 'new_individual 37c7aba965a5 180c0ab04dcd abbeba14a290 938b7e931166 6a3af6e0c55c',\n",
       " 'new_individual 37c7aba965a5 180c0ab04dcd abbeba14a290 938b7e931166 6a3af6e0c55c',\n",
       " 'new_individual 37c7aba965a5 180c0ab04dcd abbeba14a290 938b7e931166 6a3af6e0c55c',\n",
       " 'new_individual 37c7aba965a5 180c0ab04dcd abbeba14a290 938b7e931166 6a3af6e0c55c',\n",
       " 'new_individual 37c7aba965a5 180c0ab04dcd abbeba14a290 938b7e931166 6a3af6e0c55c',\n",
       " 'new_individual 37c7aba965a5 180c0ab04dcd abbeba14a290 938b7e931166 6a3af6e0c55c',\n",
       " 'new_individual 37c7aba965a5 180c0ab04dcd abbeba14a290 938b7e931166 6a3af6e0c55c',\n",
       " 'new_individual 37c7aba965a5 180c0ab04dcd abbeba14a290 938b7e931166 6a3af6e0c55c',\n",
       " 'new_individual 37c7aba965a5 180c0ab04dcd abbeba14a290 938b7e931166 6a3af6e0c55c',\n",
       " 'new_individual 37c7aba965a5 180c0ab04dcd abbeba14a290 938b7e931166 6a3af6e0c55c',\n",
       " 'new_individual 37c7aba965a5 180c0ab04dcd abbeba14a290 938b7e931166 6a3af6e0c55c',\n",
       " 'new_individual 37c7aba965a5 180c0ab04dcd abbeba14a290 938b7e931166 6a3af6e0c55c',\n",
       " 'new_individual 37c7aba965a5 180c0ab04dcd abbeba14a290 938b7e931166 6a3af6e0c55c',\n",
       " 'new_individual 37c7aba965a5 180c0ab04dcd abbeba14a290 938b7e931166 6a3af6e0c55c',\n",
       " 'new_individual 37c7aba965a5 180c0ab04dcd abbeba14a290 938b7e931166 6a3af6e0c55c',\n",
       " 'new_individual 37c7aba965a5 180c0ab04dcd abbeba14a290 938b7e931166 6a3af6e0c55c',\n",
       " 'new_individual 37c7aba965a5 180c0ab04dcd abbeba14a290 938b7e931166 6a3af6e0c55c',\n",
       " 'new_individual 37c7aba965a5 180c0ab04dcd abbeba14a290 938b7e931166 6a3af6e0c55c',\n",
       " 'new_individual 37c7aba965a5 180c0ab04dcd abbeba14a290 938b7e931166 6a3af6e0c55c',\n",
       " 'new_individual 37c7aba965a5 180c0ab04dcd abbeba14a290 938b7e931166 6a3af6e0c55c',\n",
       " 'new_individual 37c7aba965a5 180c0ab04dcd abbeba14a290 938b7e931166 6a3af6e0c55c',\n",
       " 'new_individual 37c7aba965a5 180c0ab04dcd abbeba14a290 938b7e931166 6a3af6e0c55c',\n",
       " 'new_individual 37c7aba965a5 180c0ab04dcd abbeba14a290 938b7e931166 6a3af6e0c55c',\n",
       " 'new_individual 37c7aba965a5 180c0ab04dcd abbeba14a290 938b7e931166 6a3af6e0c55c',\n",
       " 'new_individual 37c7aba965a5 180c0ab04dcd abbeba14a290 938b7e931166 6a3af6e0c55c',\n",
       " 'new_individual 37c7aba965a5 180c0ab04dcd abbeba14a290 938b7e931166 6a3af6e0c55c',\n",
       " 'new_individual 37c7aba965a5 180c0ab04dcd abbeba14a290 938b7e931166 6a3af6e0c55c',\n",
       " 'new_individual 37c7aba965a5 180c0ab04dcd abbeba14a290 938b7e931166 6a3af6e0c55c',\n",
       " 'new_individual 37c7aba965a5 180c0ab04dcd abbeba14a290 938b7e931166 6a3af6e0c55c',\n",
       " 'new_individual 37c7aba965a5 180c0ab04dcd abbeba14a290 938b7e931166 6a3af6e0c55c',\n",
       " 'new_individual 37c7aba965a5 180c0ab04dcd abbeba14a290 938b7e931166 6a3af6e0c55c',\n",
       " 'new_individual 37c7aba965a5 180c0ab04dcd abbeba14a290 938b7e931166 6a3af6e0c55c',\n",
       " 'new_individual 37c7aba965a5 180c0ab04dcd abbeba14a290 938b7e931166 6a3af6e0c55c',\n",
       " 'new_individual 37c7aba965a5 180c0ab04dcd abbeba14a290 938b7e931166 6a3af6e0c55c',\n",
       " 'new_individual 37c7aba965a5 180c0ab04dcd abbeba14a290 938b7e931166 6a3af6e0c55c',\n",
       " 'new_individual 37c7aba965a5 180c0ab04dcd abbeba14a290 938b7e931166 6a3af6e0c55c',\n",
       " 'new_individual 37c7aba965a5 180c0ab04dcd abbeba14a290 938b7e931166 6a3af6e0c55c',\n",
       " 'new_individual 37c7aba965a5 180c0ab04dcd abbeba14a290 938b7e931166 6a3af6e0c55c',\n",
       " 'new_individual 37c7aba965a5 180c0ab04dcd abbeba14a290 938b7e931166 6a3af6e0c55c',\n",
       " 'new_individual 37c7aba965a5 180c0ab04dcd abbeba14a290 938b7e931166 6a3af6e0c55c',\n",
       " 'new_individual 37c7aba965a5 180c0ab04dcd abbeba14a290 938b7e931166 6a3af6e0c55c',\n",
       " 'new_individual 37c7aba965a5 180c0ab04dcd abbeba14a290 938b7e931166 6a3af6e0c55c',\n",
       " 'new_individual 37c7aba965a5 180c0ab04dcd abbeba14a290 938b7e931166 6a3af6e0c55c',\n",
       " 'new_individual 37c7aba965a5 180c0ab04dcd abbeba14a290 938b7e931166 6a3af6e0c55c',\n",
       " 'new_individual 37c7aba965a5 180c0ab04dcd abbeba14a290 938b7e931166 6a3af6e0c55c',\n",
       " 'new_individual 37c7aba965a5 180c0ab04dcd abbeba14a290 938b7e931166 6a3af6e0c55c',\n",
       " 'new_individual 37c7aba965a5 180c0ab04dcd abbeba14a290 938b7e931166 6a3af6e0c55c',\n",
       " 'new_individual 37c7aba965a5 180c0ab04dcd abbeba14a290 938b7e931166 6a3af6e0c55c',\n",
       " 'new_individual 37c7aba965a5 180c0ab04dcd abbeba14a290 938b7e931166 6a3af6e0c55c',\n",
       " 'new_individual 37c7aba965a5 180c0ab04dcd abbeba14a290 938b7e931166 6a3af6e0c55c',\n",
       " 'new_individual 37c7aba965a5 180c0ab04dcd abbeba14a290 938b7e931166 6a3af6e0c55c',\n",
       " 'new_individual 37c7aba965a5 180c0ab04dcd abbeba14a290 938b7e931166 6a3af6e0c55c',\n",
       " 'new_individual 37c7aba965a5 180c0ab04dcd abbeba14a290 938b7e931166 6a3af6e0c55c',\n",
       " 'new_individual 37c7aba965a5 180c0ab04dcd abbeba14a290 938b7e931166 6a3af6e0c55c',\n",
       " 'new_individual 37c7aba965a5 180c0ab04dcd abbeba14a290 938b7e931166 6a3af6e0c55c',\n",
       " 'new_individual 37c7aba965a5 180c0ab04dcd abbeba14a290 938b7e931166 6a3af6e0c55c',\n",
       " 'new_individual 37c7aba965a5 180c0ab04dcd abbeba14a290 938b7e931166 6a3af6e0c55c',\n",
       " 'new_individual 37c7aba965a5 180c0ab04dcd abbeba14a290 938b7e931166 6a3af6e0c55c',\n",
       " 'new_individual 37c7aba965a5 180c0ab04dcd abbeba14a290 938b7e931166 6a3af6e0c55c',\n",
       " 'new_individual 37c7aba965a5 180c0ab04dcd abbeba14a290 938b7e931166 6a3af6e0c55c',\n",
       " 'new_individual 37c7aba965a5 180c0ab04dcd abbeba14a290 938b7e931166 6a3af6e0c55c',\n",
       " 'new_individual 37c7aba965a5 180c0ab04dcd abbeba14a290 938b7e931166 6a3af6e0c55c',\n",
       " 'new_individual 37c7aba965a5 180c0ab04dcd abbeba14a290 938b7e931166 6a3af6e0c55c',\n",
       " 'new_individual 37c7aba965a5 180c0ab04dcd abbeba14a290 938b7e931166 6a3af6e0c55c',\n",
       " 'new_individual 37c7aba965a5 180c0ab04dcd abbeba14a290 938b7e931166 6a3af6e0c55c',\n",
       " 'new_individual 37c7aba965a5 180c0ab04dcd abbeba14a290 938b7e931166 6a3af6e0c55c',\n",
       " 'new_individual 37c7aba965a5 180c0ab04dcd abbeba14a290 938b7e931166 6a3af6e0c55c',\n",
       " 'new_individual 37c7aba965a5 180c0ab04dcd abbeba14a290 938b7e931166 6a3af6e0c55c',\n",
       " 'new_individual 37c7aba965a5 180c0ab04dcd abbeba14a290 938b7e931166 6a3af6e0c55c',\n",
       " 'new_individual 37c7aba965a5 180c0ab04dcd abbeba14a290 938b7e931166 6a3af6e0c55c',\n",
       " 'new_individual 37c7aba965a5 180c0ab04dcd abbeba14a290 938b7e931166 6a3af6e0c55c',\n",
       " 'new_individual 37c7aba965a5 180c0ab04dcd abbeba14a290 938b7e931166 6a3af6e0c55c',\n",
       " 'new_individual 37c7aba965a5 180c0ab04dcd abbeba14a290 938b7e931166 6a3af6e0c55c',\n",
       " 'new_individual 37c7aba965a5 180c0ab04dcd abbeba14a290 938b7e931166 6a3af6e0c55c',\n",
       " 'new_individual 37c7aba965a5 180c0ab04dcd abbeba14a290 938b7e931166 6a3af6e0c55c',\n",
       " 'new_individual 37c7aba965a5 180c0ab04dcd abbeba14a290 938b7e931166 6a3af6e0c55c',\n",
       " 'new_individual 37c7aba965a5 180c0ab04dcd abbeba14a290 938b7e931166 6a3af6e0c55c',\n",
       " 'new_individual 37c7aba965a5 180c0ab04dcd abbeba14a290 938b7e931166 6a3af6e0c55c',\n",
       " 'new_individual 37c7aba965a5 180c0ab04dcd abbeba14a290 938b7e931166 6a3af6e0c55c',\n",
       " 'new_individual 37c7aba965a5 180c0ab04dcd abbeba14a290 938b7e931166 6a3af6e0c55c',\n",
       " 'new_individual 37c7aba965a5 180c0ab04dcd abbeba14a290 938b7e931166 6a3af6e0c55c',\n",
       " 'new_individual 37c7aba965a5 180c0ab04dcd abbeba14a290 938b7e931166 6a3af6e0c55c',\n",
       " 'new_individual 37c7aba965a5 180c0ab04dcd abbeba14a290 938b7e931166 6a3af6e0c55c',\n",
       " 'new_individual 37c7aba965a5 180c0ab04dcd abbeba14a290 938b7e931166 6a3af6e0c55c',\n",
       " 'new_individual 37c7aba965a5 180c0ab04dcd abbeba14a290 938b7e931166 6a3af6e0c55c',\n",
       " 'new_individual 37c7aba965a5 180c0ab04dcd abbeba14a290 938b7e931166 6a3af6e0c55c',\n",
       " 'new_individual 37c7aba965a5 180c0ab04dcd abbeba14a290 938b7e931166 6a3af6e0c55c',\n",
       " 'new_individual 37c7aba965a5 180c0ab04dcd abbeba14a290 938b7e931166 6a3af6e0c55c',\n",
       " 'new_individual 37c7aba965a5 180c0ab04dcd abbeba14a290 938b7e931166 6a3af6e0c55c',\n",
       " 'new_individual 37c7aba965a5 180c0ab04dcd abbeba14a290 938b7e931166 6a3af6e0c55c',\n",
       " 'new_individual 37c7aba965a5 180c0ab04dcd abbeba14a290 938b7e931166 6a3af6e0c55c',\n",
       " 'new_individual 37c7aba965a5 180c0ab04dcd abbeba14a290 938b7e931166 6a3af6e0c55c',\n",
       " 'new_individual 37c7aba965a5 180c0ab04dcd abbeba14a290 938b7e931166 6a3af6e0c55c',\n",
       " 'new_individual 37c7aba965a5 180c0ab04dcd abbeba14a290 938b7e931166 6a3af6e0c55c',\n",
       " 'new_individual 37c7aba965a5 180c0ab04dcd abbeba14a290 938b7e931166 6a3af6e0c55c',\n",
       " 'new_individual 37c7aba965a5 180c0ab04dcd abbeba14a290 938b7e931166 6a3af6e0c55c',\n",
       " 'new_individual 37c7aba965a5 180c0ab04dcd abbeba14a290 938b7e931166 6a3af6e0c55c',\n",
       " 'new_individual 37c7aba965a5 180c0ab04dcd abbeba14a290 938b7e931166 6a3af6e0c55c',\n",
       " 'new_individual 37c7aba965a5 180c0ab04dcd abbeba14a290 938b7e931166 6a3af6e0c55c',\n",
       " 'new_individual 37c7aba965a5 180c0ab04dcd abbeba14a290 938b7e931166 6a3af6e0c55c',\n",
       " 'new_individual 37c7aba965a5 180c0ab04dcd abbeba14a290 938b7e931166 6a3af6e0c55c',\n",
       " 'new_individual 37c7aba965a5 180c0ab04dcd abbeba14a290 938b7e931166 6a3af6e0c55c',\n",
       " 'new_individual 37c7aba965a5 180c0ab04dcd abbeba14a290 938b7e931166 6a3af6e0c55c',\n",
       " 'new_individual 37c7aba965a5 180c0ab04dcd abbeba14a290 938b7e931166 6a3af6e0c55c',\n",
       " 'new_individual 37c7aba965a5 180c0ab04dcd abbeba14a290 938b7e931166 6a3af6e0c55c',\n",
       " 'new_individual 37c7aba965a5 180c0ab04dcd abbeba14a290 938b7e931166 6a3af6e0c55c',\n",
       " 'new_individual 37c7aba965a5 180c0ab04dcd abbeba14a290 938b7e931166 6a3af6e0c55c',\n",
       " 'new_individual 37c7aba965a5 180c0ab04dcd abbeba14a290 938b7e931166 6a3af6e0c55c',\n",
       " 'new_individual 37c7aba965a5 180c0ab04dcd abbeba14a290 938b7e931166 6a3af6e0c55c',\n",
       " 'new_individual 37c7aba965a5 180c0ab04dcd abbeba14a290 938b7e931166 6a3af6e0c55c',\n",
       " 'new_individual 37c7aba965a5 180c0ab04dcd abbeba14a290 938b7e931166 6a3af6e0c55c',\n",
       " 'new_individual 37c7aba965a5 180c0ab04dcd abbeba14a290 938b7e931166 6a3af6e0c55c',\n",
       " 'new_individual 37c7aba965a5 180c0ab04dcd abbeba14a290 938b7e931166 6a3af6e0c55c',\n",
       " 'new_individual 37c7aba965a5 180c0ab04dcd abbeba14a290 938b7e931166 6a3af6e0c55c',\n",
       " 'new_individual 37c7aba965a5 180c0ab04dcd abbeba14a290 938b7e931166 6a3af6e0c55c',\n",
       " 'new_individual 37c7aba965a5 180c0ab04dcd abbeba14a290 938b7e931166 6a3af6e0c55c',\n",
       " 'new_individual 37c7aba965a5 180c0ab04dcd abbeba14a290 938b7e931166 6a3af6e0c55c',\n",
       " 'new_individual 37c7aba965a5 180c0ab04dcd abbeba14a290 938b7e931166 6a3af6e0c55c',\n",
       " 'new_individual 37c7aba965a5 180c0ab04dcd abbeba14a290 938b7e931166 6a3af6e0c55c',\n",
       " 'new_individual 37c7aba965a5 180c0ab04dcd abbeba14a290 938b7e931166 6a3af6e0c55c',\n",
       " 'new_individual 37c7aba965a5 180c0ab04dcd abbeba14a290 938b7e931166 6a3af6e0c55c',\n",
       " 'new_individual 37c7aba965a5 180c0ab04dcd abbeba14a290 938b7e931166 6a3af6e0c55c',\n",
       " 'new_individual 37c7aba965a5 180c0ab04dcd abbeba14a290 938b7e931166 6a3af6e0c55c',\n",
       " 'new_individual 37c7aba965a5 180c0ab04dcd abbeba14a290 938b7e931166 6a3af6e0c55c',\n",
       " 'new_individual 37c7aba965a5 180c0ab04dcd abbeba14a290 938b7e931166 6a3af6e0c55c',\n",
       " 'new_individual 37c7aba965a5 180c0ab04dcd abbeba14a290 938b7e931166 6a3af6e0c55c',\n",
       " 'new_individual 37c7aba965a5 180c0ab04dcd abbeba14a290 938b7e931166 6a3af6e0c55c',\n",
       " 'new_individual 37c7aba965a5 180c0ab04dcd abbeba14a290 938b7e931166 6a3af6e0c55c',\n",
       " 'new_individual 37c7aba965a5 180c0ab04dcd abbeba14a290 938b7e931166 6a3af6e0c55c',\n",
       " 'new_individual 37c7aba965a5 180c0ab04dcd abbeba14a290 938b7e931166 6a3af6e0c55c',\n",
       " 'new_individual 37c7aba965a5 180c0ab04dcd abbeba14a290 938b7e931166 6a3af6e0c55c',\n",
       " 'new_individual 37c7aba965a5 180c0ab04dcd abbeba14a290 938b7e931166 6a3af6e0c55c',\n",
       " 'new_individual 37c7aba965a5 180c0ab04dcd abbeba14a290 938b7e931166 6a3af6e0c55c',\n",
       " 'new_individual 37c7aba965a5 180c0ab04dcd abbeba14a290 938b7e931166 6a3af6e0c55c',\n",
       " 'new_individual 37c7aba965a5 180c0ab04dcd abbeba14a290 938b7e931166 6a3af6e0c55c',\n",
       " 'new_individual 37c7aba965a5 180c0ab04dcd abbeba14a290 938b7e931166 6a3af6e0c55c',\n",
       " 'new_individual 37c7aba965a5 180c0ab04dcd abbeba14a290 938b7e931166 6a3af6e0c55c',\n",
       " 'new_individual 37c7aba965a5 180c0ab04dcd abbeba14a290 938b7e931166 6a3af6e0c55c',\n",
       " 'new_individual 37c7aba965a5 180c0ab04dcd abbeba14a290 938b7e931166 6a3af6e0c55c',\n",
       " 'new_individual 37c7aba965a5 180c0ab04dcd abbeba14a290 938b7e931166 6a3af6e0c55c',\n",
       " 'new_individual 37c7aba965a5 180c0ab04dcd abbeba14a290 938b7e931166 6a3af6e0c55c',\n",
       " 'new_individual 37c7aba965a5 180c0ab04dcd abbeba14a290 938b7e931166 6a3af6e0c55c',\n",
       " 'new_individual 37c7aba965a5 180c0ab04dcd abbeba14a290 938b7e931166 6a3af6e0c55c',\n",
       " 'new_individual 37c7aba965a5 180c0ab04dcd abbeba14a290 938b7e931166 6a3af6e0c55c',\n",
       " 'new_individual 37c7aba965a5 180c0ab04dcd abbeba14a290 938b7e931166 6a3af6e0c55c',\n",
       " 'new_individual 37c7aba965a5 180c0ab04dcd abbeba14a290 938b7e931166 6a3af6e0c55c',\n",
       " 'new_individual 37c7aba965a5 180c0ab04dcd abbeba14a290 938b7e931166 6a3af6e0c55c',\n",
       " 'new_individual 37c7aba965a5 180c0ab04dcd abbeba14a290 938b7e931166 6a3af6e0c55c',\n",
       " 'new_individual 37c7aba965a5 180c0ab04dcd abbeba14a290 938b7e931166 6a3af6e0c55c',\n",
       " 'new_individual 37c7aba965a5 180c0ab04dcd abbeba14a290 938b7e931166 6a3af6e0c55c',\n",
       " 'new_individual 37c7aba965a5 180c0ab04dcd abbeba14a290 938b7e931166 6a3af6e0c55c',\n",
       " 'new_individual 37c7aba965a5 180c0ab04dcd abbeba14a290 938b7e931166 6a3af6e0c55c',\n",
       " 'new_individual 37c7aba965a5 180c0ab04dcd abbeba14a290 938b7e931166 6a3af6e0c55c',\n",
       " 'new_individual 37c7aba965a5 180c0ab04dcd abbeba14a290 938b7e931166 6a3af6e0c55c',\n",
       " 'new_individual 37c7aba965a5 180c0ab04dcd abbeba14a290 938b7e931166 6a3af6e0c55c',\n",
       " 'new_individual 37c7aba965a5 180c0ab04dcd abbeba14a290 938b7e931166 6a3af6e0c55c',\n",
       " 'new_individual 37c7aba965a5 180c0ab04dcd abbeba14a290 938b7e931166 6a3af6e0c55c',\n",
       " 'new_individual 37c7aba965a5 180c0ab04dcd abbeba14a290 938b7e931166 6a3af6e0c55c',\n",
       " 'new_individual 37c7aba965a5 180c0ab04dcd abbeba14a290 938b7e931166 6a3af6e0c55c',\n",
       " 'new_individual 37c7aba965a5 180c0ab04dcd abbeba14a290 938b7e931166 6a3af6e0c55c',\n",
       " 'new_individual 37c7aba965a5 180c0ab04dcd abbeba14a290 938b7e931166 6a3af6e0c55c',\n",
       " ...]"
      ]
     },
     "execution_count": 35,
     "metadata": {},
     "output_type": "execute_result"
    }
   ],
   "source": [
    "df_test['predictions'].tolist()"
   ]
  },
  {
   "cell_type": "code",
   "execution_count": null,
   "id": "f060d555",
   "metadata": {},
   "outputs": [],
   "source": []
  },
  {
   "cell_type": "code",
   "execution_count": null,
   "id": "77332d92",
   "metadata": {},
   "outputs": [],
   "source": []
  },
  {
   "cell_type": "code",
   "execution_count": null,
   "id": "964d8c51",
   "metadata": {},
   "outputs": [],
   "source": []
  },
  {
   "cell_type": "code",
   "execution_count": null,
   "id": "c66feeed",
   "metadata": {},
   "outputs": [],
   "source": []
  },
  {
   "cell_type": "code",
   "execution_count": null,
   "id": "fd219cfe",
   "metadata": {},
   "outputs": [],
   "source": []
  },
  {
   "cell_type": "code",
   "execution_count": null,
   "id": "433e58c9",
   "metadata": {},
   "outputs": [],
   "source": []
  },
  {
   "cell_type": "code",
   "execution_count": null,
   "id": "7b78585a",
   "metadata": {},
   "outputs": [],
   "source": []
  },
  {
   "cell_type": "markdown",
   "id": "7ebd0aa4",
   "metadata": {},
   "source": [
    "## Tuning the CoAtNet Model"
   ]
  },
  {
   "cell_type": "code",
   "execution_count": null,
   "id": "eb1c7e60",
   "metadata": {
    "ExecuteTime": {
     "end_time": "2022-02-26T06:12:52.021994Z",
     "start_time": "2022-02-26T06:12:52.021975Z"
    }
   },
   "outputs": [],
   "source": [
    "more_epochs = 10"
   ]
  },
  {
   "cell_type": "code",
   "execution_count": null,
   "id": "a6a953b8",
   "metadata": {
    "ExecuteTime": {
     "end_time": "2022-02-26T06:12:52.023428Z",
     "start_time": "2022-02-26T06:12:52.023408Z"
    }
   },
   "outputs": [],
   "source": [
    "tf.keras.backend.clear_session()"
   ]
  },
  {
   "cell_type": "markdown",
   "id": "ad1e86fb",
   "metadata": {},
   "source": [
    "#### Training"
   ]
  },
  {
   "cell_type": "code",
   "execution_count": null,
   "id": "cec1493e",
   "metadata": {
    "ExecuteTime": {
     "end_time": "2022-02-26T06:12:52.025780Z",
     "start_time": "2022-02-26T06:12:52.025739Z"
    }
   },
   "outputs": [],
   "source": [
    "coatnet0_base = keras_cv_attention_models.coatnet.CoAtNet0(\n",
    "    num_classes=0,    # to exclude top layers\n",
    "    input_shape=(coat_target_size, coat_target_size, 3))\n",
    "\n",
    "coatnet0_base.trainable = False\n",
    "\n",
    "model_coat0_main = models.Sequential()\n",
    "\n",
    "model_coat0_main.add(coatnet0_base)\n",
    "model_coat0_main.add(layers.Flatten())\n",
    "model_coat0_main.add(layers.Dense(256, activation=\"relu\"))\n",
    "model_coat0_main.add(layers.Dropout(0.6))\n",
    "model_coat0_main.add(layers.Dense(num_classes, activation='softmax'))\n",
    "\n",
    "model_coat0_main.summary()"
   ]
  },
  {
   "cell_type": "code",
   "execution_count": null,
   "id": "abc1eb48",
   "metadata": {
    "ExecuteTime": {
     "end_time": "2022-02-26T06:12:52.028116Z",
     "start_time": "2022-02-26T06:12:52.028082Z"
    }
   },
   "outputs": [],
   "source": [
    "metrics = [tf.keras.metrics.CategoricalAccuracy(name=\"accuracy\"),\n",
    "           tf.keras.metrics.TopKCategoricalAccuracy(5, name=\"top_5_acc\"),\n",
    "           tf.keras.metrics.Precision(top_k=5, name=\"top_5_map\")]\n",
    "\n",
    "model_coat0_main.compile(loss='categorical_crossentropy',\n",
    "                         optimizer=optimizers.Adam(),\n",
    "                         metrics=metrics)"
   ]
  },
  {
   "cell_type": "code",
   "execution_count": null,
   "id": "2e71259d",
   "metadata": {
    "ExecuteTime": {
     "end_time": "2022-02-26T06:12:52.030254Z",
     "start_time": "2022-02-26T06:12:52.030224Z"
    }
   },
   "outputs": [],
   "source": [
    "%%time\n",
    "\n",
    "filepath_coat2 = save_dir + \"/coat_main_wts.hdf5\"\n",
    "checkpoint_coat2 = ModelCheckpoint(filepath, monitor='val_accuracy',\n",
    "                             verbose=1, save_best_only=True, mode='max')\n",
    "earlystop_coat2 = EarlyStopping(monitor='val_accuracy', patience=3, verbose=1)\n",
    "reduce_lr_coat2 = ReduceLROnPlateau(monitor='val_loss', factor=0.2,\n",
    "                              patience=2, min_lr=0.00001, verbose=1)\n",
    "\n",
    "history_coat0_main = model_coat0_main.fit(\n",
    "    alt_train_gen,\n",
    "    steps_per_epoch=steps_per_epoch,\n",
    "    epochs=more_epochs,\n",
    "    validation_data=alt_val_gen,\n",
    "    validation_steps=validation_steps,\n",
    "    callbacks=[checkpoint_coat2, earlystop_coat2, reduce_lr_coat2]\n",
    ")"
   ]
  },
  {
   "cell_type": "code",
   "execution_count": null,
   "id": "6fdd5d46",
   "metadata": {
    "ExecuteTime": {
     "end_time": "2022-02-26T06:12:52.032514Z",
     "start_time": "2022-02-26T06:12:52.032483Z"
    }
   },
   "outputs": [],
   "source": [
    "model_coat0_main.load_weights(filepath)\n",
    "\n",
    "model_coat0_main.save(save_dir + '/coat0_main.h5')\n",
    "\n",
    "with open(save_dir + '/coat0_hist_main.pickle', 'wb') as handle:\n",
    "    pickle.dump(history_coat0_main.history, handle,\n",
    "                protocol=pickle.HIGHEST_PROTOCOL)"
   ]
  },
  {
   "cell_type": "code",
   "execution_count": null,
   "id": "1824a533",
   "metadata": {
    "ExecuteTime": {
     "end_time": "2022-02-26T06:12:52.034680Z",
     "start_time": "2022-02-26T06:12:52.034637Z"
    }
   },
   "outputs": [],
   "source": [
    "def plot_results_v2(history):\n",
    "    fig, ax = plt.subplots(2, 2, figsize=(15, 10))\n",
    "\n",
    "    # plot accuracy \n",
    "    acc = history.history['accuracy']\n",
    "    val_acc = history.history['val_accuracy']\n",
    "    epochs = range(1, len(acc) + 1)\n",
    "\n",
    "    ax[0, 0].plot(epochs, acc, 'ko', label='Training Accuracy')\n",
    "    ax[0, 0].plot(epochs, val_acc, 'k', label='Validation Accuracy')\n",
    "    ax[0, 0].set_title('Training and Validation Categorical Accuracy')\n",
    "    ax[0, 0].set_xlabel('Epochs')\n",
    "    ax[0, 0].legend()\n",
    "\n",
    "    # plot Top-5 Accuracy\n",
    "    top_5_acc = history.history['top_5_acc']\n",
    "    val_top_5_acc = history.history['val_top_5_acc']\n",
    "\n",
    "    ax[1, 0].plot(epochs, top_5_acc, 'ko', label='Training Top-5 Accuracy')\n",
    "    ax[1, 0].plot(epochs, val_top_5_acc, 'k', label='Validation Top-5 Accuracy')\n",
    "    ax[1, 0].set_title('Training and Validation Top-5 Accuracy')\n",
    "    ax[1, 0].set_xlabel('Epochs')\n",
    "    ax[1, 0].legend()\n",
    "\n",
    "    # plot Top-5 MAP\n",
    "    top_5_map = history.history['top_5_map']\n",
    "    val_top_5_map = history.history['val_top_5_map']\n",
    "\n",
    "    ax[0, 1].plot(epochs, top_5_map, 'ko', label=\"Training Top-5 MAP\")\n",
    "    ax[0, 1].plot(epochs, val_top_5_map, 'k', label=\"Validation Top-5 MAP\")\n",
    "    ax[0, 1].set_title(\"Training and Validation Cohen's Top-5 MAP\")\n",
    "    ax[0, 1].set_xlabel('Epochs')\n",
    "    ax[0, 1].legend()\n",
    "\n",
    "    # plot loss\n",
    "    loss = history.history['loss']\n",
    "    val_loss = history.history['val_loss']\n",
    "\n",
    "    ax[1, 1].plot(epochs, loss, 'ro', label='Training loss')\n",
    "    ax[1, 1].plot(epochs, val_loss, 'r', label='Validation loss')\n",
    "    ax[1, 1].set_title('Training and Validation Categorical Cross-Entropy')\n",
    "    ax[1, 1].set_xlabel('Epochs')\n",
    "    ax[1, 1].legend()"
   ]
  },
  {
   "cell_type": "code",
   "execution_count": null,
   "id": "52648ed2",
   "metadata": {
    "ExecuteTime": {
     "end_time": "2022-02-26T06:12:52.036418Z",
     "start_time": "2022-02-26T06:12:52.036389Z"
    }
   },
   "outputs": [],
   "source": [
    "plot_results_v2(history_coat0_main)"
   ]
  },
  {
   "cell_type": "markdown",
   "id": "6c5a7d44",
   "metadata": {},
   "source": [
    "#### Fine-tuning"
   ]
  },
  {
   "cell_type": "code",
   "execution_count": null,
   "id": "3be03739",
   "metadata": {
    "ExecuteTime": {
     "end_time": "2022-02-26T06:12:52.038479Z",
     "start_time": "2022-02-26T06:12:52.038449Z"
    }
   },
   "outputs": [],
   "source": [
    "coatnet0_base.trainable = True\n",
    "\n",
    "for layer in coatnet0_base.layers[:-7]:\n",
    "    layer.trainable = False\n",
    "for layer in coatnet0_base.layers[-7:]:\n",
    "    if not isinstance(layer, layers.BatchNormalization):\n",
    "        layer.trainable = True\n",
    "\n",
    "metrics = [tf.keras.metrics.CategoricalAccuracy(name=\"accuracy\"),\n",
    "           tf.keras.metrics.TopKCategoricalAccuracy(5, name=\"top_5_acc\"),\n",
    "           tf.keras.metrics.Precision(top_k=5, name=\"top_5_map\")]\n",
    "\n",
    "model_coat0_main.compile(loss='categorical_crossentropy',\n",
    "                         optimizer=optimizers.Adam(learning_rate=1e-5),\n",
    "                         metrics=metrics)\n",
    "\n",
    "model_coat0_main.summary()"
   ]
  },
  {
   "cell_type": "code",
   "execution_count": null,
   "id": "7bed5bd9",
   "metadata": {
    "ExecuteTime": {
     "end_time": "2022-02-26T06:12:52.040722Z",
     "start_time": "2022-02-26T06:12:52.040701Z"
    }
   },
   "outputs": [],
   "source": [
    "%%time\n",
    "\n",
    "filepath = save_dir + \"/coat_main_wts.hdf5\"\n",
    "checkpoint = ModelCheckpoint(filepath, monitor='val_accuracy',\n",
    "                             verbose=1, save_best_only=True, mode='max')\n",
    "earlystop = EarlyStopping(monitor='val_accuracy', patience=3, verbose=1)\n",
    "reduce_lr = ReduceLROnPlateau(monitor='val_loss', factor=0.2,\n",
    "                              patience=2, min_lr=0.000001, verbose=1)\n",
    "\n",
    "history_coat0_main_ft = model_coat0_main.fit(\n",
    "    alt_train_gen,\n",
    "    steps_per_epoch=steps_per_epoch,\n",
    "    epochs=more_epochs,\n",
    "    validation_data=alt_val_gen,\n",
    "    validation_steps=validation_steps,\n",
    "    callbacks=[checkpoint, earlystop, reduce_lr]\n",
    ")"
   ]
  },
  {
   "cell_type": "code",
   "execution_count": null,
   "id": "dad57789",
   "metadata": {
    "ExecuteTime": {
     "end_time": "2022-02-26T06:12:52.042459Z",
     "start_time": "2022-02-26T06:12:52.042438Z"
    }
   },
   "outputs": [],
   "source": [
    "model_coat0_main.load_weights(filepath)\n",
    "\n",
    "model_coat0_main.save(save_dir + '/coat0_main_ft.h5')\n",
    "\n",
    "with open(save_dir + '/coat0_hist_main_ft.pickle', 'wb') as handle:\n",
    "    pickle.dump(history_coat0_main_ft.history, handle,\n",
    "                protocol=pickle.HIGHEST_PROTOCOL)"
   ]
  },
  {
   "cell_type": "code",
   "execution_count": null,
   "id": "8a6d9fd0",
   "metadata": {
    "ExecuteTime": {
     "end_time": "2022-02-26T06:12:52.043917Z",
     "start_time": "2022-02-26T06:12:52.043897Z"
    }
   },
   "outputs": [],
   "source": [
    "plot_results_v2(history_coat0_main_ft)"
   ]
  },
  {
   "cell_type": "markdown",
   "id": "1399b5e9",
   "metadata": {},
   "source": [
    "### Changes to make:\n",
    "\n",
    "1. preprocess input (https://www.tensorflow.org/api_docs/python/tf/keras/applications/inception_v3/preprocess_input)\n",
    "2. change to label\n",
    "3. add topkcategorical accuracy as a metric\n",
    "4. lower learning rate when fine-tuning\n",
    "5. use larger/original dataset\n",
    "6. more loss metrics\n",
    "7. checkpointing\n",
    "\n"
   ]
  },
  {
   "cell_type": "code",
   "execution_count": null,
   "id": "663d10d6",
   "metadata": {},
   "outputs": [],
   "source": []
  },
  {
   "cell_type": "code",
   "execution_count": null,
   "id": "3ae459c8",
   "metadata": {},
   "outputs": [],
   "source": []
  },
  {
   "cell_type": "code",
   "execution_count": null,
   "id": "43c17052",
   "metadata": {},
   "outputs": [],
   "source": []
  },
  {
   "cell_type": "code",
   "execution_count": null,
   "id": "ecd55f33",
   "metadata": {
    "ExecuteTime": {
     "end_time": "2022-02-26T06:12:52.045557Z",
     "start_time": "2022-02-26T06:12:52.045537Z"
    }
   },
   "outputs": [],
   "source": [
    "#     model.compile(\n",
    "#         optimizer=optimizer,\n",
    "#         loss=keras.losses.SparseCategoricalCrossentropy(from_logits=True),\n",
    "#         metrics=[\n",
    "#             keras.metrics.SparseCategoricalAccuracy(name=\"accuracy\"),\n",
    "#             keras.metrics.TopKCategoricalAccuracy(5, name=\"top-5-accuracy\"),\n",
    "#         ],\n",
    "#     )"
   ]
  },
  {
   "cell_type": "code",
   "execution_count": null,
   "id": "79042af2",
   "metadata": {
    "ExecuteTime": {
     "end_time": "2022-02-25T10:34:59.037943Z",
     "start_time": "2022-02-25T10:34:59.028977Z"
    }
   },
   "outputs": [],
   "source": []
  },
  {
   "cell_type": "code",
   "execution_count": null,
   "id": "a4fd6a2f",
   "metadata": {},
   "outputs": [],
   "source": []
  }
 ],
 "metadata": {
  "kernelspec": {
   "display_name": "Python [conda env:.conda-msds2022-ml3]",
   "language": "python",
   "name": "conda-env-.conda-msds2022-ml3-py"
  },
  "language_info": {
   "codemirror_mode": {
    "name": "ipython",
    "version": 3
   },
   "file_extension": ".py",
   "mimetype": "text/x-python",
   "name": "python",
   "nbconvert_exporter": "python",
   "pygments_lexer": "ipython3",
   "version": "3.9.6"
  },
  "toc": {
   "base_numbering": 1,
   "nav_menu": {},
   "number_sections": false,
   "sideBar": true,
   "skip_h1_title": false,
   "title_cell": "Table of Contents",
   "title_sidebar": "Contents",
   "toc_cell": false,
   "toc_position": {
    "height": "calc(100% - 180px)",
    "left": "10px",
    "top": "150px",
    "width": "333.15px"
   },
   "toc_section_display": true,
   "toc_window_display": true
  }
 },
 "nbformat": 4,
 "nbformat_minor": 5
}
