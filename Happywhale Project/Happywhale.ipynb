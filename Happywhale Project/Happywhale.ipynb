{
 "cells": [
  {
   "cell_type": "markdown",
   "id": "5ab5bfe2",
   "metadata": {},
   "source": [
    "## Data Preparation and EDA"
   ]
  },
  {
   "cell_type": "markdown",
   "id": "9f6c0874",
   "metadata": {},
   "source": [
    "### Download dataset and import libraries"
   ]
  },
  {
   "cell_type": "code",
   "execution_count": 2,
   "id": "db4d18d6",
   "metadata": {
    "ExecuteTime": {
     "end_time": "2022-02-24T19:50:06.222168Z",
     "start_time": "2022-02-24T19:50:06.217732Z"
    }
   },
   "outputs": [],
   "source": [
    "# !pip install opendatasets\n",
    "\n",
    "# import opendatasets as od\n",
    "# username = normanlapid\n",
    "# API_key = c153837540a86c2d226f5d2967a55f55\n",
    "# od.download(\"https://www.kaggle.com/rdizzl3/jpeg-happywhale-384x384\")"
   ]
  },
  {
   "cell_type": "code",
   "execution_count": 181,
   "id": "8fb4bd76",
   "metadata": {
    "ExecuteTime": {
     "end_time": "2022-02-25T14:39:41.961341Z",
     "start_time": "2022-02-25T14:39:41.954673Z"
    }
   },
   "outputs": [],
   "source": [
    "import os\n",
    "os.environ['TF_CPP_MIN_LOG_LEVEL'] = '2' \n",
    "\n",
    "from tqdm import tqdm\n",
    "import numpy as np \n",
    "import pandas as pd \n",
    "import seaborn as sns\n",
    "import matplotlib.pyplot as plt\n",
    "%matplotlib inline\n",
    "\n",
    "import pickle\n",
    "import random\n",
    "\n",
    "import warnings\n",
    "warnings.filterwarnings('ignore')"
   ]
  },
  {
   "cell_type": "code",
   "execution_count": 97,
   "id": "b9df4cf6",
   "metadata": {
    "ExecuteTime": {
     "end_time": "2022-02-25T06:16:16.516992Z",
     "start_time": "2022-02-25T06:16:16.508366Z"
    }
   },
   "outputs": [],
   "source": [
    "from sklearn.model_selection import train_test_split\n",
    "from sklearn.metrics import accuracy_score\n",
    "from sklearn.preprocessing import LabelEncoder\n",
    "from sklearn.preprocessing import OneHotEncoder\n",
    "\n",
    "import tensorflow as tf\n",
    "tf.get_logger().setLevel('ERROR')\n",
    "tf.autograph.set_verbosity(2)\n",
    "from tensorflow.keras import models, layers, optimizers\n",
    "from tensorflow.keras.preprocessing import image\n",
    "from tensorflow.keras.preprocessing.image import ImageDataGenerator\n",
    "from tensorflow.keras.callbacks import ModelCheckpoint, EarlyStopping, ReduceLROnPlateau\n",
    "from tensorflow.keras.optimizers import Adam"
   ]
  },
  {
   "cell_type": "code",
   "execution_count": 5,
   "id": "77a5bd4e",
   "metadata": {
    "ExecuteTime": {
     "end_time": "2022-02-24T19:50:53.645520Z",
     "start_time": "2022-02-24T19:50:53.639086Z"
    }
   },
   "outputs": [
    {
     "name": "stdout",
     "output_type": "stream",
     "text": [
      "TensorFlow: 2.6.0\n"
     ]
    }
   ],
   "source": [
    "print(\"TensorFlow:\", tf.__version__)"
   ]
  },
  {
   "cell_type": "code",
   "execution_count": 6,
   "id": "44ade6c0",
   "metadata": {
    "ExecuteTime": {
     "end_time": "2022-02-24T19:50:53.655307Z",
     "start_time": "2022-02-24T19:50:53.649589Z"
    }
   },
   "outputs": [],
   "source": [
    "def seed_everything(seed):\n",
    "    random.seed(seed)\n",
    "    np.random.seed(seed)\n",
    "    os.environ['PYTHONHASHSEED'] = str(seed)\n",
    "    tf.random.set_seed(seed)\n",
    "\n",
    "\n",
    "seed_everything(143) "
   ]
  },
  {
   "cell_type": "markdown",
   "id": "d3dc4f91",
   "metadata": {},
   "source": [
    "### Data cleaning and EDA"
   ]
  },
  {
   "cell_type": "code",
   "execution_count": 7,
   "id": "99c690c1",
   "metadata": {
    "ExecuteTime": {
     "end_time": "2022-02-24T19:50:53.788518Z",
     "start_time": "2022-02-24T19:50:53.657666Z"
    }
   },
   "outputs": [],
   "source": [
    "df_train = pd.read_csv('jpeg-happywhale-384x384/train.csv')"
   ]
  },
  {
   "cell_type": "code",
   "execution_count": 8,
   "id": "fb65f7b2",
   "metadata": {
    "ExecuteTime": {
     "end_time": "2022-02-24T19:50:53.828385Z",
     "start_time": "2022-02-24T19:50:53.790598Z"
    }
   },
   "outputs": [
    {
     "data": {
      "text/plain": [
       "beluga                       7443\n",
       "blue_whale                   4830\n",
       "bottlenose_dolphin           9664\n",
       "bottlenose_dolpin            1117\n",
       "brydes_whale                  154\n",
       "commersons_dolphin             90\n",
       "common_dolphin                347\n",
       "cuviers_beaked_whale          341\n",
       "dusky_dolphin                3139\n",
       "false_killer_whale           3326\n",
       "fin_whale                    1324\n",
       "frasiers_dolphin               14\n",
       "globis                        116\n",
       "gray_whale                   1123\n",
       "humpback_whale               7392\n",
       "kiler_whale                   962\n",
       "killer_whale                 1493\n",
       "long_finned_pilot_whale       238\n",
       "melon_headed_whale           1689\n",
       "minke_whale                  1608\n",
       "pantropic_spotted_dolphin     145\n",
       "pilot_whale                   262\n",
       "pygmy_killer_whale             76\n",
       "rough_toothed_dolphin          60\n",
       "sei_whale                     428\n",
       "short_finned_pilot_whale      367\n",
       "southern_right_whale          866\n",
       "spinner_dolphin              1700\n",
       "spotted_dolphin               490\n",
       "white_sided_dolphin           229\n",
       "Name: species, dtype: int64"
      ]
     },
     "execution_count": 8,
     "metadata": {},
     "output_type": "execute_result"
    }
   ],
   "source": [
    "df_train['species'].value_counts().sort_index()"
   ]
  },
  {
   "cell_type": "code",
   "execution_count": 9,
   "id": "61b3e8d8",
   "metadata": {
    "ExecuteTime": {
     "end_time": "2022-02-24T19:50:53.843366Z",
     "start_time": "2022-02-24T19:50:53.830178Z"
    }
   },
   "outputs": [],
   "source": [
    "df_train['species'].replace({\"globis\": \"short_finned_pilot_whale\",\n",
    "                             \"pilot_whale\": \"short_finned_pilot_whale\",\n",
    "                             \"kiler_whale\": \"killer_whale\",\n",
    "                             \"bottlenose_dolpin\": \"bottlenose_dolphin\"},\n",
    "                            inplace=True)"
   ]
  },
  {
   "cell_type": "code",
   "execution_count": 10,
   "id": "3dc5c28d",
   "metadata": {
    "ExecuteTime": {
     "end_time": "2022-02-24T19:50:53.887563Z",
     "start_time": "2022-02-24T19:50:53.845326Z"
    }
   },
   "outputs": [
    {
     "data": {
      "text/html": [
       "<div>\n",
       "<style scoped>\n",
       "    .dataframe tbody tr th:only-of-type {\n",
       "        vertical-align: middle;\n",
       "    }\n",
       "\n",
       "    .dataframe tbody tr th {\n",
       "        vertical-align: top;\n",
       "    }\n",
       "\n",
       "    .dataframe thead th {\n",
       "        text-align: right;\n",
       "    }\n",
       "</style>\n",
       "<table border=\"1\" class=\"dataframe\">\n",
       "  <thead>\n",
       "    <tr style=\"text-align: right;\">\n",
       "      <th></th>\n",
       "      <th>image</th>\n",
       "      <th>species</th>\n",
       "      <th>individual_id</th>\n",
       "    </tr>\n",
       "  </thead>\n",
       "  <tbody>\n",
       "    <tr>\n",
       "      <th>0</th>\n",
       "      <td>00021adfb725ed.jpg</td>\n",
       "      <td>melon_headed_whale</td>\n",
       "      <td>cadddb1636b9</td>\n",
       "    </tr>\n",
       "    <tr>\n",
       "      <th>1</th>\n",
       "      <td>000562241d384d.jpg</td>\n",
       "      <td>humpback_whale</td>\n",
       "      <td>1a71fbb72250</td>\n",
       "    </tr>\n",
       "    <tr>\n",
       "      <th>2</th>\n",
       "      <td>0007c33415ce37.jpg</td>\n",
       "      <td>false_killer_whale</td>\n",
       "      <td>60008f293a2b</td>\n",
       "    </tr>\n",
       "    <tr>\n",
       "      <th>3</th>\n",
       "      <td>0007d9bca26a99.jpg</td>\n",
       "      <td>bottlenose_dolphin</td>\n",
       "      <td>4b00fe572063</td>\n",
       "    </tr>\n",
       "    <tr>\n",
       "      <th>4</th>\n",
       "      <td>00087baf5cef7a.jpg</td>\n",
       "      <td>humpback_whale</td>\n",
       "      <td>8e5253662392</td>\n",
       "    </tr>\n",
       "  </tbody>\n",
       "</table>\n",
       "</div>"
      ],
      "text/plain": [
       "                image             species individual_id\n",
       "0  00021adfb725ed.jpg  melon_headed_whale  cadddb1636b9\n",
       "1  000562241d384d.jpg      humpback_whale  1a71fbb72250\n",
       "2  0007c33415ce37.jpg  false_killer_whale  60008f293a2b\n",
       "3  0007d9bca26a99.jpg  bottlenose_dolphin  4b00fe572063\n",
       "4  00087baf5cef7a.jpg      humpback_whale  8e5253662392"
      ]
     },
     "execution_count": 10,
     "metadata": {},
     "output_type": "execute_result"
    }
   ],
   "source": [
    "df_train.head()"
   ]
  },
  {
   "cell_type": "code",
   "execution_count": 11,
   "id": "8d8542dd",
   "metadata": {
    "ExecuteTime": {
     "end_time": "2022-02-24T19:50:54.788044Z",
     "start_time": "2022-02-24T19:50:53.889723Z"
    }
   },
   "outputs": [
    {
     "data": {
      "image/png": "[encoded data removed]",
      "text/plain": [
       "<Figure size 720x288 with 1 Axes>"
      ]
     },
     "metadata": {
      "needs_background": "light"
     },
     "output_type": "display_data"
    }
   ],
   "source": [
    "train_val_count = df_train['species'].value_counts()\n",
    "\n",
    "fig, ax = plt.subplots(figsize=(10, 4))\n",
    "\n",
    "chart = sns.barplot(x=train_val_count.index, y=train_val_count.values, ax=ax)\n",
    "ax.set_title('Train species distribution')\n",
    "ax.set_xticklabels(ax.get_xticklabels(), rotation=90)\n",
    "plt.show()"
   ]
  },
  {
   "cell_type": "markdown",
   "id": "d0bb37ee",
   "metadata": {},
   "source": [
    "### Parameters"
   ]
  },
  {
   "cell_type": "code",
   "execution_count": 12,
   "id": "df3a9b27",
   "metadata": {
    "ExecuteTime": {
     "end_time": "2022-02-24T19:50:54.800582Z",
     "start_time": "2022-02-24T19:50:54.791615Z"
    }
   },
   "outputs": [],
   "source": [
    "work_dir = \"./jpeg-happywhale-384x384\"\n",
    "train_folder = \"train_images\"\n",
    "test_folder = \"test_images\"\n",
    "img_col = \"image\"\n",
    "label_col = \"individual_id\"\n",
    "specie_col = \"species\"\n",
    "\n",
    "target_col = specie_col\n",
    "num_classes = len(df_train[target_col].value_counts())"
   ]
  },
  {
   "cell_type": "code",
   "execution_count": 13,
   "id": "f78b6039",
   "metadata": {
    "ExecuteTime": {
     "end_time": "2022-02-24T19:50:58.656264Z",
     "start_time": "2022-02-24T19:50:54.802089Z"
    }
   },
   "outputs": [
    {
     "name": "stdout",
     "output_type": "stream",
     "text": [
      "Train images: 51033\n",
      "Test images: 27956\n"
     ]
    }
   ],
   "source": [
    "# print(os.listdir(WORK_DIR))\n",
    "print('Train images: %d' %len(os.listdir(\n",
    "    os.path.join(work_dir, train_folder))))\n",
    "print('Test images: %d' %len(os.listdir(\n",
    "    os.path.join(work_dir, test_folder))))"
   ]
  },
  {
   "cell_type": "code",
   "execution_count": 14,
   "id": "7f6c741c",
   "metadata": {
    "ExecuteTime": {
     "end_time": "2022-02-24T19:50:58.670325Z",
     "start_time": "2022-02-24T19:50:58.658998Z"
    }
   },
   "outputs": [],
   "source": [
    "specie_names = df_train['species'].value_counts().index\n",
    "specie_idx_map = {specie: idx for idx, specie in enumerate(specie_names)}\n",
    "idx_specie_map = {idx: specie for specie, idx in specie_idx_map.items()}"
   ]
  },
  {
   "cell_type": "code",
   "execution_count": 15,
   "id": "ac69a832",
   "metadata": {
    "ExecuteTime": {
     "end_time": "2022-02-24T19:50:58.794940Z",
     "start_time": "2022-02-24T19:50:58.672114Z"
    }
   },
   "outputs": [],
   "source": [
    "label_names = df_train['individual_id'].value_counts().index\n",
    "label_idx_map = {label: idx for idx, label in enumerate(label_names)}\n",
    "idx_label_map = {idx: label for label, idx in label_idx_map.items()}"
   ]
  },
  {
   "cell_type": "code",
   "execution_count": 16,
   "id": "fd4cdd80",
   "metadata": {
    "ExecuteTime": {
     "end_time": "2022-02-24T19:50:58.822916Z",
     "start_time": "2022-02-24T19:50:58.797001Z"
    }
   },
   "outputs": [],
   "source": [
    "df_train[\"species_idx\"] = df_train['species'].map(specie_idx_map)\n",
    "df_train[\"individual_idx\"] = df_train['individual_id'].map(label_idx_map)"
   ]
  },
  {
   "cell_type": "code",
   "execution_count": 17,
   "id": "a286a062",
   "metadata": {
    "ExecuteTime": {
     "end_time": "2022-02-24T19:50:58.836096Z",
     "start_time": "2022-02-24T19:50:58.824564Z"
    }
   },
   "outputs": [
    {
     "data": {
      "text/html": [
       "<div>\n",
       "<style scoped>\n",
       "    .dataframe tbody tr th:only-of-type {\n",
       "        vertical-align: middle;\n",
       "    }\n",
       "\n",
       "    .dataframe tbody tr th {\n",
       "        vertical-align: top;\n",
       "    }\n",
       "\n",
       "    .dataframe thead th {\n",
       "        text-align: right;\n",
       "    }\n",
       "</style>\n",
       "<table border=\"1\" class=\"dataframe\">\n",
       "  <thead>\n",
       "    <tr style=\"text-align: right;\">\n",
       "      <th></th>\n",
       "      <th>image</th>\n",
       "      <th>species</th>\n",
       "      <th>individual_id</th>\n",
       "      <th>species_idx</th>\n",
       "      <th>individual_idx</th>\n",
       "    </tr>\n",
       "  </thead>\n",
       "  <tbody>\n",
       "    <tr>\n",
       "      <th>0</th>\n",
       "      <td>00021adfb725ed.jpg</td>\n",
       "      <td>melon_headed_whale</td>\n",
       "      <td>cadddb1636b9</td>\n",
       "      <td>8</td>\n",
       "      <td>6441</td>\n",
       "    </tr>\n",
       "    <tr>\n",
       "      <th>1</th>\n",
       "      <td>000562241d384d.jpg</td>\n",
       "      <td>humpback_whale</td>\n",
       "      <td>1a71fbb72250</td>\n",
       "      <td>2</td>\n",
       "      <td>4879</td>\n",
       "    </tr>\n",
       "    <tr>\n",
       "      <th>2</th>\n",
       "      <td>0007c33415ce37.jpg</td>\n",
       "      <td>false_killer_whale</td>\n",
       "      <td>60008f293a2b</td>\n",
       "      <td>4</td>\n",
       "      <td>70</td>\n",
       "    </tr>\n",
       "    <tr>\n",
       "      <th>3</th>\n",
       "      <td>0007d9bca26a99.jpg</td>\n",
       "      <td>bottlenose_dolphin</td>\n",
       "      <td>4b00fe572063</td>\n",
       "      <td>0</td>\n",
       "      <td>69</td>\n",
       "    </tr>\n",
       "    <tr>\n",
       "      <th>4</th>\n",
       "      <td>00087baf5cef7a.jpg</td>\n",
       "      <td>humpback_whale</td>\n",
       "      <td>8e5253662392</td>\n",
       "      <td>2</td>\n",
       "      <td>112</td>\n",
       "    </tr>\n",
       "  </tbody>\n",
       "</table>\n",
       "</div>"
      ],
      "text/plain": [
       "                image             species individual_id  species_idx  \\\n",
       "0  00021adfb725ed.jpg  melon_headed_whale  cadddb1636b9            8   \n",
       "1  000562241d384d.jpg      humpback_whale  1a71fbb72250            2   \n",
       "2  0007c33415ce37.jpg  false_killer_whale  60008f293a2b            4   \n",
       "3  0007d9bca26a99.jpg  bottlenose_dolphin  4b00fe572063            0   \n",
       "4  00087baf5cef7a.jpg      humpback_whale  8e5253662392            2   \n",
       "\n",
       "   individual_idx  \n",
       "0            6441  \n",
       "1            4879  \n",
       "2              70  \n",
       "3              69  \n",
       "4             112  "
      ]
     },
     "execution_count": 17,
     "metadata": {},
     "output_type": "execute_result"
    }
   ],
   "source": [
    "df_train.head()"
   ]
  },
  {
   "cell_type": "code",
   "execution_count": 192,
   "id": "c35d4cf6",
   "metadata": {
    "ExecuteTime": {
     "end_time": "2022-02-25T15:38:57.532981Z",
     "start_time": "2022-02-25T15:38:57.526791Z"
    }
   },
   "outputs": [],
   "source": [
    "batch_size = 32\n",
    "steps_per_epoch = len(df_train) * 0.8 / batch_size\n",
    "validation_steps = len(df_train) * 0.2 / batch_size\n",
    "epochs = 4\n",
    "target_size = 256"
   ]
  },
  {
   "cell_type": "markdown",
   "id": "937749f4",
   "metadata": {},
   "source": [
    "### Data augmentation and prepare data generators"
   ]
  },
  {
   "cell_type": "code",
   "execution_count": 19,
   "id": "cf7c64ea",
   "metadata": {
    "ExecuteTime": {
     "end_time": "2022-02-24T19:51:12.069282Z",
     "start_time": "2022-02-24T19:50:58.846718Z"
    }
   },
   "outputs": [
    {
     "name": "stdout",
     "output_type": "stream",
     "text": [
      "Found 40827 validated image filenames belonging to 26 classes.\n",
      "Found 10206 validated image filenames belonging to 26 classes.\n"
     ]
    }
   ],
   "source": [
    "# Training set\n",
    "train_datagen = ImageDataGenerator(rescale=1./255,\n",
    "                                   validation_split=0.2,\n",
    "                                   preprocessing_function=None,\n",
    "                                   rotation_range=45,\n",
    "                                   zoom_range=0.2,\n",
    "                                   brightness_range=[0.6, 1.4],\n",
    "                                   channel_shift_range=0.7,\n",
    "                                   horizontal_flip=True,\n",
    "                                   vertical_flip=True,\n",
    "                                   fill_mode='nearest',\n",
    "                                   shear_range=0.1,\n",
    "                                   height_shift_range=0.1,\n",
    "                                   width_shift_range=0.1)\n",
    "\n",
    "train_generator = (\n",
    "    train_datagen.\n",
    "    flow_from_dataframe(df_train,\n",
    "                        directory = os.path.join(work_dir, train_folder),\n",
    "                        subset=\"training\",\n",
    "                        x_col=img_col,\n",
    "                        y_col=target_col,\n",
    "                        color_mode='rgb',\n",
    "                        target_size=(target_size, target_size),\n",
    "                        batch_size=batch_size,\n",
    "                        class_mode=\"categorical\")\n",
    ")\n",
    "\n",
    "# Validation set\n",
    "val_datagen = ImageDataGenerator(rescale=1./255,\n",
    "                                 validation_split=0.2)\n",
    "\n",
    "val_generator = (\n",
    "    val_datagen.\n",
    "    flow_from_dataframe(df_train,\n",
    "                        directory=os.path.join(work_dir, train_folder),\n",
    "                        subset=\"validation\",\n",
    "                        color_mode='rgb',\n",
    "                        x_col=img_col,\n",
    "                        y_col=target_col,\n",
    "                        target_size=(target_size, target_size),\n",
    "                        batch_size=batch_size,\n",
    "                        class_mode=\"categorical\")\n",
    ")"
   ]
  },
  {
   "cell_type": "markdown",
   "id": "afb8f45b",
   "metadata": {},
   "source": [
    "## Model Architecture Comparison"
   ]
  },
  {
   "cell_type": "markdown",
   "id": "44aeb703",
   "metadata": {},
   "source": [
    "### Baseline CNN Model"
   ]
  },
  {
   "cell_type": "code",
   "execution_count": 137,
   "id": "07417976",
   "metadata": {
    "ExecuteTime": {
     "end_time": "2022-02-23T21:11:38.173545Z",
     "start_time": "2022-02-23T21:11:38.158541Z"
    }
   },
   "outputs": [],
   "source": [
    "tf.keras.backend.clear_session()"
   ]
  },
  {
   "cell_type": "code",
   "execution_count": 138,
   "id": "67c07b78",
   "metadata": {
    "ExecuteTime": {
     "end_time": "2022-02-23T21:11:46.053289Z",
     "start_time": "2022-02-23T21:11:45.953634Z"
    }
   },
   "outputs": [
    {
     "name": "stdout",
     "output_type": "stream",
     "text": [
      "Model: \"sequential\"\n",
      "_________________________________________________________________\n",
      "Layer (type)                 Output Shape              Param #   \n",
      "=================================================================\n",
      "conv2d (Conv2D)              (None, 256, 256, 32)      3488      \n",
      "_________________________________________________________________\n",
      "batch_normalization (BatchNo (None, 256, 256, 32)      128       \n",
      "_________________________________________________________________\n",
      "activation (Activation)      (None, 256, 256, 32)      0         \n",
      "_________________________________________________________________\n",
      "max_pooling2d (MaxPooling2D) (None, 128, 128, 32)      0         \n",
      "_________________________________________________________________\n",
      "conv2d_1 (Conv2D)            (None, 128, 128, 64)      18496     \n",
      "_________________________________________________________________\n",
      "max_pooling2d_1 (MaxPooling2 (None, 42, 42, 64)        0         \n",
      "_________________________________________________________________\n",
      "flatten (Flatten)            (None, 112896)            0         \n",
      "_________________________________________________________________\n",
      "dense (Dense)                (None, 256)               28901632  \n",
      "_________________________________________________________________\n",
      "dropout (Dropout)            (None, 256)               0         \n",
      "_________________________________________________________________\n",
      "dense_1 (Dense)              (None, 26)                6682      \n",
      "=================================================================\n",
      "Total params: 28,930,426\n",
      "Trainable params: 28,930,362\n",
      "Non-trainable params: 64\n",
      "_________________________________________________________________\n"
     ]
    }
   ],
   "source": [
    "model = models.Sequential()\n",
    "\n",
    "model.add(layers.Conv2D(filters=32, kernel_size=6, strides=1, padding='same',\n",
    "                 input_shape=(target_size, target_size, 3)))\n",
    "model.add(layers.BatchNormalization(axis=3))\n",
    "model.add(layers.Activation('relu'))\n",
    "model.add(layers.MaxPooling2D(pool_size=(2, 2)))\n",
    "\n",
    "model.add(layers.Conv2D(filters=64, kernel_size=3, strides=1,  padding='same',\n",
    "                        activation='relu'))\n",
    "model.add(layers.MaxPooling2D(pool_size=(3, 3)))\n",
    "\n",
    "model.add(layers.Flatten())\n",
    "model.add(layers.Dense(256, activation=\"relu\"))\n",
    "model.add(layers.Dropout(0.5))\n",
    "\n",
    "model.add(layers.Dense(num_classes, activation='softmax'))\n",
    "\n",
    "model.summary()"
   ]
  },
  {
   "cell_type": "code",
   "execution_count": 139,
   "id": "70c16711",
   "metadata": {
    "ExecuteTime": {
     "end_time": "2022-02-23T21:11:46.063884Z",
     "start_time": "2022-02-23T21:11:46.055451Z"
    }
   },
   "outputs": [],
   "source": [
    "model.compile(loss='categorical_crossentropy',\n",
    "              optimizer=\"adam\",\n",
    "              metrics=['accuracy'])"
   ]
  },
  {
   "cell_type": "code",
   "execution_count": 140,
   "id": "b5e66c59",
   "metadata": {
    "ExecuteTime": {
     "end_time": "2022-02-23T22:22:00.218418Z",
     "start_time": "2022-02-23T21:11:46.066192Z"
    }
   },
   "outputs": [
    {
     "name": "stdout",
     "output_type": "stream",
     "text": [
      "Epoch 1/4\n",
      "1275/1275 [==============================] - 1921s 2s/step - loss: 2.6327 - accuracy: 0.3315 - val_loss: 2.3206 - val_accuracy: 0.3727\n",
      "Epoch 2/4\n",
      "1275/1275 [==============================] - 766s 601ms/step - loss: 2.0935 - accuracy: 0.3948 - val_loss: 1.8187 - val_accuracy: 0.4699\n",
      "Epoch 3/4\n",
      "1275/1275 [==============================] - 762s 597ms/step - loss: 1.9844 - accuracy: 0.4185 - val_loss: 1.8154 - val_accuracy: 0.4430\n",
      "Epoch 4/4\n",
      "1275/1275 [==============================] - 765s 599ms/step - loss: 1.8964 - accuracy: 0.4391 - val_loss: 1.6203 - val_accuracy: 0.5039\n",
      "CPU times: user 57min 33s, sys: 52.7 s, total: 58min 26s\n",
      "Wall time: 1h 10min 14s\n"
     ]
    }
   ],
   "source": [
    "%%time\n",
    "\n",
    "history = model.fit(\n",
    "    train_generator,\n",
    "    steps_per_epoch=steps_per_epoch,\n",
    "    epochs=epochs,\n",
    "    validation_data=val_generator,\n",
    "    validation_steps=validation_steps\n",
    ")\n"
   ]
  },
  {
   "cell_type": "code",
   "execution_count": 142,
   "id": "52b91e01",
   "metadata": {
    "ExecuteTime": {
     "end_time": "2022-02-24T03:01:02.560995Z",
     "start_time": "2022-02-24T03:00:54.369309Z"
    }
   },
   "outputs": [],
   "source": [
    "model.save(work_dir + '/baseline_cnn.h5')\n",
    "\n",
    "import pickle\n",
    "with open(work_dir + '/baseline_cnn_hist.pickle', 'wb') as handle:\n",
    "    pickle.dump(history.history, handle, protocol=pickle.HIGHEST_PROTOCOL)"
   ]
  },
  {
   "cell_type": "code",
   "execution_count": 20,
   "id": "6f38892f",
   "metadata": {
    "ExecuteTime": {
     "end_time": "2022-02-24T19:51:12.079142Z",
     "start_time": "2022-02-24T19:51:12.071885Z"
    }
   },
   "outputs": [],
   "source": [
    "def plot_results(history):\n",
    "    fig, (ax1, ax2) = plt.subplots(1, 2, figsize=(15,5))\n",
    "\n",
    "    # plot accuracy \n",
    "    acc = history.history['accuracy']\n",
    "    val_acc = history.history['val_accuracy']\n",
    "    epochs = range(1, len(acc) + 1)\n",
    "\n",
    "    ax1.plot(epochs, acc, 'ko', label='Training acc')\n",
    "    ax1.plot(epochs, val_acc, 'k', label='Validation acc')\n",
    "    ax1.set_title('Training and validation accuracy')\n",
    "    ax1.set_xlabel('Epochs')\n",
    "    ax1.legend()\n",
    "\n",
    "    # plot loss\n",
    "    loss = history.history['loss']\n",
    "    val_loss = history.history['val_loss']\n",
    "\n",
    "    ax2.plot(epochs, loss, 'ro', label='Training loss')\n",
    "    ax2.plot(epochs, val_loss, 'r', label='Validation loss')\n",
    "    ax2.set_title('Training and validation loss')\n",
    "    ax2.set_xlabel('Epochs')\n",
    "    ax2.legend()"
   ]
  },
  {
   "cell_type": "code",
   "execution_count": 146,
   "id": "c90c75fe",
   "metadata": {
    "ExecuteTime": {
     "end_time": "2022-02-24T03:31:54.656268Z",
     "start_time": "2022-02-24T03:31:54.226161Z"
    }
   },
   "outputs": [
    {
     "data": {
      "image/png": "[encoded data removed]",
      "text/plain": [
       "<Figure size 1080x360 with 2 Axes>"
      ]
     },
     "metadata": {
      "needs_background": "light"
     },
     "output_type": "display_data"
    }
   ],
   "source": [
    "plot_results(history)"
   ]
  },
  {
   "cell_type": "markdown",
   "id": "6fb79526",
   "metadata": {},
   "source": [
    "### Transfer Learning with Inception V3"
   ]
  },
  {
   "cell_type": "code",
   "execution_count": 229,
   "id": "6c5384eb",
   "metadata": {
    "ExecuteTime": {
     "end_time": "2022-02-24T11:28:09.184582Z",
     "start_time": "2022-02-24T11:28:09.099199Z"
    }
   },
   "outputs": [],
   "source": [
    "tf.keras.backend.clear_session()"
   ]
  },
  {
   "cell_type": "markdown",
   "id": "62f297a0",
   "metadata": {},
   "source": [
    "#### Train only top layer"
   ]
  },
  {
   "cell_type": "code",
   "execution_count": 230,
   "id": "4ae9c7b1",
   "metadata": {
    "ExecuteTime": {
     "end_time": "2022-02-24T11:28:11.963355Z",
     "start_time": "2022-02-24T11:28:09.196479Z"
    }
   },
   "outputs": [
    {
     "name": "stdout",
     "output_type": "stream",
     "text": [
      "Model: \"sequential\"\n",
      "_________________________________________________________________\n",
      "Layer (type)                 Output Shape              Param #   \n",
      "=================================================================\n",
      "inception_v3 (Functional)    (None, 6, 6, 2048)        21802784  \n",
      "_________________________________________________________________\n",
      "max_pooling2d_4 (MaxPooling2 (None, 3, 3, 2048)        0         \n",
      "_________________________________________________________________\n",
      "flatten (Flatten)            (None, 18432)             0         \n",
      "_________________________________________________________________\n",
      "dense (Dense)                (None, 256)               4718848   \n",
      "_________________________________________________________________\n",
      "dropout (Dropout)            (None, 256)               0         \n",
      "_________________________________________________________________\n",
      "dense_1 (Dense)              (None, 26)                6682      \n",
      "=================================================================\n",
      "Total params: 26,528,314\n",
      "Trainable params: 4,725,530\n",
      "Non-trainable params: 21,802,784\n",
      "_________________________________________________________________\n"
     ]
    }
   ],
   "source": [
    "inception_v3 = tf.keras.applications.InceptionV3(\n",
    "    input_shape=(target_size, target_size, 3),\n",
    "    include_top=False,\n",
    "    weights = \"imagenet\")\n",
    "\n",
    "inception_v3.trainable = False\n",
    "\n",
    "model_inv3 = models.Sequential()\n",
    "\n",
    "model_inv3.add(inception_v3)\n",
    "model_inv3.add(layers.MaxPooling2D(pool_size=(2, 2)))\n",
    "model_inv3.add(layers.Flatten())\n",
    "model_inv3.add(layers.Dense(256, activation=\"relu\"))\n",
    "model_inv3.add(layers.Dropout(0.5))\n",
    "model_inv3.add(layers.Dense(num_classes, activation='softmax'))\n",
    "\n",
    "model_inv3.summary()\n",
    "\n",
    "model_inv3.compile(loss='categorical_crossentropy',\n",
    "                   optimizer=\"adam\",\n",
    "                   metrics=['accuracy'])"
   ]
  },
  {
   "cell_type": "code",
   "execution_count": 231,
   "id": "bbb5bb3a",
   "metadata": {
    "ExecuteTime": {
     "end_time": "2022-02-24T13:12:34.179097Z",
     "start_time": "2022-02-24T11:28:11.965195Z"
    }
   },
   "outputs": [
    {
     "name": "stdout",
     "output_type": "stream",
     "text": [
      "Epoch 1/4\n",
      "1275/1275 [==============================] - 3405s 3s/step - loss: 2.4507 - accuracy: 0.3299 - val_loss: 1.6597 - val_accuracy: 0.5834\n",
      "Epoch 2/4\n",
      "1275/1275 [==============================] - 956s 750ms/step - loss: 2.0679 - accuracy: 0.3652 - val_loss: 1.5370 - val_accuracy: 0.5440\n",
      "Epoch 3/4\n",
      "1275/1275 [==============================] - 955s 748ms/step - loss: 1.9729 - accuracy: 0.4002 - val_loss: 1.5126 - val_accuracy: 0.5510\n",
      "Epoch 4/4\n",
      "1275/1275 [==============================] - 940s 737ms/step - loss: 1.9493 - accuracy: 0.4092 - val_loss: 1.4943 - val_accuracy: 0.5603\n",
      "CPU times: user 1h 15min 29s, sys: 1min 11s, total: 1h 16min 40s\n",
      "Wall time: 1h 44min 22s\n"
     ]
    }
   ],
   "source": [
    "%%time\n",
    "\n",
    "history_inv3 = model_inv3.fit(\n",
    "    train_generator,\n",
    "    steps_per_epoch=steps_per_epoch,\n",
    "    epochs=epochs,\n",
    "    validation_data=val_generator,\n",
    "    validation_steps=validation_steps\n",
    ")"
   ]
  },
  {
   "cell_type": "markdown",
   "id": "9a4cc28c",
   "metadata": {},
   "source": [
    "#### Unfreeze part of base model and retrain"
   ]
  },
  {
   "cell_type": "code",
   "execution_count": 232,
   "id": "f9da8957",
   "metadata": {
    "ExecuteTime": {
     "end_time": "2022-02-24T13:12:34.240159Z",
     "start_time": "2022-02-24T13:12:34.185092Z"
    }
   },
   "outputs": [
    {
     "name": "stdout",
     "output_type": "stream",
     "text": [
      "Model: \"sequential\"\n",
      "_________________________________________________________________\n",
      "Layer (type)                 Output Shape              Param #   \n",
      "=================================================================\n",
      "inception_v3 (Functional)    (None, 6, 6, 2048)        21802784  \n",
      "_________________________________________________________________\n",
      "max_pooling2d_4 (MaxPooling2 (None, 3, 3, 2048)        0         \n",
      "_________________________________________________________________\n",
      "flatten (Flatten)            (None, 18432)             0         \n",
      "_________________________________________________________________\n",
      "dense (Dense)                (None, 256)               4718848   \n",
      "_________________________________________________________________\n",
      "dropout (Dropout)            (None, 256)               0         \n",
      "_________________________________________________________________\n",
      "dense_1 (Dense)              (None, 26)                6682      \n",
      "=================================================================\n",
      "Total params: 26,528,314\n",
      "Trainable params: 15,840,410\n",
      "Non-trainable params: 10,687,904\n",
      "_________________________________________________________________\n"
     ]
    }
   ],
   "source": [
    "inception_v3.trainable = True\n",
    "\n",
    "for layer in inception_v3.layers[:249]:\n",
    "    layer.trainable = False\n",
    "for layer in inception_v3.layers[249:]:\n",
    "    layer.trainable = True\n",
    "\n",
    "model_inv3.compile(loss='categorical_crossentropy',\n",
    "                   optimizer=\"adam\",\n",
    "                   metrics=['accuracy'])\n",
    "\n",
    "model_inv3.summary()"
   ]
  },
  {
   "cell_type": "code",
   "execution_count": 233,
   "id": "a3c99d36",
   "metadata": {
    "ExecuteTime": {
     "end_time": "2022-02-24T14:14:37.088432Z",
     "start_time": "2022-02-24T13:12:34.241946Z"
    }
   },
   "outputs": [
    {
     "name": "stdout",
     "output_type": "stream",
     "text": [
      "Epoch 1/4\n",
      "1275/1275 [==============================] - 937s 731ms/step - loss: 1.8199 - accuracy: 0.4698 - val_loss: 1.3411 - val_accuracy: 0.5914\n",
      "Epoch 2/4\n",
      "1275/1275 [==============================] - 928s 727ms/step - loss: 1.5445 - accuracy: 0.5334 - val_loss: 1.1771 - val_accuracy: 0.6120\n",
      "Epoch 3/4\n",
      "1275/1275 [==============================] - 934s 732ms/step - loss: 1.3385 - accuracy: 0.5895 - val_loss: 0.9947 - val_accuracy: 0.7124\n",
      "Epoch 4/4\n",
      "1275/1275 [==============================] - 923s 723ms/step - loss: 1.1306 - accuracy: 0.6644 - val_loss: 0.8278 - val_accuracy: 0.7659\n",
      "CPU times: user 1h 5min 34s, sys: 58.9 s, total: 1h 6min 33s\n",
      "Wall time: 1h 2min 2s\n"
     ]
    }
   ],
   "source": [
    "%%time\n",
    "\n",
    "history_inv3 = model_inv3.fit(\n",
    "    train_generator,\n",
    "    steps_per_epoch=steps_per_epoch,\n",
    "    epochs=epochs,\n",
    "    validation_data=val_generator,\n",
    "    validation_steps=validation_steps\n",
    ")"
   ]
  },
  {
   "cell_type": "code",
   "execution_count": 234,
   "id": "8acb46f1",
   "metadata": {
    "ExecuteTime": {
     "end_time": "2022-02-24T14:14:42.694700Z",
     "start_time": "2022-02-24T14:14:37.094975Z"
    }
   },
   "outputs": [],
   "source": [
    "model_inv3.save(work_dir + '/inception_v3.h5')\n",
    "\n",
    "with open(work_dir + '/inception_v3_hist.pickle', 'wb') as handle:\n",
    "    pickle.dump(history_inv3.history, handle, protocol=pickle.HIGHEST_PROTOCOL)"
   ]
  },
  {
   "cell_type": "code",
   "execution_count": 235,
   "id": "974eb469",
   "metadata": {
    "ExecuteTime": {
     "end_time": "2022-02-24T14:14:45.408715Z",
     "start_time": "2022-02-24T14:14:42.698318Z"
    }
   },
   "outputs": [
    {
     "data": {
      "image/png": "[encoded data removed]",
      "text/plain": [
       "<Figure size 1080x360 with 2 Axes>"
      ]
     },
     "metadata": {
      "needs_background": "light"
     },
     "output_type": "display_data"
    }
   ],
   "source": [
    "plot_results(history_inv3)"
   ]
  },
  {
   "cell_type": "markdown",
   "id": "f9b32fb4",
   "metadata": {},
   "source": [
    "### Transfer Learning with VGG16 + Fine-Tuning"
   ]
  },
  {
   "cell_type": "code",
   "execution_count": 108,
   "id": "97f307df",
   "metadata": {
    "ExecuteTime": {
     "end_time": "2022-02-25T07:42:21.051651Z",
     "start_time": "2022-02-25T07:42:20.963574Z"
    }
   },
   "outputs": [],
   "source": [
    "tf.keras.backend.clear_session()"
   ]
  },
  {
   "cell_type": "markdown",
   "id": "d69cd8eb",
   "metadata": {},
   "source": [
    "#### Train only top layer"
   ]
  },
  {
   "cell_type": "code",
   "execution_count": 109,
   "id": "d52a2204",
   "metadata": {
    "ExecuteTime": {
     "end_time": "2022-02-25T07:42:21.590711Z",
     "start_time": "2022-02-25T07:42:21.059176Z"
    }
   },
   "outputs": [
    {
     "name": "stdout",
     "output_type": "stream",
     "text": [
      "Model: \"sequential\"\n",
      "_________________________________________________________________\n",
      "Layer (type)                 Output Shape              Param #   \n",
      "=================================================================\n",
      "vgg16 (Functional)           (None, 8, 8, 512)         14714688  \n",
      "_________________________________________________________________\n",
      "flatten (Flatten)            (None, 32768)             0         \n",
      "_________________________________________________________________\n",
      "dense (Dense)                (None, 256)               8388864   \n",
      "_________________________________________________________________\n",
      "dropout (Dropout)            (None, 256)               0         \n",
      "_________________________________________________________________\n",
      "dense_1 (Dense)              (None, 26)                6682      \n",
      "=================================================================\n",
      "Total params: 23,110,234\n",
      "Trainable params: 8,395,546\n",
      "Non-trainable params: 14,714,688\n",
      "_________________________________________________________________\n"
     ]
    }
   ],
   "source": [
    "vgg16 = tf.keras.applications.VGG16(weights='imagenet',\n",
    "                  include_top=False,\n",
    "                  input_shape=(target_size, target_size, 3))\n",
    "\n",
    "vgg16.trainable = False\n",
    "\n",
    "model_vgg16 = models.Sequential()\n",
    "\n",
    "model_vgg16.add(vgg16)\n",
    "model_vgg16.add(layers.Flatten())\n",
    "model_vgg16.add(layers.Dense(256, activation=\"relu\"))\n",
    "model_vgg16.add(layers.Dropout(0.5))\n",
    "model_vgg16.add(layers.Dense(num_classes, activation='softmax'))\n",
    "\n",
    "model_vgg16.summary()\n",
    "\n",
    "model_vgg16.compile(loss='categorical_crossentropy',\n",
    "                   optimizer=\"adam\",\n",
    "                   metrics=['accuracy'])"
   ]
  },
  {
   "cell_type": "code",
   "execution_count": 110,
   "id": "23ae7f98",
   "metadata": {
    "ExecuteTime": {
     "end_time": "2022-02-25T08:55:07.485647Z",
     "start_time": "2022-02-25T07:42:21.593846Z"
    }
   },
   "outputs": [
    {
     "name": "stdout",
     "output_type": "stream",
     "text": [
      "Epoch 1/4\n",
      "1275/1275 [==============================] - 1057s 828ms/step - loss: 2.0172 - accuracy: 0.4044 - val_loss: 1.3413 - val_accuracy: 0.5918\n",
      "Epoch 2/4\n",
      "1275/1275 [==============================] - 1118s 876ms/step - loss: 1.7539 - accuracy: 0.4655 - val_loss: 1.2772 - val_accuracy: 0.5977\n",
      "Epoch 3/4\n",
      "1275/1275 [==============================] - 1113s 873ms/step - loss: 1.7003 - accuracy: 0.4728 - val_loss: 1.2412 - val_accuracy: 0.6112\n",
      "Epoch 4/4\n",
      "1275/1275 [==============================] - 1076s 843ms/step - loss: 1.6745 - accuracy: 0.4807 - val_loss: 1.2509 - val_accuracy: 0.5978\n",
      "CPU times: user 1h 10min 17s, sys: 2min 58s, total: 1h 13min 16s\n",
      "Wall time: 1h 12min 45s\n"
     ]
    }
   ],
   "source": [
    "%%time\n",
    "\n",
    "history_vgg16 = model_vgg16.fit(\n",
    "    train_generator,\n",
    "    steps_per_epoch=steps_per_epoch,\n",
    "    epochs=epochs,\n",
    "    validation_data=val_generator,\n",
    "    validation_steps=validation_steps\n",
    ")"
   ]
  },
  {
   "cell_type": "markdown",
   "id": "c2c6324c",
   "metadata": {},
   "source": [
    "#### Unfreeze part of base model and retrain"
   ]
  },
  {
   "cell_type": "code",
   "execution_count": 111,
   "id": "08e84bff",
   "metadata": {
    "ExecuteTime": {
     "end_time": "2022-02-25T08:55:07.527648Z",
     "start_time": "2022-02-25T08:55:07.489066Z"
    }
   },
   "outputs": [
    {
     "name": "stdout",
     "output_type": "stream",
     "text": [
      "Model: \"vgg16\"\n",
      "_________________________________________________________________\n",
      "Layer (type)                 Output Shape              Param #   \n",
      "=================================================================\n",
      "input_1 (InputLayer)         [(None, 256, 256, 3)]     0         \n",
      "_________________________________________________________________\n",
      "block1_conv1 (Conv2D)        (None, 256, 256, 64)      1792      \n",
      "_________________________________________________________________\n",
      "block1_conv2 (Conv2D)        (None, 256, 256, 64)      36928     \n",
      "_________________________________________________________________\n",
      "block1_pool (MaxPooling2D)   (None, 128, 128, 64)      0         \n",
      "_________________________________________________________________\n",
      "block2_conv1 (Conv2D)        (None, 128, 128, 128)     73856     \n",
      "_________________________________________________________________\n",
      "block2_conv2 (Conv2D)        (None, 128, 128, 128)     147584    \n",
      "_________________________________________________________________\n",
      "block2_pool (MaxPooling2D)   (None, 64, 64, 128)       0         \n",
      "_________________________________________________________________\n",
      "block3_conv1 (Conv2D)        (None, 64, 64, 256)       295168    \n",
      "_________________________________________________________________\n",
      "block3_conv2 (Conv2D)        (None, 64, 64, 256)       590080    \n",
      "_________________________________________________________________\n",
      "block3_conv3 (Conv2D)        (None, 64, 64, 256)       590080    \n",
      "_________________________________________________________________\n",
      "block3_pool (MaxPooling2D)   (None, 32, 32, 256)       0         \n",
      "_________________________________________________________________\n",
      "block4_conv1 (Conv2D)        (None, 32, 32, 512)       1180160   \n",
      "_________________________________________________________________\n",
      "block4_conv2 (Conv2D)        (None, 32, 32, 512)       2359808   \n",
      "_________________________________________________________________\n",
      "block4_conv3 (Conv2D)        (None, 32, 32, 512)       2359808   \n",
      "_________________________________________________________________\n",
      "block4_pool (MaxPooling2D)   (None, 16, 16, 512)       0         \n",
      "_________________________________________________________________\n",
      "block5_conv1 (Conv2D)        (None, 16, 16, 512)       2359808   \n",
      "_________________________________________________________________\n",
      "block5_conv2 (Conv2D)        (None, 16, 16, 512)       2359808   \n",
      "_________________________________________________________________\n",
      "block5_conv3 (Conv2D)        (None, 16, 16, 512)       2359808   \n",
      "_________________________________________________________________\n",
      "block5_pool (MaxPooling2D)   (None, 8, 8, 512)         0         \n",
      "=================================================================\n",
      "Total params: 14,714,688\n",
      "Trainable params: 7,079,424\n",
      "Non-trainable params: 7,635,264\n",
      "_________________________________________________________________\n"
     ]
    }
   ],
   "source": [
    "vgg16.trainable = True\n",
    "\n",
    "for layer in vgg16.layers[:15]:\n",
    "    layer.trainable = False\n",
    "for layer in vgg16.layers[15:]:\n",
    "    layer.trainable = True\n",
    "    \n",
    "model_vgg16.compile(loss='categorical_crossentropy',\n",
    "                   optimizer=optimizers.Adam(learning_rate=1e-5),\n",
    "                   metrics=['accuracy'])\n",
    "\n",
    "vgg16.summary()"
   ]
  },
  {
   "cell_type": "code",
   "execution_count": 112,
   "id": "53d981cb",
   "metadata": {
    "ExecuteTime": {
     "end_time": "2022-02-25T10:05:30.469861Z",
     "start_time": "2022-02-25T08:55:07.531222Z"
    }
   },
   "outputs": [
    {
     "name": "stdout",
     "output_type": "stream",
     "text": [
      "Epoch 1/4\n",
      "1275/1275 [==============================] - 1044s 818ms/step - loss: 1.5381 - accuracy: 0.5197 - val_loss: 1.0567 - val_accuracy: 0.6627\n",
      "Epoch 2/4\n",
      "1275/1275 [==============================] - 1064s 834ms/step - loss: 1.4236 - accuracy: 0.5568 - val_loss: 1.0146 - val_accuracy: 0.6731\n",
      "Epoch 3/4\n",
      "1275/1275 [==============================] - 1059s 830ms/step - loss: 1.3607 - accuracy: 0.5792 - val_loss: 0.9543 - val_accuracy: 0.6924\n",
      "Epoch 4/4\n",
      "1275/1275 [==============================] - 1054s 826ms/step - loss: 1.3085 - accuracy: 0.5962 - val_loss: 0.9079 - val_accuracy: 0.7119\n",
      "CPU times: user 1h 9min 29s, sys: 2min 33s, total: 1h 12min 3s\n",
      "Wall time: 1h 10min 22s\n"
     ]
    }
   ],
   "source": [
    "%%time\n",
    "\n",
    "history_vgg16 = model_vgg16.fit(\n",
    "    train_generator,\n",
    "    steps_per_epoch=steps_per_epoch,\n",
    "    epochs=epochs,\n",
    "    validation_data=val_generator,\n",
    "    validation_steps=validation_steps\n",
    ")"
   ]
  },
  {
   "cell_type": "code",
   "execution_count": 113,
   "id": "0849a7c7",
   "metadata": {
    "ExecuteTime": {
     "end_time": "2022-02-25T10:05:31.330682Z",
     "start_time": "2022-02-25T10:05:30.473692Z"
    }
   },
   "outputs": [],
   "source": [
    "model_vgg16.save(work_dir + '/vgg16.h5')\n",
    "\n",
    "with open(work_dir + '/vgg16_hist.pickle', 'wb') as handle:\n",
    "    pickle.dump(history_vgg16.history, handle, protocol=pickle.HIGHEST_PROTOCOL)"
   ]
  },
  {
   "cell_type": "code",
   "execution_count": 114,
   "id": "c16de3cd",
   "metadata": {
    "ExecuteTime": {
     "end_time": "2022-02-25T10:05:31.818047Z",
     "start_time": "2022-02-25T10:05:31.333770Z"
    }
   },
   "outputs": [
    {
     "data": {
      "image/png": "[encoded data removed]",
      "text/plain": [
       "<Figure size 1080x360 with 2 Axes>"
      ]
     },
     "metadata": {
      "needs_background": "light"
     },
     "output_type": "display_data"
    }
   ],
   "source": [
    "plot_results(history_vgg16)"
   ]
  },
  {
   "cell_type": "code",
   "execution_count": null,
   "id": "f3ccbeae",
   "metadata": {},
   "outputs": [],
   "source": []
  },
  {
   "cell_type": "markdown",
   "id": "1c37f99e",
   "metadata": {},
   "source": [
    "### Transfer Learning with EfficientNet"
   ]
  },
  {
   "cell_type": "code",
   "execution_count": 34,
   "id": "289b62eb",
   "metadata": {
    "ExecuteTime": {
     "end_time": "2022-02-24T22:13:31.129220Z",
     "start_time": "2022-02-24T22:13:31.112491Z"
    }
   },
   "outputs": [],
   "source": [
    "tf.keras.backend.clear_session()"
   ]
  },
  {
   "cell_type": "markdown",
   "id": "40a57da7",
   "metadata": {},
   "source": [
    "#### Train only top layer"
   ]
  },
  {
   "cell_type": "code",
   "execution_count": 35,
   "id": "497ac99a",
   "metadata": {
    "ExecuteTime": {
     "end_time": "2022-02-24T22:13:33.670869Z",
     "start_time": "2022-02-24T22:13:31.132658Z"
    }
   },
   "outputs": [
    {
     "name": "stdout",
     "output_type": "stream",
     "text": [
      "Model: \"sequential\"\n",
      "_________________________________________________________________\n",
      "Layer (type)                 Output Shape              Param #   \n",
      "=================================================================\n",
      "efficientnetb0 (Functional)  (None, 8, 8, 1280)        4049571   \n",
      "_________________________________________________________________\n",
      "avg_pool (GlobalAveragePooli (None, 1280)              0         \n",
      "_________________________________________________________________\n",
      "batch_normalization (BatchNo (None, 1280)              5120      \n",
      "_________________________________________________________________\n",
      "dense (Dense)                (None, 256)               327936    \n",
      "_________________________________________________________________\n",
      "dropout (Dropout)            (None, 256)               0         \n",
      "_________________________________________________________________\n",
      "dense_1 (Dense)              (None, 26)                6682      \n",
      "=================================================================\n",
      "Total params: 4,389,309\n",
      "Trainable params: 337,178\n",
      "Non-trainable params: 4,052,131\n",
      "_________________________________________________________________\n"
     ]
    }
   ],
   "source": [
    "effnetb0 = tf.keras.applications.EfficientNetB0(\n",
    "    include_top=False,\n",
    "    weights='imagenet',\n",
    "    input_shape=(target_size, target_size, 3))\n",
    "\n",
    "effnetb0.trainable = False\n",
    "\n",
    "model_effb0 = models.Sequential()\n",
    "\n",
    "model_effb0.add(effnetb0)\n",
    "model_effb0.add(layers.GlobalAveragePooling2D(name=\"avg_pool\"))\n",
    "model_effb0.add(layers.BatchNormalization())\n",
    "model_effb0.add(layers.Dense(256, activation=\"relu\"))\n",
    "model_effb0.add(layers.Dropout(0.5))\n",
    "model_effb0.add(layers.Dense(num_classes, activation='softmax'))\n",
    "\n",
    "model_effb0.summary()\n",
    "\n",
    "model_effb0.compile(loss='categorical_crossentropy',\n",
    "                   optimizer=\"adam\",\n",
    "                   metrics=['accuracy'])"
   ]
  },
  {
   "cell_type": "code",
   "execution_count": 36,
   "id": "be68e665",
   "metadata": {
    "ExecuteTime": {
     "end_time": "2022-02-24T23:10:35.474588Z",
     "start_time": "2022-02-24T22:13:33.673161Z"
    }
   },
   "outputs": [
    {
     "name": "stdout",
     "output_type": "stream",
     "text": [
      "Epoch 1/4\n",
      "1275/1275 [==============================] - 858s 668ms/step - loss: 2.7274 - accuracy: 0.1833 - val_loss: 2.5645 - val_accuracy: 0.2124\n",
      "Epoch 2/4\n",
      "1275/1275 [==============================] - 857s 672ms/step - loss: 2.5744 - accuracy: 0.2078 - val_loss: 2.5304 - val_accuracy: 0.2116\n",
      "Epoch 3/4\n",
      "1275/1275 [==============================] - 854s 669ms/step - loss: 2.5583 - accuracy: 0.2086 - val_loss: 2.5276 - val_accuracy: 0.2116\n",
      "Epoch 4/4\n",
      "1275/1275 [==============================] - 852s 668ms/step - loss: 2.5503 - accuracy: 0.2093 - val_loss: 2.5245 - val_accuracy: 0.2116\n",
      "CPU times: user 57min 55s, sys: 58.1 s, total: 58min 53s\n",
      "Wall time: 57min 1s\n"
     ]
    }
   ],
   "source": [
    "%%time\n",
    "\n",
    "\n",
    "history_effb0 = model_effb0.fit(\n",
    "    train_generator,\n",
    "    steps_per_epoch=steps_per_epoch,\n",
    "    epochs=epochs,\n",
    "    validation_data=val_generator,\n",
    "    validation_steps=validation_steps\n",
    ")"
   ]
  },
  {
   "cell_type": "markdown",
   "id": "e5a37369",
   "metadata": {},
   "source": [
    "#### Unfreeze part of base model and retrain"
   ]
  },
  {
   "cell_type": "code",
   "execution_count": 37,
   "id": "f4a191fe",
   "metadata": {
    "ExecuteTime": {
     "end_time": "2022-02-24T23:10:35.518865Z",
     "start_time": "2022-02-24T23:10:35.479774Z"
    }
   },
   "outputs": [
    {
     "name": "stdout",
     "output_type": "stream",
     "text": [
      "Model: \"sequential\"\n",
      "_________________________________________________________________\n",
      "Layer (type)                 Output Shape              Param #   \n",
      "=================================================================\n",
      "efficientnetb0 (Functional)  (None, 8, 8, 1280)        4049571   \n",
      "_________________________________________________________________\n",
      "avg_pool (GlobalAveragePooli (None, 1280)              0         \n",
      "_________________________________________________________________\n",
      "batch_normalization (BatchNo (None, 1280)              5120      \n",
      "_________________________________________________________________\n",
      "dense (Dense)                (None, 256)               327936    \n",
      "_________________________________________________________________\n",
      "dropout (Dropout)            (None, 256)               0         \n",
      "_________________________________________________________________\n",
      "dense_1 (Dense)              (None, 26)                6682      \n",
      "=================================================================\n",
      "Total params: 4,389,309\n",
      "Trainable params: 1,688,138\n",
      "Non-trainable params: 2,701,171\n",
      "_________________________________________________________________\n"
     ]
    }
   ],
   "source": [
    "effnetb0.trainable = True\n",
    "\n",
    "for layer in effnetb0.layers[:-20]:\n",
    "    layer.trainable = False\n",
    "for layer in effnetb0.layers[-20:]:\n",
    "    if not isinstance(layer, layers.BatchNormalization):\n",
    "        layer.trainable = True\n",
    "        \n",
    "model_effb0.compile(loss='categorical_crossentropy',\n",
    "                    optimizer=\"adam\",\n",
    "                    metrics=['accuracy'])\n",
    "\n",
    "model_effb0.summary()"
   ]
  },
  {
   "cell_type": "code",
   "execution_count": 38,
   "id": "c2141ac3",
   "metadata": {
    "ExecuteTime": {
     "end_time": "2022-02-25T00:08:53.938252Z",
     "start_time": "2022-02-24T23:10:35.520537Z"
    }
   },
   "outputs": [
    {
     "name": "stdout",
     "output_type": "stream",
     "text": [
      "Epoch 1/4\n",
      "1275/1275 [==============================] - 851s 663ms/step - loss: 2.5639 - accuracy: 0.2076 - val_loss: 2.5249 - val_accuracy: 0.2116\n",
      "Epoch 2/4\n",
      "1275/1275 [==============================] - 868s 680ms/step - loss: 2.5430 - accuracy: 0.2099 - val_loss: 2.5263 - val_accuracy: 0.2116\n",
      "Epoch 3/4\n",
      "1275/1275 [==============================] - 892s 699ms/step - loss: 2.5378 - accuracy: 0.2107 - val_loss: 2.5241 - val_accuracy: 0.2116\n",
      "Epoch 4/4\n",
      "1275/1275 [==============================] - 886s 694ms/step - loss: 2.5340 - accuracy: 0.2108 - val_loss: 2.5229 - val_accuracy: 0.2116\n",
      "CPU times: user 1h 2s, sys: 1min 20s, total: 1h 1min 22s\n",
      "Wall time: 58min 18s\n"
     ]
    }
   ],
   "source": [
    "%%time\n",
    "\n",
    "\n",
    "history_effb0 = model_effb0.fit(\n",
    "    train_generator,\n",
    "    steps_per_epoch=steps_per_epoch,\n",
    "    epochs=epochs,\n",
    "    validation_data=val_generator,\n",
    "    validation_steps=validation_steps\n",
    ")"
   ]
  },
  {
   "cell_type": "code",
   "execution_count": 39,
   "id": "028e33d8",
   "metadata": {
    "ExecuteTime": {
     "end_time": "2022-02-25T00:08:54.506337Z",
     "start_time": "2022-02-25T00:08:53.940909Z"
    }
   },
   "outputs": [
    {
     "name": "stderr",
     "output_type": "stream",
     "text": [
      "/home/msds2022/nlapid/.conda/envs/msds2022-ml3/lib/python3.9/site-packages/keras/utils/generic_utils.py:494: CustomMaskWarning: Custom mask layers require a config and must override get_config. When loading, the custom mask layer must be passed to the custom_objects argument.\n",
      "  warnings.warn('Custom mask layers require a config and must override '\n"
     ]
    }
   ],
   "source": [
    "model_effb0.save(work_dir + '/effb0.h5')\n",
    "\n",
    "with open(work_dir + '/effb0_hist.pickle', 'wb') as handle:\n",
    "    pickle.dump(history_effb0.history, handle, protocol=pickle.HIGHEST_PROTOCOL)"
   ]
  },
  {
   "cell_type": "code",
   "execution_count": 40,
   "id": "9d975a01",
   "metadata": {
    "ExecuteTime": {
     "end_time": "2022-02-25T00:08:54.963787Z",
     "start_time": "2022-02-25T00:08:54.509190Z"
    }
   },
   "outputs": [
    {
     "data": {
      "image/png": "[encoded data removed]",
      "text/plain": [
       "<Figure size 1080x360 with 2 Axes>"
      ]
     },
     "metadata": {
      "needs_background": "light"
     },
     "output_type": "display_data"
    }
   ],
   "source": [
    "plot_results(history_effb0)"
   ]
  },
  {
   "cell_type": "markdown",
   "id": "103cd41b",
   "metadata": {},
   "source": [
    "### CoAtNet + Fine-Tuning"
   ]
  },
  {
   "cell_type": "code",
   "execution_count": 46,
   "id": "5e5831af",
   "metadata": {
    "ExecuteTime": {
     "end_time": "2022-02-25T04:19:00.257728Z",
     "start_time": "2022-02-25T04:18:58.231210Z"
    }
   },
   "outputs": [],
   "source": [
    "# !pip install -U keras-cv-attention-models\n",
    "import keras_cv_attention_models"
   ]
  },
  {
   "cell_type": "markdown",
   "id": "3767c3f8",
   "metadata": {},
   "source": [
    "#### Adjust model inputs to match CoAtNet weights"
   ]
  },
  {
   "cell_type": "code",
   "execution_count": 79,
   "id": "0c1e9497",
   "metadata": {
    "ExecuteTime": {
     "end_time": "2022-02-25T05:07:53.793895Z",
     "start_time": "2022-02-25T05:07:46.062881Z"
    }
   },
   "outputs": [
    {
     "name": "stdout",
     "output_type": "stream",
     "text": [
      "Found 40827 validated image filenames belonging to 26 classes.\n",
      "Found 10206 validated image filenames belonging to 26 classes.\n"
     ]
    }
   ],
   "source": [
    "coat_target_size = 224\n",
    "\n",
    "coat_train_gen = (\n",
    "    train_datagen.\n",
    "    flow_from_dataframe(df_train,\n",
    "                        directory = os.path.join(work_dir, train_folder),\n",
    "                        subset=\"training\",\n",
    "                        x_col=img_col,\n",
    "                        y_col=target_col,\n",
    "                        color_mode='rgb',\n",
    "                        target_size=(coat_target_size, coat_target_size),\n",
    "                        batch_size=batch_size,\n",
    "                        class_mode=\"categorical\")\n",
    ")\n",
    "\n",
    "coat_val_gen = (\n",
    "    val_datagen.\n",
    "    flow_from_dataframe(df_train,\n",
    "                        directory=os.path.join(work_dir, train_folder),\n",
    "                        subset=\"validation\",\n",
    "                        color_mode='rgb',\n",
    "                        x_col=img_col,\n",
    "                        y_col=target_col,\n",
    "                        target_size=(coat_target_size, coat_target_size),\n",
    "                        batch_size=batch_size,\n",
    "                        class_mode=\"categorical\")\n",
    ")"
   ]
  },
  {
   "cell_type": "markdown",
   "id": "a1222350",
   "metadata": {},
   "source": [
    "#### Train top layer"
   ]
  },
  {
   "cell_type": "code",
   "execution_count": 80,
   "id": "3ad48049",
   "metadata": {
    "ExecuteTime": {
     "end_time": "2022-02-25T05:07:57.493694Z",
     "start_time": "2022-02-25T05:07:57.481923Z"
    }
   },
   "outputs": [],
   "source": [
    "tf.keras.backend.clear_session()"
   ]
  },
  {
   "cell_type": "code",
   "execution_count": 81,
   "id": "7a8d405d",
   "metadata": {
    "ExecuteTime": {
     "end_time": "2022-02-25T05:08:04.419752Z",
     "start_time": "2022-02-25T05:08:01.960217Z"
    }
   },
   "outputs": [
    {
     "name": "stdout",
     "output_type": "stream",
     "text": [
      ">>>> Load pretrained from: /home/msds2022/nlapid/.keras/models/coatnet0_224_imagenet.h5\n",
      "Model: \"sequential\"\n",
      "_________________________________________________________________\n",
      "Layer (type)                 Output Shape              Param #   \n",
      "=================================================================\n",
      "coatnet0 (Functional)        (None, 7, 7, 768)         23075178  \n",
      "_________________________________________________________________\n",
      "flatten (Flatten)            (None, 37632)             0         \n",
      "_________________________________________________________________\n",
      "dense (Dense)                (None, 256)               9634048   \n",
      "_________________________________________________________________\n",
      "dropout (Dropout)            (None, 256)               0         \n",
      "_________________________________________________________________\n",
      "dense_1 (Dense)              (None, 26)                6682      \n",
      "=================================================================\n",
      "Total params: 32,715,908\n",
      "Trainable params: 9,640,730\n",
      "Non-trainable params: 23,075,178\n",
      "_________________________________________________________________\n"
     ]
    }
   ],
   "source": [
    "coatnet0 = keras_cv_attention_models.coatnet.CoAtNet0(\n",
    "    num_classes=0,    # to exclude top layers\n",
    "    input_shape=(coat_target_size, coat_target_size, 3))\n",
    "\n",
    "coatnet0.trainable = False\n",
    "\n",
    "model_coat0 = models.Sequential()\n",
    "\n",
    "model_coat0.add(coatnet0)\n",
    "model_coat0.add(layers.Flatten())\n",
    "model_coat0.add(layers.Dense(256, activation=\"relu\"))\n",
    "model_coat0.add(layers.Dropout(0.5))\n",
    "model_coat0.add(layers.Dense(num_classes, activation='softmax'))\n",
    "\n",
    "model_coat0.summary()\n",
    "\n",
    "model_coat0.compile(loss='categorical_crossentropy',\n",
    "                   optimizer=\"adam\",\n",
    "                   metrics=['accuracy'])"
   ]
  },
  {
   "cell_type": "code",
   "execution_count": 82,
   "id": "973faf21",
   "metadata": {
    "ExecuteTime": {
     "end_time": "2022-02-25T06:01:54.548528Z",
     "start_time": "2022-02-25T05:08:29.606446Z"
    }
   },
   "outputs": [
    {
     "name": "stdout",
     "output_type": "stream",
     "text": [
      "Epoch 1/4\n",
      "1275/1275 [==============================] - 766s 594ms/step - loss: 1.9548 - accuracy: 0.4941 - val_loss: 1.1778 - val_accuracy: 0.6244\n",
      "Epoch 2/4\n",
      "1275/1275 [==============================] - 799s 626ms/step - loss: 1.5249 - accuracy: 0.5502 - val_loss: 0.9901 - val_accuracy: 0.6783\n",
      "Epoch 3/4\n",
      "1275/1275 [==============================] - 792s 620ms/step - loss: 1.4185 - accuracy: 0.5711 - val_loss: 0.9658 - val_accuracy: 0.6963\n",
      "Epoch 4/4\n",
      "1275/1275 [==============================] - 848s 664ms/step - loss: 1.3750 - accuracy: 0.5893 - val_loss: 0.9660 - val_accuracy: 0.7038\n",
      "CPU times: user 56min 34s, sys: 1min 33s, total: 58min 8s\n",
      "Wall time: 53min 24s\n"
     ]
    }
   ],
   "source": [
    "%%time\n",
    "\n",
    "\n",
    "history_coat0 = model_coat0.fit(\n",
    "    coat_train_gen,\n",
    "    steps_per_epoch=steps_per_epoch,\n",
    "    epochs=epochs,\n",
    "    validation_data=coat_val_gen,\n",
    "    validation_steps=validation_steps\n",
    ")"
   ]
  },
  {
   "cell_type": "code",
   "execution_count": 106,
   "id": "a9927652",
   "metadata": {
    "ExecuteTime": {
     "end_time": "2022-02-25T07:35:14.531333Z",
     "start_time": "2022-02-25T07:35:13.090709Z"
    }
   },
   "outputs": [],
   "source": [
    "model_coat0.save(work_dir + '/coat0.h5')\n",
    "\n",
    "with open(work_dir + '/coat0_hist.pickle', 'wb') as handle:\n",
    "    pickle.dump(history_coat0.history, handle, protocol=pickle.HIGHEST_PROTOCOL)"
   ]
  },
  {
   "cell_type": "code",
   "execution_count": 107,
   "id": "84c8bdde",
   "metadata": {
    "ExecuteTime": {
     "end_time": "2022-02-25T07:35:15.122361Z",
     "start_time": "2022-02-25T07:35:14.535284Z"
    }
   },
   "outputs": [
    {
     "data": {
      "image/png": "[encoded data removed]",
      "text/plain": [
       "<Figure size 1080x360 with 2 Axes>"
      ]
     },
     "metadata": {
      "needs_background": "light"
     },
     "output_type": "display_data"
    }
   ],
   "source": [
    "plot_results(history_coat0)"
   ]
  },
  {
   "cell_type": "markdown",
   "id": "ccc89281",
   "metadata": {},
   "source": [
    "#### Unfreeze part of base model and retrain"
   ]
  },
  {
   "cell_type": "code",
   "execution_count": 104,
   "id": "f677aa63",
   "metadata": {
    "ExecuteTime": {
     "end_time": "2022-02-25T07:16:51.533927Z",
     "start_time": "2022-02-25T07:16:51.472854Z"
    }
   },
   "outputs": [
    {
     "name": "stdout",
     "output_type": "stream",
     "text": [
      "Model: \"sequential\"\n",
      "_________________________________________________________________\n",
      "Layer (type)                 Output Shape              Param #   \n",
      "=================================================================\n",
      "coatnet0 (Functional)        (None, 7, 7, 768)         23075178  \n",
      "_________________________________________________________________\n",
      "flatten (Flatten)            (None, 37632)             0         \n",
      "_________________________________________________________________\n",
      "dense (Dense)                (None, 256)               9634048   \n",
      "_________________________________________________________________\n",
      "dropout (Dropout)            (None, 256)               0         \n",
      "_________________________________________________________________\n",
      "dense_1 (Dense)              (None, 26)                6682      \n",
      "=================================================================\n",
      "Total params: 32,715,908\n",
      "Trainable params: 14,950,682\n",
      "Non-trainable params: 17,765,226\n",
      "_________________________________________________________________\n"
     ]
    }
   ],
   "source": [
    "coatnet0.trainable = True\n",
    "\n",
    "for layer in coatnet0.layers[:-7]:\n",
    "    layer.trainable = False\n",
    "for layer in coatnet0.layers[-7:]:\n",
    "    if not isinstance(layer, layers.BatchNormalization):\n",
    "        layer.trainable = True\n",
    "        \n",
    "model_coat0.compile(loss='categorical_crossentropy',\n",
    "                    optimizer=optimizers.Adam(learning_rate=1e-5),\n",
    "                    metrics=['accuracy'])\n",
    "\n",
    "model_coat0.summary()"
   ]
  },
  {
   "cell_type": "code",
   "execution_count": 101,
   "id": "8990a48b",
   "metadata": {
    "ExecuteTime": {
     "end_time": "2022-02-25T07:13:17.216378Z",
     "start_time": "2022-02-25T06:19:42.737589Z"
    }
   },
   "outputs": [
    {
     "name": "stdout",
     "output_type": "stream",
     "text": [
      "Epoch 1/4\n",
      "1275/1275 [==============================] - 808s 628ms/step - loss: 1.2456 - accuracy: 0.6223 - val_loss: 0.8758 - val_accuracy: 0.7189\n",
      "Epoch 2/4\n",
      "1275/1275 [==============================] - 800s 627ms/step - loss: 1.2021 - accuracy: 0.6326 - val_loss: 0.8625 - val_accuracy: 0.7233\n",
      "Epoch 3/4\n",
      "1275/1275 [==============================] - 799s 626ms/step - loss: 1.1795 - accuracy: 0.6386 - val_loss: 0.8404 - val_accuracy: 0.7292\n",
      "Epoch 4/4\n",
      "1275/1275 [==============================] - 807s 632ms/step - loss: 1.1513 - accuracy: 0.6467 - val_loss: 0.8427 - val_accuracy: 0.7282\n",
      "CPU times: user 57min 29s, sys: 1min 26s, total: 58min 56s\n",
      "Wall time: 53min 34s\n"
     ]
    }
   ],
   "source": [
    "%%time\n",
    "\n",
    "\n",
    "history_coat0 = model_coat0.fit(\n",
    "    coat_train_gen,\n",
    "    steps_per_epoch=steps_per_epoch,\n",
    "    epochs=epochs,\n",
    "    validation_data=coat_val_gen,\n",
    "    validation_steps=validation_steps\n",
    ")"
   ]
  },
  {
   "cell_type": "code",
   "execution_count": 102,
   "id": "cda5446e",
   "metadata": {
    "ExecuteTime": {
     "end_time": "2022-02-25T07:13:18.513824Z",
     "start_time": "2022-02-25T07:13:17.219716Z"
    }
   },
   "outputs": [
    {
     "name": "stderr",
     "output_type": "stream",
     "text": [
      "/home/msds2022/nlapid/.conda/envs/msds2022-ml3/lib/python3.9/site-packages/keras/utils/generic_utils.py:494: CustomMaskWarning: Custom mask layers require a config and must override get_config. When loading, the custom mask layer must be passed to the custom_objects argument.\n",
      "  warnings.warn('Custom mask layers require a config and must override '\n"
     ]
    }
   ],
   "source": [
    "model_coat0.save(work_dir + '/coat0_ft.h5')\n",
    "\n",
    "with open(work_dir + '/coat0_hist_ft.pickle', 'wb') as handle:\n",
    "    pickle.dump(history_coat0.history, handle, protocol=pickle.HIGHEST_PROTOCOL)"
   ]
  },
  {
   "cell_type": "markdown",
   "id": "a7fd1745",
   "metadata": {},
   "source": [
    "### LeViT"
   ]
  },
  {
   "cell_type": "code",
   "execution_count": 193,
   "id": "a3733eed",
   "metadata": {
    "ExecuteTime": {
     "end_time": "2022-02-25T15:39:17.762595Z",
     "start_time": "2022-02-25T15:39:17.723275Z"
    }
   },
   "outputs": [],
   "source": [
    "tf.keras.backend.clear_session()"
   ]
  },
  {
   "cell_type": "code",
   "execution_count": 194,
   "id": "624f08e0",
   "metadata": {
    "ExecuteTime": {
     "end_time": "2022-02-25T15:39:17.768935Z",
     "start_time": "2022-02-25T15:39:17.765578Z"
    }
   },
   "outputs": [],
   "source": [
    "levit_target_size = 224\n",
    "levit_train_gen = coat_train_gen\n",
    "levit_val_gen = coat_val_gen"
   ]
  },
  {
   "cell_type": "markdown",
   "id": "7c7a0571",
   "metadata": {},
   "source": [
    "#### Train top layer"
   ]
  },
  {
   "cell_type": "code",
   "execution_count": 195,
   "id": "cd4a2652",
   "metadata": {
    "ExecuteTime": {
     "end_time": "2022-02-25T15:39:24.289820Z",
     "start_time": "2022-02-25T15:39:17.771539Z"
    }
   },
   "outputs": [
    {
     "name": "stdout",
     "output_type": "stream",
     "text": [
      ">>>> Load pretrained from: /home/msds2022/nlapid/.keras/models/levit128_imagenet.h5\n",
      "Model: \"sequential\"\n",
      "_________________________________________________________________\n",
      "Layer (type)                 Output Shape              Param #   \n",
      "=================================================================\n",
      "levit128 (Functional)        (None, 16, 384)           8489472   \n",
      "_________________________________________________________________\n",
      "flatten (Flatten)            (None, 6144)              0         \n",
      "_________________________________________________________________\n",
      "dense (Dense)                (None, 256)               1573120   \n",
      "_________________________________________________________________\n",
      "dropout (Dropout)            (None, 256)               0         \n",
      "_________________________________________________________________\n",
      "dense_1 (Dense)              (None, 26)                6682      \n",
      "=================================================================\n",
      "Total params: 10,069,274\n",
      "Trainable params: 1,579,802\n",
      "Non-trainable params: 8,489,472\n",
      "_________________________________________________________________\n"
     ]
    }
   ],
   "source": [
    "levit192 = keras_cv_attention_models.levit.LeViT128(\n",
    "    num_classes=0,\n",
    "    input_shape=(levit_target_size, levit_target_size, 3))\n",
    "\n",
    "levit192.trainable = False\n",
    "\n",
    "model_levit = models.Sequential()\n",
    "\n",
    "model_levit.add(levit192)\n",
    "model_levit.add(layers.Flatten())\n",
    "model_levit.add(layers.Dense(256, activation=\"relu\"))\n",
    "model_levit.add(layers.Dropout(0.5))\n",
    "model_levit.add(layers.Dense(num_classes, activation='softmax'))\n",
    "\n",
    "model_levit.summary()\n",
    "\n",
    "model_levit.compile(loss='categorical_crossentropy',\n",
    "                   optimizer=\"adam\",\n",
    "                   metrics=['accuracy'])"
   ]
  },
  {
   "cell_type": "code",
   "execution_count": 196,
   "id": "291fe8d7",
   "metadata": {
    "ExecuteTime": {
     "end_time": "2022-02-25T16:33:37.545875Z",
     "start_time": "2022-02-25T15:39:24.291959Z"
    }
   },
   "outputs": [
    {
     "name": "stdout",
     "output_type": "stream",
     "text": [
      "Epoch 1/4\n",
      "1275/1275 [==============================] - 792s 613ms/step - loss: 1.9241 - accuracy: 0.5336 - val_loss: 1.1031 - val_accuracy: 0.6681\n",
      "Epoch 2/4\n",
      "1275/1275 [==============================] - 769s 603ms/step - loss: 1.4098 - accuracy: 0.6063 - val_loss: 0.9783 - val_accuracy: 0.7054\n",
      "Epoch 3/4\n",
      "1275/1275 [==============================] - 923s 724ms/step - loss: 1.3294 - accuracy: 0.6247 - val_loss: 0.9055 - val_accuracy: 0.7185\n",
      "Epoch 4/4\n",
      "1275/1275 [==============================] - 768s 602ms/step - loss: 1.2846 - accuracy: 0.6381 - val_loss: 0.8670 - val_accuracy: 0.7436\n",
      "CPU times: user 57min 17s, sys: 1min 30s, total: 58min 48s\n",
      "Wall time: 54min 13s\n"
     ]
    }
   ],
   "source": [
    "%%time\n",
    "\n",
    "\n",
    "history_levit = model_levit.fit(\n",
    "    levit_train_gen,\n",
    "    steps_per_epoch=steps_per_epoch,\n",
    "    epochs=epochs,\n",
    "    validation_data=levit_val_gen,\n",
    "    validation_steps=validation_steps\n",
    ")"
   ]
  },
  {
   "cell_type": "markdown",
   "id": "9a5723fa",
   "metadata": {},
   "source": [
    "#### Unfreeze part of base model and retrain"
   ]
  },
  {
   "cell_type": "code",
   "execution_count": 198,
   "id": "2b9f39a1",
   "metadata": {
    "ExecuteTime": {
     "end_time": "2022-02-25T16:43:07.027902Z",
     "start_time": "2022-02-25T16:43:06.940455Z"
    }
   },
   "outputs": [
    {
     "name": "stdout",
     "output_type": "stream",
     "text": [
      "Model: \"sequential\"\n",
      "_________________________________________________________________\n",
      "Layer (type)                 Output Shape              Param #   \n",
      "=================================================================\n",
      "levit128 (Functional)        (None, 16, 384)           8489472   \n",
      "_________________________________________________________________\n",
      "flatten (Flatten)            (None, 6144)              0         \n",
      "_________________________________________________________________\n",
      "dense (Dense)                (None, 256)               1573120   \n",
      "_________________________________________________________________\n",
      "dropout (Dropout)            (None, 256)               0         \n",
      "_________________________________________________________________\n",
      "dense_1 (Dense)              (None, 26)                6682      \n",
      "=================================================================\n",
      "Total params: 10,069,274\n",
      "Trainable params: 2,171,930\n",
      "Non-trainable params: 7,897,344\n",
      "_________________________________________________________________\n"
     ]
    }
   ],
   "source": [
    "levit192.trainable = True\n",
    "\n",
    "for layer in levit192.layers[:-8]:\n",
    "    layer.trainable = False\n",
    "for layer in levit192.layers[-8:]:\n",
    "    if not isinstance(layer, layers.BatchNormalization):\n",
    "        layer.trainable = True\n",
    "        \n",
    "model_levit.compile(loss='categorical_crossentropy',\n",
    "                    optimizer=optimizers.Adam(learning_rate=1e-3),\n",
    "                    metrics=['accuracy'])\n",
    "\n",
    "model_levit.summary()"
   ]
  },
  {
   "cell_type": "code",
   "execution_count": 199,
   "id": "0214d239",
   "metadata": {
    "ExecuteTime": {
     "end_time": "2022-02-25T17:35:38.252497Z",
     "start_time": "2022-02-25T16:43:07.030405Z"
    }
   },
   "outputs": [
    {
     "name": "stdout",
     "output_type": "stream",
     "text": [
      "Epoch 1/4\n",
      "1275/1275 [==============================] - 783s 605ms/step - loss: 1.3369 - accuracy: 0.6352 - val_loss: 1.0246 - val_accuracy: 0.7306\n",
      "Epoch 2/4\n",
      "1275/1275 [==============================] - 837s 656ms/step - loss: 1.2532 - accuracy: 0.6494 - val_loss: 1.0429 - val_accuracy: 0.7057\n",
      "Epoch 3/4\n",
      "1275/1275 [==============================] - 761s 596ms/step - loss: 1.2172 - accuracy: 0.6634 - val_loss: 1.1788 - val_accuracy: 0.7089\n",
      "Epoch 4/4\n",
      "1275/1275 [==============================] - 770s 604ms/step - loss: 1.1885 - accuracy: 0.6730 - val_loss: 0.9109 - val_accuracy: 0.7543\n",
      "CPU times: user 58min 11s, sys: 1min 37s, total: 59min 48s\n",
      "Wall time: 52min 31s\n"
     ]
    }
   ],
   "source": [
    "%%time\n",
    "\n",
    "\n",
    "history_levit = model_levit.fit(\n",
    "    levit_train_gen,\n",
    "    steps_per_epoch=steps_per_epoch,\n",
    "    epochs=epochs,\n",
    "    validation_data=levit_val_gen,\n",
    "    validation_steps=validation_steps\n",
    ")"
   ]
  },
  {
   "cell_type": "code",
   "execution_count": 200,
   "id": "964c9e8a",
   "metadata": {
    "ExecuteTime": {
     "end_time": "2022-02-25T17:35:38.882104Z",
     "start_time": "2022-02-25T17:35:38.255721Z"
    }
   },
   "outputs": [],
   "source": [
    "model_levit.save(work_dir + '/levit.h5')\n",
    "\n",
    "with open(work_dir + '/levit_hist.pickle', 'wb') as handle:\n",
    "    pickle.dump(history_levit.history, handle, protocol=pickle.HIGHEST_PROTOCOL)"
   ]
  },
  {
   "cell_type": "code",
   "execution_count": null,
   "id": "12402e7d",
   "metadata": {},
   "outputs": [],
   "source": []
  },
  {
   "cell_type": "markdown",
   "id": "4846e48e",
   "metadata": {},
   "source": [
    "## Tuning the CoAtNet Model"
   ]
  },
  {
   "cell_type": "code",
   "execution_count": 172,
   "id": "a282e458",
   "metadata": {
    "ExecuteTime": {
     "end_time": "2022-02-25T12:11:53.950803Z",
     "start_time": "2022-02-25T12:11:53.937188Z"
    }
   },
   "outputs": [],
   "source": [
    "batch_size = 64\n",
    "steps_per_epoch = len(df_train) * 0.8 / batch_size\n",
    "validation_steps = len(df_train) * 0.2 / batch_size\n",
    "epochs = 10\n",
    "\n",
    "target_col = specie_col\n",
    "# target_col = label_col\n",
    "num_classes = len(df_train[target_col].value_counts())\n",
    "\n",
    "coat_target_size = 224"
   ]
  },
  {
   "cell_type": "code",
   "execution_count": 173,
   "id": "860de79d",
   "metadata": {
    "ExecuteTime": {
     "end_time": "2022-02-25T12:12:01.019560Z",
     "start_time": "2022-02-25T12:11:53.953992Z"
    }
   },
   "outputs": [
    {
     "name": "stdout",
     "output_type": "stream",
     "text": [
      "Found 40827 validated image filenames belonging to 26 classes.\n",
      "Found 10206 validated image filenames belonging to 26 classes.\n"
     ]
    }
   ],
   "source": [
    "coat_train_gen = (\n",
    "    train_datagen.\n",
    "    flow_from_dataframe(df_train,\n",
    "                        directory = os.path.join(work_dir, train_folder),\n",
    "                        subset=\"training\",\n",
    "                        x_col=img_col,\n",
    "                        y_col=target_col,\n",
    "                        color_mode='rgb',\n",
    "                        target_size=(coat_target_size, coat_target_size),\n",
    "                        batch_size=batch_size,\n",
    "                        class_mode=\"categorical\")\n",
    ")\n",
    "\n",
    "coat_val_gen = (\n",
    "    val_datagen.\n",
    "    flow_from_dataframe(df_train,\n",
    "                        directory=os.path.join(work_dir, train_folder),\n",
    "                        subset=\"validation\",\n",
    "                        color_mode='rgb',\n",
    "                        x_col=img_col,\n",
    "                        y_col=target_col,\n",
    "                        target_size=(coat_target_size, coat_target_size),\n",
    "                        batch_size=batch_size,\n",
    "                        class_mode=\"categorical\")\n",
    ")"
   ]
  },
  {
   "cell_type": "code",
   "execution_count": 174,
   "id": "19681a0c",
   "metadata": {
    "ExecuteTime": {
     "end_time": "2022-02-25T12:12:01.062765Z",
     "start_time": "2022-02-25T12:12:01.022071Z"
    }
   },
   "outputs": [],
   "source": [
    "tf.keras.backend.clear_session()"
   ]
  },
  {
   "cell_type": "code",
   "execution_count": 175,
   "id": "ce63cb2c",
   "metadata": {
    "ExecuteTime": {
     "end_time": "2022-02-25T12:12:03.435505Z",
     "start_time": "2022-02-25T12:12:01.066112Z"
    }
   },
   "outputs": [
    {
     "name": "stdout",
     "output_type": "stream",
     "text": [
      ">>>> Load pretrained from: /home/msds2022/nlapid/.keras/models/coatnet0_224_imagenet.h5\n",
      "Model: \"sequential\"\n",
      "_________________________________________________________________\n",
      "Layer (type)                 Output Shape              Param #   \n",
      "=================================================================\n",
      "coatnet0 (Functional)        (None, 7, 7, 768)         23075178  \n",
      "_________________________________________________________________\n",
      "flatten (Flatten)            (None, 37632)             0         \n",
      "_________________________________________________________________\n",
      "dense (Dense)                (None, 256)               9634048   \n",
      "_________________________________________________________________\n",
      "dropout (Dropout)            (None, 256)               0         \n",
      "_________________________________________________________________\n",
      "dense_1 (Dense)              (None, 26)                6682      \n",
      "=================================================================\n",
      "Total params: 32,715,908\n",
      "Trainable params: 9,640,730\n",
      "Non-trainable params: 23,075,178\n",
      "_________________________________________________________________\n"
     ]
    }
   ],
   "source": [
    "coatnet0_base = keras_cv_attention_models.coatnet.CoAtNet0(\n",
    "    num_classes=0,    # to exclude top layers\n",
    "    input_shape=(coat_target_size, coat_target_size, 3))\n",
    "\n",
    "coatnet0_base.trainable = False\n",
    "\n",
    "model_coat0_main = models.Sequential()\n",
    "\n",
    "model_coat0_main.add(coatnet0_base)\n",
    "model_coat0_main.add(layers.Flatten())\n",
    "model_coat0_main.add(layers.Dense(256, activation=\"relu\"))\n",
    "model_coat0_main.add(layers.Dropout(0.5))\n",
    "model_coat0_main.add(layers.Dense(num_classes, activation='softmax'))\n",
    "\n",
    "model_coat0_main.summary()"
   ]
  },
  {
   "cell_type": "code",
   "execution_count": 176,
   "id": "d11cf66b",
   "metadata": {
    "ExecuteTime": {
     "end_time": "2022-02-25T12:12:03.457399Z",
     "start_time": "2022-02-25T12:12:03.438573Z"
    }
   },
   "outputs": [],
   "source": [
    "metrics = [tf.keras.metrics.CategoricalAccuracy(name=\"accuracy\"),\n",
    "           tf.keras.metrics.TopKCategoricalAccuracy(5, name=\"top_5_acc\"),\n",
    "           tf.keras.metrics.Precision(top_k=5, name=\"top_5_map\")]\n",
    "\n",
    "model_coat0_main.compile(loss='categorical_crossentropy',\n",
    "                         optimizer=optimizers.Adam(),\n",
    "                         metrics=metrics)"
   ]
  },
  {
   "cell_type": "code",
   "execution_count": 177,
   "id": "3e8fe55c",
   "metadata": {
    "ExecuteTime": {
     "end_time": "2022-02-25T14:39:40.058033Z",
     "start_time": "2022-02-25T12:12:03.459389Z"
    }
   },
   "outputs": [
    {
     "name": "stdout",
     "output_type": "stream",
     "text": [
      "Epoch 1/10\n",
      "1275/1275 [==============================] - 1583s 1s/step - loss: 1.9231 - accuracy: 0.5008 - top_5_acc: 0.8082 - top_5_map: 0.1616 - val_loss: 1.1467 - val_accuracy: 0.6257 - val_top_5_acc: 0.9189 - val_top_5_map: 0.1838\n",
      "\n",
      "Epoch 00001: val_accuracy improved from -inf to 0.62571, saving model to ./jpeg-happywhale-384x384/coat_main_wts.hdf5\n"
     ]
    },
    {
     "name": "stderr",
     "output_type": "stream",
     "text": [
      "/home/msds2022/nlapid/.conda/envs/msds2022-ml3/lib/python3.9/site-packages/keras/utils/generic_utils.py:494: CustomMaskWarning: Custom mask layers require a config and must override get_config. When loading, the custom mask layer must be passed to the custom_objects argument.\n",
      "  warnings.warn('Custom mask layers require a config and must override '\n"
     ]
    },
    {
     "name": "stdout",
     "output_type": "stream",
     "text": [
      "Epoch 2/10\n",
      "1275/1275 [==============================] - 784s 614ms/step - loss: 1.4884 - accuracy: 0.5618 - top_5_acc: 0.8622 - top_5_map: 0.1724 - val_loss: 0.9759 - val_accuracy: 0.7002 - val_top_5_acc: 0.9327 - val_top_5_map: 0.1865\n",
      "\n",
      "Epoch 00002: val_accuracy improved from 0.62571 to 0.70018, saving model to ./jpeg-happywhale-384x384/coat_main_wts.hdf5\n",
      "Epoch 3/10\n",
      "1275/1275 [==============================] - 850s 666ms/step - loss: 1.3819 - accuracy: 0.5907 - top_5_acc: 0.8718 - top_5_map: 0.1744 - val_loss: 0.9418 - val_accuracy: 0.6923 - val_top_5_acc: 0.9315 - val_top_5_map: 0.1863\n",
      "\n",
      "Epoch 00003: val_accuracy did not improve from 0.70018\n",
      "Epoch 4/10\n",
      "1275/1275 [==============================] - 822s 644ms/step - loss: 1.3456 - accuracy: 0.5987 - top_5_acc: 0.8751 - top_5_map: 0.1750 - val_loss: 0.8475 - val_accuracy: 0.7339 - val_top_5_acc: 0.9350 - val_top_5_map: 0.1870\n",
      "\n",
      "Epoch 00004: val_accuracy improved from 0.70018 to 0.73388, saving model to ./jpeg-happywhale-384x384/coat_main_wts.hdf5\n",
      "Epoch 5/10\n",
      "1275/1275 [==============================] - 795s 623ms/step - loss: 1.3279 - accuracy: 0.6004 - top_5_acc: 0.8764 - top_5_map: 0.1753 - val_loss: 0.9026 - val_accuracy: 0.7050 - val_top_5_acc: 0.9306 - val_top_5_map: 0.1861\n",
      "\n",
      "Epoch 00005: val_accuracy did not improve from 0.73388\n",
      "Epoch 6/10\n",
      "1275/1275 [==============================] - 811s 635ms/step - loss: 1.3013 - accuracy: 0.6103 - top_5_acc: 0.8786 - top_5_map: 0.1757 - val_loss: 0.8504 - val_accuracy: 0.7250 - val_top_5_acc: 0.9363 - val_top_5_map: 0.1873\n",
      "\n",
      "Epoch 00006: val_accuracy did not improve from 0.73388\n",
      "Epoch 7/10\n",
      "1275/1275 [==============================] - 825s 646ms/step - loss: 1.2844 - accuracy: 0.6186 - top_5_acc: 0.8806 - top_5_map: 0.1761 - val_loss: 0.8895 - val_accuracy: 0.7228 - val_top_5_acc: 0.9333 - val_top_5_map: 0.1867\n",
      "\n",
      "Epoch 00007: val_accuracy did not improve from 0.73388\n",
      "Epoch 8/10\n",
      "1275/1275 [==============================] - 839s 658ms/step - loss: 1.2796 - accuracy: 0.6205 - top_5_acc: 0.8790 - top_5_map: 0.1758 - val_loss: 0.8734 - val_accuracy: 0.7307 - val_top_5_acc: 0.9337 - val_top_5_map: 0.1867\n",
      "\n",
      "Epoch 00008: val_accuracy did not improve from 0.73388\n",
      "Epoch 9/10\n",
      "1275/1275 [==============================] - 780s 611ms/step - loss: 1.2594 - accuracy: 0.6254 - top_5_acc: 0.8844 - top_5_map: 0.1769 - val_loss: 0.9043 - val_accuracy: 0.7312 - val_top_5_acc: 0.9330 - val_top_5_map: 0.1866\n",
      "\n",
      "Epoch 00009: val_accuracy did not improve from 0.73388\n",
      "Epoch 10/10\n",
      "1275/1275 [==============================] - 758s 594ms/step - loss: 1.2545 - accuracy: 0.6316 - top_5_acc: 0.8832 - top_5_map: 0.1766 - val_loss: 0.8530 - val_accuracy: 0.7394 - val_top_5_acc: 0.9379 - val_top_5_map: 0.1876\n",
      "\n",
      "Epoch 00010: val_accuracy improved from 0.73388 to 0.73937, saving model to ./jpeg-happywhale-384x384/coat_main_wts.hdf5\n",
      "CPU times: user 2h 25min 25s, sys: 4min 1s, total: 2h 29min 26s\n",
      "Wall time: 2h 27min 36s\n"
     ]
    }
   ],
   "source": [
    "%%time\n",
    "\n",
    "filepath = work_dir + \"/coat_main_wts.hdf5\"\n",
    "checkpoint = ModelCheckpoint(filepath, monitor='val_accuracy',\n",
    "                             verbose=1, save_best_only=True, mode='max')\n",
    "earlystop = EarlyStopping(monitor='val_accuracy', patience=3, verbose=1)\n",
    "reduce_lr = ReduceLROnPlateau(monitor='val_loss', factor=0.2,\n",
    "                              patience=2, min_lr=0.00001, verbose=1)\n",
    "\n",
    "history_coat0_main = model_coat0_main.fit(\n",
    "    coat_train_gen,\n",
    "    steps_per_epoch=steps_per_epoch,\n",
    "    epochs=epochs,\n",
    "    validation_data=coat_val_gen,\n",
    "    validation_steps=validation_steps,\n",
    "    callbacks=[checkpoint, earlystop, reduce_lr]\n",
    ")"
   ]
  },
  {
   "cell_type": "code",
   "execution_count": 182,
   "id": "ddc4e537",
   "metadata": {
    "ExecuteTime": {
     "end_time": "2022-02-25T14:39:43.600847Z",
     "start_time": "2022-02-25T14:39:41.972971Z"
    }
   },
   "outputs": [],
   "source": [
    "model_coat0_main.load_weights(filepath)\n",
    "\n",
    "model_coat0_main.save(work_dir + '/coat0_main.h5')\n",
    "\n",
    "with open(work_dir + '/coat0_hist_main.pickle', 'wb') as handle:\n",
    "    pickle.dump(history_coat0_main.history, handle,\n",
    "                protocol=pickle.HIGHEST_PROTOCOL)"
   ]
  },
  {
   "cell_type": "code",
   "execution_count": 179,
   "id": "c9a850f5",
   "metadata": {
    "ExecuteTime": {
     "end_time": "2022-02-25T14:39:40.936467Z",
     "start_time": "2022-02-25T14:39:40.922293Z"
    }
   },
   "outputs": [],
   "source": [
    "def plot_results(history):\n",
    "    fig, ax = plt.subplots(2, 2, figsize=(15, 10))\n",
    "\n",
    "    # plot accuracy \n",
    "    acc = history.history['accuracy']\n",
    "    val_acc = history.history['val_accuracy']\n",
    "    epochs = range(1, len(acc) + 1)\n",
    "\n",
    "    ax[0, 0].plot(epochs, acc, 'ko', label='Training Accuracy')\n",
    "    ax[0, 0].plot(epochs, val_acc, 'k', label='Validation Accuracy')\n",
    "    ax[0, 0].set_title('Training and Validation Categorical Accuracy')\n",
    "    ax[0, 0].set_xlabel('Epochs')\n",
    "    ax[0, 0].legend()\n",
    "\n",
    "    # plot Top-5 Accuracy\n",
    "    top_5_acc = history.history['top_5_acc']\n",
    "    val_top_5_acc = history.history['val_top_5_acc']\n",
    "\n",
    "    ax[1, 0].plot(epochs, top_5_acc, 'ko', label='Training Top-5 Accuracy')\n",
    "    ax[1, 0].plot(epochs, val_top_5_acc, 'k', label='Validation Top-5 Accuracy')\n",
    "    ax[1, 0].set_title('Training and Validation Top-5 Accuracy')\n",
    "    ax[1, 0].set_xlabel('Epochs')\n",
    "    ax[1, 0].legend()\n",
    "\n",
    "    # plot Top-5 MAP\n",
    "    top_5_map = history.history['top_5_map']\n",
    "    val_top_5_map = history.history['val_top_5_map']\n",
    "\n",
    "    ax[0, 1].plot(epochs, top_5_map, 'ko', label=\"Training Top-5 MAP\")\n",
    "    ax[0, 1].plot(epochs, val_top_5_map, 'k', label=\"Validation Top-5 MAP\")\n",
    "    ax[0, 1].set_title(\"Training and Validation Cohen's Top-5 MAP\")\n",
    "    ax[0, 1].set_xlabel('Epochs')\n",
    "    ax[0, 1].legend()\n",
    "\n",
    "    # plot loss\n",
    "    loss = history.history['loss']\n",
    "    val_loss = history.history['val_loss']\n",
    "\n",
    "    ax[1, 1].plot(epochs, loss, 'ro', label='Training loss')\n",
    "    ax[1, 1].plot(epochs, val_loss, 'r', label='Validation loss')\n",
    "    ax[1, 1].set_title('Training and Validation Categorical Cross-Entropy')\n",
    "    ax[1, 1].set_xlabel('Epochs')\n",
    "    ax[1, 1].legend()"
   ]
  },
  {
   "cell_type": "code",
   "execution_count": 180,
   "id": "3b51b167",
   "metadata": {
    "ExecuteTime": {
     "end_time": "2022-02-25T14:39:41.952308Z",
     "start_time": "2022-02-25T14:39:40.939033Z"
    }
   },
   "outputs": [
    {
     "data": {
      "image/png": "[encoded data removed]",
      "text/plain": [
       "<Figure size 1080x720 with 4 Axes>"
      ]
     },
     "metadata": {
      "needs_background": "light"
     },
     "output_type": "display_data"
    }
   ],
   "source": [
    "plot_results(history_coat0_main)"
   ]
  },
  {
   "cell_type": "markdown",
   "id": "d4eca4bf",
   "metadata": {},
   "source": [
    "#### Fine-tuning"
   ]
  },
  {
   "cell_type": "code",
   "execution_count": 183,
   "id": "50984725",
   "metadata": {
    "ExecuteTime": {
     "end_time": "2022-02-25T14:44:22.233703Z",
     "start_time": "2022-02-25T14:44:22.227985Z"
    }
   },
   "outputs": [],
   "source": [
    "batch_size = 64\n",
    "steps_per_epoch = len(df_train) * 0.8 / batch_size\n",
    "validation_steps = len(df_train) * 0.2 / batch_size\n",
    "epochs = 10"
   ]
  },
  {
   "cell_type": "code",
   "execution_count": 184,
   "id": "a767ae93",
   "metadata": {
    "ExecuteTime": {
     "end_time": "2022-02-25T14:44:25.833150Z",
     "start_time": "2022-02-25T14:44:25.757377Z"
    }
   },
   "outputs": [
    {
     "name": "stdout",
     "output_type": "stream",
     "text": [
      "Model: \"sequential\"\n",
      "_________________________________________________________________\n",
      "Layer (type)                 Output Shape              Param #   \n",
      "=================================================================\n",
      "coatnet0 (Functional)        (None, 7, 7, 768)         23075178  \n",
      "_________________________________________________________________\n",
      "flatten (Flatten)            (None, 37632)             0         \n",
      "_________________________________________________________________\n",
      "dense (Dense)                (None, 256)               9634048   \n",
      "_________________________________________________________________\n",
      "dropout (Dropout)            (None, 256)               0         \n",
      "_________________________________________________________________\n",
      "dense_1 (Dense)              (None, 26)                6682      \n",
      "=================================================================\n",
      "Total params: 32,715,908\n",
      "Trainable params: 14,950,682\n",
      "Non-trainable params: 17,765,226\n",
      "_________________________________________________________________\n"
     ]
    }
   ],
   "source": [
    "coatnet0_base.trainable = True\n",
    "\n",
    "for layer in coatnet0_base.layers[:-7]:\n",
    "    layer.trainable = False\n",
    "for layer in coatnet0_base.layers[-7:]:\n",
    "    if not isinstance(layer, layers.BatchNormalization):\n",
    "        layer.trainable = True\n",
    "\n",
    "metrics = [tf.keras.metrics.CategoricalAccuracy(name=\"accuracy\"),\n",
    "           tf.keras.metrics.TopKCategoricalAccuracy(5, name=\"top_5_acc\"),\n",
    "           tf.keras.metrics.Precision(top_k=5, name=\"top_5_map\")]\n",
    "\n",
    "model_coat0_main.compile(loss='categorical_crossentropy',\n",
    "                         optimizer=optimizers.Adam(learning_rate=1e-5),\n",
    "                         metrics=metrics)\n",
    "\n",
    "model_coat0_main.summary()"
   ]
  },
  {
   "cell_type": "code",
   "execution_count": 185,
   "id": "2e8345fa",
   "metadata": {
    "ExecuteTime": {
     "end_time": "2022-02-25T15:11:45.327732Z",
     "start_time": "2022-02-25T14:45:06.796504Z"
    }
   },
   "outputs": [
    {
     "name": "stdout",
     "output_type": "stream",
     "text": [
      "Epoch 1/10\n",
      "637/637 [==============================] - 386s 593ms/step - loss: 1.2256 - accuracy: 0.6302 - top_5_acc: 0.8875 - top_5_map: 0.1775 - val_loss: 0.7867 - val_accuracy: 0.7664 - val_top_5_acc: 0.9430 - val_top_5_map: 0.1886\n",
      "\n",
      "Epoch 00001: val_accuracy improved from -inf to 0.76641, saving model to ./jpeg-happywhale-384x384/coat_main_wts.hdf5\n",
      "Epoch 2/10\n",
      "637/637 [==============================] - 379s 594ms/step - loss: 1.1606 - accuracy: 0.6486 - top_5_acc: 0.8940 - top_5_map: 0.1788 - val_loss: 0.7842 - val_accuracy: 0.7650 - val_top_5_acc: 0.9434 - val_top_5_map: 0.1887\n",
      "\n",
      "Epoch 00002: val_accuracy did not improve from 0.76641\n",
      "Epoch 3/10\n",
      "637/637 [==============================] - 377s 590ms/step - loss: 1.1267 - accuracy: 0.6543 - top_5_acc: 0.8955 - top_5_map: 0.1791 - val_loss: 0.8152 - val_accuracy: 0.7557 - val_top_5_acc: 0.9406 - val_top_5_map: 0.1881\n",
      "\n",
      "Epoch 00003: val_accuracy did not improve from 0.76641\n",
      "Epoch 4/10\n",
      "637/637 [==============================] - 455s 713ms/step - loss: 1.1165 - accuracy: 0.6596 - top_5_acc: 0.8928 - top_5_map: 0.1786 - val_loss: 0.7807 - val_accuracy: 0.7582 - val_top_5_acc: 0.9467 - val_top_5_map: 0.1893\n",
      "\n",
      "Epoch 00004: val_accuracy did not improve from 0.76641\n",
      "Epoch 00004: early stopping\n",
      "CPU times: user 27min 51s, sys: 41.7 s, total: 28min 33s\n",
      "Wall time: 26min 38s\n"
     ]
    }
   ],
   "source": [
    "%%time\n",
    "\n",
    "filepath = work_dir + \"/coat_main_wts.hdf5\"\n",
    "checkpoint = ModelCheckpoint(filepath, monitor='val_accuracy',\n",
    "                             verbose=1, save_best_only=True, mode='max')\n",
    "earlystop = EarlyStopping(monitor='val_accuracy', patience=3, verbose=1)\n",
    "reduce_lr = ReduceLROnPlateau(monitor='val_loss', factor=0.2,\n",
    "                              patience=2, min_lr=0.000001, verbose=1)\n",
    "\n",
    "history_coat0_main_ft = model_coat0_main.fit(\n",
    "    coat_train_gen,\n",
    "    steps_per_epoch=steps_per_epoch,\n",
    "    epochs=epochs,\n",
    "    validation_data=coat_val_gen,\n",
    "    validation_steps=validation_steps,\n",
    "    callbacks=[checkpoint, earlystop, reduce_lr]\n",
    ")"
   ]
  },
  {
   "cell_type": "code",
   "execution_count": 186,
   "id": "85b904cf",
   "metadata": {
    "ExecuteTime": {
     "end_time": "2022-02-25T15:11:47.470284Z",
     "start_time": "2022-02-25T15:11:45.330695Z"
    }
   },
   "outputs": [],
   "source": [
    "model_coat0_main.load_weights(filepath)\n",
    "\n",
    "model_coat0_main.save(work_dir + '/coat0_main.h5')\n",
    "\n",
    "with open(work_dir + '/coat0_hist_main_ft.pickle', 'wb') as handle:\n",
    "    pickle.dump(history_coat0_main_ft.history, handle,\n",
    "                protocol=pickle.HIGHEST_PROTOCOL)"
   ]
  },
  {
   "cell_type": "code",
   "execution_count": 187,
   "id": "2767992f",
   "metadata": {
    "ExecuteTime": {
     "end_time": "2022-02-25T15:11:48.264362Z",
     "start_time": "2022-02-25T15:11:47.472869Z"
    }
   },
   "outputs": [
    {
     "data": {
      "image/png": "[encoded data removed]",
      "text/plain": [
       "<Figure size 1080x720 with 4 Axes>"
      ]
     },
     "metadata": {
      "needs_background": "light"
     },
     "output_type": "display_data"
    }
   ],
   "source": [
    "plot_results(history_coat0_main_ft)"
   ]
  },
  {
   "cell_type": "markdown",
   "id": "21db0960",
   "metadata": {},
   "source": [
    "### Changes to make:\n",
    "\n",
    "1. preprocess input (https://www.tensorflow.org/api_docs/python/tf/keras/applications/inception_v3/preprocess_input)\n",
    "2. change to label\n",
    "3. add topkcategorical accuracy as a metric\n",
    "4. lower learning rate when fine-tuning\n",
    "5. use larger/original dataset\n",
    "6. more loss metrics\n",
    "7. checkpointing\n",
    "\n"
   ]
  },
  {
   "cell_type": "code",
   "execution_count": null,
   "id": "b2ae16a8",
   "metadata": {},
   "outputs": [],
   "source": []
  },
  {
   "cell_type": "code",
   "execution_count": null,
   "id": "6024a75d",
   "metadata": {},
   "outputs": [],
   "source": []
  },
  {
   "cell_type": "code",
   "execution_count": null,
   "id": "2c89065f",
   "metadata": {},
   "outputs": [],
   "source": []
  },
  {
   "cell_type": "code",
   "execution_count": 42,
   "id": "ecd55f33",
   "metadata": {
    "ExecuteTime": {
     "end_time": "2022-02-25T00:08:54.972064Z",
     "start_time": "2022-02-25T00:08:54.969370Z"
    }
   },
   "outputs": [],
   "source": [
    "#     model.compile(\n",
    "#         optimizer=optimizer,\n",
    "#         loss=keras.losses.SparseCategoricalCrossentropy(from_logits=True),\n",
    "#         metrics=[\n",
    "#             keras.metrics.SparseCategoricalAccuracy(name=\"accuracy\"),\n",
    "#             keras.metrics.TopKCategoricalAccuracy(5, name=\"top-5-accuracy\"),\n",
    "#         ],\n",
    "#     )"
   ]
  },
  {
   "cell_type": "code",
   "execution_count": 115,
   "id": "62148375",
   "metadata": {
    "ExecuteTime": {
     "end_time": "2022-02-25T10:34:59.037943Z",
     "start_time": "2022-02-25T10:34:59.028977Z"
    }
   },
   "outputs": [
    {
     "data": {
      "text/plain": [
       "'1.19.5'"
      ]
     },
     "execution_count": 115,
     "metadata": {},
     "output_type": "execute_result"
    }
   ],
   "source": []
  },
  {
   "cell_type": "code",
   "execution_count": null,
   "id": "8609e14e",
   "metadata": {},
   "outputs": [],
   "source": []
  }
 ],
 "metadata": {
  "kernelspec": {
   "display_name": "Python [conda env:.conda-msds2022-ml3]",
   "language": "python",
   "name": "conda-env-.conda-msds2022-ml3-py"
  },
  "language_info": {
   "codemirror_mode": {
    "name": "ipython",
    "version": 3
   },
   "file_extension": ".py",
   "mimetype": "text/x-python",
   "name": "python",
   "nbconvert_exporter": "python",
   "pygments_lexer": "ipython3",
   "version": "3.9.6"
  },
  "toc": {
   "base_numbering": 1,
   "nav_menu": {},
   "number_sections": false,
   "sideBar": true,
   "skip_h1_title": false,
   "title_cell": "Table of Contents",
   "title_sidebar": "Contents",
   "toc_cell": false,
   "toc_position": {
    "height": "calc(100% - 180px)",
    "left": "10px",
    "top": "150px",
    "width": "263.983px"
   },
   "toc_section_display": true,
   "toc_window_display": true
  }
 },
 "nbformat": 4,
 "nbformat_minor": 5
}
