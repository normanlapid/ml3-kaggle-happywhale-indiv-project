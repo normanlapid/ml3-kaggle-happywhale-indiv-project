{
 "cells": [
  {
   "cell_type": "code",
   "execution_count": 1,
   "id": "ad04fd13",
   "metadata": {
    "ExecuteTime": {
     "end_time": "2022-02-27T05:14:16.353747Z",
     "start_time": "2022-02-27T05:14:11.552164Z"
    }
   },
   "outputs": [
    {
     "name": "stderr",
     "output_type": "stream",
     "text": [
      "Matplotlib created a temporary config/cache directory at /tmp/matplotlib-27846twd because the default path (/home/nlapid/.cache/matplotlib) is not a writable directory; it is highly recommended to set the MPLCONFIGDIR environment variable to a writable directory, in particular to speed up the import of Matplotlib and to better support multiprocessing.\n"
     ]
    }
   ],
   "source": [
    "import os\n",
    "os.environ['TF_CPP_MIN_LOG_LEVEL'] = '2' \n",
    "\n",
    "from tqdm import tqdm\n",
    "import numpy as np \n",
    "import pandas as pd \n",
    "import seaborn as sns\n",
    "import matplotlib.pyplot as plt\n",
    "%matplotlib inline\n",
    "\n",
    "import pickle\n",
    "import random\n",
    "\n",
    "import warnings\n",
    "warnings.filterwarnings('ignore')"
   ]
  },
  {
   "cell_type": "code",
   "execution_count": 2,
   "id": "9938fe92",
   "metadata": {
    "ExecuteTime": {
     "end_time": "2022-02-27T05:14:24.443765Z",
     "start_time": "2022-02-27T05:14:24.235212Z"
    }
   },
   "outputs": [],
   "source": [
    "df_train = pd.read_csv('jpeg-happywhale-384x384/train.csv')"
   ]
  },
  {
   "cell_type": "code",
   "execution_count": 3,
   "id": "a4faf07f",
   "metadata": {
    "ExecuteTime": {
     "end_time": "2022-02-27T05:14:35.087203Z",
     "start_time": "2022-02-27T05:14:35.070583Z"
    }
   },
   "outputs": [],
   "source": [
    "df_train['species'].replace({\"globis\": \"short_finned_pilot_whale\",\n",
    "                             \"pilot_whale\": \"short_finned_pilot_whale\",\n",
    "                             \"kiler_whale\": \"killer_whale\",\n",
    "                             \"bottlenose_dolpin\": \"bottlenose_dolphin\"},\n",
    "                            inplace=True)"
   ]
  },
  {
   "cell_type": "code",
   "execution_count": 25,
   "id": "0543a009",
   "metadata": {
    "ExecuteTime": {
     "end_time": "2022-02-27T05:36:11.534509Z",
     "start_time": "2022-02-27T05:36:11.520491Z"
    }
   },
   "outputs": [
    {
     "data": {
      "text/html": [
       "<div>\n",
       "<style scoped>\n",
       "    .dataframe tbody tr th:only-of-type {\n",
       "        vertical-align: middle;\n",
       "    }\n",
       "\n",
       "    .dataframe tbody tr th {\n",
       "        vertical-align: top;\n",
       "    }\n",
       "\n",
       "    .dataframe thead th {\n",
       "        text-align: right;\n",
       "    }\n",
       "</style>\n",
       "<table border=\"1\" class=\"dataframe\">\n",
       "  <thead>\n",
       "    <tr style=\"text-align: right;\">\n",
       "      <th></th>\n",
       "      <th>image</th>\n",
       "      <th>species</th>\n",
       "      <th>individual_id</th>\n",
       "    </tr>\n",
       "  </thead>\n",
       "  <tbody>\n",
       "    <tr>\n",
       "      <th>0</th>\n",
       "      <td>00021adfb725ed.jpg</td>\n",
       "      <td>melon_headed_whale</td>\n",
       "      <td>cadddb1636b9</td>\n",
       "    </tr>\n",
       "    <tr>\n",
       "      <th>1</th>\n",
       "      <td>000562241d384d.jpg</td>\n",
       "      <td>humpback_whale</td>\n",
       "      <td>1a71fbb72250</td>\n",
       "    </tr>\n",
       "    <tr>\n",
       "      <th>2</th>\n",
       "      <td>0007c33415ce37.jpg</td>\n",
       "      <td>false_killer_whale</td>\n",
       "      <td>60008f293a2b</td>\n",
       "    </tr>\n",
       "    <tr>\n",
       "      <th>3</th>\n",
       "      <td>0007d9bca26a99.jpg</td>\n",
       "      <td>bottlenose_dolphin</td>\n",
       "      <td>4b00fe572063</td>\n",
       "    </tr>\n",
       "    <tr>\n",
       "      <th>4</th>\n",
       "      <td>00087baf5cef7a.jpg</td>\n",
       "      <td>humpback_whale</td>\n",
       "      <td>8e5253662392</td>\n",
       "    </tr>\n",
       "  </tbody>\n",
       "</table>\n",
       "</div>"
      ],
      "text/plain": [
       "                image             species individual_id\n",
       "0  00021adfb725ed.jpg  melon_headed_whale  cadddb1636b9\n",
       "1  000562241d384d.jpg      humpback_whale  1a71fbb72250\n",
       "2  0007c33415ce37.jpg  false_killer_whale  60008f293a2b\n",
       "3  0007d9bca26a99.jpg  bottlenose_dolphin  4b00fe572063\n",
       "4  00087baf5cef7a.jpg      humpback_whale  8e5253662392"
      ]
     },
     "execution_count": 25,
     "metadata": {},
     "output_type": "execute_result"
    }
   ],
   "source": [
    "df_train.head()"
   ]
  },
  {
   "cell_type": "code",
   "execution_count": 6,
   "id": "3fb5b4d1",
   "metadata": {
    "ExecuteTime": {
     "end_time": "2022-02-27T05:15:49.837179Z",
     "start_time": "2022-02-27T05:15:49.792837Z"
    }
   },
   "outputs": [
    {
     "data": {
      "text/plain": [
       "beluga                        7443\n",
       "blue_whale                    4830\n",
       "bottlenose_dolphin           10781\n",
       "brydes_whale                   154\n",
       "commersons_dolphin              90\n",
       "common_dolphin                 347\n",
       "cuviers_beaked_whale           341\n",
       "dusky_dolphin                 3139\n",
       "false_killer_whale            3326\n",
       "fin_whale                     1324\n",
       "frasiers_dolphin                14\n",
       "gray_whale                    1123\n",
       "humpback_whale                7392\n",
       "killer_whale                  2455\n",
       "long_finned_pilot_whale        238\n",
       "melon_headed_whale            1689\n",
       "minke_whale                   1608\n",
       "pantropic_spotted_dolphin      145\n",
       "pygmy_killer_whale              76\n",
       "rough_toothed_dolphin           60\n",
       "sei_whale                      428\n",
       "short_finned_pilot_whale       745\n",
       "southern_right_whale           866\n",
       "spinner_dolphin               1700\n",
       "spotted_dolphin                490\n",
       "white_sided_dolphin            229\n",
       "Name: species, dtype: int64"
      ]
     },
     "execution_count": 6,
     "metadata": {},
     "output_type": "execute_result"
    }
   ],
   "source": [
    "df_train['species'].value_counts().sort_index()"
   ]
  },
  {
   "cell_type": "code",
   "execution_count": 22,
   "id": "698b55a3",
   "metadata": {
    "ExecuteTime": {
     "end_time": "2022-02-27T05:32:42.120584Z",
     "start_time": "2022-02-27T05:32:42.106461Z"
    }
   },
   "outputs": [
    {
     "data": {
      "text/plain": [
       "0.13919904965824123"
      ]
     },
     "execution_count": 22,
     "metadata": {},
     "output_type": "execute_result"
    }
   ],
   "source": [
    "sum(df_train['species'].value_counts(normalize=True)**2)*1.25"
   ]
  },
  {
   "cell_type": "code",
   "execution_count": 23,
   "id": "f8fe9feb",
   "metadata": {
    "ExecuteTime": {
     "end_time": "2022-02-27T05:34:05.277553Z",
     "start_time": "2022-02-27T05:34:05.269959Z"
    }
   },
   "outputs": [
    {
     "data": {
      "text/plain": [
       "51033"
      ]
     },
     "execution_count": 23,
     "metadata": {},
     "output_type": "execute_result"
    }
   ],
   "source": [
    "train_val_count.sum()"
   ]
  },
  {
   "cell_type": "code",
   "execution_count": 32,
   "id": "b0a28942",
   "metadata": {
    "ExecuteTime": {
     "end_time": "2022-02-27T05:48:40.152287Z",
     "start_time": "2022-02-27T05:48:39.789622Z"
    }
   },
   "outputs": [
    {
     "data": {
      "image/png": "[encoded data removed]",
      "text/plain": [
       "<Figure size 720x288 with 1 Axes>"
      ]
     },
     "metadata": {
      "needs_background": "light"
     },
     "output_type": "display_data"
    }
   ],
   "source": [
    "train_val_count = df_train['species'].value_counts().sort_index()\n",
    "\n",
    "fig, ax = plt.subplots(figsize=(10, 4))\n",
    "\n",
    "chart = sns.barplot(x=train_val_count.index, y=train_val_count.values, ax=ax)\n",
    "# ax.set_xlabel('species')\n",
    "ax.set_title('Species count distribution')\n",
    "ax.set_xticklabels(ax.get_xticklabels(), rotation=90)\n",
    "plt.show()"
   ]
  },
  {
   "cell_type": "code",
   "execution_count": 27,
   "id": "7a8ab664",
   "metadata": {
    "ExecuteTime": {
     "end_time": "2022-02-27T05:36:43.126385Z",
     "start_time": "2022-02-27T05:36:43.098806Z"
    },
    "slideshow": {
     "slide_type": "slide"
    }
   },
   "outputs": [
    {
     "data": {
      "text/plain": [
       "species\n",
       "beluga                       1012\n",
       "blue_whale                   2348\n",
       "bottlenose_dolphin            904\n",
       "brydes_whale                   44\n",
       "commersons_dolphin             70\n",
       "common_dolphin                 38\n",
       "cuviers_beaked_whale          183\n",
       "dusky_dolphin                2731\n",
       "false_killer_whale            196\n",
       "fin_whale                     466\n",
       "frasiers_dolphin               13\n",
       "gray_whale                    185\n",
       "humpback_whale               2679\n",
       "killer_whale                  472\n",
       "long_finned_pilot_whale       131\n",
       "melon_headed_whale           1323\n",
       "minke_whale                   128\n",
       "pantropic_spotted_dolphin      44\n",
       "pygmy_killer_whale             24\n",
       "rough_toothed_dolphin          46\n",
       "sei_whale                     197\n",
       "short_finned_pilot_whale      458\n",
       "southern_right_whale          549\n",
       "spinner_dolphin               891\n",
       "spotted_dolphin               280\n",
       "white_sided_dolphin           175\n",
       "Name: individual_id, dtype: int64"
      ]
     },
     "execution_count": 27,
     "metadata": {},
     "output_type": "execute_result"
    }
   ],
   "source": [
    "train_ind_count = df_train.groupby('species')['individual_id'].nunique()\n",
    "train_ind_count"
   ]
  },
  {
   "cell_type": "code",
   "execution_count": 28,
   "id": "c5dd33c7",
   "metadata": {
    "ExecuteTime": {
     "end_time": "2022-02-27T05:36:48.926586Z",
     "start_time": "2022-02-27T05:36:48.920176Z"
    }
   },
   "outputs": [
    {
     "data": {
      "text/plain": [
       "15587"
      ]
     },
     "execution_count": 28,
     "metadata": {},
     "output_type": "execute_result"
    }
   ],
   "source": [
    "train_ind_count.sum()"
   ]
  },
  {
   "cell_type": "code",
   "execution_count": 26,
   "id": "31351c01",
   "metadata": {
    "ExecuteTime": {
     "end_time": "2022-02-27T05:36:31.984575Z",
     "start_time": "2022-02-27T05:36:31.962822Z"
    }
   },
   "outputs": [
    {
     "data": {
      "text/plain": [
       "0.0007192155276075942"
      ]
     },
     "execution_count": 26,
     "metadata": {},
     "output_type": "execute_result"
    }
   ],
   "source": [
    "sum(df_train['individual_id'].value_counts(normalize=True)**2)*1.25"
   ]
  },
  {
   "cell_type": "code",
   "execution_count": 33,
   "id": "fbac1ae7",
   "metadata": {
    "ExecuteTime": {
     "end_time": "2022-02-27T05:48:51.029896Z",
     "start_time": "2022-02-27T05:48:50.719537Z"
    }
   },
   "outputs": [
    {
     "data": {
      "image/png": "[encoded data removed]",
      "text/plain": [
       "<Figure size 720x288 with 1 Axes>"
      ]
     },
     "metadata": {
      "needs_background": "light"
     },
     "output_type": "display_data"
    }
   ],
   "source": [
    "train_ind_count = df_train.groupby('species')['individual_id'].nunique()\n",
    "\n",
    "fig, ax = plt.subplots(figsize=(10, 4))\n",
    "\n",
    "chart = sns.barplot(x=train_ind_count.index, y=train_ind_count.values, ax=ax)\n",
    "ax.set_xlabel(None)\n",
    "ax.set_title('Individual count distribution by species')\n",
    "ax.set_xticklabels(ax.get_xticklabels(), rotation=90)\n",
    "plt.show()"
   ]
  },
  {
   "cell_type": "code",
   "execution_count": null,
   "id": "fa3bfdf4",
   "metadata": {},
   "outputs": [],
   "source": []
  }
 ],
 "metadata": {
  "kernelspec": {
   "display_name": "Python 3 (ipykernel)",
   "language": "python",
   "name": "python3"
  },
  "language_info": {
   "codemirror_mode": {
    "name": "ipython",
    "version": 3
   },
   "file_extension": ".py",
   "mimetype": "text/x-python",
   "name": "python",
   "nbconvert_exporter": "python",
   "pygments_lexer": "ipython3",
   "version": "3.9.6"
  },
  "toc": {
   "base_numbering": 1,
   "nav_menu": {},
   "number_sections": true,
   "sideBar": true,
   "skip_h1_title": false,
   "title_cell": "Table of Contents",
   "title_sidebar": "Contents",
   "toc_cell": false,
   "toc_position": {},
   "toc_section_display": true,
   "toc_window_display": false
  }
 },
 "nbformat": 4,
 "nbformat_minor": 5
}
